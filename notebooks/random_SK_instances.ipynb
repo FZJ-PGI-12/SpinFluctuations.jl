{
 "cells": [
  {
   "attachments": {},
   "cell_type": "markdown",
   "metadata": {},
   "source": [
    "# Test"
   ]
  },
  {
   "cell_type": "code",
   "execution_count": null,
   "metadata": {},
   "outputs": [],
   "source": [
    "using Yao, QAOA, Random, Combinatorics, Arpack, Distributions, LinearAlgebra, Interpolations\n",
    "using JLD, HDF5, Printf\n",
    "using PyPlot\n",
    "PyPlot.plt.style.use(\"./paper.mplstyle\")\n",
    "\n",
    "PATH = \"/home/ubuntu/Archives/\";"
   ]
  },
  {
   "cell_type": "code",
   "execution_count": null,
   "metadata": {},
   "outputs": [],
   "source": [
    "using Revise, SpinFluctuations"
   ]
  },
  {
   "cell_type": "code",
   "execution_count": null,
   "metadata": {},
   "outputs": [],
   "source": [
    "Base.show(io::IO, f::Float64) = @printf(io, \"%1.4f\", f)"
   ]
  },
  {
   "attachments": {},
   "cell_type": "markdown",
   "metadata": {},
   "source": [
    "## All data"
   ]
  },
  {
   "cell_type": "markdown",
   "metadata": {},
   "source": [
    "### Small/Large-gap data"
   ]
  },
  {
   "cell_type": "code",
   "execution_count": null,
   "metadata": {},
   "outputs": [],
   "source": [
    "N = 9\n",
    "pattern = r\"random_SK_instance_N_9_seed_(\\d+)\\.h5\"\n",
    "\n",
    "# N = 11\n",
    "# pattern = r\"random_SK_instance_N_11_seed_(\\d+)\\.h5\"\n",
    "\n",
    "# N = 13\n",
    "# pattern = r\"random_SK_instance_N_13_seed_(\\d+)\\.h5\"\n",
    "\n",
    "# N = 15\n",
    "# pattern = r\"random_SK_instance_N_15_seed_(\\d+)\\.h5\"\n",
    "\n",
    "# N = 17\n",
    "# pattern = r\"random_SK_instance_N_17_seed_(\\d+)\\.h5\"\n",
    "\n",
    "# final time for mean-field\n",
    "T_final = 10000.\n",
    "\n",
    "# number of points to get Lyapunov exponent for\n",
    "npts = 256\n",
    "\n",
    "# tolerance for DifferentialEquations.jl when solving mean-field \n",
    "tol = 1e-8;"
   ]
  },
  {
   "cell_type": "code",
   "execution_count": null,
   "metadata": {},
   "outputs": [],
   "source": [
    "subdir = \"small_gaps\"\n",
    "# subdir = \"late_gaps\"\n",
    "folder_name = PATH * @sprintf(\"data/SK_model/N_%i/%s/\", N, subdir)\n",
    "instance_names = readdir(folder_name);"
   ]
  },
  {
   "cell_type": "code",
   "execution_count": null,
   "metadata": {},
   "outputs": [],
   "source": [
    "couplings_small_gap = Dict()\n",
    "eigvals_small_gap = Dict()\n",
    "lyapunov_exponents_small_gap = Dict()\n",
    "\n",
    "for instance_name in instance_names\n",
    "    seed = match(pattern, instance_name)[1]\n",
    "    try    \n",
    "        couplings = h5read(folder_name * instance_name, \"J\")\n",
    "        couplings_small_gap[seed] = couplings\n",
    "        eigvals_small_gap[seed] = h5read(folder_name * instance_name, \"exact_ARPACK_LM_eigvals\")\n",
    "        lyapunov_exponents_small_gap[seed] = h5read(folder_name * instance_name, @sprintf(\"lyapunov_exponent_T_final_%.0f_tol_1e%.0f_npts_%i\", T_final, log10(tol), npts))\n",
    "    catch e\n",
    "        printstyled(seed, \": \", e, \"\\n\", color=:red)\n",
    "    end\n",
    "end\n"
   ]
  },
  {
   "cell_type": "code",
   "execution_count": null,
   "metadata": {},
   "outputs": [],
   "source": [
    "subdir = \"large_gaps\"\n",
    "# subdir = \"extra_data\"\n",
    "folder_name = PATH * @sprintf(\"data/SK_model/N_%i/%s/\", N, subdir)\n",
    "instance_names = readdir(folder_name)\n",
    "\n",
    "couplings_large_gap = Dict()\n",
    "eigvals_large_gap = Dict()\n",
    "lyapunov_exponents_large_gap = Dict()\n",
    "\n",
    "for instance_name in instance_names\n",
    "    seed = match(pattern, instance_name)[1]\n",
    "    try\n",
    "        couplings = h5read(folder_name * instance_name, \"J\")\n",
    "        couplings_large_gap[seed] = couplings\n",
    "        λ = h5read(folder_name * instance_name, \"exact_ARPACK_LM_eigvals\")\n",
    "        eigvals_large_gap[seed] = λ\n",
    "        lyapunov_exponents_large_gap[seed] = h5read(folder_name * instance_name, @sprintf(\"lyapunov_exponent_T_final_%.0f_tol_1e%.0f_npts_%i\", T_final, log10(tol), npts))    \n",
    "    catch e\n",
    "        printstyled(seed, \": \", e, \"\\n\", color=:red)\n",
    "    end                                             \n",
    "end\n"
   ]
  },
  {
   "cell_type": "code",
   "execution_count": null,
   "metadata": {},
   "outputs": [],
   "source": [
    "eigvals_small = [v[2, :] .- v[1, :] for (k, v) in eigvals_small_gap]\n",
    "eigvals_large = [v[2, :] .- v[1, :] for (k, v) in eigvals_large_gap]\n",
    "avg_eigvals_small = eigvals_small |> mean\n",
    "avg_eigvals_large = eigvals_large |> mean;\n",
    "\n",
    "avg_lyapunov_exponents_small = [v for (k, v) in lyapunov_exponents_small_gap] |> mean\n",
    "avg_lyapunov_exponents_large = [v for (k, v) in lyapunov_exponents_large_gap] |> mean;"
   ]
  },
  {
   "cell_type": "code",
   "execution_count": null,
   "metadata": {},
   "outputs": [],
   "source": [
    "figure(figsize=(7, 3))\n",
    "subplot(121)\n",
    "plot(range(0, 1, 33), avg_eigvals_small, \"-o\", ms=3)\n",
    "plot(range(0, 1, 33), avg_eigvals_large, \"-s\", ms=3)\n",
    "xlim(0, 1)\n",
    "ylim(0, 2)\n",
    "xlabel(\"\\$s\\$\")\n",
    "ylabel(\"Average Exact Gap\")\n",
    "\n",
    "subplot(122)\n",
    "plot(range(0, 1, npts), avg_lyapunov_exponents_small, \"-\", ms=3)\n",
    "plot(range(0, 1, npts), avg_lyapunov_exponents_large, \"-\", ms=3)\n",
    "xlim(0, 1)\n",
    "ylim(0, 0.5)\n",
    "xlabel(\"\\$s\\$\")\n",
    "ylabel(\"Average \\$\\\\lambda\\$\")\n",
    "tight_layout()"
   ]
  },
  {
   "cell_type": "code",
   "execution_count": null,
   "metadata": {},
   "outputs": [],
   "source": [
    "length(couplings_small_gap) |> println\n",
    "length(couplings_large_gap) |> println"
   ]
  },
  {
   "cell_type": "code",
   "execution_count": null,
   "metadata": {},
   "outputs": [],
   "source": [
    "gapsize_small_gap = []\n",
    "gaplocs_small_gap = []\n",
    "for (k, v) in eigvals_small_gap\n",
    "    gap = v[2, :] .- v[1, :]\n",
    "    minigap = minimum(gap)\n",
    "    push!(gapsize_small_gap, minigap)\n",
    "    exact_times = range(0, 1, 33)\n",
    "    gaploc = exact_times[findfirst(x -> x == minigap, gap)]\n",
    "    push!(gaplocs_small_gap, gaploc)\n",
    "end "
   ]
  },
  {
   "cell_type": "code",
   "execution_count": null,
   "metadata": {},
   "outputs": [],
   "source": [
    "gapsize_large_gap = []\n",
    "gaplocs_large_gap = []\n",
    "for (k, v) in eigvals_large_gap\n",
    "    gap = v[2, :] .- v[1, :]\n",
    "    minigap = minimum(gap)\n",
    "    push!(gapsize_large_gap, minigap)\n",
    "    exact_times = range(0, 1, 33)\n",
    "    gaploc = exact_times[findfirst(x -> x == minigap, gap)]\n",
    "    push!(gaplocs_large_gap, gaploc)\n",
    "end "
   ]
  },
  {
   "cell_type": "code",
   "execution_count": null,
   "metadata": {},
   "outputs": [],
   "source": [
    "figure(figsize=(7, 3))\n",
    "ax = subplot(121)\n",
    "hist2D(gapsize_small_gap, gaplocs_small_gap, bins=32, range=[[0, 1e-2], [0., 1.0]], cmap=\"gist_earth_r\")\n",
    "colorbar()\n",
    "xlim(0, 0.01)\n",
    "ylim(0., 1)\n",
    "xticks([0., 5e-3, 1e-2])\n",
    "ax.set_xticklabels([0., \"\", 1e-2])\n",
    "xlabel(\"\\$\\\\Delta\\$\")\n",
    "ylabel(\"\\$s_{\\\\mathrm{min}}\\$\")\n",
    "\n",
    "ax = subplot(122)\n",
    "hist2D(gapsize_large_gap, gaplocs_large_gap, bins=32, range=[[0.5, 1.1], [0., 1.0]], cmap=\"gist_earth_r\")\n",
    "colorbar()\n",
    "xlim(0.5, 1.1)\n",
    "ylim(0.0, 1)\n",
    "ax.set_yticklabels([])\n",
    "xlabel(\"\\$\\\\Delta\\$\")\n",
    "# ylabel(\"\\$s_{\\\\mathrm{min}}\\$\")\n",
    "tight_layout()"
   ]
  },
  {
   "cell_type": "markdown",
   "metadata": {},
   "source": [
    "## Single instance"
   ]
  },
  {
   "cell_type": "code",
   "execution_count": null,
   "metadata": {},
   "outputs": [],
   "source": [
    "# N = 9\n",
    "# seed = \"6\"\n",
    "seed = \"42\"\n",
    "# seed = \"3017\"\n",
    "# seed = \"6150\"\n",
    "seed = \"11068\"\n",
    "\n",
    "# N = 15\n",
    "# seed = \"36\"\n",
    "# seed = \"325\"\n",
    "# seed = \"19015\"\n",
    "# seed = \"19134\"\n",
    "# seed = \"20484\"\n",
    "J_mat = couplings_small_gap[seed];\n",
    "λ = eigvals_small_gap[seed];\n",
    "\n",
    "# seed = \"2015\"\n",
    "# J_mat = couplings_large_gap[seed];\n",
    "# λ = eigvals_large_gap[seed];"
   ]
  },
  {
   "cell_type": "code",
   "execution_count": null,
   "metadata": {},
   "outputs": [],
   "source": [
    "mf_problem = Problem(0, J_mat);"
   ]
  },
  {
   "cell_type": "markdown",
   "metadata": {},
   "source": [
    "### Exact gap"
   ]
  },
  {
   "cell_type": "code",
   "execution_count": null,
   "metadata": {},
   "outputs": [],
   "source": [
    "exact_times = range(0, 1, 33);"
   ]
  },
  {
   "cell_type": "code",
   "execution_count": null,
   "metadata": {},
   "outputs": [],
   "source": [
    "figure(figsize=(4, 3))\n",
    "subplot(111)\n",
    "for i in 1:size(λ)[1]\n",
    "    plot(exact_times, (λ[i, :] .- λ[1, :]), \"-k\", ms=2)\n",
    "end\n",
    "xlim(0., 1.)\n",
    "ylim(0, 2.)\n",
    "xlabel(\"\\$s\\$\")\n",
    "ylabel(\"Exact Eigenvalues\")\n",
    "tight_layout()"
   ]
  },
  {
   "cell_type": "code",
   "execution_count": null,
   "metadata": {},
   "outputs": [],
   "source": [
    "gap = λ[2, :] .- λ[1, :];\n",
    "mingap = minimum(gap) \n",
    "mingap |> println\n",
    "gaploc = exact_times[findfirst(x -> x == minimum(gap), gap)] \n",
    "gaploc |> println"
   ]
  },
  {
   "cell_type": "code",
   "execution_count": null,
   "metadata": {},
   "outputs": [],
   "source": [
    "bogo_spec = bogoliubov_spectrum(mf_problem, LyapunovParameters(64000, 32, tol, tol))\n",
    "bogo_spec = reduce(hcat, bogo_spec)\n",
    "bogo_spec = sort(bogo_spec .|> real, dims=1);"
   ]
  },
  {
   "cell_type": "code",
   "execution_count": null,
   "metadata": {},
   "outputs": [],
   "source": [
    "figure(figsize=(4, 3))\n",
    "subplot(111)\n",
    "for i in 1:size(bogo_spec)[1]\n",
    "    # plot(exact_times[2:end], bogo_spec[i, :], \"-k\", ms=2)\n",
    "    # plot(exact_times, (λ[i, :] .- λ[1, :]), \"--r\", ms=2)\n",
    "    plot(exact_times[2:end], bogo_spec[i, :] ./ 2pi, \"--r\", ms=2)\n",
    "    plot(exact_times, (λ[i, :] .- λ[1, :]) ./ 2pi, \"-k\", ms=2)    \n",
    "end\n",
    "xlim(0., 1.)\n",
    "ylim(-0., 0.5)\n",
    "xlabel(\"\\$s\\$\")\n",
    "ylabel(\"Exact Eigenvalues\")\n",
    "tight_layout()"
   ]
  },
  {
   "cell_type": "markdown",
   "metadata": {},
   "source": [
    "### Mean-field trajectories"
   ]
  },
  {
   "cell_type": "code",
   "execution_count": null,
   "metadata": {},
   "outputs": [],
   "source": [
    "# T_final = 1000. \n",
    "# T_final = 4000. \n",
    "# T_final = 8000. \n",
    "# T_final = 16000.\n",
    "T_final = 32000.\n",
    "# T_final = 64000.\n",
    "tol = 1e-8;"
   ]
  },
  {
   "cell_type": "code",
   "execution_count": null,
   "metadata": {},
   "outputs": [],
   "source": [
    "sol = evolve_mean_field(mf_problem.local_fields, mf_problem.couplings, T_final, t -> t/T_final, rtol=1e2*tol, atol=tol)\n",
    "size(sol.t)[1] "
   ]
  },
  {
   "cell_type": "code",
   "execution_count": null,
   "metadata": {},
   "outputs": [],
   "source": [
    "component_dict = Dict(\"x\" => 1, \"y\" => 2, \"z\" => 3)\n",
    "component = \"z\"\n",
    "test_data = reduce(hcat, [sol.u[k][component_dict[component], :] for k in 1:size(sol.u)[1]]);"
   ]
  },
  {
   "cell_type": "code",
   "execution_count": null,
   "metadata": {},
   "outputs": [],
   "source": [
    "figure(figsize=(4, 3))\n",
    "\n",
    "subplot(111)\n",
    "for spin_nr in 1:N-1\n",
    "    if round(abs.(test_data[spin_nr, :][end]), digits=3) == 1.0\n",
    "        plot(sol.t ./ T_final, test_data[spin_nr, :], \"-\")\n",
    "    else\n",
    "        plot(sol.t ./ T_final, test_data[spin_nr, :], \"-\", label=@sprintf(\"\\$i=%i\\$\", spin_nr))    \n",
    "    end\n",
    "end\n",
    "\n",
    "xlim(0, 1)\n",
    "ylim(-1, 1)\n",
    "xlabel(\"\\$s\\$\")\n",
    "ylabel(\"\\$n_i^z(s)\\$\")\n",
    "legend(frameon=false)\n",
    "\n",
    "tight_layout()\n",
    "# savefig(\"../plots/\" * @sprintf(\"mean_field_max2sat_typical_instance_%04i_from_arxiv_2206_06876_N_%i_num_clauses_%i.pdf\", idx, N, num_clauses), dpi=256, bbox_inches=\"tight\")"
   ]
  },
  {
   "cell_type": "markdown",
   "metadata": {},
   "source": [
    "### Statistical Green function"
   ]
  },
  {
   "cell_type": "code",
   "execution_count": null,
   "metadata": {},
   "outputs": [],
   "source": [
    "tol = 1e-8\n",
    "# T_final = 32000.\n",
    "npts = 2048\n",
    "coarse_times = range(0, 1, npts + 1);"
   ]
  },
  {
   "cell_type": "code",
   "execution_count": null,
   "metadata": {},
   "outputs": [],
   "source": [
    "lyapunov_parameters = LyapunovParameters(T_final, npts, tol, tol)\n",
    "mf_sol, stat_GF = statistical_green_function(mf_problem, lyapunov_parameters);"
   ]
  },
  {
   "cell_type": "code",
   "execution_count": null,
   "metadata": {},
   "outputs": [],
   "source": [
    "flucs = k -> (real.(1.0im .* diag(stat_GF[k])[1:mf_problem.num_qubits]) .- 1.0) ./ 2;\n",
    "all_flucs = reduce(hcat, map(flucs, 1:npts+1));"
   ]
  },
  {
   "cell_type": "code",
   "execution_count": null,
   "metadata": {},
   "outputs": [],
   "source": [
    "figure(figsize=(20, 4))\n",
    "ylims = 0.25\n",
    "for i in 1:(N-1)÷2\n",
    "    ax = subplot(2, (N-1)÷2, i)\n",
    "    plot(coarse_times, all_flucs[i, :], label=@sprintf(\"\\$i=%s\\$\", string(i)))\n",
    "    # axvline(coarse_times[findfirst(x -> x == maximum(all_flucs[i, :]), all_flucs[i, :])], c=\"r\")\n",
    "    xlim(0., 1.)\n",
    "    ax.set_xticklabels([])\n",
    "    ylim(0., ylims)\n",
    "    if i > 1\n",
    "        ax.set_yticklabels([])\n",
    "    end\n",
    "    legend(frameon=false, ncol=2, handlelength=0)\n",
    "end\n",
    "\n",
    "ax = subplot(2, (N-1)÷2, 1)\n",
    "ax.set_ylabel(\"\\$F_{ii}(t, t)\\$\")\n",
    "\n",
    "for i in (N-1)÷2+1:N-1\n",
    "    ax = subplot(2, (N-1)÷2, i)\n",
    "    plot(coarse_times, all_flucs[i, :], label=@sprintf(\"\\$i=%s\\$\", string(i)))\n",
    "#     println(i, \": \", maximum(all_flucs[i, :]))\n",
    "    # axvline(coarse_times[findfirst(x -> x == maximum(all_flucs[i, :]), all_flucs[i, :])], c=\"r\")    \n",
    "    xlim(0., 1.)\n",
    "    ylim(0., ylims)\n",
    "    if i > (N-1)÷2+1\n",
    "        ax.set_yticklabels([])\n",
    "    end    \n",
    "    xlabel(\"\\$s\\$\")    \n",
    "    legend(frameon=false, ncol=2, handlelength=0)\n",
    "end\n",
    "\n",
    "ax = subplot(2, (N-1)÷2, (N-1)÷2 + 1)\n",
    "ax.set_ylabel(\"\\$F_{ii}(t, t)\\$\")\n",
    "\n",
    "tight_layout()\n",
    "# savefig(\"../plots/\" * @sprintf(\"fluctuations_max2sat_typical_instance_%04i_from_arxiv_2206_06876_N_%i_num_clauses_%i.pdf\", idx, N, num_clauses), dpi=256, bbox_inches=\"tight\")"
   ]
  },
  {
   "cell_type": "markdown",
   "metadata": {},
   "source": [
    "### Spectra"
   ]
  },
  {
   "cell_type": "code",
   "execution_count": null,
   "metadata": {},
   "outputs": [],
   "source": [
    "# npts_diag = 16\n",
    "# τ_final = 1500.\n",
    "# spectral_sols = evolve_spectral_function(mf_problem, T_final, τ_final, npts_diag=npts_diag, rtol=1e-6, atol=1e-6);"
   ]
  },
  {
   "cell_type": "code",
   "execution_count": null,
   "metadata": {},
   "outputs": [],
   "source": [
    "npts_diag = 10\n",
    "T_diags = T_final .* range(0.6, 0.9, npts_diag+1)\n",
    "T_diags = T_final .* [0.75, 0.85]\n",
    "τ_final = 2000.\n",
    "spectral_sols = evolve_spectral_function(mf_problem, T_final, τ_final, T_diags, rtol=1e-6, atol=1e-6);"
   ]
  },
  {
   "cell_type": "code",
   "execution_count": null,
   "metadata": {},
   "outputs": [],
   "source": [
    "spec_sum = []\n",
    "for k in 1:length(T_diags)\n",
    "    push!(spec_sum, spectral_sum(spectral_sols[k]))\n",
    "end"
   ]
  },
  {
   "cell_type": "code",
   "execution_count": null,
   "metadata": {},
   "outputs": [],
   "source": [
    "spectral_data = Dict();"
   ]
  },
  {
   "cell_type": "code",
   "execution_count": null,
   "metadata": {},
   "outputs": [],
   "source": [
    "for spin_idx in 1:N-1\n",
    "    spectral_data[spin_idx] = spectrum_vs_T(spin_idx, spectral_sols)\n",
    "end"
   ]
  },
  {
   "cell_type": "code",
   "execution_count": null,
   "metadata": {},
   "outputs": [],
   "source": [
    "spin_idx = 6\n",
    "\n",
    "# map data to functions\n",
    "spectral_fs = []\n",
    "for (k, (ωs, spec)) in enumerate(zip(spectral_data[spin_idx]...))\n",
    "    push!(spectral_fs, linear_interpolation(ωs, spec, extrapolation_bc=Line()))\n",
    "end"
   ]
  },
  {
   "cell_type": "code",
   "execution_count": null,
   "metadata": {},
   "outputs": [],
   "source": [
    "# spin_idx = 2\n",
    "num_plots = length(spectral_sols)\n",
    "xlim_vals = (-0.05, 0.3)\n",
    "# fig, axs = subplots(figsize=(5, 12), nrows=num_plots, ncols=1)\n",
    "fig, axs = subplots(figsize=(5, 5), nrows=num_plots, ncols=1)\n",
    "\n",
    "# T_diags = range(0, 1, npts_diag+1)\n",
    "for (k, (ωs, spec)) in enumerate(zip(spectral_data[spin_idx]...))\n",
    "    ax = axs[k] # subplot(num_plots, 1, k)     \n",
    "\n",
    "    ax.plot(spec_sum[k]..., \"-C2\")\n",
    "\n",
    "    ax.plot(ωs, spec, \"-\", label=@sprintf(\"\\$T=%0.3f\\$\", T_diags[k] ./ T_final))\n",
    "    ax.axvline(mingap, ls=\"--\", c=\"k\", alpha=0.2)\n",
    "    # max_loc = ωs[findfirst(x->x==maximum(spec), spec)]\n",
    "    # axvline.([max_loc], c=\"r\", ls=\"--\")\n",
    "\n",
    "    ax.set_xlim(xlim_vals...)\n",
    "    ax.set_ylim(0, 0.1)  \n",
    "    ax.set_xticks(range(xlim_vals..., 8))  \n",
    "    ax.set_xticklabels([])\n",
    "    # ax.set_ylabel(@sprintf(\"\\$\\\\rho_{%i%i}(T, \\\\omega)\\$\", idx, idx))\n",
    "    ax.legend(frameon=false, handlelength=0, fontsize=12)\n",
    "    if k%2 == 0\n",
    "        ax.yaxis.tick_right()\n",
    "    end\n",
    "    ax.tick_params(axis=\"y\", labelsize=10)\n",
    "end\n",
    "ax = subplot(num_plots, 1, num_plots)\n",
    "ax.set_xlabel(\"\\$\\\\nu\\$\")\n",
    "ax.set_xticklabels(round.(range(xlim_vals..., 8), digits=2))\n",
    "\n",
    "fig.text(0.0, 0.5, @sprintf(\"\\$\\\\rho_{%i%i}(T, \\\\omega)\\$\", spin_idx, spin_idx), va=\"center\", rotation=\"vertical\")\n",
    "subplots_adjust(wspace=0.5, hspace=0.16)\n",
    "# savefig(\"../plots/\" * @sprintf(\"spectrum_spin_%02i_max2sat_typical_instance_%04i_from_arxiv_2206_06876_N_%i_num_clauses_%i.pdf\", spin_idx, idx, N, num_clauses), dpi=256, bbox_inches=\"tight\")"
   ]
  },
  {
   "cell_type": "code",
   "execution_count": null,
   "metadata": {},
   "outputs": [],
   "source": [
    "omega_range = range(0.0 , 0.3, 1001) |> collect\n",
    "data_2D = [map(spectral_fs[k], omega_range) for (k, (ωs, spec)) in enumerate(zip(spectral_data[spin_idx]...))];"
   ]
  },
  {
   "cell_type": "code",
   "execution_count": null,
   "metadata": {},
   "outputs": [],
   "source": [
    "cmap = \"gist_yarg\"\n",
    "\n",
    "figure(figsize=(4, 3))\n",
    "Y, X = meshgrid(omega_range, T_diags ./ T_final);\n",
    "ax = subplot(111)\n",
    "heatmap = ax.pcolormesh(Y, X, data_2D, cmap=cmap, rasterized=true, vmin=0, vmax=1)\n",
    "heatmap.set_edgecolor(\"face\")\n",
    "# ax.set_aspect(\"equal\")\n",
    "cbar = colorbar(mappable=heatmap)\n",
    "# cbar.formatter.set_powerlimits((0, 0))\n",
    "ax.set_xlabel(\"\\$\\\\omega\\$\")\n",
    "ax.set_ylabel(\"\\$T\\$\")\n",
    "ax.set_xlim(omega_range[1], omega_range[end])\n",
    "ax.set_ylim(T_diags[1] ./ T_final, T_diags[end] ./ T_final)\n",
    "# ax.set_xticks(t_scale .* [0, T/2, T])\n",
    "# ax.set_yticks(t_scale .* [0, T/2, T])\n",
    "\n",
    "\n",
    "tight_layout(pad=0.75, w_pad=0.25, h_pad=0)"
   ]
  },
  {
   "cell_type": "code",
   "execution_count": null,
   "metadata": {},
   "outputs": [],
   "source": [
    "data_2D_f = interpolate((omega_range, T_diags), reduce(hcat, data_2D), Gridded(Linear()));\n",
    "interp_data_2D = [[data_2D_f(ω, T) for ω in omega_range] for T in range(T_diags[1], T_diags[end], 1001)];"
   ]
  },
  {
   "cell_type": "code",
   "execution_count": null,
   "metadata": {},
   "outputs": [],
   "source": [
    "figure(figsize=(4, 3))\n",
    "Y, X = meshgrid(omega_range, range(T_diags[1], T_diags[end], 1001) ./ T_final);\n",
    "ax = subplot(111)\n",
    "heatmap = ax.pcolormesh(Y, X, interp_data_2D, cmap=cmap, rasterized=true, vmin=0, vmax=1)\n",
    "heatmap.set_edgecolor(\"face\")\n",
    "# ax.set_aspect(\"equal\")\n",
    "cbar = colorbar(mappable=heatmap)\n",
    "ax.set_xlim(omega_range[1], omega_range[end])\n",
    "# ax.set_ylim(0, 1)\n",
    "# ax.set_xticks(t_scale .* [0, T/2, T])\n",
    "# ax.set_yticks(t_scale .* [0, T/2, T])\n",
    "\n",
    "tight_layout(pad=0.75, w_pad=0.25, h_pad=0)"
   ]
  },
  {
   "cell_type": "markdown",
   "metadata": {},
   "source": [
    "## Scripted spectra"
   ]
  },
  {
   "cell_type": "code",
   "execution_count": null,
   "metadata": {},
   "outputs": [],
   "source": [
    "N = 9\n",
    "pattern = r\"random_SK_instance_N_9_seed_(\\d+)\\.h5\"\n",
    "\n",
    "# N = 11\n",
    "# pattern = r\"random_SK_instance_N_11_seed_(\\d+)\\.h5\"\n",
    "\n",
    "# N = 13\n",
    "# pattern = r\"random_SK_instance_N_13_seed_(\\d+)\\.h5\"\n",
    "\n",
    "# N = 15\n",
    "# pattern = r\"random_SK_instance_N_15_seed_(\\d+)\\.h5\"\n",
    "\n",
    "subdir = \"small_gaps\"\n",
    "folder_name = PATH * @sprintf(\"data/SK_model/N_%i/%s/\", N, subdir)\n",
    "instance_names = readdir(folder_name);"
   ]
  },
  {
   "cell_type": "code",
   "execution_count": null,
   "metadata": {},
   "outputs": [],
   "source": [
    "T_final = 16000.\n",
    "T_final = 32000.\n",
    "τ_final = 1000.\n",
    "τ_final = 2000.\n",
    "# τ_final = 4000.\n",
    "all_ωs = []\n",
    "spec_sum = []\n",
    "\n",
    "num_plots = 100\n",
    "num_plots = 141\n",
    "for instance_name in instance_names[1:num_plots]\n",
    "    try\n",
    "        \n",
    "        seed = match(pattern, instance_name)[1]    \n",
    "\n",
    "        λ = h5read(folder_name * instance_name, \"exact_ARPACK_LM_eigvals\")\n",
    "\n",
    "        gap = λ[2, :] .- λ[1, :];\n",
    "        exact_times = range(0, 1, 33)\n",
    "        gaploc = exact_times[findfirst(x -> x == minimum(gap), gap)] \n",
    "        T_diags = T_final .* [gaploc - 0.1, gaploc - 0.05, gaploc]\n",
    "        \n",
    "        # for k in 1:1\n",
    "        # for k in 2:2\n",
    "        for k in 3:3\n",
    "            push!(all_ωs, h5read(folder_name * instance_name, @sprintf(\"spectra_T_final_%i_tau_final_%i/T_%0.3f/omegas\", T_final, τ_final, T_diags[k] / T_final)))\n",
    "            push!(spec_sum, h5read(folder_name * instance_name, @sprintf(\"spectra_T_final_%i_tau_final_%i/T_%0.3f/data\", T_final, τ_final, T_diags[k] / T_final)))\n",
    "        end   \n",
    "    catch\n",
    "        printstyled(instance_name, \"\\n\", color=:red)\n",
    "    end\n",
    "end"
   ]
  },
  {
   "cell_type": "code",
   "execution_count": null,
   "metadata": {},
   "outputs": [],
   "source": [
    "num_plots = length(spec_sum)"
   ]
  },
  {
   "cell_type": "code",
   "execution_count": null,
   "metadata": {},
   "outputs": [],
   "source": [
    "# map data to functions\n",
    "spectral_sum_fs = []\n",
    "for (k, (ωs, spec)) in enumerate(zip(all_ωs, spec_sum))\n",
    "    push!(spectral_sum_fs, linear_interpolation(ωs, spec, extrapolation_bc=Line()))\n",
    "end"
   ]
  },
  {
   "cell_type": "code",
   "execution_count": null,
   "metadata": {},
   "outputs": [],
   "source": [
    "xlim_vals = (-0.05, 0.2)\n",
    "new_ωs = range(xlim_vals..., 2001)\n",
    "spectral_average = mean([map(spectral_sum_fs[k], new_ωs) for k in 1:length(spectral_sum_fs)]);"
   ]
  },
  {
   "cell_type": "code",
   "execution_count": null,
   "metadata": {},
   "outputs": [],
   "source": [
    "figure(figsize=(4, 3))\n",
    "subplot(111)\n",
    "plot(new_ωs, spectral_average, \"-k\", ms=2)    \n",
    "xlim(xlim_vals...)\n",
    "ylim(-0., 0.1)\n",
    "xlabel(\"\\$\\\\nu\\$\")\n",
    "ylabel(\"Ensemble-averaged spectrum\", fontsize=12)\n",
    "tight_layout()"
   ]
  },
  {
   "cell_type": "code",
   "execution_count": null,
   "metadata": {},
   "outputs": [],
   "source": [
    "xlim_vals = (-0.05, 0.1)\n",
    "fig, axs = subplots(figsize=(5, 50), nrows=num_plots, ncols=1)\n",
    "\n",
    "for (k, (ωs, spec)) in enumerate(zip(all_ωs, spec_sum))\n",
    "    ax = axs[k]     \n",
    "    ax.plot(ωs, spec, \"-\")\n",
    "\n",
    "    ax.set_xlim(xlim_vals...)\n",
    "    ax.set_ylim(0, 0.05)  \n",
    "    ax.set_xticks(range(xlim_vals..., 7))  \n",
    "    ax.set_xticklabels([])\n",
    "    # ax.set_ylabel(@sprintf(\"\\$\\\\rho_{%i%i}(T, \\\\omega)\\$\", idx, idx))\n",
    "    # ax.legend(frameon=false, handlelength=0, fontsize=12)\n",
    "    if k%2 == 0\n",
    "        ax.yaxis.tick_right()\n",
    "    end\n",
    "    ax.tick_params(axis=\"y\", labelsize=10)\n",
    "end\n",
    "ax = subplot(num_plots, 1, num_plots)\n",
    "ax.set_xlabel(\"\\$\\\\nu\\$\")\n",
    "ax.set_xticklabels(round.(range(xlim_vals..., 7), digits=3))\n",
    "\n",
    "subplots_adjust(wspace=0.5, hspace=0.16)"
   ]
  },
  {
   "cell_type": "markdown",
   "metadata": {},
   "source": [
    "### Delete data..."
   ]
  },
  {
   "cell_type": "code",
   "execution_count": null,
   "metadata": {},
   "outputs": [],
   "source": [
    "for instance_name in instance_names#[1:110]\n",
    "    delfile = folder_name * instance_name\n",
    "    seed = match(pattern, instance_name)[1]    \n",
    "    if seed == \"52411\"\n",
    "        println(seed)\n",
    "        h5open(delfile, \"r+\") do f\n",
    "            key = @sprintf(\"lyapunov_exponent_T_final_%.0f_tol_1e%.0f_npts_%i\", T_final, log10(tol), npts) \n",
    "            println(key)       \n",
    "            if haskey(f, key)\n",
    "                printstyled(@sprintf(\"key %s\", key) * \"\\n\", color=:red)\n",
    "                # delete_object(f, key)\n",
    "            end\n",
    "        end\n",
    "    end\n",
    "end"
   ]
  },
  {
   "cell_type": "code",
   "execution_count": null,
   "metadata": {},
   "outputs": [],
   "source": [
    "for instance_name in instance_names[1:110]\n",
    "    delfile = folder_name * instance_name\n",
    "    seed = match(pattern, instance_name)[1]    \n",
    "\n",
    "    λ = h5read(folder_name * instance_name, \"exact_ARPACK_LM_eigvals\")\n",
    "\n",
    "    gap = λ[2, :] .- λ[1, :];\n",
    "    exact_times = range(0, 1, 33)\n",
    "    gaploc = exact_times[findfirst(x -> x == minimum(gap), gap)] \n",
    "    T_diags = T_final .* [gaploc - 0.05, gaploc]  \n",
    "\n",
    "    h5open(delfile, \"r+\") do f\n",
    "        key = \"bogoliubov_spectrum\"\n",
    "        key = \"fluctuations\"\n",
    "        # key = @sprintf(\"spectra/T_%0.3f/omegas\", T_diags[1] / T_final)\n",
    "        # key = @sprintf(\"spectra/T_%0.3f/data\", T_diags[1] / T_final)\n",
    "        # key = @sprintf(\"spectra/T_%0.3f/omegas\", T_diags[2] / T_final)\n",
    "        # key = @sprintf(\"spectra/T_%0.3f/data\", T_diags[2] / T_final)        \n",
    "        if haskey(f, key)\n",
    "            printstyled(@sprintf(\"key %s\", key) * \"\\n\", color=:red)\n",
    "            # delete_object(f, key)\n",
    "        end\n",
    "        \n",
    "    end\n",
    "end"
   ]
  },
  {
   "cell_type": "markdown",
   "metadata": {},
   "source": [
    "## Data admin"
   ]
  },
  {
   "cell_type": "code",
   "execution_count": null,
   "metadata": {},
   "outputs": [],
   "source": [
    "N = 17\n",
    "folder_name = PATH * @sprintf(\"data/SK_model/N_%i/\", N)\n",
    "instance_names = readdir(folder_name)"
   ]
  },
  {
   "cell_type": "code",
   "execution_count": null,
   "metadata": {},
   "outputs": [],
   "source": [
    "minigaps = Dict()\n",
    "for instance_name in instance_names\n",
    "    try\n",
    "        pattern = r\"random_SK_instance_N_17_seed_(\\d+)\\.h5\"\n",
    "        seed = match(pattern, instance_name)[1]    \n",
    "\n",
    "        # couplings = h5read(folder_name * instance_name, \"J\", J_mat)\n",
    "        λ = h5read(folder_name * instance_name, \"exact_ARPACK_LM_eigvals\")\n",
    "        minigap = minimum(λ[2, :] .- λ[1, :])\n",
    "        minigaps[seed] = minigap\n",
    "    catch\n",
    "        print(instance_name, \", \")\n",
    "    end\n",
    "end\n"
   ]
  },
  {
   "cell_type": "code",
   "execution_count": null,
   "metadata": {},
   "outputs": [],
   "source": [
    "sorted_minigaps = sort(collect(minigaps), by=x->x[2])\n",
    "length(sorted_minigaps)"
   ]
  },
  {
   "cell_type": "code",
   "execution_count": null,
   "metadata": {},
   "outputs": [],
   "source": [
    "first_large_gap_idx = findfirst(x -> x > 0.1, [x for (key, x) in sorted_minigaps])"
   ]
  },
  {
   "cell_type": "code",
   "execution_count": null,
   "metadata": {},
   "outputs": [],
   "source": [
    "small_minigaps = sorted_minigaps[1:first_large_gap_idx-1]\n",
    "large_minigaps = sorted_minigaps[first_large_gap_idx:end];"
   ]
  },
  {
   "cell_type": "code",
   "execution_count": null,
   "metadata": {},
   "outputs": [],
   "source": [
    "large_minigaps"
   ]
  },
  {
   "cell_type": "markdown",
   "metadata": {},
   "source": [
    "#### Move data"
   ]
  },
  {
   "cell_type": "code",
   "execution_count": null,
   "metadata": {},
   "outputs": [],
   "source": [
    "# # mv_list = [k for (k, v) in small_minigaps]\n",
    "# mv_list = [k for (k, v) in large_minigaps]\n",
    "\n",
    "# type_str = \"data\"\n",
    "# file_suffix = \"h5\"\n",
    "\n",
    "# for seed in mv_list\n",
    "#     try\n",
    "#         # mv(PATH * @sprintf(\"%s/SK_model/N_%i/\", type_str, N) * @sprintf(\"random_SK_instance_N_%i_seed_%s.%s\", N, seed, file_suffix), PATH * @sprintf(\"%s/SK_model/N_%i/\", type_str, N) * \"small_gaps/\" * @sprintf(\"random_SK_instance_N_%i_seed_%s.%s\", N, seed, file_suffix))\n",
    "#         mv(PATH * @sprintf(\"%s/SK_model/N_%i/\", type_str, N) * @sprintf(\"random_SK_instance_N_%i_seed_%s.%s\", N, seed, file_suffix), PATH * @sprintf(\"%s/SK_model/N_%i/\", type_str, N) * \"large_gaps/\" * @sprintf(\"random_SK_instance_N_%i_seed_%s.%s\", N, seed, file_suffix))\n",
    "#     catch\n",
    "#         print(seed, \", \")\n",
    "#     end\n",
    "# end"
   ]
  },
  {
   "cell_type": "markdown",
   "metadata": {},
   "source": [
    "#### Move plots"
   ]
  },
  {
   "cell_type": "code",
   "execution_count": null,
   "metadata": {},
   "outputs": [],
   "source": [
    "# # mv_list = [k for (k, v) in small_minigaps]\n",
    "# mv_list = [k for (k, v) in large_minigaps]\n",
    "\n",
    "# type_str = \"plots\"\n",
    "# file_suffix = \"pdf\"\n",
    "\n",
    "# for seed in mv_list\n",
    "#     try\n",
    "#         # mv(PATH * @sprintf(\"%s/SK_model/N_%i/\", type_str, N) * @sprintf(\"random_SK_instance_N_%i_seed_%s.%s\", N, seed, file_suffix), PATH * @sprintf(\"%s/SK_model/N_%i/\", type_str, N) * \"small_gaps/\" * @sprintf(\"random_SK_instance_N_%i_seed_%s.%s\", N, seed, file_suffix))\n",
    "#         mv(PATH * @sprintf(\"%s/SK_model/N_%i/\", type_str, N) * @sprintf(\"random_SK_instance_N_%i_seed_%s.%s\", N, seed, file_suffix), PATH * @sprintf(\"%s/SK_model/N_%i/\", type_str, N) * \"large_gaps/\" * @sprintf(\"random_SK_instance_N_%i_seed_%s.%s\", N, seed, file_suffix))\n",
    "#     catch\n",
    "#         print(seed, \", \")\n",
    "#     end\n",
    "# end"
   ]
  },
  {
   "cell_type": "markdown",
   "metadata": {},
   "source": [
    "#### Late gaps..."
   ]
  },
  {
   "cell_type": "code",
   "execution_count": null,
   "metadata": {},
   "outputs": [],
   "source": [
    "# N = 15\n",
    "# all_late_gap_seeds = []\n",
    "# for screen in 1:5000:45000\n",
    "#     late_gap_seeds = h5read(PATH * @sprintf(\"data/SK_model/N_%i/\", N) * @sprintf(\"random_SK_instances_N_%i_screen_%i_late_minigaps.h5\", N, screen), \"late_gap_seeds\")\n",
    "#     push!(all_late_gap_seeds, late_gap_seeds)\n",
    "# end\n",
    "# all_late_gap_seeds = reduce(vcat, all_late_gap_seeds)\n",
    "# # h5write(PATH * @sprintf(\"data/SK_model/N_%i/\", N) *@sprintf(\"random_SK_instances_N_%i_late_minigaps.h5\", N), \"late_gap_seeds\", all_late_gap_seeds);"
   ]
  },
  {
   "cell_type": "code",
   "execution_count": null,
   "metadata": {},
   "outputs": [],
   "source": [
    "N = 17\n",
    "h5read(PATH * @sprintf(\"data/SK_model/N_%i/\", N) *@sprintf(\"random_SK_instances_N_%i_late_minigaps.h5\", N), \"late_gap_seeds\") # |> length"
   ]
  },
  {
   "cell_type": "code",
   "execution_count": null,
   "metadata": {},
   "outputs": [],
   "source": [
    "# all_late_gap_seeds_N_17 = [15001, 17004, 3005, 9006, 4008, 16008, 11009, 15010, 10012, 9014, 15020, 22, 2028, 12027, 14029, 17035, 1034, 9037, 2041, 37, 14039, 8039, 10041, 3040, 8040, 15046, 10045, 15049, 11046, 12047, 13048, 18053, 7051, 20052, 8057, 4059, 9060, 14060, 16064, 18064, 13061, 13062, 18066, 66, 5065, 14065, 6066, 74, 17077, 14076, 19083, 15084, 8082, 17085, 12084, 8087, 15096, 20087, 14091, 12091, 3091, 13093, 17101, 8103, 19110, 2117, 2121, 10109, 16117, 1119, 5119, 5121, 4119, 6117, 122, 17120, 18125, 4123, 16138, 12131, 3129, 19140, 8135, 19141, 6136, 140, 5142, 14138, 16148, 145, 4144, 9154, 2157, 5154, 5158, 10153, 2171, 8165, 12163, 4169, 12166, 19181, 5178, 12175, 4178, 16187, 10173, 20174, 11188, 14181, 10183, 17185, 3186, 17188, 16205, 19207, 9210, 5205, 209, 18207, 3199, 8210, 15232, 13213, 4224, 17221, 11233, 233, 11235, 19240, 18232, 15246]\n",
    "# h5write(PATH * @sprintf(\"data/SK_model/N_%i/\", 17) *@sprintf(\"random_SK_instances_N_%i_late_minigaps.h5\", 17), \"late_gap_seeds\", sort(all_late_gap_seeds_N_17));"
   ]
  },
  {
   "cell_type": "code",
   "execution_count": null,
   "metadata": {},
   "outputs": [],
   "source": [
    "minigap_locs = []\n",
    "for (k, v) in eigvals_small_gap\n",
    "    minigap = minimum(v[2, :] .- v[1, :])\n",
    "    push!(minigap_locs, findfirst(x -> x == minigap, v[2, :] .- v[1, :]))\n",
    "end"
   ]
  },
  {
   "cell_type": "code",
   "execution_count": null,
   "metadata": {},
   "outputs": [],
   "source": [
    "findall(x -> x != 30, minigap_locs)"
   ]
  }
 ],
 "metadata": {
  "kernelspec": {
   "display_name": "Julia 1.8.5",
   "language": "julia",
   "name": "julia-1.8"
  },
  "language_info": {
   "file_extension": ".jl",
   "mimetype": "application/julia",
   "name": "julia",
   "version": "1.8.5"
  },
  "orig_nbformat": 4
 },
 "nbformat": 4,
 "nbformat_minor": 2
}
