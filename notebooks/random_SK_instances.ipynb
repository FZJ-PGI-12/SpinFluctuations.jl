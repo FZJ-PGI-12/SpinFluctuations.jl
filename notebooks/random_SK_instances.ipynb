{
 "cells": [
  {
   "attachments": {},
   "cell_type": "markdown",
   "metadata": {},
   "source": [
    "# Test"
   ]
  },
  {
   "cell_type": "code",
   "execution_count": null,
   "metadata": {},
   "outputs": [],
   "source": [
    "using Yao, QAOA, Random, Combinatorics, Arpack, Distributions, LinearAlgebra, Interpolations\n",
    "using JLD, HDF5, Printf\n",
    "using PyPlot\n",
    "PyPlot.plt.style.use(\"./paper.mplstyle\")\n",
    "\n",
    "PATH = \"/home/ubuntu/Archives/\";"
   ]
  },
  {
   "cell_type": "code",
   "execution_count": null,
   "metadata": {},
   "outputs": [],
   "source": [
    "using Revise, SpinFluctuations"
   ]
  },
  {
   "cell_type": "code",
   "execution_count": null,
   "metadata": {},
   "outputs": [],
   "source": [
    "Base.show(io::IO, f::Float64) = @printf(io, \"%1.4f\", f)"
   ]
  },
  {
   "attachments": {},
   "cell_type": "markdown",
   "metadata": {},
   "source": [
    "## All data"
   ]
  },
  {
   "cell_type": "markdown",
   "metadata": {},
   "source": [
    "### Small/Large-gap data"
   ]
  },
  {
   "cell_type": "code",
   "execution_count": null,
   "metadata": {},
   "outputs": [],
   "source": [
    "N = 9\n",
    "pattern = r\"random_SK_instance_N_9_seed_(\\d+)\\.h5\"\n",
    "\n",
    "# N = 11\n",
    "# pattern = r\"random_SK_instance_N_11_seed_(\\d+)\\.h5\"\n",
    "\n",
    "# N = 13\n",
    "# pattern = r\"random_SK_instance_N_13_seed_(\\d+)\\.h5\"\n",
    "\n",
    "# N = 15\n",
    "# pattern = r\"random_SK_instance_N_15_seed_(\\d+)\\.h5\"\n",
    "\n",
    "# N = 17\n",
    "# pattern = r\"random_SK_instance_N_17_seed_(\\d+)\\.h5\"\n",
    "\n",
    "# N = 19\n",
    "# pattern = r\"random_SK_instance_N_19_seed_(\\d+)\\.h5\"\n",
    "\n",
    "# final time for mean-field\n",
    "# T_final = 10000.\n",
    "T_final = 32000.\n",
    "\n",
    "# number of points to get Lyapunov exponent for\n",
    "npts = 256\n",
    "npts = 2048\n",
    "\n",
    "# tolerance for DifferentialEquations.jl when solving mean-field \n",
    "tol = 1e-8;"
   ]
  },
  {
   "cell_type": "code",
   "execution_count": null,
   "metadata": {},
   "outputs": [],
   "source": [
    "subdir = \"small_gaps\"\n",
    "# subdir = \"late_gaps\"\n",
    "folder_name = PATH * @sprintf(\"data/SK_model/N_%i/%s/\", N, subdir)\n",
    "instance_names = readdir(folder_name);"
   ]
  },
  {
   "cell_type": "code",
   "execution_count": null,
   "metadata": {},
   "outputs": [],
   "source": [
    "# instance_seeds = []\n",
    "# results_seeds = []\n",
    "\n",
    "# for instance_name in instance_names\n",
    "#     seed = match(pattern, instance_name)[1]\n",
    "#     if occursin(\"results\", instance_name)\n",
    "#         push!(results_seeds, seed)        \n",
    "#         continue\n",
    "#     end\n",
    "#     push!(instance_seeds, seed)        \n",
    "# end\n",
    "\n",
    "# instance_seeds = parse.(Int, instance_seeds)\n",
    "# results_seeds = parse.(Int, results_seeds);"
   ]
  },
  {
   "cell_type": "code",
   "execution_count": null,
   "metadata": {},
   "outputs": [],
   "source": [
    "couplings_small_gap = Dict()\n",
    "eigvals_small_gap = Dict()\n",
    "lyapunov_exponents_small_gap = Dict()\n",
    "\n",
    "for instance_name in instance_names\n",
    "    seed = match(pattern, instance_name)[1]\n",
    "    if occursin(\"results\", instance_name)\n",
    "        try\n",
    "            # lyapunov_exponents_small_gap[seed] = h5read(folder_name * instance_name, @sprintf(\"lyapunov_exponent_T_final_%.0f_tol_1e%.0f_npts_%i\", T_final, log10(tol), npts))\n",
    "            all_flucs = sum(h5read(folder_name * instance_name, @sprintf(\"fluctuations_T_final_%.0f_tol_1e%.0f_npts_%i\", T_final, log10(tol), npts)), dims=1)\n",
    "            if sum(all_flucs) |> abs < 1e4 \n",
    "                lyapunov_exponents_small_gap[seed] = all_flucs\n",
    "            end\n",
    "        catch e\n",
    "            printstyled(seed, \": \", e, \"\\n\", color=:red)\n",
    "        end            \n",
    "        continue\n",
    "    end\n",
    "    try    \n",
    "        couplings = h5read(folder_name * instance_name, \"J\")\n",
    "        couplings_small_gap[seed] = couplings\n",
    "        eigvals_small_gap[seed] = h5read(folder_name * instance_name, \"exact_ARPACK_LM_eigvals\")\n",
    "    catch e\n",
    "        printstyled(seed, \": \", e, \"\\n\", color=:red)\n",
    "    end\n",
    "end\n"
   ]
  },
  {
   "cell_type": "code",
   "execution_count": null,
   "metadata": {},
   "outputs": [],
   "source": [
    "lyapunov_exponents_small_gap"
   ]
  },
  {
   "cell_type": "code",
   "execution_count": null,
   "metadata": {},
   "outputs": [],
   "source": [
    "subdir = \"large_gaps\"\n",
    "# subdir = \"extra_data\"\n",
    "folder_name = PATH * @sprintf(\"data/SK_model/N_%i/%s/\", N, subdir)\n",
    "instance_names = readdir(folder_name)\n",
    "\n",
    "couplings_large_gap = Dict()\n",
    "eigvals_large_gap = Dict()\n",
    "lyapunov_exponents_large_gap = Dict()\n",
    "\n",
    "for instance_name in instance_names\n",
    "    seed = match(pattern, instance_name)[1]\n",
    "    if occursin(\"results\", instance_name)\n",
    "        # lyapunov_exponents_large_gap[seed] = h5read(folder_name * \"results_\" * instance_name, @sprintf(\"lyapunov_exponent_T_final_%.0f_tol_1e%.0f_npts_%i\", T_final, log10(tol), npts))    \n",
    "        lyapunov_exponents_large_gap[seed] = sum(h5read(folder_name * instance_name, @sprintf(\"fluctuations_T_final_%.0f_tol_1e%.0f_npts_%i\", T_final, log10(tol), npts)), dims=1)\n",
    "        continue\n",
    "    end\n",
    "    try\n",
    "        couplings = h5read(folder_name * instance_name, \"J\")\n",
    "        couplings_large_gap[seed] = couplings\n",
    "        λ = h5read(folder_name * instance_name, \"exact_ARPACK_LM_eigvals\")\n",
    "        eigvals_large_gap[seed] = λ\n",
    "    catch e\n",
    "        printstyled(seed, \": \", e, \"\\n\", color=:red)\n",
    "    end                                             \n",
    "end\n"
   ]
  },
  {
   "cell_type": "code",
   "execution_count": null,
   "metadata": {},
   "outputs": [],
   "source": [
    "eigvals_small = [v[2, :] .- v[1, :] for (k, v) in eigvals_small_gap]\n",
    "eigvals_large = [v[2, :] .- v[1, :] for (k, v) in eigvals_large_gap]\n",
    "avg_eigvals_small = eigvals_small |> mean\n",
    "avg_eigvals_large = eigvals_large |> mean;"
   ]
  },
  {
   "cell_type": "code",
   "execution_count": null,
   "metadata": {},
   "outputs": [],
   "source": [
    "avg_lyapunov_exponents_small = [v for (k, v) in lyapunov_exponents_small_gap] |> mean\n",
    "avg_lyapunov_exponents_large = [v for (k, v) in lyapunov_exponents_large_gap] |> mean;"
   ]
  },
  {
   "cell_type": "code",
   "execution_count": null,
   "metadata": {},
   "outputs": [],
   "source": [
    "figure(figsize=(7, 3))\n",
    "subplot(121)\n",
    "plot(range(0, 1, 33), avg_eigvals_small, \"-o\", ms=3)\n",
    "plot(range(0, 1, 33), avg_eigvals_large, \"-s\", ms=3)\n",
    "xlim(0, 1)\n",
    "ylim(0, 2)\n",
    "xlabel(\"\\$s\\$\")\n",
    "ylabel(\"Average Exact Gap\")\n",
    "\n",
    "subplot(122)\n",
    "plot(range(0, 1, npts+1), avg_lyapunov_exponents_small[1, :], \"-\", ms=3)\n",
    "plot(range(0, 1, npts+1), avg_lyapunov_exponents_large[1, :], \"-\", ms=3)\n",
    "xlim(0, 1)\n",
    "ylim(0, )\n",
    "xlabel(\"\\$s\\$\")\n",
    "ylabel(\"Average \\$\\\\lambda\\$\")\n",
    "tight_layout()"
   ]
  },
  {
   "cell_type": "code",
   "execution_count": null,
   "metadata": {},
   "outputs": [],
   "source": [
    "length(couplings_small_gap) |> println\n",
    "length(couplings_large_gap) |> println"
   ]
  },
  {
   "cell_type": "code",
   "execution_count": null,
   "metadata": {},
   "outputs": [],
   "source": [
    "gapsize_small_gap = []\n",
    "gaplocs_small_gap = []\n",
    "for (k, v) in eigvals_small_gap\n",
    "    gap = v[2, :] .- v[1, :]\n",
    "    minigap = minimum(gap)\n",
    "    push!(gapsize_small_gap, minigap)\n",
    "    exact_times = range(0, 1, 33)\n",
    "    gaploc = exact_times[findfirst(x -> x == minigap, gap)]\n",
    "    push!(gaplocs_small_gap, gaploc)\n",
    "end "
   ]
  },
  {
   "cell_type": "code",
   "execution_count": null,
   "metadata": {},
   "outputs": [],
   "source": [
    "gapsize_large_gap = []\n",
    "gaplocs_large_gap = []\n",
    "for (k, v) in eigvals_large_gap\n",
    "    gap = v[2, :] .- v[1, :]\n",
    "    minigap = minimum(gap)\n",
    "    push!(gapsize_large_gap, minigap)\n",
    "    exact_times = range(0, 1, 33)\n",
    "    gaploc = exact_times[findfirst(x -> x == minigap, gap)]\n",
    "    push!(gaplocs_large_gap, gaploc)\n",
    "end "
   ]
  },
  {
   "cell_type": "code",
   "execution_count": null,
   "metadata": {},
   "outputs": [],
   "source": [
    "figure(figsize=(7, 3))\n",
    "ax = subplot(121)\n",
    "hist2D(gapsize_small_gap, gaplocs_small_gap, bins=32, range=[[0, 1e-2], [0., 1.0]], cmap=\"gist_earth_r\")\n",
    "colorbar()\n",
    "xlim(0, 0.01)\n",
    "ylim(0., 1)\n",
    "xticks([0., 5e-3, 1e-2])\n",
    "ax.set_xticklabels([0., \"\", 1e-2])\n",
    "xlabel(\"\\$\\\\Delta\\$\")\n",
    "ylabel(\"\\$s_{\\\\mathrm{min}}\\$\")\n",
    "\n",
    "ax = subplot(122)\n",
    "hist2D(gapsize_large_gap, gaplocs_large_gap, bins=32, range=[[0.5, 1.1], [0., 1.0]], cmap=\"gist_earth_r\")\n",
    "colorbar()\n",
    "xlim(0.5, 1.1)\n",
    "ylim(0.0, 1)\n",
    "ax.set_yticklabels([])\n",
    "xlabel(\"\\$\\\\Delta\\$\")\n",
    "# ylabel(\"\\$s_{\\\\mathrm{min}}\\$\")\n",
    "tight_layout()"
   ]
  },
  {
   "cell_type": "code",
   "execution_count": null,
   "metadata": {},
   "outputs": [],
   "source": []
  }
 ],
 "metadata": {
  "kernelspec": {
   "display_name": "Julia 1.8.5",
   "language": "julia",
   "name": "julia-1.8"
  },
  "language_info": {
   "file_extension": ".jl",
   "mimetype": "application/julia",
   "name": "julia",
   "version": "1.8.5"
  },
  "orig_nbformat": 4
 },
 "nbformat": 4,
 "nbformat_minor": 2
}
