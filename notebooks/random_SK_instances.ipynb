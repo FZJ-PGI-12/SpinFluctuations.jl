{
 "cells": [
  {
   "attachments": {},
   "cell_type": "markdown",
   "metadata": {},
   "source": [
    "# Random SK Instances"
   ]
  },
  {
   "cell_type": "code",
   "execution_count": null,
   "metadata": {},
   "outputs": [],
   "source": [
    "using Yao, QAOA, Random, Combinatorics, Arpack, Distributions, LinearAlgebra, Interpolations\n",
    "using JLD, HDF5, Printf\n",
    "using PyPlot\n",
    "PyPlot.plt.style.use(\"./paper.mplstyle\")\n",
    "\n",
    "PATH = \"/home/ubuntu/Archives/\"\n",
    "PLOT_PATH = \"/home/ubuntu/Archives/plots/SK_model/paper/\";"
   ]
  },
  {
   "cell_type": "code",
   "execution_count": null,
   "metadata": {},
   "outputs": [],
   "source": [
    "using Revise, SpinFluctuations"
   ]
  },
  {
   "cell_type": "code",
   "execution_count": null,
   "metadata": {},
   "outputs": [],
   "source": [
    "Base.show(io::IO, f::Float64) = @printf(io, \"%1.4f\", f)"
   ]
  },
  {
   "attachments": {},
   "cell_type": "markdown",
   "metadata": {},
   "source": [
    "## Data set overview plots"
   ]
  },
  {
   "cell_type": "markdown",
   "metadata": {},
   "source": [
    "### Small/Large-gap data"
   ]
  },
  {
   "cell_type": "code",
   "execution_count": null,
   "metadata": {},
   "outputs": [],
   "source": [
    "N = 9\n",
    "pattern = r\"random_SK_instance_N_9_seed_(\\d+)\\.h5\"\n",
    "\n",
    "# N = 11\n",
    "# pattern = r\"random_SK_instance_N_11_seed_(\\d+)\\.h5\"\n",
    "\n",
    "# N = 13\n",
    "# pattern = r\"random_SK_instance_N_13_seed_(\\d+)\\.h5\"\n",
    "\n",
    "# N = 15\n",
    "# pattern = r\"random_SK_instance_N_15_seed_(\\d+)\\.h5\"\n",
    "\n",
    "# N = 17\n",
    "# pattern = r\"random_SK_instance_N_17_seed_(\\d+)\\.h5\"\n",
    "\n",
    "# N = 19\n",
    "# pattern = r\"random_SK_instance_N_19_seed_(\\d+)\\.h5\""
   ]
  },
  {
   "cell_type": "code",
   "execution_count": null,
   "metadata": {},
   "outputs": [],
   "source": [
    "# final time for mean-field\n",
    "# T_final = 10000.\n",
    "T_final = 32000.\n",
    "\n",
    "# number of points to get Lyapunov exponent for\n",
    "npts = 256\n",
    "npts = 2048\n",
    "\n",
    "# tolerance for DifferentialEquations.jl when solving mean-field \n",
    "tol = 1e-8;"
   ]
  },
  {
   "cell_type": "code",
   "execution_count": null,
   "metadata": {},
   "outputs": [],
   "source": [
    "subdir = \"small_gaps\"\n",
    "# subdir = \"late_gaps\"\n",
    "folder_name = PATH * @sprintf(\"data/SK_model/N_%i/%s/\", N, subdir)\n",
    "instance_names = readdir(folder_name)\n",
    "filter!(x -> !occursin(\"most_undecided_spin\", x), instance_names)\n",
    "\n",
    "couplings_small_gap = Dict()\n",
    "eigvals_small_gap = Dict()\n",
    "lyapunov_exponents_small_gap = Dict()\n",
    "bogo_spec_small_gap = Dict()\n",
    "most_undecided_spins_small = Dict(zip(h5read(folder_name * @sprintf(\"most_undecided_spins_N_%i.h5\", N), @sprintf(\"T_final_%.0f_tol_1e%.0f/seeds\", 32768., log10(1e-6))),\n",
    "                                      h5read(folder_name * @sprintf(\"most_undecided_spins_N_%i.h5\", N), @sprintf(\"T_final_%.0f_tol_1e%.0f/spin_idxs\", 32768., log10(1e-6)))))\n",
    "most_undecided_flucs_small = Dict()\n",
    "\n",
    "most_undecided_spins = Dict()\n",
    "\n",
    "for instance_name in instance_names#[2000:2002]\n",
    "    seed = match(pattern, instance_name)[1]\n",
    "    if occursin(\"results\", instance_name)\n",
    "        try\n",
    "            # # Mean-field trajectories\n",
    "            # sol_t = h5read(folder_name * instance_name, @sprintf(\"mean_field_T_final_%.0f_tol_1e%.0f/times\", 32768., log10(1e-6)))\n",
    "            # sol_u = h5read(folder_name * instance_name, @sprintf(\"mean_field_T_final_%.0f_tol_1e%.0f/trajectories\", 32768., log10(1e-6)))\n",
    "            # nzs = reduce(hcat, [sol_u[k, 3, :] for k in 1:size(sol_u)[1]])\n",
    "\n",
    "            # # Get \"most undecided spin\" from area under z components\n",
    "            # areas = Dict()\n",
    "            # dts = [(x[2] - x[1]) / T_final for x in zip(sol_t[1:end-1], sol_t[2:end])]\n",
    "            # for spin_idx in 1:N-1\n",
    "            #     areas[spin_idx] = sum(dts .* nzs[spin_idx, 2:end]) |> abs\n",
    "            # end\n",
    "            # undecided_spins = [k for (k, v) in sort(areas |> collect, by=x->x[2])]\n",
    "            # most_undecided_spin = undecided_spins[1]\n",
    "            # most_undecided_spins[seed] = most_undecided_spin\n",
    "\n",
    "            # Fluctuations\n",
    "            # lyapunov_exponents_small_gap[seed] = h5read(folder_name * instance_name, @sprintf(\"lyapunov_exponent_T_final_%.0f_tol_1e%.0f_npts_%i\", T_final, log10(tol), npts))\n",
    "            # all_flucs = sum(h5read(folder_name * instance_name, @sprintf(\"fluctuations_T_final_%.0f_tol_1e%.0f_npts_%i\", T_final, log10(tol), npts)), dims=1)\n",
    "            all_flucs = h5read(folder_name * instance_name, @sprintf(\"fluctuations_T_final_%.0f_tol_1e%.0f_npts_%i\", T_final, log10(tol), npts))\n",
    "            lyapunov_exponent = sum(all_flucs, dims=1)\n",
    "            if sum(lyapunov_exponent) |> abs < 1e4 # discard non-converged ones\n",
    "                lyapunov_exponents_small_gap[seed] = lyapunov_exponent\n",
    "                most_undecided_flucs_small[seed] = all_flucs[most_undecided_spins_small[seed], :]\n",
    "            end\n",
    "\n",
    "            # Bogoliubov spectrum\n",
    "            bogo_spec = h5read(folder_name * instance_name, @sprintf(\"bogoliubov_spectrum_T_final_%.0f_tol_1e%.0f_npts_%i\", T_final, log10(tol), 32))\n",
    "            bogo_spec_small_gap[seed] = bogo_spec\n",
    "\n",
    "        catch e\n",
    "            printstyled(seed, \": \", e, \"\\n\", color=:red)\n",
    "        end            \n",
    "        continue\n",
    "    end\n",
    "    try    \n",
    "        couplings = h5read(folder_name * instance_name, \"J\")\n",
    "        couplings_small_gap[seed] = couplings\n",
    "        eigvals_small_gap[seed] = h5read(folder_name * instance_name, \"exact_ARPACK_LM_eigvals\")\n",
    "    catch e\n",
    "        printstyled(seed, \": \", e, \"\\n\", color=:red)\n",
    "    end\n",
    "end"
   ]
  },
  {
   "cell_type": "code",
   "execution_count": null,
   "metadata": {},
   "outputs": [],
   "source": [
    "subdir = \"large_gaps\"\n",
    "# subdir = \"extra_data\"\n",
    "folder_name = PATH * @sprintf(\"data/SK_model/N_%i/%s/\", N, subdir)\n",
    "instance_names = readdir(folder_name)\n",
    "instance_names = readdir(folder_name)\n",
    "filter!(x -> !occursin(\"most_undecided_spin\", x), instance_names);\n",
    "\n",
    "couplings_large_gap = Dict()\n",
    "eigvals_large_gap = Dict()\n",
    "lyapunov_exponents_large_gap = Dict()\n",
    "bogo_spec_large_gap = Dict()\n",
    "most_undecided_spins_large = Dict(zip(h5read(folder_name * @sprintf(\"most_undecided_spins_N_%i.h5\", N), @sprintf(\"T_final_%.0f_tol_1e%.0f/seeds\", 32768., log10(1e-6))),\n",
    "                                      h5read(folder_name * @sprintf(\"most_undecided_spins_N_%i.h5\", N), @sprintf(\"T_final_%.0f_tol_1e%.0f/spin_idxs\", 32768., log10(1e-6)))))\n",
    "most_undecided_flucs_large = Dict()                                      \n",
    "\n",
    "most_undecided_spins = Dict()\n",
    "\n",
    "for instance_name in instance_names\n",
    "    seed = match(pattern, instance_name)[1]\n",
    "    if occursin(\"results\", instance_name)\n",
    "        # # Mean-field trajectories\n",
    "        # sol_t = h5read(folder_name * instance_name, @sprintf(\"mean_field_T_final_%.0f_tol_1e%.0f/times\", 32768., log10(1e-6)))\n",
    "        # sol_u = h5read(folder_name * instance_name, @sprintf(\"mean_field_T_final_%.0f_tol_1e%.0f/trajectories\", 32768., log10(1e-6)))\n",
    "        # nzs = reduce(hcat, [sol_u[k, 3, :] for k in 1:size(sol_u)[1]])\n",
    "\n",
    "        # # Get \"most undecided spin\" from area under z components\n",
    "        # areas = Dict()\n",
    "        # dts = [(x[2] - x[1]) / T_final for x in zip(sol_t[1:end-1], sol_t[2:end])]\n",
    "        # for spin_idx in 1:N-1\n",
    "        #     areas[spin_idx] = sum(dts .* nzs[spin_idx, 2:end]) |> abs\n",
    "        # end\n",
    "        # undecided_spins = [k for (k, v) in sort(areas |> collect, by=x->x[2])]\n",
    "        # most_undecided_spin = undecided_spins[1]\n",
    "        # most_undecided_spins[seed] = most_undecided_spin        \n",
    "\n",
    "        # Fluctuations\n",
    "        # lyapunov_exponents_large_gap[seed] = h5read(folder_name * \"results_\" * instance_name, @sprintf(\"lyapunov_exponent_T_final_%.0f_tol_1e%.0f_npts_%i\", T_final, log10(tol), npts))    \n",
    "        # lyapunov_exponents_large_gap[seed] = sum(h5read(folder_name * instance_name, @sprintf(\"fluctuations_T_final_%.0f_tol_1e%.0f_npts_%i\", T_final, log10(tol), npts)), dims=1)\n",
    "        all_flucs = h5read(folder_name * instance_name, @sprintf(\"fluctuations_T_final_%.0f_tol_1e%.0f_npts_%i\", T_final, log10(tol), npts))\n",
    "        lyapunov_exponent = sum(all_flucs, dims=1)\n",
    "        if sum(lyapunov_exponent) |> abs < 1e4 # discard non-converged ones\n",
    "            lyapunov_exponents_large_gap[seed] = lyapunov_exponent\n",
    "            most_undecided_flucs_large[seed] = all_flucs[most_undecided_spins_large[seed], :]\n",
    "        end\n",
    "\n",
    "        # Bogoliubov spectrum\n",
    "        bogo_spec = h5read(folder_name * instance_name, @sprintf(\"bogoliubov_spectrum_T_final_%.0f_tol_1e%.0f_npts_%i\", T_final, log10(tol), 32))\n",
    "        bogo_spec_large_gap[seed] = bogo_spec\n",
    "        continue\n",
    "    end\n",
    "    try\n",
    "        couplings = h5read(folder_name * instance_name, \"J\")\n",
    "        couplings_large_gap[seed] = couplings\n",
    "        λ = h5read(folder_name * instance_name, \"exact_ARPACK_LM_eigvals\")\n",
    "        eigvals_large_gap[seed] = λ\n",
    "    catch e\n",
    "        printstyled(seed, \": \", e, \"\\n\", color=:red)\n",
    "    end                                             \n",
    "end"
   ]
  },
  {
   "cell_type": "code",
   "execution_count": null,
   "metadata": {},
   "outputs": [],
   "source": [
    "# h5write(folder_name * @sprintf(\"most_undecided_spins_N_%i.h5\", N), \n",
    "# @sprintf(\"T_final_%.0f_tol_1e%.0f/seeds\", 32768., log10(1e-6)), [k for (k, v) in most_undecided_spins])\n",
    "\n",
    "# h5write(folder_name * @sprintf(\"most_undecided_spins_N_%i.h5\", N), \n",
    "# @sprintf(\"T_final_%.0f_tol_1e%.0f/spin_idxs\", 32768., log10(1e-6)), [v for (k, v) in most_undecided_spins])"
   ]
  },
  {
   "cell_type": "code",
   "execution_count": null,
   "metadata": {},
   "outputs": [],
   "source": [
    "eigvals_small = [v[2, :] .- v[1, :] for (k, v) in eigvals_small_gap]\n",
    "eigvals_large = [v[2, :] .- v[1, :] for (k, v) in eigvals_large_gap]\n",
    "avg_eigvals_small = eigvals_small |> mean\n",
    "avg_eigvals_large = eigvals_large |> mean;"
   ]
  },
  {
   "cell_type": "code",
   "execution_count": null,
   "metadata": {},
   "outputs": [],
   "source": [
    "avg_lyapunov_exponents_small = [v for (k, v) in lyapunov_exponents_small_gap] |> mean\n",
    "avg_lyapunov_exponents_large = [v for (k, v) in lyapunov_exponents_large_gap] |> mean;"
   ]
  },
  {
   "cell_type": "code",
   "execution_count": null,
   "metadata": {},
   "outputs": [],
   "source": [
    "avg_bogo_spec_small = [v for (k, v) in bogo_spec_small_gap] |> mean\n",
    "avg_bogo_spec_large = [v for (k, v) in bogo_spec_large_gap] |> mean;"
   ]
  },
  {
   "cell_type": "code",
   "execution_count": null,
   "metadata": {},
   "outputs": [],
   "source": [
    "lyapunov_exponents_small_gap |> length |> println\n",
    "lyapunov_exponents_large_gap |> length |> println"
   ]
  },
  {
   "cell_type": "code",
   "execution_count": null,
   "metadata": {},
   "outputs": [],
   "source": [
    "function moving_average(vs, n)\n",
    "    res = similar(vs, length(vs) - (n-1))\n",
    "    @inbounds for i in 1:length(res)\n",
    "        res[i] = sum(@view vs[i:(i + n-1)]) / n\n",
    "    end\n",
    "    return res\n",
    "end\n",
    "\n",
    "navg = 32\n",
    "ninterp = size(avg_lyapunov_exponents_small)[2] - 1\n",
    "avg_lyapunov_exponents_small_smooth = linear_interpolation(range(0, 1, ninterp + 1)[1:end - navg + 1], moving_average(avg_lyapunov_exponents_small, navg), extrapolation_bc=Line());\n",
    "avg_lyapunov_exponents_large_smooth = linear_interpolation(range(0, 1, ninterp + 1)[1:end - navg + 1], moving_average(avg_lyapunov_exponents_large, navg), extrapolation_bc=Line());"
   ]
  },
  {
   "cell_type": "code",
   "execution_count": null,
   "metadata": {},
   "outputs": [],
   "source": [
    "PyPlot.rc(\"axes\", prop_cycle=PyPlot.plt.cycler(color=[\"#2D5FAA\", \"#B7293F\", \"#438E6A\", \"#F7BD2E\", \"#F16C37\"]))\n",
    "ylims = Dict(9 => 0.3, 11 => 0.4, 13 => 0.4, 15 => 0.5, 17 => 0.6, 19 => 0.7)\n",
    "\n",
    "figure(figsize=(7, 3))\n",
    "ax = subplot(121)\n",
    "plot(range(0, 1, 33), avg_eigvals_small, \"-o\", lw=2, ms=4)\n",
    "plot(range(0, 1, 33), avg_eigvals_large, \"-\", ms=3)\n",
    "plot(range(0, 1, 33)[2:end], avg_bogo_spec_small[N, :], lw=2, \"--C0\")\n",
    "plot(range(0, 1, 33)[2:end], avg_bogo_spec_large[N, :], \"--C1\")\n",
    "plot([], [], \"-k\", label=\"Exact\")\n",
    "plot([], [], \"--k\", label=\"Bogoliubov\")\n",
    "xlim(0, 1)\n",
    "ax.set_xticks([0., 0.5, 1.0])\n",
    "ylim(0, 2)\n",
    "xlabel(\"\\$s\\$\")\n",
    "ylabel(\"Average Minigap\")\n",
    "legend(frameon=false)\n",
    "\n",
    "ax = subplot(122)\n",
    "# plot(range(0, 1, npts+1), avg_lyapunov_exponents_small[1, :], \"-\", ms=3)\n",
    "plot(range(0, 1, npts+1), map(x -> avg_lyapunov_exponents_small_smooth(x - navg / 2ninterp), range(0, 1, npts+1)), lw=2, label=\"Small\")\n",
    "# plot(range(0, 1, npts+1), avg_lyapunov_exponents_large[1, :], \"--\", label=\"Large\")\n",
    "plot(range(0, 1, npts+1), map(x -> avg_lyapunov_exponents_large_smooth(x - navg / 2ninterp), range(0, 1, npts+1)), label=\"Large\")\n",
    "\n",
    "xlim(0, 1)\n",
    "ax.set_xticks([0., 0.5, 1.0])\n",
    "ylim(0, ylims[N])\n",
    "xlabel(\"\\$s\\$\")\n",
    "ylabel(\"Average \\$\\\\mathrm{Tr}\\\\,\\\\bm{F}(t, t)\\$\")\n",
    "legend(frameon=false)\n",
    "tight_layout()\n",
    "# savefig(PLOT_PATH * @sprintf(\"gap_flucs_N_%i.pdf\", N), dpi=256, bbox_inches=\"tight\")"
   ]
  },
  {
   "cell_type": "code",
   "execution_count": null,
   "metadata": {},
   "outputs": [],
   "source": [
    "length(couplings_small_gap) |> println\n",
    "length(couplings_large_gap) |> println"
   ]
  },
  {
   "cell_type": "code",
   "execution_count": null,
   "metadata": {},
   "outputs": [],
   "source": [
    "gapsize_small_gap = []\n",
    "gaplocs_small_gap = []\n",
    "for (k, v) in eigvals_small_gap\n",
    "    gap = v[2, :] .- v[1, :]\n",
    "    minigap = minimum(gap)\n",
    "    push!(gapsize_small_gap, minigap)\n",
    "    exact_times = range(0, 1, 33)\n",
    "    gaploc = exact_times[findfirst(x -> x == minigap, gap)]\n",
    "    push!(gaplocs_small_gap, gaploc)\n",
    "end "
   ]
  },
  {
   "cell_type": "code",
   "execution_count": null,
   "metadata": {},
   "outputs": [],
   "source": [
    "gapsize_large_gap = []\n",
    "gaplocs_large_gap = []\n",
    "for (k, v) in eigvals_large_gap\n",
    "    gap = v[2, :] .- v[1, :]\n",
    "    minigap = minimum(gap)\n",
    "    push!(gapsize_large_gap, minigap)\n",
    "    exact_times = range(0, 1, 33)\n",
    "    gaploc = exact_times[findfirst(x -> x == minigap, gap)]\n",
    "    push!(gaplocs_large_gap, gaploc)\n",
    "end "
   ]
  },
  {
   "cell_type": "code",
   "execution_count": null,
   "metadata": {},
   "outputs": [],
   "source": [
    "figure(figsize=(7, 3))\n",
    "ax = subplot(121)\n",
    "hist2D(gapsize_small_gap, gaplocs_small_gap, bins=32, range=[[0, 1e-2], [0., 1.0]], cmap=\"gist_earth_r\")\n",
    "colorbar()\n",
    "# colorbar(ticks=[0, 1, 2, 3])\n",
    "xlim(0, 0.01)\n",
    "ylim(0., 1)\n",
    "xticks([0., 5e-3, 1e-2])\n",
    "ax.set_xticklabels([0., \"\", 1e-2])\n",
    "xlabel(\"\\$\\\\Delta\\$\")\n",
    "ylabel(\"\\$s_{\\\\mathrm{min}}\\$\")\n",
    "\n",
    "ax = subplot(122)\n",
    "s_range = [0.5, 1.0]\n",
    "# s_range = [0.4, 0.9]\n",
    "hist2D(gapsize_large_gap, gaplocs_large_gap, bins=32, range=[s_range, [0., 1.0]], cmap=\"gist_earth_r\")\n",
    "colorbar()\n",
    "# colorbar(ticks=collect(0:2:12))\n",
    "xlim(s_range)\n",
    "ylim(0.0, 1)\n",
    "ax.set_yticklabels([])\n",
    "xlabel(\"\\$\\\\Delta\\$\")\n",
    "# ylabel(\"\\$s_{\\\\mathrm{min}}\\$\")\n",
    "tight_layout(pad=0)\n",
    "# savefig(PLOT_PATH * @sprintf(\"gap_loc_size_N_%i.pdf\", N), dpi=256, bbox_inches=\"tight\")"
   ]
  },
  {
   "cell_type": "markdown",
   "metadata": {},
   "source": [
    "## Testing"
   ]
  },
  {
   "cell_type": "code",
   "execution_count": null,
   "metadata": {},
   "outputs": [],
   "source": [
    "avg_most_undecided_flucs_small = [v for (k, v) in most_undecided_flucs_small] |> mean\n",
    "avg_most_undecided_flucs_large = [v for (k, v) in most_undecided_flucs_large] |> mean;\n",
    "\n",
    "avg_norm_most_undecided_flucs_small = [v ./ maximum(v) for (k, v) in most_undecided_flucs_small] |> mean;\n",
    "# avg_most_undecided_flucs_large = [v for (k, v) in most_undecided_flucs_large] |> mean;"
   ]
  },
  {
   "cell_type": "code",
   "execution_count": null,
   "metadata": {},
   "outputs": [],
   "source": [
    "PyPlot.rc(\"axes\", prop_cycle=PyPlot.plt.cycler(color=[\"#2D5FAA\", \"#B7293F\", \"#438E6A\", \"#F7BD2E\", \"#F16C37\"]))\n",
    "ylims = Dict(9 => 0.1, 11 => 0.4, 13 => 0.4, 15 => 0.5, 17 => 0.6, 19 => 0.7)\n",
    "\n",
    "figure(figsize=(7, 3))\n",
    "ax = subplot(121)\n",
    "plot(range(0, 1, 33), avg_eigvals_small, \"-o\", lw=2, ms=4)\n",
    "plot(range(0, 1, 33), avg_eigvals_large, \"-\", ms=3)\n",
    "plot(range(0, 1, 33)[2:end], avg_bogo_spec_small[N, :], lw=2, \"--C0\")\n",
    "plot(range(0, 1, 33)[2:end], avg_bogo_spec_large[N, :], \"--C1\")\n",
    "plot([], [], \"-k\", label=\"Exact\")\n",
    "plot([], [], \"--k\", label=\"Bogoliubov\")\n",
    "xlim(0, 1)\n",
    "ax.set_xticks([0., 0.5, 1.0])\n",
    "ylim(0, 2)\n",
    "xlabel(\"\\$s\\$\")\n",
    "ylabel(\"Average Minigap\")\n",
    "legend(frameon=false)\n",
    "\n",
    "ax = subplot(122)\n",
    "# plot(range(0, 1, npts+1), avg_most_undecided_flucs_small .- avg_lyapunov_exponents_small[1, :] ./ (N - 1), lw=2)\n",
    "plot(range(0, 1, npts+1), avg_most_undecided_flucs_small ./ maximum(avg_most_undecided_flucs_small), lw=2)\n",
    "plot(range(0, 1, npts+1), avg_norm_most_undecided_flucs_small)\n",
    "# plot(range(0, 1, npts+1), avg_most_undecided_flucs_large, label=\"Large\")\n",
    "\n",
    "xlim(0, 1)\n",
    "ax.set_xticks([0., 0.5, 1.0])\n",
    "ylim(0, )\n",
    "xlabel(\"\\$s\\$\")\n",
    "ylabel(\"Average \\$\\\\mathrm{Tr}\\\\,\\\\bm{F}(t, t)\\$\")\n",
    "legend(frameon=false)\n",
    "tight_layout()"
   ]
  },
  {
   "cell_type": "code",
   "execution_count": null,
   "metadata": {},
   "outputs": [],
   "source": [
    "PyPlot.rc(\"axes\", prop_cycle=PyPlot.plt.cycler(color=[\"#2D5FAA\", \"#B7293F\", \"#438E6A\", \"#F7BD2E\", \"#F16C37\"]))\n",
    "\n",
    "figure(figsize=(4, 3))\n",
    "subplot(111)\n",
    "plot(range(0, 1, 33), avg_eigvals_small, \"--k\")\n",
    "plot(range(0, 1, 33)[2:end], avg_bogo_spec_small[N, :], \"-C0\") \n",
    "plot(range(0, 1, 33), avg_eigvals_large, \"-k\", ms=2.5)\n",
    "plot(range(0, 1, 33)[2:end], avg_bogo_spec_large[N, :], \"-C1\") \n",
    "xlim(0., 1.)\n",
    "ylim(0., 2)\n",
    "xlabel(\"\\$s\\$\")\n",
    "ylabel(\"Exact Eigenvalues\")\n",
    "tight_layout()"
   ]
  },
  {
   "cell_type": "code",
   "execution_count": null,
   "metadata": {},
   "outputs": [],
   "source": [
    "PyPlot.rc(\"axes\", prop_cycle=PyPlot.plt.cycler(color=[\"#2D5FAA\", \"#B7293F\", \"#438E6A\", \"#F7BD2E\", \"#F16C37\"]))\n",
    "\n",
    "figure(figsize=(4, 3))\n",
    "subplot(111)\n",
    "for i in 1:size(avg_bogo_spec_large)[1]\n",
    "    plot(range(0, 1, 33), avg_eigvals_small, \"--k\")\n",
    "    plot(range(0, 1, 33)[2:end], avg_bogo_spec_small[i, :], \"-C0\") \n",
    "    plot(range(0, 1, 33), avg_eigvals_large, \"-k\", ms=2.5)\n",
    "    plot(range(0, 1, 33)[2:end], avg_bogo_spec_large[i, :], \"-C1\") \n",
    "    \n",
    "end\n",
    "xlim(0., 1.)\n",
    "ylim(0., 2)\n",
    "xlabel(\"\\$s\\$\")\n",
    "ylabel(\"Exact Eigenvalues\")\n",
    "tight_layout()"
   ]
  },
  {
   "cell_type": "code",
   "execution_count": null,
   "metadata": {},
   "outputs": [],
   "source": [
    "# instance_seeds = []\n",
    "# results_seeds = []\n",
    "\n",
    "# for instance_name in instance_names\n",
    "#     seed = match(pattern, instance_name)[1]\n",
    "#     if occursin(\"results\", instance_name)\n",
    "#         push!(results_seeds, seed)        \n",
    "#         continue\n",
    "#     end\n",
    "#     push!(instance_seeds, seed)        \n",
    "# end\n",
    "\n",
    "# instance_seeds = parse.(Int, instance_seeds)\n",
    "# results_seeds = parse.(Int, results_seeds);"
   ]
  },
  {
   "cell_type": "code",
   "execution_count": null,
   "metadata": {},
   "outputs": [],
   "source": []
  }
 ],
 "metadata": {
  "kernelspec": {
   "display_name": "Julia 1.8.5",
   "language": "julia",
   "name": "julia-1.8"
  },
  "language_info": {
   "file_extension": ".jl",
   "mimetype": "application/julia",
   "name": "julia",
   "version": "1.8.5"
  },
  "orig_nbformat": 4
 },
 "nbformat": 4,
 "nbformat_minor": 2
}
