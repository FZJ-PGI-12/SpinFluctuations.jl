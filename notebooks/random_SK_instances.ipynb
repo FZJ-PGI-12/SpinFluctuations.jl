{
 "cells": [
  {
   "attachments": {},
   "cell_type": "markdown",
   "metadata": {},
   "source": [
    "# Test"
   ]
  },
  {
   "cell_type": "code",
   "execution_count": null,
   "metadata": {},
   "outputs": [],
   "source": [
    "using Yao, QAOA, AdaptiveQuantumAnnealing, Random, Combinatorics, Arpack, Distributions\n",
    "using JLD, HDF5, Printf\n",
    "using PyPlot\n",
    "PyPlot.plt.style.use(\"./paper.mplstyle\")\n",
    "\n",
    "PATH = \"/home/ubuntu/Archives/\";"
   ]
  },
  {
   "cell_type": "code",
   "execution_count": null,
   "metadata": {},
   "outputs": [],
   "source": [
    "Base.show(io::IO, f::Float64) = @printf(io, \"%1.4f\", f)"
   ]
  },
  {
   "attachments": {},
   "cell_type": "markdown",
   "metadata": {},
   "source": [
    "## SK Model"
   ]
  },
  {
   "cell_type": "markdown",
   "metadata": {},
   "source": [
    "### Small/Large-gap data"
   ]
  },
  {
   "cell_type": "code",
   "execution_count": null,
   "metadata": {},
   "outputs": [],
   "source": [
    "N = 9\n",
    "\n",
    "# final time for mean-field\n",
    "T_final = 10000.\n",
    "\n",
    "# number of points to get Lyapunov exponent for\n",
    "npts = 256\n",
    "\n",
    "# tolerance for DifferentialEquations.jl when solving mean-field \n",
    "tol = 1e-8;"
   ]
  },
  {
   "cell_type": "code",
   "execution_count": null,
   "metadata": {},
   "outputs": [],
   "source": [
    "subdir = \"small_gaps\"\n",
    "folder_name = PATH * @sprintf(\"data/SK_model/N_%i/%s/\", N, subdir)\n",
    "instance_names = readdir(folder_name)\n",
    "\n",
    "eigvals_small_gap = Dict()\n",
    "lyapunov_exponents_small_gap = Dict()\n",
    "\n",
    "for instance_name in instance_names\n",
    "    # println(instance_name)\n",
    "    pattern = r\"random_SK_instance_N_9_seed_(\\d+)\\.h5\"\n",
    "    seed = match(pattern, instance_name)[1]    \n",
    "\n",
    "    # couplings = h5read(folder_name * instance_name, \"J\", J_mat)\n",
    "    eigvals_small_gap[seed] = h5read(folder_name * instance_name, \"exact_ARPACK_LM_eigvals\")\n",
    "    lyapunov_exponents_small_gap[seed] = h5read(folder_name * instance_name, \n",
    "                                                @sprintf(\"lyapunov_exponent_T_final_%.0f_tol_1e%.0f_npts_%i\", T_final, log10(tol), npts))\n",
    "end\n"
   ]
  },
  {
   "cell_type": "code",
   "execution_count": null,
   "metadata": {},
   "outputs": [],
   "source": [
    "subdir = \"large_gaps\"\n",
    "# subdir = \"extra_data\"\n",
    "folder_name = PATH * @sprintf(\"data/SK_model/N_%i/%s/\", N, subdir)\n",
    "instance_names = readdir(folder_name)\n",
    "\n",
    "eigvals_large_gap = Dict()\n",
    "lyapunov_exponents_large_gap = Dict()\n",
    "\n",
    "for instance_name in instance_names\n",
    "    pattern = r\"random_SK_instance_N_9_seed_(\\d+)\\.h5\"\n",
    "    seed = match(pattern, instance_name)[1]    \n",
    "\n",
    "    # couplings = h5read(folder_name * instance_name, \"J\", J_mat)\n",
    "    λ = h5read(folder_name * instance_name, \"exact_ARPACK_LM_eigvals\")\n",
    "    eigvals_large_gap[seed] = λ\n",
    "    lyapunov_exponents_large_gap[seed] = h5read(folder_name * instance_name, \n",
    "                                                @sprintf(\"lyapunov_exponent_T_final_%.0f_tol_1e%.0f_npts_%i\", T_final, log10(tol), npts))    \n",
    "end\n"
   ]
  },
  {
   "cell_type": "code",
   "execution_count": null,
   "metadata": {},
   "outputs": [],
   "source": [
    "avg_eigvals_small = [v[2, :] .- v[1, :] for (k, v) in eigvals_small_gap] |> mean\n",
    "avg_eigvals_large = [v[2, :] .- v[1, :] for (k, v) in eigvals_large_gap] |> mean;\n",
    "\n",
    "avg_lyapunov_exponents_small = [v for (k, v) in lyapunov_exponents_small_gap] |> mean\n",
    "avg_lyapunov_exponents_large = [v for (k, v) in lyapunov_exponents_large_gap] |> mean;"
   ]
  },
  {
   "cell_type": "code",
   "execution_count": null,
   "metadata": {},
   "outputs": [],
   "source": [
    "figure(figsize=(7, 3))\n",
    "subplot(121)\n",
    "plot(range(0, 1, 33), avg_eigvals_small, \"-o\", ms=3)\n",
    "plot(range(0, 1, 33), avg_eigvals_large, \"-s\", ms=3)\n",
    "xlim(0, 1)\n",
    "ylim(0, 2)\n",
    "xlabel(\"\\$s\\$\")\n",
    "ylabel(\"Average Exact Gap\")\n",
    "\n",
    "subplot(122)\n",
    "plot(range(0, 1, npts), avg_lyapunov_exponents_small, \"-\", ms=3)\n",
    "plot(range(0, 1, npts), avg_lyapunov_exponents_large, \"-\", ms=3)\n",
    "xlim(0, 1)\n",
    "ylim(0, 0.5)\n",
    "xlabel(\"\\$s\\$\")\n",
    "ylabel(\"Average \\$\\\\lambda\\$\")\n",
    "tight_layout()"
   ]
  },
  {
   "cell_type": "code",
   "execution_count": null,
   "metadata": {},
   "outputs": [],
   "source": []
  },
  {
   "cell_type": "markdown",
   "metadata": {},
   "source": [
    "## Testing"
   ]
  },
  {
   "cell_type": "code",
   "execution_count": null,
   "metadata": {},
   "outputs": [],
   "source": [
    "# # eigvals_small_gap = Dict()\n",
    "# eigvals_large_gap = Dict()\n",
    "# minigaps = Dict()\n",
    "# for instance_name in instance_names\n",
    "#     pattern = r\"random_SK_instance_N_9_seed_(\\d+)\\.h5\"\n",
    "#     seed = match(pattern, instance_name)[1]    \n",
    "\n",
    "#     # couplings = h5read(folder_name * instance_name, \"J\", J_mat)\n",
    "#     λ = h5read(folder_name * instance_name, \"exact_ARPACK_LM_eigvals\")\n",
    "#     minigap = minimum(λ[2, :] .- λ[1, :])\n",
    "#     minigaps[seed] = minigap\n",
    "    \n",
    "#     if minigap < 0.01\n",
    "#         eigvals_small_gap[seed] = λ\n",
    "#     else\n",
    "#         eigvals_large_gap[seed] = λ\n",
    "#     end\n",
    "# end\n"
   ]
  },
  {
   "cell_type": "code",
   "execution_count": null,
   "metadata": {},
   "outputs": [],
   "source": [
    "sorted_minigaps = sort(collect(minigaps), by=x->x[2])\n",
    "length(sorted_minigaps)"
   ]
  },
  {
   "cell_type": "code",
   "execution_count": null,
   "metadata": {},
   "outputs": [],
   "source": [
    "small_minigaps = sorted_minigaps[1:2000]\n",
    "large_minigaps = sorted_minigaps[2001:end];"
   ]
  },
  {
   "cell_type": "code",
   "execution_count": null,
   "metadata": {},
   "outputs": [],
   "source": [
    "# mv_list = [k for (k, v) in eigvals_small_gap]\n",
    "# mv_list = [k for (k, v) in eigvals_large_gap]\n",
    "# for seed in mv_list\n",
    "#     try\n",
    "#         mv(PATH * @sprintf(\"plots/SK_model/N_%i/\", N) * @sprintf(\"random_SK_instance_N_9_seed_%s.pdf\", seed), PATH * @sprintf(\"plots/SK_model/N_%i/\", N) * \"large_gaps/\" * @sprintf(\"random_SK_instance_N_9_seed_%s.pdf\", seed))\n",
    "#     catch\n",
    "#         print(seed, \", \")\n",
    "#     end\n",
    "# end"
   ]
  },
  {
   "cell_type": "code",
   "execution_count": null,
   "metadata": {},
   "outputs": [],
   "source": [
    "minigap_locs = []\n",
    "for (k, v) in eigvals_small_gap\n",
    "    minigap = minimum(v[2, :] .- v[1, :])\n",
    "    push!(minigap_locs, findfirst(x -> x == minigap, v[2, :] .- v[1, :]))\n",
    "end"
   ]
  },
  {
   "cell_type": "code",
   "execution_count": null,
   "metadata": {},
   "outputs": [],
   "source": [
    "findall(x -> x != 30, minigap_locs)"
   ]
  }
 ],
 "metadata": {
  "kernelspec": {
   "display_name": "Julia 1.8.5",
   "language": "julia",
   "name": "julia-1.8"
  },
  "language_info": {
   "file_extension": ".jl",
   "mimetype": "application/julia",
   "name": "julia",
   "version": "1.8.5"
  },
  "orig_nbformat": 4
 },
 "nbformat": 4,
 "nbformat_minor": 2
}
