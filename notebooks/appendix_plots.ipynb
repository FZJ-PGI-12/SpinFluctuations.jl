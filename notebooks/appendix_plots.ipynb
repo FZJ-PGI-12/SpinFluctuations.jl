{
 "cells": [
  {
   "attachments": {},
   "cell_type": "markdown",
   "metadata": {},
   "source": [
    "# Data-Set Overview Plots"
   ]
  },
  {
   "cell_type": "code",
   "execution_count": null,
   "metadata": {},
   "outputs": [],
   "source": [
    "using QAOA, Distributions, Interpolations\n",
    "using HDF5, Printf\n",
    "using PyPlot\n",
    "PyPlot.plt.style.use(\"./paper.mplstyle\")\n",
    "\n",
    "using PyCall\n",
    "np = pyimport(\"numpy\")\n",
    "\n",
    "PATH = \"/home/ubuntu/Archives/\"\n",
    "PLOT_PATH = \"/home/ubuntu/Archives/plots/SK_model/paper/\";"
   ]
  },
  {
   "cell_type": "code",
   "execution_count": null,
   "metadata": {},
   "outputs": [],
   "source": [
    "using Revise, SpinFluctuations"
   ]
  },
  {
   "cell_type": "code",
   "execution_count": null,
   "metadata": {},
   "outputs": [],
   "source": [
    "Base.show(io::IO, f::Float64) = @printf(io, \"%1.4f\", f)"
   ]
  },
  {
   "cell_type": "markdown",
   "metadata": {},
   "source": [
    "## Small-/Large-gap data comparison"
   ]
  },
  {
   "cell_type": "code",
   "execution_count": null,
   "metadata": {},
   "outputs": [],
   "source": [
    "N = 9\n",
    "N = 11\n",
    "N = 13\n",
    "N = 15\n",
    "N = 17\n",
    "N = 19\n",
    "\n",
    "patterns_dict = Dict(\n",
    "    9  => r\"random_SK_instance_N_9_seed_(\\d+)\\.h5\",\n",
    "    11 => r\"random_SK_instance_N_11_seed_(\\d+)\\.h5\",\n",
    "    13 => r\"random_SK_instance_N_13_seed_(\\d+)\\.h5\",\n",
    "    15 => r\"random_SK_instance_N_15_seed_(\\d+)\\.h5\",\n",
    "    17 => r\"random_SK_instance_N_17_seed_(\\d+)\\.h5\",\n",
    "    19 => r\"random_SK_instance_N_19_seed_(\\d+)\\.h5\"\n",
    ");"
   ]
  },
  {
   "cell_type": "markdown",
   "metadata": {},
   "source": [
    "### Mean-Field"
   ]
  },
  {
   "cell_type": "code",
   "execution_count": null,
   "metadata": {},
   "outputs": [],
   "source": [
    "# T_final = 32000.\n",
    "T_final = 32768.\n",
    "tol = 1e-6\n",
    "# τ_final = 2000.\n",
    "τ_final = 2048.;"
   ]
  },
  {
   "cell_type": "code",
   "execution_count": null,
   "metadata": {},
   "outputs": [],
   "source": [
    "subdir = \"small_gaps\"\n",
    "# subdir = \"large_gaps\"\n",
    "folder_name = PATH * @sprintf(\"data/SK_model/N_%i/%s/\", N, subdir)\n",
    "instance_names = readdir(folder_name)\n",
    "filter!(x -> !occursin(\"results\", x), instance_names)\n",
    "filter!(x -> !occursin(\"undecided\", x), instance_names)\n",
    "filter!(x -> !occursin(\"frustrated\", x), instance_names)\n",
    "filter!(x -> !occursin(\"main_df\", x), instance_names);"
   ]
  },
  {
   "cell_type": "code",
   "execution_count": null,
   "metadata": {},
   "outputs": [],
   "source": [
    "all_mf_Es = []\n",
    "all_exact_E0s = []\n",
    "all_exact_E1s = []\n",
    "all_exact_E2s = []\n",
    "all_ωs = []\n",
    "spec_sum = []\n",
    "\n",
    "ordered_seeds = []\n",
    "missing_seeds = []\n",
    "seed_to_energy_diff = Dict()\n",
    "\n",
    "counter = 0\n",
    "for instance_name in instance_names\n",
    "    seed = match(patterns_dict[N], instance_name)[1]    \n",
    "    try\n",
    "        # Mean-field trajectories\n",
    "        sol_t = h5read(folder_name * \"results_\" * instance_name, @sprintf(\"mean_field_T_final_%.0f_tol_1e%.0f/times\", 32768., log10(1e-6)))\n",
    "        sol_u = h5read(folder_name * \"results_\" * instance_name, @sprintf(\"mean_field_T_final_%.0f_tol_1e%.0f/trajectories\", 32768., log10(1e-6)))\n",
    "        nzs = reduce(hcat, [sol_u[k, 3, :] for k in 1:size(sol_u)[1]])\n",
    "        \n",
    "        # mean-field solution and energy\n",
    "        J_mat = h5read(folder_name * instance_name, \"J\")\n",
    "        mf_problem = Problem(0, J_mat)\n",
    "        \n",
    "        mf_sol = h5read(folder_name * \"results_\" * instance_name, @sprintf(\"mean_field_sol_T_final_%.0f_tol_1e%.0f\", T_final, log10(tol)))\n",
    "        sigma_star = sign.(mf_sol)\n",
    "        h = mf_problem.local_fields\n",
    "        J = mf_problem.couplings\n",
    "        E_star = sum([-h[l] * sigma_star[l] for l in 1:N-1]) + sum([-J[i, j] * sigma_star[i] * sigma_star[j] for i in 1:N-1 for j in (i+1):N-1])\n",
    "        push!(all_mf_Es, E_star)\n",
    "\n",
    "        # gap and spectra\n",
    "        λ = h5read(folder_name * instance_name, \"exact_ARPACK_LM_eigvals\")\n",
    "        push!(all_exact_E0s, λ[1, end])\n",
    "        push!(all_exact_E1s, λ[2, end])\n",
    "        push!(all_exact_E2s, λ[3, end])\n",
    "\n",
    "        # println(seed, \": \" , E_star .- λ[1, end])\n",
    "\n",
    "        gap = λ[2, :] .- λ[1, :]    \n",
    "        # println(seed, \": \" , 1/minimum(gap), \", \", E_star .- λ[1, end])\n",
    "        seed_to_energy_diff[seed] = (E_star .- λ[1, end], E_star .- λ[1, end] / abs(λ[2, end] .- λ[1, end]))\n",
    "\n",
    "        if isapprox(minimum(gap), 0.0, atol=0.002)\n",
    "        # if isapprox(minimum(gap), 0.01, atol=0.002)\n",
    "            counter += 1\n",
    "        end\n",
    "        push!(ordered_seeds, seed)  \n",
    "    catch\n",
    "        seed = match(pattern, instance_name)[1]\n",
    "        push!(missing_seeds, seed)\n",
    "        # printstyled(seed, \"\\n\", color=:red)\n",
    "    end\n",
    "end"
   ]
  },
  {
   "cell_type": "code",
   "execution_count": null,
   "metadata": {},
   "outputs": [],
   "source": [
    "num_plots = length(ordered_seeds)"
   ]
  },
  {
   "cell_type": "code",
   "execution_count": null,
   "metadata": {},
   "outputs": [],
   "source": [
    "missing_seeds |> println"
   ]
  },
  {
   "cell_type": "markdown",
   "metadata": {},
   "source": [
    "#### Energies"
   ]
  },
  {
   "cell_type": "code",
   "execution_count": null,
   "metadata": {},
   "outputs": [],
   "source": [
    "ΔE = all_mf_Es .- all_exact_E0s\n",
    "ΔE1 = all_mf_Es .- all_exact_E1s\n",
    "ΔE2 = all_mf_Es .- all_exact_E2s\n",
    "mean(ΔE) |> println\n",
    "mean(ΔE1) |> println\n",
    "mean(ΔE2) |> println"
   ]
  },
  {
   "cell_type": "code",
   "execution_count": null,
   "metadata": {},
   "outputs": [],
   "source": [
    "findall(x -> isapprox(x, 0.0, atol=1e-5), ΔE) |> length |> println\n",
    "findall(x -> isapprox(x, 0.0, atol=1e-5), ΔE1) |> length |> println\n",
    "findall(x -> isapprox(x, 0.0, atol=1e-5), ΔE2) |> length |> println"
   ]
  },
  {
   "cell_type": "code",
   "execution_count": null,
   "metadata": {},
   "outputs": [],
   "source": [
    "findall(x -> isapprox(x, 0.0, atol=1e-12), ΔE) |> length |> println"
   ]
  },
  {
   "cell_type": "code",
   "execution_count": null,
   "metadata": {},
   "outputs": [],
   "source": [
    "ΔE = (all_mf_Es .- all_exact_E0s) ./ abs.(all_exact_E0s .- all_exact_E1s)\n",
    "ΔE1 = (all_mf_Es .- all_exact_E1s) ./ abs.(all_exact_E0s .- all_exact_E1s)\n",
    "ΔE2 = (all_mf_Es .- all_exact_E2s) ./ abs.(all_exact_E1s .- all_exact_E2s);\n",
    "\n",
    "# ΔE = (all_mf_Es .- all_exact_E0s) ./ abs.(all_exact_E0s)\n",
    "# ΔE1 = (all_mf_Es .- all_exact_E1s) ./ abs.(all_exact_E1s)\n",
    "# ΔE2 = (all_mf_Es .- all_exact_E2s) ./ abs.(all_exact_E2s);"
   ]
  },
  {
   "cell_type": "code",
   "execution_count": null,
   "metadata": {},
   "outputs": [],
   "source": [
    "num_bins = 200\n",
    "num_bins = 24 # N = 9\n",
    "num_bins = 32 # N = 11\n",
    "num_bins = 48 # N = 13, 15\n",
    "cut_off = 100\n",
    "num_bins = 90 # N = 17\n",
    "cutoff = 7\n",
    "num_bins = 60 # N = 19\n",
    "cutoff = 5\n",
    "\n",
    "# counts, bins = np.histogram(log.(abs.(ΔE) .+ 1.0im), bins=num_bins)\n",
    "# counts, bins = np.histogram(ΔE, bins=num_bins)\n",
    "sorting_perm = sortperm(abs.(ΔE))[1:num_plots-cutoff]\n",
    "sorted_ΔE = ΔE[sorting_perm]\n",
    "counts, bins = np.histogram(sorted_ΔE[1:num_plots-cutoff], bins=num_bins)\n",
    "# counts, bins = np.histogram(sort(ΔE)[1:num_plots-cutoff], bins=num_bins)\n",
    "bins = real.(bins)\n",
    "\n",
    "# counts_1, bins_1 = np.histogram(log.(abs.(ΔE1) .+ 1.0im), bins=num_bins)\n",
    "# counts_1, bins_1 = np.histogram(ΔE1, bins=num_bins)\n",
    "sorting_perm_1 = sortperm(abs.(ΔE1))[1:num_plots-cutoff]\n",
    "sorted_ΔE1 = ΔE1[sorting_perm_1]\n",
    "counts_1, bins_1 = np.histogram(sorted_ΔE1[1:num_plots-cutoff], bins=num_bins)\n",
    "# counts_1, bins_1 = np.histogram(sort(ΔE1)[1:num_plots-cutoff], bins=num_bins)\n",
    "bins_1 = real.(bins_1);"
   ]
  },
  {
   "cell_type": "code",
   "execution_count": null,
   "metadata": {},
   "outputs": [],
   "source": [
    "PyPlot.rc(\"axes\", prop_cycle=PyPlot.plt.cycler(color=[\"#2D5FAA\", \"#B7293F\", \"#438E6A\", \"#F7BD2E\", \"#F16C37\"]))\n",
    "PyPlot.rc(\"axes\", prop_cycle=PyPlot.plt.cycler(color=[\"#B7293F\", \"#2D5FAA\", \"#438E6A\", \"#F7BD2E\", \"#F16C37\"]))\n",
    "\n",
    "ylims = Dict(9 => 0.8, 11 => 0.8, 13 => 0.8, 15 => 0.8, 17 => 0.8, 19 => 0.8)\n",
    "xticks_dict = Dict(9 => [-1, 0, 1, 2], 11 => [-1, 0, 1, 2], \n",
    "                  13 => [-1, 0, 1, 2], 15 => [-1, 0, 1, 2], \n",
    "                  17 => [-1, 0, 1, 2], 19 => [-1, 0, 1, 2])\n",
    "\n",
    "figure(figsize=(4, 3))\n",
    "\n",
    "hist(bins_1[1:end-1], bins_1, weights=counts_1/length(ΔE1), alpha=0.9, label=\"\\$E_1\\$\")#, label=\"First excited\")\n",
    "hist(bins[1:end-1], bins, weights=counts/length(ΔE), alpha=0.9, label=\"\\$E_0\\$\")#, label=\"Ground\")\n",
    "legend(frameon=false, loc=\"upper left\", handlelength=1.5, handletextpad=0.25)\n",
    "xticks(xticks_dict[N])\n",
    "xlim(xticks_dict[N][1], xticks_dict[N][end])\n",
    "# xlim(-10, 10)\n",
    "# ylim(0, 1.0)\n",
    "ylim(0, ylims[N])\n",
    "# xlabel(\"\\$\\\\ln(E_* - E_i)\\$\")\n",
    "# xlabel(\"\\$E_* - E_i\\$\")\n",
    "# xlabel(\"\\$(E_* - E_i) / \\\\left|E_i\\\\right|\\$\")\n",
    "xlabel(\"\\$(E_* - E_{0,1}) / \\\\left|E_0 - E_1\\\\right|\\$\")\n",
    "ylabel(\"\\$P(E_*)\\$\")\n",
    "tight_layout()\n",
    "savefig(PLOT_PATH * @sprintf(\"mf_sol_hist_N_%i.pdf\", N), dpi=256, bbox_inches=\"tight\")"
   ]
  },
  {
   "cell_type": "markdown",
   "metadata": {},
   "source": [
    "### Fluctuations"
   ]
  },
  {
   "cell_type": "code",
   "execution_count": null,
   "metadata": {},
   "outputs": [],
   "source": [
    "# final time for mean-field\n",
    "T_final = 32000.\n",
    "# T_final = 32768.\n",
    "\n",
    "# number of points to get Lyapunov exponent for\n",
    "npts = 2048\n",
    "# npts = 4096\n",
    "\n",
    "# tolerance for DifferentialEquations.jl when solving mean-field \n",
    "tol = 1e-8;"
   ]
  },
  {
   "cell_type": "markdown",
   "metadata": {},
   "source": [
    "#### Load data"
   ]
  },
  {
   "cell_type": "markdown",
   "metadata": {},
   "source": [
    "##### Small gaps"
   ]
  },
  {
   "cell_type": "code",
   "execution_count": null,
   "metadata": {},
   "outputs": [],
   "source": [
    "subdir = \"small_gaps\"\n",
    "folder_name = PATH * @sprintf(\"data/SK_model/N_%i/%s/\", N, subdir)\n",
    "\n",
    "instance_names = readdir(folder_name)\n",
    "# filter!(x -> occursin(\"results\", x), instance_names)\n",
    "filter!(x -> !occursin(\"undecided\", x), instance_names)\n",
    "filter!(x -> !occursin(\"frustrated\", x), instance_names)\n",
    "filter!(x -> !occursin(\"main_df\", x), instance_names)\n",
    "\n",
    "couplings_small_gap = Dict()\n",
    "eigvals_small_gap = Dict()\n",
    "lyapunov_exponents_small_gap = Dict()\n",
    "bogo_spec_small_gap = Dict()\n",
    "most_undecided_spins_small = Dict(zip(h5read(folder_name * @sprintf(\"most_undecided_spins_N_%i.h5\", N), @sprintf(\"T_final_%.0f_tol_1e%.0f/seeds\", 32768., log10(1e-6))),\n",
    "                                      h5read(folder_name * @sprintf(\"most_undecided_spins_N_%i.h5\", N), @sprintf(\"T_final_%.0f_tol_1e%.0f/spin_idxs\", 32768., log10(1e-6)))))\n",
    "most_undecided_flucs_small = Dict()\n",
    "\n",
    "for instance_name in instance_names\n",
    "    seed = match(patterns_dict[N], instance_name)[1]\n",
    "\n",
    "    # look at results\n",
    "    if occursin(\"results\", instance_name)\n",
    "        try\n",
    "            # Fluctuations\n",
    "            all_flucs = h5read(folder_name * instance_name, @sprintf(\"fluctuations_T_final_%.0f_tol_1e%.0f_npts_%i\", T_final, log10(tol), npts))\n",
    "            lyapunov_exponent = sum(all_flucs, dims=1)\n",
    "            if sum(lyapunov_exponent) |> abs < 1e4 # discard non-converged ones\n",
    "                lyapunov_exponents_small_gap[seed] = lyapunov_exponent\n",
    "                most_undecided_flucs_small[seed] = all_flucs[most_undecided_spins_small[seed], :]\n",
    "            end\n",
    "\n",
    "            # Bogoliubov spectrum\n",
    "            bogo_spec = h5read(folder_name * instance_name, @sprintf(\"bogoliubov_spectrum_T_final_%.0f_tol_1e%.0f_npts_%i\", T_final, log10(tol), 32))\n",
    "            bogo_spec_small_gap[seed] = bogo_spec\n",
    "\n",
    "        catch e\n",
    "            printstyled(seed, \": \", e, \"\\n\", color=:red)\n",
    "        end            \n",
    "        continue\n",
    "    end\n",
    "\n",
    "    # look at instances\n",
    "    try    \n",
    "        couplings = h5read(folder_name * instance_name, \"J\")\n",
    "        couplings_small_gap[seed] = couplings\n",
    "        eigvals_small_gap[seed] = h5read(folder_name * instance_name, \"exact_ARPACK_LM_eigvals\")\n",
    "    catch e\n",
    "        printstyled(seed, \": \", e, \"\\n\", color=:red)\n",
    "    end\n",
    "end"
   ]
  },
  {
   "cell_type": "markdown",
   "metadata": {},
   "source": [
    "##### Large gaps"
   ]
  },
  {
   "cell_type": "code",
   "execution_count": null,
   "metadata": {},
   "outputs": [],
   "source": [
    "subdir = \"large_gaps\"\n",
    "folder_name = PATH * @sprintf(\"data/SK_model/N_%i/%s/\", N, subdir)\n",
    "\n",
    "instance_names = readdir(folder_name)\n",
    "# filter!(x -> !occursin(\"results\", x), instance_names)\n",
    "filter!(x -> !occursin(\"undecided\", x), instance_names)\n",
    "filter!(x -> !occursin(\"frustrated\", x), instance_names)\n",
    "filter!(x -> !occursin(\"main_df\", x), instance_names)\n",
    "\n",
    "couplings_large_gap = Dict()\n",
    "eigvals_large_gap = Dict()\n",
    "lyapunov_exponents_large_gap = Dict()\n",
    "bogo_spec_large_gap = Dict()\n",
    "\n",
    "for instance_name in instance_names\n",
    "    seed = match(patterns_dict[N], instance_name)[1]\n",
    "    \n",
    "    # look at results\n",
    "    if occursin(\"results\", instance_name)\n",
    "        # Fluctuations\n",
    "        all_flucs = h5read(folder_name * instance_name, @sprintf(\"fluctuations_T_final_%.0f_tol_1e%.0f_npts_%i\", T_final, log10(tol), npts))\n",
    "        lyapunov_exponent = sum(all_flucs, dims=1)\n",
    "        if sum(lyapunov_exponent) |> abs < 1e4 # discard non-converged ones\n",
    "            lyapunov_exponents_large_gap[seed] = lyapunov_exponent\n",
    "        end\n",
    "\n",
    "        # Bogoliubov spectrum\n",
    "        bogo_spec = h5read(folder_name * instance_name, @sprintf(\"bogoliubov_spectrum_T_final_%.0f_tol_1e%.0f_npts_%i\", T_final, log10(tol), 32))\n",
    "        bogo_spec_large_gap[seed] = bogo_spec\n",
    "        continue\n",
    "    end\n",
    "\n",
    "    # look at instances\n",
    "    try\n",
    "        couplings = h5read(folder_name * instance_name, \"J\")\n",
    "        couplings_large_gap[seed] = couplings\n",
    "        λ = h5read(folder_name * instance_name, \"exact_ARPACK_LM_eigvals\")\n",
    "        eigvals_large_gap[seed] = λ\n",
    "    catch e\n",
    "        printstyled(seed, \": \", e, \"\\n\", color=:red)\n",
    "    end                                             \n",
    "end"
   ]
  },
  {
   "cell_type": "markdown",
   "metadata": {},
   "source": [
    "### Plots"
   ]
  },
  {
   "cell_type": "code",
   "execution_count": null,
   "metadata": {},
   "outputs": [],
   "source": [
    "eigvals_small = [v[2, :] .- v[1, :] for (k, v) in eigvals_small_gap]\n",
    "eigvals_large = [v[2, :] .- v[1, :] for (k, v) in eigvals_large_gap]\n",
    "avg_eigvals_small = eigvals_small |> mean\n",
    "avg_eigvals_large = eigvals_large |> mean;"
   ]
  },
  {
   "cell_type": "code",
   "execution_count": null,
   "metadata": {},
   "outputs": [],
   "source": [
    "avg_lyapunov_exponents_small = [v for (k, v) in lyapunov_exponents_small_gap] |> mean\n",
    "avg_lyapunov_exponents_large = [v for (k, v) in lyapunov_exponents_large_gap] |> mean;"
   ]
  },
  {
   "cell_type": "code",
   "execution_count": null,
   "metadata": {},
   "outputs": [],
   "source": [
    "avg_bogo_spec_small = [v for (k, v) in bogo_spec_small_gap] |> mean\n",
    "avg_bogo_spec_large = [v for (k, v) in bogo_spec_large_gap] |> mean;"
   ]
  },
  {
   "cell_type": "code",
   "execution_count": null,
   "metadata": {},
   "outputs": [],
   "source": [
    "lyapunov_exponents_small_gap |> length |> println\n",
    "lyapunov_exponents_large_gap |> length |> println"
   ]
  },
  {
   "cell_type": "code",
   "execution_count": null,
   "metadata": {},
   "outputs": [],
   "source": [
    "navg = 32\n",
    "ninterp = size(avg_lyapunov_exponents_small)[2] - 1\n",
    "avg_lyapunov_exponents_small_smooth = linear_interpolation(range(0, 1, ninterp + 1)[1:end - navg + 1], moving_average(avg_lyapunov_exponents_small, navg), extrapolation_bc=Line());\n",
    "avg_lyapunov_exponents_large_smooth = linear_interpolation(range(0, 1, ninterp + 1)[1:end - navg + 1], moving_average(avg_lyapunov_exponents_large, navg), extrapolation_bc=Line());"
   ]
  },
  {
   "cell_type": "code",
   "execution_count": null,
   "metadata": {},
   "outputs": [],
   "source": [
    "PyPlot.rc(\"axes\", prop_cycle=PyPlot.plt.cycler(color=[\"#2D5FAA\", \"#B7293F\", \"#438E6A\", \"#F7BD2E\", \"#F16C37\"]))\n",
    "ylims = Dict(9 => 0.3, 11 => 0.4, 13 => 0.4, 15 => 0.5, 17 => 0.6, 19 => 0.7)\n",
    "\n",
    "figure(figsize=(7, 3))\n",
    "ax = subplot(121)\n",
    "plot(range(0, 1, 33), avg_eigvals_small, \"-o\", lw=2, ms=4)\n",
    "plot(range(0, 1, 33), avg_eigvals_large, \"-\", ms=3)\n",
    "plot(range(0, 1, 33)[2:end], avg_bogo_spec_small[N, :], lw=2, \"--C0\")\n",
    "plot(range(0, 1, 33)[2:end], avg_bogo_spec_large[N, :], \"--C1\")\n",
    "plot([], [], \"-k\", label=\"Exact\")\n",
    "plot([], [], \"--k\", label=\"Bogoliubov\")\n",
    "xlim(0, 1)\n",
    "ax.set_xticks([0., 0.5, 1.0])\n",
    "ylim(0, 2)\n",
    "xlabel(\"\\$s\\$\")\n",
    "ylabel(\"Average Minigap\")\n",
    "legend(frameon=false)\n",
    "\n",
    "ax = subplot(122)\n",
    "# plot(range(0, 1, npts+1), avg_lyapunov_exponents_small[1, :], \"-\", ms=3)\n",
    "plot(range(0, 1, npts+1), map(x -> avg_lyapunov_exponents_small_smooth(x - navg / 2ninterp), range(0, 1, npts+1)), lw=2, label=\"Small\")\n",
    "# plot(range(0, 1, npts+1), avg_lyapunov_exponents_large[1, :], \"--\", label=\"Large\")\n",
    "plot(range(0, 1, npts+1), map(x -> avg_lyapunov_exponents_large_smooth(x - navg / 2ninterp), range(0, 1, npts+1)), label=\"Large\")\n",
    "\n",
    "xlim(0, 1)\n",
    "ax.set_xticks([0., 0.5, 1.0])\n",
    "ylim(0, ylims[N])\n",
    "xlabel(\"\\$s\\$\")\n",
    "ylabel(\"Average \\$\\\\mathrm{Tr}\\\\,\\\\bm{F}(t, t)\\$\")\n",
    "legend(frameon=false)\n",
    "tight_layout()\n",
    "savefig(PLOT_PATH * @sprintf(\"gap_flucs_N_%i.pdf\", N), dpi=256, bbox_inches=\"tight\")"
   ]
  },
  {
   "cell_type": "code",
   "execution_count": null,
   "metadata": {},
   "outputs": [],
   "source": [
    "length(couplings_small_gap) |> println\n",
    "length(couplings_large_gap) |> println"
   ]
  },
  {
   "cell_type": "code",
   "execution_count": null,
   "metadata": {},
   "outputs": [],
   "source": [
    "gapsize_small_gap = []\n",
    "gaplocs_small_gap = []\n",
    "for (k, v) in eigvals_small_gap\n",
    "    gap = v[2, :] .- v[1, :]\n",
    "    minigap = minimum(gap)\n",
    "    push!(gapsize_small_gap, minigap)\n",
    "    exact_times = range(0, 1, 33)\n",
    "    gaploc = exact_times[findfirst(x -> x == minigap, gap)]\n",
    "    push!(gaplocs_small_gap, gaploc)\n",
    "end "
   ]
  },
  {
   "cell_type": "code",
   "execution_count": null,
   "metadata": {},
   "outputs": [],
   "source": [
    "gapsize_large_gap = []\n",
    "gaplocs_large_gap = []\n",
    "for (k, v) in eigvals_large_gap\n",
    "    gap = v[2, :] .- v[1, :]\n",
    "    minigap = minimum(gap)\n",
    "    push!(gapsize_large_gap, minigap)\n",
    "    exact_times = range(0, 1, 33)\n",
    "    gaploc = exact_times[findfirst(x -> x == minigap, gap)]\n",
    "    push!(gaplocs_large_gap, gaploc)\n",
    "end "
   ]
  },
  {
   "cell_type": "code",
   "execution_count": null,
   "metadata": {},
   "outputs": [],
   "source": [
    "figure(figsize=(7, 3))\n",
    "ax = subplot(121)\n",
    "hist2D(gapsize_small_gap, gaplocs_small_gap, bins=32, range=[[0, 1e-2], [0., 1.0]], cmap=\"gist_earth_r\")\n",
    "colorbar()\n",
    "# colorbar(ticks=[0, 1, 2, 3])\n",
    "xlim(0, 0.01)\n",
    "ylim(0., 1)\n",
    "xticks([0., 5e-3, 1e-2])\n",
    "ax.set_xticklabels([0., \"\", 1e-2])\n",
    "xlabel(\"\\$\\\\Delta\\$\")\n",
    "ylabel(\"\\$s_{\\\\mathrm{min}}\\$\")\n",
    "\n",
    "ax = subplot(122)\n",
    "s_range = [0.5, 1.0]\n",
    "# s_range = [0.4, 0.9]\n",
    "hist2D(gapsize_large_gap, gaplocs_large_gap, bins=32, range=[s_range, [0., 1.0]], cmap=\"gist_earth_r\")#, vmax=12)\n",
    "# colorbar()\n",
    "colorbar(ticks=[0, 1, 2, 3])\n",
    "xlim(s_range)\n",
    "# ax.set_xticks([0.1k for k in 5:10])\n",
    "ax.set_xticks([0.5, 0.75, 1.0])\n",
    "ylim(0.0, 1)\n",
    "ax.set_yticklabels([])\n",
    "xlabel(\"\\$\\\\Delta\\$\")\n",
    "# ylabel(\"\\$s_{\\\\mathrm{min}}\\$\")\n",
    "tight_layout(pad=0)\n",
    "savefig(PLOT_PATH * @sprintf(\"gap_loc_size_N_%i.pdf\", N), dpi=256, bbox_inches=\"tight\")"
   ]
  },
  {
   "cell_type": "code",
   "execution_count": null,
   "metadata": {},
   "outputs": [],
   "source": []
  }
 ],
 "metadata": {
  "kernelspec": {
   "display_name": "Julia 1.8.5",
   "language": "julia",
   "name": "julia-1.8"
  },
  "language_info": {
   "file_extension": ".jl",
   "mimetype": "application/julia",
   "name": "julia",
   "version": "1.8.5"
  },
  "orig_nbformat": 4
 },
 "nbformat": 4,
 "nbformat_minor": 2
}
