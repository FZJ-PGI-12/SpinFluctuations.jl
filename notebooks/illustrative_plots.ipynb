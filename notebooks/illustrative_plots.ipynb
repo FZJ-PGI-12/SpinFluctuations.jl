{
 "cells": [
  {
   "cell_type": "markdown",
   "metadata": {},
   "source": [
    "# Plots for the \"Illustrative\" Section"
   ]
  },
  {
   "cell_type": "code",
   "execution_count": null,
   "metadata": {},
   "outputs": [],
   "source": [
    "# using Yao, QAOA, Random, Combinatorics, Arpack, Distributions, LinearAlgebra, , FFTW\n",
    "using QAOA, Distributions, Interpolations, LinearAlgebra\n",
    "using HDF5, Printf\n",
    "using PythonPlot\n",
    "# PythonPlot.matplotlib.style.use(\"./paper.mplstyle\")\n",
    "PythonPlot.rc(\"axes\", prop_cycle = PythonPlot.matplotlib.cycler(color = [\"#2D5FAA\", \"#B7293F\", \"#438E6A\", \"#F7BD2E\", \"#F16C37\"]))\n",
    "\n",
    "PATH = \"../\";\n",
    "# PATH = \"/home/ubuntu/Archives/\"\n",
    "# PLOT_PATH = \"/home/ubuntu/Archives/plots/SK_model/paper/\";"
   ]
  },
  {
   "cell_type": "code",
   "execution_count": null,
   "metadata": {},
   "outputs": [],
   "source": [
    "using Revise, SpinFluctuations"
   ]
  },
  {
   "cell_type": "code",
   "execution_count": null,
   "metadata": {},
   "outputs": [],
   "source": [
    "Base.show(io::IO, f::Float64) = @printf(io, \"%1.4f\", f)"
   ]
  },
  {
   "cell_type": "code",
   "execution_count": null,
   "metadata": {},
   "outputs": [],
   "source": [
    "N = 9\n",
    "# N = 13\n",
    "# N = 19\n",
    "\n",
    "patterns_dict = Dict(\n",
    "\t9  => r\"random_SK_instance_N_9_seed_(\\d+)\\.h5\",\n",
    "\t11 => r\"random_SK_instance_N_11_seed_(\\d+)\\.h5\",\n",
    "\t13 => r\"random_SK_instance_N_13_seed_(\\d+)\\.h5\",\n",
    "\t15 => r\"random_SK_instance_N_15_seed_(\\d+)\\.h5\",\n",
    "\t17 => r\"random_SK_instance_N_17_seed_(\\d+)\\.h5\",\n",
    "\t19 => r\"random_SK_instance_N_19_seed_(\\d+)\\.h5\",\n",
    ");\n",
    "\n",
    "# folder_name = PATH * @sprintf(\"data/\")\n",
    "subdir = \"small_gaps\"\n",
    "# subdir = \"large_gaps\"\n",
    "folder_name = PATH * @sprintf(\"data/SK_model/N_%i/%s/\", N, subdir)\n",
    "instance_names = readdir(folder_name);"
   ]
  },
  {
   "cell_type": "code",
   "execution_count": null,
   "metadata": {},
   "outputs": [],
   "source": [
    "# N = 9\n",
    "# small \n",
    "# seed = 12778 # => 0.6085\n",
    "# seed = 73014 # => 0.7356\n",
    "# seed = 65343 # => 0.7854\n",
    "# seed = 57220 # => 0.8052\n",
    "# seed = 47297 # => 0.8217\n",
    "# seed = 78653 # => 0.8303\n",
    "# seed = 46944 # => 0.8403\n",
    "# seed = 70592 # => 0.8467\n",
    "# seed = 62565 # => 0.8595\n",
    "# seed = 87929 # => 0.8867\n",
    "seed = 39879 # => 1.0371, 5th excited state - hardest instance as example!\n",
    "seed = 63685 # => 1.2428, 4th excited state\n",
    "\n",
    "# seed = 38906\n",
    "# seed = 23320\n",
    "\n",
    "# seed = 11414 # not actually hard\n",
    "# seed = 11048 # interesting\n",
    "\n",
    "# looking at max. peaks\n",
    "seed = 22824\n",
    "# seed = 28563\n",
    "# seed = 72723\n",
    "# seed = 11456\n",
    "# seed = 83260\n",
    "# seed = 23583 # very high fraction peak, great illustration!\n",
    "# seed = 78065\n",
    "\n",
    "# seed = 50008 # lowest peak\n",
    "\n",
    "# large\n",
    "# seed = 100210"
   ]
  },
  {
   "cell_type": "code",
   "execution_count": null,
   "metadata": {},
   "outputs": [],
   "source": [
    "# N = 13\n",
    "# seed = 36733\n",
    "\n",
    "# N = 19\n",
    "# small\n",
    "# seed = 538 # => 0.4583\n",
    "# seed = 628 # => 0.4771\n",
    "# seed = 147 # => 0.5004\n",
    "# seed = 63 # => 0.5323\n",
    "# seed = 914 # => 0.5950\n",
    "# seed = 863 # => 0.7336\n",
    "# seed = 699 # => 0.7725\n",
    "# seed = 1238 # => 0.7753\n",
    "# seed = 18 # => 0.8269\n",
    "# seed = 319 # => 0.8990 - GREAT ILLUSTRATION!\n",
    "# seed = 674 # => 0.9061\n",
    "# seed = 554 # => 1.0416\n",
    "# seed = 432\n",
    "# seed = 1205\n",
    "\n",
    "# not quite converged\n",
    "# seed = 109\n",
    "# seed = 117\n",
    "# seed = 900 # very interesting"
   ]
  },
  {
   "cell_type": "code",
   "execution_count": null,
   "metadata": {},
   "outputs": [],
   "source": [
    "h5open(folder_name * @sprintf(\"random_SK_instance_N_%i_seed_%i.h5\", N, seed))"
   ]
  },
  {
   "cell_type": "code",
   "execution_count": null,
   "metadata": {},
   "outputs": [],
   "source": [
    "# h5open(folder_name * @sprintf(\"results_random_SK_instance_N_%i_seed_%i.h5\", N, seed))"
   ]
  },
  {
   "cell_type": "code",
   "execution_count": null,
   "metadata": {},
   "outputs": [],
   "source": [
    "J_mat = h5read(folder_name * @sprintf(\"random_SK_instance_N_%i_seed_%i.h5\", N, seed), \"J\")\n",
    "mf_problem = Problem(0, J_mat);\n",
    "\n",
    "λ = h5read(folder_name * @sprintf(\"random_SK_instance_N_%i_seed_%i.h5\", N, seed), \"exact_ARPACK_LM_eigvals\");"
   ]
  },
  {
   "cell_type": "code",
   "execution_count": null,
   "metadata": {},
   "outputs": [],
   "source": [
    "npts = 2048\n",
    "# npts = 8192\n",
    "coarse_times = range(0, 1, npts + 1);"
   ]
  },
  {
   "cell_type": "markdown",
   "metadata": {},
   "source": [
    "## Exact gap"
   ]
  },
  {
   "cell_type": "code",
   "execution_count": null,
   "metadata": {},
   "outputs": [],
   "source": [
    "# T_final = 32768\n",
    "T_final = 32000\n",
    "tol = 1e-8;"
   ]
  },
  {
   "cell_type": "code",
   "execution_count": null,
   "metadata": {},
   "outputs": [],
   "source": [
    "exact_times = range(0, 1, 33);"
   ]
  },
  {
   "cell_type": "code",
   "execution_count": null,
   "metadata": {},
   "outputs": [],
   "source": [
    "gap = λ[2, :] .- λ[1, :];\n",
    "mingap = minimum(gap)\n",
    "mingap |> println\n",
    "gap_idx = findfirst(x -> x == mingap, gap)\n",
    "gaploc = exact_times[gap_idx]\n",
    "gaploc |> println"
   ]
  },
  {
   "cell_type": "code",
   "execution_count": null,
   "metadata": {},
   "outputs": [],
   "source": [
    "small_idxs = findall(x -> x < 0.05, gap ./ (2pi))\n",
    "gap_interval = exact_times[small_idxs];"
   ]
  },
  {
   "cell_type": "code",
   "execution_count": null,
   "metadata": {},
   "outputs": [],
   "source": [
    "bogo_spec = h5read(folder_name * @sprintf(\"results_random_SK_instance_N_%i_seed_%i.h5\", N, seed), @sprintf(\"bogoliubov_spectrum_T_final_%.0f_tol_1e%.0f_npts_%i\", T_final, log10(tol), 32));"
   ]
  },
  {
   "cell_type": "markdown",
   "metadata": {},
   "source": [
    "### Eigenstates"
   ]
  },
  {
   "cell_type": "code",
   "execution_count": null,
   "metadata": {},
   "outputs": [],
   "source": [
    "all_eigvecs = h5read(folder_name * @sprintf(\"random_SK_instance_N_%i_seed_%i.h5\", N, seed), \"exact_ARPACK_LM_lowest_eigvecs\");"
   ]
  },
  {
   "cell_type": "code",
   "execution_count": null,
   "metadata": {},
   "outputs": [],
   "source": [
    "H_x = SpinFluctuations.hamiltonian(1, 0, mf_problem.local_fields, mf_problem.couplings)\n",
    "H_z = SpinFluctuations.hamiltonian(0, 1, mf_problem.local_fields, mf_problem.couplings);"
   ]
  },
  {
   "cell_type": "code",
   "execution_count": null,
   "metadata": {},
   "outputs": [],
   "source": [
    "gs = [all_eigvecs[k, :, 1] for k in 1:length(exact_times)]\n",
    "first_ex = [all_eigvecs[k, :, 2] for k in 1:length(exact_times)]\n",
    "second_ex = [all_eigvecs[k, :, 3] for k in 1:length(exact_times)]\n",
    "\n",
    "overlap_01_x = [first_ex[k]' * H_x * gs[k] for k in 1:length(exact_times)]\n",
    "overlap_01_z = [first_ex[k]' * H_z * gs[k] for k in 1:length(exact_times)]\n",
    "\n",
    "overlap_02_x = [second_ex[k]' * H_x * gs[k] for k in 1:length(exact_times)]\n",
    "overlap_02_z = [second_ex[k]' * H_z * gs[k] for k in 1:length(exact_times)];"
   ]
  },
  {
   "cell_type": "code",
   "execution_count": null,
   "metadata": {},
   "outputs": [],
   "source": [
    "figure(figsize = (4, 4))\n",
    "\n",
    "ax = subplot(211)\n",
    "for i in 1:size(bogo_spec)[1]\n",
    "\tplot(exact_times, (λ[i, :] .- λ[1, :]), \"-k\", lw = 1, alpha = 1)\n",
    "\tplot(exact_times[2:end], bogo_spec[i, :], \"--k\", lw = 2, alpha=0.5)\n",
    "end\n",
    "# axvline(gap_interval[1], c=\"C0\")\n",
    "# axvline(gap_interval[end], c=\"C0\")\n",
    "plot([], [], \"-k\", lw = 1, label = \"Exact\")\n",
    "plot([], [], label = \"Bogoliubov\", \"--k\", lw = 2, alpha = 0.5)\n",
    "xlim(0.0, 1.0)\n",
    "ylim(-0.0, 2)\n",
    "ax.set_xticklabels([])\n",
    "ylabel(\"\\$E_\\\\alpha - E_0\\$\")\n",
    "legend(frameon = false)\n",
    "\n",
    "ax = subplot(212)\n",
    "# plot(exact_times, ((λ[2, :] .- λ[1, :])), \"--C0\")\n",
    "# plot(exact_times, ((λ[3, :] .- λ[1, :])), \"--C1\", lw = 2)\n",
    "plot(exact_times, abs.(overlap_02_z .- overlap_02_x), label = \"\\$\\\\alpha = 2\\$\", \"-C1\", lw=2)\n",
    "plot(exact_times, abs.(overlap_01_z .- overlap_01_x), label = \"\\$\\\\alpha = 1\\$\", \"-C0\")\n",
    "xlim(0.0, 1.0)\n",
    "ylim(0, 1)\n",
    "xlabel(\"\\$s\\$\")\n",
    "ylabel(\"\\${|\\\\langle \\\\alpha|H_Z-H_X|0\\\\rangle|}\\$\")\n",
    "\n",
    "legend(frameon = false)\n",
    "\n",
    "tight_layout()\n",
    "display(gcf())\n",
    "PythonPlot.close();"
   ]
  },
  {
   "cell_type": "markdown",
   "metadata": {},
   "source": [
    "## Mean-field trajectories"
   ]
  },
  {
   "cell_type": "code",
   "execution_count": null,
   "metadata": {},
   "outputs": [],
   "source": [
    "T_final = 32768.0\n",
    "tol = 1e-6;"
   ]
  },
  {
   "cell_type": "code",
   "execution_count": null,
   "metadata": {},
   "outputs": [],
   "source": [
    "sol_t = h5read(folder_name * @sprintf(\"results_random_SK_instance_N_%i_seed_%i.h5\", N, seed), @sprintf(\"mean_field_T_final_%.0f_tol_1e%.0f/times\", T_final, log10(tol)))\n",
    "sol_u = h5read(folder_name * @sprintf(\"results_random_SK_instance_N_%i_seed_%i.h5\", N, seed), @sprintf(\"mean_field_T_final_%.0f_tol_1e%.0f/trajectories\", T_final, log10(tol)));"
   ]
  },
  {
   "cell_type": "code",
   "execution_count": null,
   "metadata": {},
   "outputs": [],
   "source": [
    "size(sol_u)"
   ]
  },
  {
   "cell_type": "markdown",
   "metadata": {},
   "source": [
    "### Bloch coordinates, Magnetization & Complex Coordinates"
   ]
  },
  {
   "cell_type": "code",
   "execution_count": null,
   "metadata": {},
   "outputs": [],
   "source": [
    "nx_vals = n_vals(\"x\", sol_u)\n",
    "ny_vals = n_vals(\"y\", sol_u)\n",
    "nz_vals = n_vals(\"z\", sol_u);"
   ]
  },
  {
   "cell_type": "code",
   "execution_count": null,
   "metadata": {},
   "outputs": [],
   "source": [
    "nx_coarse = n_coarse(nx_vals, sol_t, coarse_times)\n",
    "ny_coarse = n_coarse(ny_vals, sol_t, coarse_times)\n",
    "nz_coarse = n_coarse(nz_vals, sol_t, coarse_times);"
   ]
  },
  {
   "cell_type": "code",
   "execution_count": null,
   "metadata": {},
   "outputs": [],
   "source": [
    "S_vals = [transpose(reduce(hcat, [nx_coarse[:, k], ny_coarse[:, k], nz_coarse[:, k]])) |> Matrix for k in 1:npts+1]\n",
    "magnetizations = reduce(hcat, map(S -> magnetization(S, mf_problem.local_fields, mf_problem.couplings), S_vals));"
   ]
  },
  {
   "cell_type": "code",
   "execution_count": null,
   "metadata": {},
   "outputs": [],
   "source": [
    "areas = Dict()\n",
    "# dts = [(x[2] - x[1]) / T_final for x in zip(sol_t[1:end-1], sol_t[2:end])]\n",
    "dts = [(x[2] - x[1]) / T_final for x in zip(coarse_times[1:end-1], coarse_times[2:end])]\n",
    "for spin_idx in 1:N-1\n",
    "\t# areas[spin_idx] = sum(dts .* nz_vals[spin_idx, 2:end]) |> abs\n",
    "\tareas[spin_idx] = sum(dts .* magnetizations[spin_idx, 2:end]) |> abs\n",
    "end\n",
    "\n",
    "top_idxs = [k for (k, v) in sort(areas |> collect, by = x -> x[2])]\n",
    "top_idx = top_idxs[1]\n",
    "# top_idx = top_idxs[2]"
   ]
  },
  {
   "cell_type": "code",
   "execution_count": null,
   "metadata": {},
   "outputs": [],
   "source": [
    "regular_trajectories = filter!(x -> x != top_idx, collect(1:N-1));"
   ]
  },
  {
   "cell_type": "code",
   "execution_count": null,
   "metadata": {},
   "outputs": [],
   "source": [
    "figure(figsize = (4, 6))\n",
    "\n",
    "ax = subplot(411)\n",
    "for spin_nr in regular_trajectories\n",
    "\tplot(sol_t ./ sol_t[end], nx_vals[spin_nr, :], \"-\", c = \"k\")\n",
    "end\n",
    "plot(sol_t ./ sol_t[end], nx_vals[top_idx, :], \"-\", c = \"C1\", label = @sprintf(\"\\$i=%i\\$\", top_idx))\n",
    "xlim(0, 1)\n",
    "ax.set_xticklabels([])\n",
    "ylim(-0.1, 1.1)\n",
    "ylabel(\"\\$n_i^x(s)\\$\")\n",
    "legend(frameon = false, ncol = 2)\n",
    "\n",
    "ax = subplot(412)\n",
    "for spin_nr in regular_trajectories\n",
    "\tplot(sol_t ./ T_final, nz_vals[spin_nr, :], \"-\", c = \"k\")\n",
    "end\n",
    "plot(sol_t ./ T_final, nz_vals[top_idx, :], \"-\", c = \"C1\", label = @sprintf(\"\\$i=%i\\$\", top_idx))\n",
    "xlim(0, 1)\n",
    "ylim(-1.1, 1.1)\n",
    "ax.set_xticklabels([])\n",
    "ylabel(\"\\$n_i^z(s)\\$\")\n",
    "\n",
    "ax = subplot(413)\n",
    "for spin_nr in regular_trajectories\n",
    "\tplot(coarse_times, (abs.(complex_coordinate(spin_nr, nx_coarse, ny_coarse, nz_coarse)) .^ 2), \"-\", c = \"k\")\n",
    "end\n",
    "plot(coarse_times, (abs.(complex_coordinate(top_idx, nx_coarse, ny_coarse, nz_coarse)) .^ 2), \"-\", c = \"C1\", label = @sprintf(\"\\$i=%i\\$\", top_idx))\n",
    "\n",
    "xlim(0, 1)\n",
    "ylim(0, 1.2)\n",
    "ax.set_xticklabels([])\n",
    "# ylabel(\"\\$1 + [\\\\mathrm{Re}\\\\; z_i(s)]^2\\$\")\n",
    "ylabel(\"\\$|z_i(s)|^2\\$\")\n",
    "\n",
    "ax = subplot(414)\n",
    "inner_navg = 64\n",
    "outer_navg = 64\n",
    "for spin_nr in regular_trajectories\n",
    "\t# plot(coarse_times, smoothen(smoothen(magnetizations[spin_nr, :], coarse_times, navg=inner_navg), coarse_times, navg=outer_navg), \"-k\")\n",
    "\tplot(coarse_times, magnetizations[spin_nr, :], \"-k\")\n",
    "end\n",
    "# plot(coarse_times, smoothen(smoothen(magnetizations[top_idx, :], coarse_times, navg=inner_navg), coarse_times, navg=outer_navg), \"-C1\", label = @sprintf(\"\\$i=%i\\$\", top_idx))\n",
    "plot(coarse_times, magnetizations[top_idx, :], \"-C1\", label = @sprintf(\"\\$i=%i\\$\", top_idx))\n",
    "xlim(0.0, 1)\n",
    "ylim(-3, 3)\n",
    "xlabel(\"\\$s\\$\")\n",
    "ylabel(\"\\$m_i(s)\\$\")\n",
    "\n",
    "tight_layout()\n",
    "display(gcf())\n",
    "# savefig(\"../plots/\" * @sprintf(\"mean_field_max2sat_typical_instance_%04i_from_arxiv_2206_06876_N_%i_num_clauses_%i.pdf\", idx, N, num_clauses), dpi=256, bbox_inches=\"tight\")\n",
    "PythonPlot.close();"
   ]
  },
  {
   "cell_type": "markdown",
   "metadata": {},
   "source": [
    "### Energies"
   ]
  },
  {
   "cell_type": "code",
   "execution_count": null,
   "metadata": {},
   "outputs": [],
   "source": [
    "# sigma_star = sign.(sol.u[end][3, :])\n",
    "sigma_star = sign.(sol_u[end, 3, :])\n",
    "h = mf_problem.local_fields\n",
    "J = mf_problem.couplings\n",
    "E = sum([-h[l] * sigma_star[l] for l in 1:N-1]) + sum([-J[i, j] * sigma_star[i] * sigma_star[j] for i in 1:N-1 for j in (i+1):N-1])"
   ]
  },
  {
   "cell_type": "code",
   "execution_count": null,
   "metadata": {},
   "outputs": [],
   "source": [
    "[λ[k, :][end] for k in 1:6] |> println"
   ]
  },
  {
   "cell_type": "code",
   "execution_count": null,
   "metadata": {},
   "outputs": [],
   "source": [
    "isapprox.([λ[k, :][end] for k in 1:6], E, atol=1e-5) |> println"
   ]
  },
  {
   "cell_type": "code",
   "execution_count": null,
   "metadata": {},
   "outputs": [],
   "source": [
    "for spin_idx in 1:N-1\n",
    "\t# sigma_star_flip = sign.(sol.u[end][3, :])\n",
    "\tsigma_star_flip = sign.(sol_u[end, 3, :])\n",
    "\tsigma_star_flip[spin_idx] = (-1) * sigma_star_flip[spin_idx]\n",
    "\tE_flip = sum([-h[l] * sigma_star_flip[l] for l in 1:N-1]) + sum([-J[i, j] * sigma_star_flip[i] * sigma_star_flip[j] for i in 1:N-1 for j in (i+1):N-1])\n",
    "\tprintln(spin_idx, \": \", E_flip)\n",
    "end"
   ]
  },
  {
   "cell_type": "code",
   "execution_count": null,
   "metadata": {},
   "outputs": [],
   "source": [
    "println(top_idxs)"
   ]
  },
  {
   "cell_type": "markdown",
   "metadata": {},
   "source": [
    "## Statistical Green function"
   ]
  },
  {
   "cell_type": "code",
   "execution_count": null,
   "metadata": {},
   "outputs": [],
   "source": [
    "tol = 1e-8\n",
    "T_final = 32000.0;\n",
    "# T_final = 32768.;\n",
    "# T_final = 65536.0;"
   ]
  },
  {
   "cell_type": "code",
   "execution_count": null,
   "metadata": {},
   "outputs": [],
   "source": [
    "# nx_coarse = reduce(hcat, [map(linear_interpolation(sol_t, nx_vals[spin_nr, :], extrapolation_bc=Line()), T_final .* coarse_times) for spin_nr in 1:N-1]) |> transpose\n",
    "# nz_coarse = reduce(hcat, [map(linear_interpolation(sol_t, nz_vals[spin_nr, :], extrapolation_bc=Line()), T_final .* coarse_times) for spin_nr in 1:N-1]) |> transpose;"
   ]
  },
  {
   "cell_type": "code",
   "execution_count": null,
   "metadata": {},
   "outputs": [],
   "source": [
    "all_flucs = h5read(folder_name * @sprintf(\"results_random_SK_instance_N_%i_seed_%i.h5\", N, seed), @sprintf(\"fluctuations_T_final_%.0f_tol_1e%.0f_npts_%i\", T_final, log10(1e-8), npts));"
   ]
  },
  {
   "cell_type": "code",
   "execution_count": null,
   "metadata": {},
   "outputs": [],
   "source": [
    "regular_trajectories = filter!(x -> x != top_idxs[1], collect(1:N-1));\n",
    "# regular_trajectories = filter!(x -> x != top_idxs[2], regular_trajectories);\n",
    "\n",
    "scale_factors = [1 .+ abs.(complex_coordinate(i, nx_coarse, ny_coarse, nz_coarse)) .^ 2 for i in 1:N-1]\n",
    "mean_flucs = mean([smoothen(all_flucs[i, :], coarse_times) for i in regular_trajectories], dims=1)[1];\n",
    "mean_scaled_flucs = mean([smoothen(scale_factors[i] .^ 2 .* all_flucs[i, :], coarse_times) for i in regular_trajectories], dims = 1)[1];"
   ]
  },
  {
   "cell_type": "code",
   "execution_count": null,
   "metadata": {},
   "outputs": [],
   "source": [
    "inner_navg = 64\n",
    "outer_navg = 64 # 256\n",
    "\n",
    "inv_mag = 1 ./ smoothen(smoothen(magnetizations[top_idx, :], coarse_times, navg=inner_navg) .|> abs, coarse_times, navg=outer_navg)\n",
    "# inv_mag = 1 ./ (magnetizations[top_idx, :] .|> abs)\n",
    "scale_factor = 1 .+ abs.(complex_coordinate(top_idx, nx_coarse, ny_coarse, nz_coarse)) .^ 2\n",
    "crit_flucs = smoothen(scale_factor.^2 .* all_flucs[top_idx, :], coarse_times, navg=128) .* inv_mag;"
   ]
  },
  {
   "cell_type": "code",
   "execution_count": null,
   "metadata": {},
   "outputs": [],
   "source": [
    "figure(figsize = (4, 4))\n",
    "ax = subplot(211)\n",
    "axvline(gaploc, ls = \"-\", c=\"k\", alpha=0.2, lw=5)\n",
    "semilogy(exact_times, abs.(overlap_01_z .- overlap_01_x) ./ ((λ[2, :] .- λ[1, :])), label = \"\\$\\\\alpha = 1\\$\")\n",
    "semilogy(exact_times, abs.(overlap_02_z .- overlap_02_x) ./ ((λ[3, :] .- λ[1, :])), label=\"\\$\\\\alpha = 2\\$\", lw=2)\n",
    "xlim(0.0, 1.0)\n",
    "ylim(1e-1, 1e3)\n",
    "# ylim(0, 10)\n",
    "ax.set_xticklabels([])\n",
    "ylabel(\"\\$\\\\frac{|\\\\langle \\\\alpha|H_Z-H_X|0\\\\rangle|}{E_\\\\alpha - E_0}\\$\")\n",
    "\n",
    "legend(frameon = false)\n",
    "\n",
    "subplot(212)\n",
    "\n",
    "axvline(gaploc, ls = \"-\", c=\"k\", alpha=0.2, lw=5)\n",
    "plot(coarse_times, crit_flucs)\n",
    "\n",
    "xlim(0, 1)\n",
    "# ylim(1e-1, 1e2)\n",
    "ylim(0, )\n",
    "xlabel(\"\\$s\\$\")\n",
    "ylabel(\"\\$ \\\\langle\\\\delta \\\\bar z_i(s) \\\\delta z_i(s) \\\\rangle / |m_i(s)|\\$\")\n",
    "\n",
    "tight_layout()\n",
    "display(gcf())\n",
    "PythonPlot.close();"
   ]
  },
  {
   "cell_type": "code",
   "execution_count": null,
   "metadata": {},
   "outputs": [],
   "source": [
    "figure(figsize = (8, 3))\n",
    "ylims = (0, 0.2)\n",
    "# ylims = (0, 0.3)\n",
    "\n",
    "for i in 1:(N-1)÷2\n",
    "\tax = subplot(2, (N - 1) ÷ 2, i)\n",
    "\tc = \"k\"\n",
    "\tif i in [top_idx]\n",
    "\t\tc = \"C1\"\n",
    "\tend\n",
    "\tscale_factor = 1 .+ abs.(complex_coordinate(i, nx_coarse, ny_coarse, nz_coarse)) .^ 2\n",
    "\tplot(coarse_times, scale_factor .^ 2 .* smoothen(all_flucs[i, :], coarse_times), label = @sprintf(\"\\$i=%s\\$\", string(i)), c = c)\n",
    "\txlim(0.0, 1.0)\n",
    "\tax.set_xticklabels([])\n",
    "\tylim(ylims...)\n",
    "\tif i > 1\n",
    "\t\tax.set_yticklabels([])\n",
    "\tend\n",
    "\tlegend(frameon = false, handlelength = 0)\n",
    "end\n",
    "\n",
    "ax = subplot(2, (N - 1) ÷ 2, 1)\n",
    "ax.set_ylabel(\"\\$ \\\\langle\\\\delta \\\\bar z_i(s) \\\\delta z_i(s) \\\\rangle\\$\")\n",
    "\n",
    "for i in (N-1)÷2+1:N-1\n",
    "\tax = subplot(2, (N - 1) ÷ 2, i)\n",
    "\tc = \"k\"\n",
    "\tif i in [top_idx]\n",
    "\t\tc = \"C1\"\n",
    "\tend\n",
    "\tscale_factor = 1 .+ abs.(complex_coordinate(i, nx_coarse, ny_coarse, nz_coarse)) .^ 2\n",
    "\tplot(coarse_times, scale_factor .^ 2 .* smoothen(all_flucs[i, :], coarse_times), label = @sprintf(\"\\$i=%s\\$\", string(i)), c = c)\n",
    "\txlim(0.0, 1.0)\n",
    "\tylim(ylims...)\n",
    "\tif i > (N - 1) ÷ 2 + 1\n",
    "\t\tax.set_yticklabels([])\n",
    "\tend\n",
    "\txlabel(\"\\$s\\$\")\n",
    "\tlegend(frameon = false, handlelength = 0)\n",
    "end\n",
    "\n",
    "ax = subplot(2, (N - 1) ÷ 2, (N - 1) ÷ 2 + 1)\n",
    "ax.set_ylabel(\"\\$ \\\\langle\\\\delta \\\\bar z_i(s) \\\\delta z_i(s) \\\\rangle\\$\")\n",
    "\n",
    "tight_layout()\n",
    "display(gcf())\n",
    "# savefig(\"../plots/\" * @sprintf(\"fluctuations_max2sat_typical_instance_%04i_from_arxiv_2206_06876_N_%i_num_clauses_%i.pdf\", idx, N, num_clauses), dpi=256, bbox_inches=\"tight\")\n",
    "PythonPlot.close();"
   ]
  },
  {
   "cell_type": "code",
   "execution_count": null,
   "metadata": {},
   "outputs": [],
   "source": []
  },
  {
   "cell_type": "code",
   "execution_count": null,
   "metadata": {},
   "outputs": [],
   "source": []
  },
  {
   "cell_type": "markdown",
   "metadata": {},
   "source": [
    "## Spectrum"
   ]
  },
  {
   "cell_type": "code",
   "execution_count": null,
   "metadata": {},
   "outputs": [],
   "source": [
    "T_final = 32768.0\n",
    "tol = 1e-6\n",
    "τ_final = 2048.0\n",
    "\n",
    "npts_diag = 16\n",
    "T_diags = T_final .* range(0.5, 1.0, npts_diag + 1)\n",
    "\n",
    "ωs = []\n",
    "spec_sum = []\n",
    "for k in 1:17\n",
    "\tpush!(ωs, h5read(folder_name * \"results_\" * @sprintf(\"random_SK_instance_N_%i_seed_%i.h5\", N, seed), @sprintf(\"spectra_T_final_%i_tau_final_%i/T_%0.5f/omegas\", T_final, τ_final, T_diags[k] / T_final)))\n",
    "\tpush!(spec_sum, h5read(folder_name * \"results_\" * @sprintf(\"random_SK_instance_N_%i_seed_%i.h5\", N, seed), @sprintf(\"spectra_T_final_%i_tau_final_%i/T_%0.5f/data\", T_final, τ_final, T_diags[k] / T_final)))\n",
    "end\n"
   ]
  },
  {
   "cell_type": "code",
   "execution_count": null,
   "metadata": {},
   "outputs": [],
   "source": [
    "t_idx = 8\n",
    "println(T_diags[t_idx] ./ T_final)"
   ]
  },
  {
   "cell_type": "code",
   "execution_count": null,
   "metadata": {},
   "outputs": [],
   "source": [
    "figure(figsize = (3.2, 2.2))\n",
    "ax = subplot(111)\n",
    "axvline.(bogo_spec[N:end, 16+t_idx], c = \"k\", alpha = 0.5, ls = \"--\", lw=2)\n",
    "for k in [t_idx]\n",
    "\tplot(2pi .* ωs[k], spec_sum[k])\n",
    "end\n",
    "xlim(0.4, 3.6)\n",
    "ylim(-0.0, 1)\n",
    "yticks([0, 0.5, 1.0])\n",
    "xlabel(\"\\$\\\\omega\\$\")\n",
    "ylabel(\"\\$\\\\mathrm{Tr}\\\\;{\\\\rho}(T, \\\\omega)\\$\", fontsize = 12)\n",
    "tight_layout()\n",
    "display(gcf())\n",
    "PythonPlot.close();"
   ]
  },
  {
   "cell_type": "markdown",
   "metadata": {},
   "source": [
    "## Old"
   ]
  },
  {
   "cell_type": "code",
   "execution_count": null,
   "metadata": {},
   "outputs": [],
   "source": [
    "tol = 1e-8\n",
    "T_final = 32768.0\n",
    "npts = 4096\n",
    "coarse_times_fine = range(0, 1, npts + 1);\n",
    "all_flucs_fine = h5read(folder_name * @sprintf(\"results_random_SK_instance_N_%i_seed_%i.h5\", N, seed), @sprintf(\"fluctuations_T_final_%.0f_tol_1e%.0f_npts_%i\", T_final, log10(1e-8), npts));"
   ]
  },
  {
   "cell_type": "code",
   "execution_count": null,
   "metadata": {},
   "outputs": [],
   "source": [
    "figure(figsize = (4, 3))\n",
    "# plot(coarse_times, mean(new_all_flucs, dims=1)[1, :])\n",
    "# plot(coarse_times, mean(all_flucs, dims=1)[1, :])\n",
    "plot(coarse_times_fine, mean(all_flucs_fine, dims = 1)[1, :])\n",
    "plot(coarse_times, smoothen(mean(all_flucs, dims = 1)[1, :], coarse_times), \"-\")\n",
    "tight_layout()\n",
    "xlim(0, 1)\n",
    "ylim(0)\n",
    "display(gcf())\n",
    "tight_layout()\n",
    "PythonPlot.close();\n"
   ]
  },
  {
   "cell_type": "code",
   "execution_count": null,
   "metadata": {},
   "outputs": [],
   "source": []
  },
  {
   "cell_type": "code",
   "execution_count": null,
   "metadata": {},
   "outputs": [],
   "source": [
    "figure(figsize = (4, 4))\n",
    "ax = subplot(211)\n",
    "# plot(exact_times, abs.(overlap_01_z .- overlap_01_x) ./ ((λ[2, :] .- λ[1, :])), label = \"\\$\\\\alpha = 1\\$\")\n",
    "semilogy(exact_times, abs.(overlap_01_z .- overlap_01_x) ./ ((λ[2, :] .- λ[1, :])), label = \"\\$\\\\alpha = 1\\$\")\n",
    "plot(exact_times, abs.(overlap_02_z .- overlap_02_x) ./ ((λ[3, :] .- λ[1, :])), label=\"\\$\\\\alpha = 2\\$\", lw=2)\n",
    "# semilogy(exact_times, (abs.(overlap_01_z .- overlap_01_x) ./ ((λ[2, :] .- λ[1, :]))) .+ (abs.(overlap_02_z .- overlap_02_x) ./ ((λ[3, :] .- λ[1, :]))), \"-k\", lw=2)\n",
    "xlim(0.0, 1.0)\n",
    "ylim(1e-1, 1e3)\n",
    "# ylim(0, 10)\n",
    "ax.set_xticklabels([])\n",
    "ylabel(\"\\$\\\\frac{|\\\\langle \\\\alpha|H_Z-H_X|0\\\\rangle|}{E_\\\\alpha - E_0}\\$\")\n",
    "axvline(gaploc, ls = \"--\", c = \"k\", alpha = 0.5)\n",
    "\n",
    "legend(frameon = false)\n",
    "\n",
    "reg_func = x -> regularize.(x, ε = 1e-4)\n",
    "# reg_func = x -> regularize.(x, ε=1.0e-1)\n",
    "# inv_mag = smoothen(reg_func(abs.(magnetizations[top_idx, :])), coarse_times, navg=128)\n",
    "inv_mag = reg_func(abs.(magnetizations[top_idx, :]))\n",
    "inv_mag = regularize.(smoothen(smoothen(magnetizations[top_idx, :], coarse_times) .|> abs, coarse_times, navg = 2048))\n",
    "\n",
    "subplot(212)\n",
    "scale_factor = 1 .+ abs.(complex_coordinate(top_idx, nx_coarse, ny_coarse, nz_coarse)) .^ 2\n",
    "plot(coarse_times, (smoothen(all_flucs[top_idx, :], coarse_times) .- mean_flucs))\n",
    "# plot(coarse_times, (smoothen(scale_factor .^ 2 .* all_flucs[top_idx, :], coarse_times) .- mean_scaled_flucs))\n",
    "# semilogy(coarse_times, (smoothen(scale_factor.^2 .* all_flucs[top_idxs[i], :], coarse_times) .- mean_scaled_flucs))\n",
    "\n",
    "# plot(coarse_times, smoothen(scale_factor .^ 2 .* all_flucs[top_idx, :] .* inv_mag, coarse_times))\n",
    "# semilogy(coarse_times, smoothen(scale_factor.^2 .* all_flucs[top_idxs[i], :] .* inv_mag, coarse_times))\n",
    "\n",
    "axvline(gaploc, ls = \"--\", c = \"k\", alpha = 0.5)\n",
    "xlim(0, 1)\n",
    "# ylim(1e-1, 1e2)\n",
    "ylim(0, )\n",
    "xlabel(\"\\$s\\$\")\n",
    "ylabel(\"\\$ \\\\langle\\\\delta \\\\bar z_i(s) \\\\delta z_i(s) \\\\rangle / |m_i(s)|\\$\")\n",
    "\n",
    "tight_layout()\n",
    "display(gcf())\n",
    "PythonPlot.close();"
   ]
  },
  {
   "cell_type": "markdown",
   "metadata": {},
   "source": [
    "### Susceptibility"
   ]
  },
  {
   "cell_type": "code",
   "execution_count": null,
   "metadata": {},
   "outputs": [],
   "source": [
    "# figure(figsize = (4, 4))\n",
    "# ax = subplot(211)\n",
    "# semilogy(exact_times, abs.(overlap_01_z .- overlap_01_x) ./ ((λ[2, :] .- λ[1, :])), label = \"\\$\\\\alpha = 1\\$\")\n",
    "# # plot(exact_times, abs.(overlap_02_z .- overlap_02_x) ./ ((λ[3, :] .- λ[1, :])), label=\"\\$\\\\alpha = 2\\$\", lw=2)\n",
    "# # semilogy(exact_times, (abs.(overlap_01_z .- overlap_01_x) ./ ((λ[2, :] .- λ[1, :]))) .+ (abs.(overlap_02_z .- overlap_02_x) ./ ((λ[3, :] .- λ[1, :]))), \"-k\", lw=2)\n",
    "# xlim(0.0, 1.0)\n",
    "# ylim(1e-1, 1e3)\n",
    "# ax.set_xticklabels([])\n",
    "# ylabel(\"\\$\\\\frac{|\\\\langle \\\\alpha|H_Z-H_X|0\\\\rangle|}{E_\\\\alpha - E_0}\\$\")\n",
    "# axvline(gaploc, ls = \"--\", c = \"k\", alpha = 0.5)\n",
    "\n",
    "# legend(frameon = false)\n",
    "\n",
    "# scaled_flucs(scale_factor, spin_nr) = scale_factor .^ 2 .* smoothen(all_flucs[spin_nr, :], coarse_times, navg = 128)\n",
    "# suscept_denom(spin_nr) = smoothen(map(x -> x[2] - x[1], zip(magnetizations[spin_nr, 1:end-1], magnetizations[spin_nr, 2:end])), coarse_times[2:end], navg = 128)\n",
    "\n",
    "# scaled_flucs(scale_factor, spin_nr) = scale_factor .^ 2 .* all_flucs[spin_nr, :]\n",
    "# suscept_denom(spin_nr) = map(x -> x[2] - x[1], zip(magnetizations[spin_nr, 1:end-1], magnetizations[spin_nr, 2:end]))\n",
    "\n",
    "# subplot(212)\n",
    "# scale_factor = 1 .+ abs.(complex_coordinate(top_idx, nx_coarse, ny_coarse, nz_coarse)) .^ 2\n",
    "# # scale_factor = smoothen(1 .+ abs.(complex_coordinate(top_idxs[i], nx_coarse, ny_coarse, nz_coarse)).^2, coarse_times, navg=128)\n",
    "# # semilogy(coarse_times[2:end], map(x -> x[2] - x[1], zip(scaled_flucs(scale_factor, top_idxs[i])[1:end-1], scaled_flucs(scale_factor, top_idxs[i])[2:end])) ./ suscept_denom(top_idxs[i]) .|> abs)\n",
    "\n",
    "# semilogy(coarse_times[2:end],\n",
    "# \tsmoothen(map(x -> x[2] - x[1], zip(scaled_flucs(scale_factor, top_idx)[1:end-1], scaled_flucs(scale_factor, top_idx)[2:end])) ./ suscept_denom(top_idx),\n",
    "# \t\tcoarse_times[2:end], navg = 512) .|> abs)\n",
    "\n",
    "# axvline(gaploc, ls = \"--\", c = \"k\", alpha = 0.5)\n",
    "# xlim(0, 1)\n",
    "# # ylim(1e-1, 1e2)\n",
    "# xlabel(\"\\$s\\$\")\n",
    "# ylabel(\"\\$ \\\\chi_i(s)\\$\")\n",
    "\n",
    "# tight_layout()\n",
    "# display(gcf())\n",
    "# PythonPlot.close();"
   ]
  },
  {
   "cell_type": "code",
   "execution_count": null,
   "metadata": {},
   "outputs": [],
   "source": [
    "figure(figsize = (5, 2))\n",
    "\n",
    "\n",
    "subplot(121)\n",
    "plot(coarse_times, sum([(all_flucs[top_idxs[k], :] .- mean(all_flucs, dims = 1)[1, :]) for k in 1:1]))\n",
    "plot(coarse_times, sum([(all_flucs[top_idxs[k], :] .- mean(all_flucs, dims = 1)[1, :]) for k in 1:2]))\n",
    "axvline(gaploc, c = \"r\")\n",
    "# axvline(gap_interval[1], c=\"k\")\n",
    "# axvline(gap_interval[end], c=\"k\")\n",
    "xlim(0, 1)\n",
    "ylim(0)\n",
    "\n",
    "subplot(122)\n",
    "plot(coarse_times, all_flucs[top_idxs[1], :] .- mean(all_flucs, dims = 1)[1, :])\n",
    "plot(coarse_times, all_flucs[top_idxs[2], :] .- mean(all_flucs, dims = 1)[1, :])\n",
    "plot(coarse_times, all_flucs[top_idxs[4], :] .- mean(all_flucs, dims = 1)[1, :])\n",
    "axvline(gaploc, c = \"r\")\n",
    "# axvline(gap_interval[1], c=\"k\")\n",
    "# axvline(gap_interval[end], c=\"k\")\n",
    "xlim(0, 1)\n",
    "# ylim(0, )\n",
    "tight_layout()\n",
    "display(gcf())"
   ]
  },
  {
   "cell_type": "code",
   "execution_count": null,
   "metadata": {},
   "outputs": [],
   "source": []
  }
 ],
 "metadata": {
  "kernelspec": {
   "display_name": "Julia 1.9.4",
   "language": "julia",
   "name": "julia-1.9"
  },
  "language_info": {
   "file_extension": ".jl",
   "mimetype": "application/julia",
   "name": "julia",
   "version": "1.9.4"
  },
  "orig_nbformat": 4
 },
 "nbformat": 4,
 "nbformat_minor": 2
}
