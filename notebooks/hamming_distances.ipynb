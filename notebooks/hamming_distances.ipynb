{
 "cells": [
  {
   "attachments": {},
   "cell_type": "markdown",
   "metadata": {},
   "source": [
    "# Hamming Distances for Data-Set"
   ]
  },
  {
   "cell_type": "code",
   "execution_count": null,
   "metadata": {},
   "outputs": [],
   "source": [
    "using QAOA, SparseArrays\n",
    "using DataFrames, Arrow, HDF5, Printf\n",
    "using PyPlot\n",
    "PyPlot.plt.style.use(\"./paper.mplstyle\")\n",
    "\n",
    "using PyCall\n",
    "np = pyimport(\"numpy\")\n",
    "\n",
    "PATH = \"/home/ubuntu/Archives/\"\n",
    "PLOT_PATH = \"/home/ubuntu/Archives/plots/SK_model/paper/\";"
   ]
  },
  {
   "cell_type": "code",
   "execution_count": null,
   "metadata": {},
   "outputs": [],
   "source": [
    "using Revise, SpinFluctuations"
   ]
  },
  {
   "cell_type": "code",
   "execution_count": null,
   "metadata": {},
   "outputs": [],
   "source": [
    "Base.show(io::IO, f::Float64) = @printf(io, \"%1.4f\", f)\n",
    "Base.show(io::IO, ::MIME\"text/latex\", df::AbstractDataFrame) = show(df, backend=:html, show_row_number=true, highlighters=:tf_html_default)"
   ]
  },
  {
   "cell_type": "code",
   "execution_count": null,
   "metadata": {},
   "outputs": [],
   "source": [
    "N = 9\n",
    "N = 11\n",
    "N = 13\n",
    "N = 15\n",
    "N = 17\n",
    "N = 19\n",
    "\n",
    "patterns_dict = Dict(\n",
    "    9  => r\"random_SK_instance_N_9_seed_(\\d+)\\.h5\",\n",
    "    11 => r\"random_SK_instance_N_11_seed_(\\d+)\\.h5\",\n",
    "    13 => r\"random_SK_instance_N_13_seed_(\\d+)\\.h5\",\n",
    "    15 => r\"random_SK_instance_N_15_seed_(\\d+)\\.h5\",\n",
    "    17 => r\"random_SK_instance_N_17_seed_(\\d+)\\.h5\",\n",
    "    19 => r\"random_SK_instance_N_19_seed_(\\d+)\\.h5\"\n",
    ");"
   ]
  },
  {
   "cell_type": "markdown",
   "metadata": {},
   "source": [
    "## Loading"
   ]
  },
  {
   "cell_type": "code",
   "execution_count": null,
   "metadata": {},
   "outputs": [],
   "source": [
    "subdir = \"small_gaps\"\n",
    "# subdir = \"large_gaps\"\n",
    "folder_name = PATH * @sprintf(\"data/SK_model/N_%i/%s/\", N, subdir)\n",
    "instance_names = readdir(folder_name)\n",
    "filter!(x -> occursin(\"random_SK\", x), instance_names)\n",
    "filter!(x -> !occursin(\"results\", x), instance_names);"
   ]
  },
  {
   "cell_type": "code",
   "execution_count": null,
   "metadata": {},
   "outputs": [],
   "source": [
    "ordered_seeds = []\n",
    "all_mean_field_energies = Dict()\n",
    "all_mean_field_sols = Dict()\n",
    "all_eigenvals = Dict()\n",
    "all_eigenstates = Dict()\n",
    "\n",
    "for (k, instance_name) in enumerate(instance_names[1:end])\n",
    "    seed = match(patterns_dict[N], instance_name)[1]    \n",
    "    print(k, \", \")\n",
    "\n",
    "    # eigenvalues and -vectors\n",
    "    λ = h5read(folder_name * instance_name, \"exact_ARPACK_LM_eigvals\")\n",
    "    all_eigvecs = h5read(folder_name * instance_name, \"exact_ARPACK_LM_lowest_eigvecs\")\n",
    "\n",
    "    J_mat = h5read(folder_name * instance_name, \"J\")\n",
    "    mf_problem = Problem(0, J_mat)\n",
    "\n",
    "    # # mean-field solutions\n",
    "    T_final = 32768.\n",
    "    tol = 1e-6\n",
    "    mf_sol = h5read(folder_name * \"results_\" * instance_name, @sprintf(\"mean_field_sol_T_final_%.0f_tol_1e%.0f\", T_final, log10(tol)))\n",
    "    sigma_star = sign.(mf_sol)\n",
    "\n",
    "    h = mf_problem.local_fields\n",
    "    J = mf_problem.couplings\n",
    "    E_star = sum([-h[l] * sigma_star[l] for l in 1:N-1]) + sum([-J[i, j] * sigma_star[i] * sigma_star[j] for i in 1:N-1 for j in (i+1):N-1]) \n",
    "    \n",
    "    # continue if mean-fields finds optimal solution\n",
    "    if isapprox(E_star, λ[1, end], atol=1e-5)\n",
    "        continue\n",
    "    end\n",
    "\n",
    "    # fluctuations\n",
    "    T_final = 32000\n",
    "    tol = 1e-8\n",
    "    npts = 2048\n",
    "    all_flucs = h5read(folder_name * \"results_\" * instance_name, @sprintf(\"fluctuations_T_final_%.0f_tol_1e%.0f_npts_%i\", T_final, log10(tol), npts))\n",
    "    lyapunov_exponent = sum(all_flucs, dims=1)\n",
    "    if sum(lyapunov_exponent) |> abs >= 1e4 # discard non-converged ones\n",
    "        continue\n",
    "    end    \n",
    "        \n",
    "    all_mean_field_energies[seed] = E_star\n",
    "    all_mean_field_sols[seed] = sigma_star\n",
    "    \n",
    "    all_eigenstates[seed] = [all_eigvecs[end, :, n] for n in 1:1]\n",
    "    all_eigenvals[seed] = [λ[n, :] for n in 1:1]\n",
    "    push!(ordered_seeds, seed)\n",
    "end"
   ]
  },
  {
   "cell_type": "code",
   "execution_count": null,
   "metadata": {},
   "outputs": [],
   "source": [
    "ordered_seeds |> size"
   ]
  },
  {
   "cell_type": "code",
   "execution_count": null,
   "metadata": {},
   "outputs": [],
   "source": [
    "σ̂_0 = sparse([1. 0im; 0 1])\n",
    "σ̂_x = sparse([0im 1.; 1 0])\n",
    "σ̂_y = sparse([0. -1im; 1im 0])\n",
    "σ̂_z = sparse([1. 0im; 0 -1]);\n",
    "\n",
    "Zs = []\n",
    "for i in 1:N-1\n",
    "    idz = [σ̂_0 for _ in 1:N - 1]\n",
    "    idz[i] = σ̂_z\n",
    "    push!(Zs, reduce(kron, idz))\n",
    "end"
   ]
  },
  {
   "cell_type": "code",
   "execution_count": null,
   "metadata": {},
   "outputs": [],
   "source": [
    "avg_Delta_E = 0.\n",
    "avg_hamming = 0.\n",
    "for seed in ordered_seeds\n",
    "    gs = all_eigenstates[seed][1]\n",
    "    hamming = sum(abs.([gs' * Zs[i] * gs |> real for i in 1:N-1] .- all_mean_field_sols[seed])) / 2\n",
    "    avg_Delta_E += abs(all_mean_field_energies[seed] - all_eigenvals[seed][1][end])\n",
    "    avg_hamming += hamming\n",
    "\n",
    "    # println(all_mean_field_sols[seed])\n",
    "    # println([gs' * Zs[i] * gs |> real for i in 1:N-1])\n",
    "    # println(hamming, \", \", all_mean_field_energies[seed], \", \", all_eigenvals[seed][1][end])\n",
    "end\n",
    "    \n",
    "avg_Delta_E = avg_Delta_E / length(ordered_seeds)\n",
    "avg_hamming = avg_hamming / length(ordered_seeds)\n",
    "\n",
    "avg_Delta_E |> println\n",
    "avg_hamming |> println"
   ]
  },
  {
   "cell_type": "markdown",
   "metadata": {},
   "source": [
    "$N = 8$: $\\bar{\\Delta E} = 0.0979$, $\\bar{d}_{\\mathrm{Hamming}} = 5.9825$\n",
    "\n",
    "$N = 10$: $\\bar{\\Delta E} = 0.1245$, $\\bar{d}_{\\mathrm{Hamming}} = 7.0217$\n",
    "\n",
    "$N = 12$: $\\bar{\\Delta E} = 0.1589$, $\\bar{d}_{\\mathrm{Hamming}} = 7.8736$\n",
    "\n",
    "$N = 14$: $\\bar{\\Delta E} = 0.3300$, $\\bar{d}_{\\mathrm{Hamming}} = 9.1162$\n",
    "\n",
    "$N = 16$: $\\bar{\\Delta E} = 0.2744$, $\\bar{d}_{\\mathrm{Hamming}} = 10.0000$\n",
    "\n",
    "$N = 18$: $\\bar{\\Delta E} = 0.2539$, $\\bar{d}_{\\mathrm{Hamming}} = 11.0364$"
   ]
  },
  {
   "cell_type": "code",
   "execution_count": null,
   "metadata": {},
   "outputs": [],
   "source": [
    "avg_Delta_Es = [0.0979, 0.1245, 0.1589, 0.3300, 0.2744, 0.2539]\n",
    "avg_hammings = [5.9825, 7.0217, 7.8736, 9.1162, 10.0000, 11.0364];"
   ]
  },
  {
   "cell_type": "code",
   "execution_count": null,
   "metadata": {},
   "outputs": [],
   "source": [
    "avg_Delta_Es ./ [8, 10, 12, 14, 16, 18] |> println\n",
    "avg_hammings ./ [8, 10, 12, 14, 16, 18] |> println"
   ]
  }
 ],
 "metadata": {
  "kernelspec": {
   "display_name": "Julia 1.8.5",
   "language": "julia",
   "name": "julia-1.8"
  },
  "language_info": {
   "file_extension": ".jl",
   "mimetype": "application/julia",
   "name": "julia",
   "version": "1.8.5"
  },
  "orig_nbformat": 4
 },
 "nbformat": 4,
 "nbformat_minor": 2
}
