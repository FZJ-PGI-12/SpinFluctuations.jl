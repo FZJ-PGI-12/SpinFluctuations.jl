{
 "cells": [
  {
   "cell_type": "markdown",
   "metadata": {},
   "source": [
    "## Plots for Example Crosson Instance"
   ]
  },
  {
   "cell_type": "code",
   "execution_count": null,
   "metadata": {},
   "outputs": [],
   "source": [
    "using HDF5, Printf\n",
    "using PythonPlot\n",
    "PythonPlot.matplotlib.style.use(\"./paper.mplstyle\")\n",
    "PythonPlot.rc(\"axes\", prop_cycle=PythonPlot.matplotlib.cycler(color=[\"#2D5FAA\", \"#B7293F\", \"#438E6A\", \"#F7BD2E\", \"#F16C37\"]));"
   ]
  },
  {
   "cell_type": "code",
   "execution_count": null,
   "metadata": {},
   "outputs": [],
   "source": [
    "Base.show(io::IO, f::Float64) = @printf(io, \"%1.4f\", f)"
   ]
  },
  {
   "cell_type": "code",
   "execution_count": null,
   "metadata": {},
   "outputs": [],
   "source": [
    "N = 20\n",
    "num_clauses = 3N\n",
    "PATH = \"/home/ubuntu/Archives/data/MAX2SAT/crosson/\";"
   ]
  },
  {
   "cell_type": "code",
   "execution_count": null,
   "metadata": {},
   "outputs": [],
   "source": [
    "idx = 71\n",
    "filename = PATH * @sprintf(\"HDF5/max2sat_hard_instance_%03i_from_arxiv_1401_7320_N_%i_num_clauses_%i.h5\", idx, N, num_clauses)\n",
    "h = h5read(filename, \"local_fields\")\n",
    "J_mat = h5read(filename, \"coupling_matrix\");"
   ]
  },
  {
   "cell_type": "markdown",
   "metadata": {},
   "source": [
    "## Exact spectrum"
   ]
  },
  {
   "cell_type": "code",
   "execution_count": null,
   "metadata": {},
   "outputs": [],
   "source": [
    "h5open(filename)"
   ]
  },
  {
   "cell_type": "code",
   "execution_count": null,
   "metadata": {},
   "outputs": [],
   "source": [
    "exact_times = range(0, 1, 33)\n",
    "λ = h5read(filename, \"exact_ARPACK_LM_eigvals\");"
   ]
  },
  {
   "cell_type": "code",
   "execution_count": null,
   "metadata": {},
   "outputs": [],
   "source": [
    "figure(figsize=(4, 3))\n",
    "subplot(111)\n",
    "for i in 1:size(λ)[1]\n",
    "    plot(exact_times, (λ[i, :] .- λ[1, :]), \"-k\", lw=1, alpha=1, ms=2)    \n",
    "end\n",
    "# axvline(gap_interval[1], c=\"C0\")\n",
    "# axvline(gap_interval[end], c=\"C0\")\n",
    "plot([], [], \"-k\", lw=0.75, label=\"Exact\")\n",
    "plot([], [], \"--C1\", lw=1.5, label=\"Bogoliubov\")\n",
    "xlim(0., 1.)\n",
    "# ylim(-0., 2)\n",
    "xlabel(\"\\$s\\$\")\n",
    "ylabel(\"\\$E_\\\\alpha - E_0\\$\")\n",
    "legend(frameon=false)\n",
    "tight_layout()\n",
    "display(gcf())\n",
    "PythonPlot.close();"
   ]
  },
  {
   "cell_type": "code",
   "execution_count": null,
   "metadata": {},
   "outputs": [],
   "source": []
  },
  {
   "cell_type": "code",
   "execution_count": null,
   "metadata": {},
   "outputs": [],
   "source": []
  }
 ],
 "metadata": {
  "kernelspec": {
   "display_name": "Julia 1.8.5",
   "language": "julia",
   "name": "julia-1.8"
  },
  "language_info": {
   "file_extension": ".jl",
   "mimetype": "application/julia",
   "name": "julia",
   "version": "1.8.5"
  }
 },
 "nbformat": 4,
 "nbformat_minor": 2
}
