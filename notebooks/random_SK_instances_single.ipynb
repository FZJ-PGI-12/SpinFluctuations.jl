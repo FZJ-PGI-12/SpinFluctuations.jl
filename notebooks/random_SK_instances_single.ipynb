{
 "cells": [
  {
   "cell_type": "markdown",
   "metadata": {},
   "source": [
    "# Single instance"
   ]
  },
  {
   "cell_type": "code",
   "execution_count": null,
   "metadata": {},
   "outputs": [],
   "source": [
    "using Yao, QAOA, Random, Combinatorics, Arpack, Distributions, LinearAlgebra, Interpolations, FFTW\n",
    "using JLD, HDF5, Printf\n",
    "using PyPlot\n",
    "PyPlot.plt.style.use(\"./paper.mplstyle\")\n",
    "\n",
    "PATH = \"/home/ubuntu/Archives/\";"
   ]
  },
  {
   "cell_type": "code",
   "execution_count": null,
   "metadata": {},
   "outputs": [],
   "source": [
    "using Revise, SpinFluctuations"
   ]
  },
  {
   "cell_type": "code",
   "execution_count": null,
   "metadata": {},
   "outputs": [],
   "source": [
    "Base.show(io::IO, f::Float64) = @printf(io, \"%1.4f\", f)"
   ]
  },
  {
   "cell_type": "code",
   "execution_count": null,
   "metadata": {},
   "outputs": [],
   "source": [
    "N = 9\n",
    "pattern = r\"random_SK_instance_N_9_seed_(\\d+)\\.h5\"\n",
    "\n",
    "# N = 11\n",
    "# pattern = r\"random_SK_instance_N_11_seed_(\\d+)\\.h5\"\n",
    "\n",
    "# N = 17\n",
    "# pattern = r\"random_SK_instance_N_17_seed_(\\d+)\\.h5\"\n",
    "\n",
    "# N = 19\n",
    "# pattern = r\"random_SK_instance_N_19_seed_(\\d+)\\.h5\"\n",
    "\n",
    "subdir = \"small_gaps\"\n",
    "# subdir = \"large_gaps\"\n",
    "folder_name = PATH * @sprintf(\"data/SK_model/N_%i/%s/\", N, subdir)\n",
    "instance_names = readdir(folder_name);"
   ]
  },
  {
   "cell_type": "code",
   "execution_count": null,
   "metadata": {},
   "outputs": [],
   "source": [
    "T_final = 32000.\n",
    "\n",
    "# number of points to get Lyapunov exponent for\n",
    "npts = 256\n",
    "# npts = 2048\n",
    "\n",
    "# tolerance for DifferentialEquations.jl when solving mean-field \n",
    "tol = 1e-8;"
   ]
  },
  {
   "cell_type": "code",
   "execution_count": null,
   "metadata": {},
   "outputs": [],
   "source": [
    "# N = 9\n",
    "#small \n",
    "# seed = 12778 # => 0.6085\n",
    "# seed = 73014 # => 0.7356\n",
    "# seed = 65343 # => 0.7854\n",
    "# seed = 57220 # => 0.8052\n",
    "# seed = 47297 # => 0.8217\n",
    "# seed = 78653 # => 0.8303\n",
    "# seed = 46944 # => 0.8403\n",
    "# seed = 70592 # => 0.8467\n",
    "# seed = 62565 # => 0.8595\n",
    "# seed = 87929 # => 0.8867\n",
    "# seed = 39879 # => 1.0371\n",
    "# seed = 63685 # => 1.2428\n",
    "seed = 6\n",
    "# seed = 42\n",
    "# seed = 4147\n",
    "seed = 51411\n",
    "# seed = 6091\n",
    "# seed = 6150\n",
    "seed = 23320 # late first order - GREAT ILLUSTRATION\n",
    "# seed = 24423 # first order\n",
    "seed = 38906 # first order - GREAT ILLUSTRATION\n",
    "# seed = 50947 # first order\n",
    "# seed = 41908 # degenerate gs with large gap above\n",
    "\n",
    "# large\n",
    "# seed = 2100\n",
    "\n",
    "# N = 11\n",
    "# seed = 40\n",
    "# seed = 168\n",
    "# seed = 684 # EXCELLENT ILLUSTRATION!\n",
    "\n",
    "# N = 15\n",
    "# seed = \"36\"\n",
    "# seed = \"325\"\n",
    "# seed = \"19015\"\n",
    "# seed = \"19134\"\n",
    "# seed = \"20484\"\n",
    "\n",
    "# # N = 17 \n",
    "# seed = 19074\n",
    "# seed = 19141 # works well\n",
    "# # seed = 194\n",
    "# # seed = 2026\n",
    "# # seed = 177\n",
    "\n",
    "# N = 19\n",
    "# small\n",
    "# seed = 538 # => 0.4583\n",
    "# seed = 628 # => 0.4771\n",
    "# seed = 147 # => 0.5004\n",
    "# seed = 63 # => 0.5323\n",
    "# seed = 914 # => 0.5950\n",
    "# seed = 863 # => 0.7336\n",
    "# seed = 699 # => 0.7725\n",
    "# seed = 1238 # => 0.7753\n",
    "# seed = 18 # => 0.8269\n",
    "# seed = 319 # => 0.8990 - GREAT ILLUSTRATION!\n",
    "# seed = 674 # => 0.9061\n",
    "# seed = 554 # => 1.0416\n",
    "\n",
    "# seed = 1111 # degenerate gs with large gap above\n",
    "\n",
    "# seed = 192\n",
    "\n",
    "# large\n",
    "# seed = 66\n",
    "\n",
    "J_mat = h5read(folder_name * @sprintf(\"random_SK_instance_N_%i_seed_%i.h5\", N, seed), \"J\")\n",
    "λ = h5read(folder_name * @sprintf(\"random_SK_instance_N_%i_seed_%i.h5\", N, seed), \"exact_ARPACK_LM_eigvals\");"
   ]
  },
  {
   "cell_type": "code",
   "execution_count": null,
   "metadata": {},
   "outputs": [],
   "source": [
    "mf_problem = Problem(0, J_mat);"
   ]
  },
  {
   "cell_type": "markdown",
   "metadata": {},
   "source": [
    "## Exact gap"
   ]
  },
  {
   "cell_type": "code",
   "execution_count": null,
   "metadata": {},
   "outputs": [],
   "source": [
    "exact_times = range(0, 1, 33);"
   ]
  },
  {
   "cell_type": "code",
   "execution_count": null,
   "metadata": {},
   "outputs": [],
   "source": [
    "gap = λ[2, :] .- λ[1, :];\n",
    "mingap = minimum(gap) \n",
    "mingap |> println\n",
    "gap_idx = findfirst(x -> x == mingap, gap) \n",
    "gaploc = exact_times[gap_idx] \n",
    "gaploc |> println"
   ]
  },
  {
   "cell_type": "code",
   "execution_count": null,
   "metadata": {},
   "outputs": [],
   "source": [
    "small_idxs = findall(x -> x < 0.05, gap ./ (2pi)) \n",
    "small_idxs |> println\n",
    "\n",
    "gap_interval = exact_times[small_idxs] # exact_times[small_idxs[1:findfirst(x -> x == gap_idx, small_idxs) + 1]]\n",
    "gap_interval |> println"
   ]
  },
  {
   "cell_type": "code",
   "execution_count": null,
   "metadata": {},
   "outputs": [],
   "source": [
    "# bogo_spec = bogoliubov_spectrum(mf_problem, LyapunovParameters(32000, 32, tol, tol))\n",
    "# bogo_spec = reduce(hcat, bogo_spec)\n",
    "# bogo_spec = sort(bogo_spec .|> real, dims=1);\n",
    "\n",
    "bogo_spec = h5read(folder_name * @sprintf(\"results_random_SK_instance_N_%i_seed_%i.h5\", N, seed), @sprintf(\"bogoliubov_spectrum_T_final_%.0f_tol_1e%.0f_npts_%i\", 32000, log10(1e-8), 32));"
   ]
  },
  {
   "cell_type": "code",
   "execution_count": null,
   "metadata": {},
   "outputs": [],
   "source": [
    "figure(figsize=(4, 3))\n",
    "subplot(111)\n",
    "for i in 1:size(bogo_spec)[1]\n",
    "    # plot(exact_times[2:end], bogo_spec[i, :], \"-k\", ms=2)\n",
    "    # plot(exact_times, (λ[i, :] .- λ[1, :]), \"--r\", ms=2)\n",
    "    plot(exact_times[2:end], bogo_spec[i, :] ./ 2pi, \"--r\", ms=2)\n",
    "    plot(exact_times, (λ[i, :] .- λ[1, :]) ./ 2pi, \"-k\", ms=2)    \n",
    "end\n",
    "axvline(gap_interval[1], c=\"C0\")\n",
    "axvline(gap_interval[end], c=\"C0\")\n",
    "xlim(0., 1.)\n",
    "ylim(-0., 0.5)\n",
    "xlabel(\"\\$s\\$\")\n",
    "ylabel(\"Exact Eigenvalues\")\n",
    "tight_layout()"
   ]
  },
  {
   "cell_type": "markdown",
   "metadata": {},
   "source": [
    "### Eigenstates"
   ]
  },
  {
   "cell_type": "code",
   "execution_count": null,
   "metadata": {},
   "outputs": [],
   "source": [
    "# nev = 20\n",
    "# eigeninfo = map(s -> (eigs(-SpinFluctuations.hamiltonian(1 - s, s, mf_problem.local_fields, mf_problem.couplings), nev=nev, which=:LM, maxiter=10000)), exact_times)\n",
    "# λs = [vals[1] for vals in eigeninfo]\n",
    "# # λ_new = sort(reduce(hcat, λ_new), dims=1);\n",
    "\n",
    "# all_eigvecs = zeros(length(exact_times), 2^(N-1), 3)\n",
    "# for k in 1:length(exact_times)\n",
    "#     sorting_perm = sortperm(λs[k])\n",
    "#     all_eigvecs[k, :, :] .= eigeninfo[k][2][:, sorting_perm[1:3]]\n",
    "# end"
   ]
  },
  {
   "cell_type": "code",
   "execution_count": null,
   "metadata": {},
   "outputs": [],
   "source": [
    "all_eigvecs = h5read(folder_name * @sprintf(\"random_SK_instance_N_%i_seed_%i.h5\", N, seed), \"exact_ARPACK_LM_lowest_eigvecs\");"
   ]
  },
  {
   "cell_type": "code",
   "execution_count": null,
   "metadata": {},
   "outputs": [],
   "source": [
    "H_x = SpinFluctuations.hamiltonian(1, 0, mf_problem.local_fields, mf_problem.couplings)\n",
    "H_z = SpinFluctuations.hamiltonian(0, 1, mf_problem.local_fields, mf_problem.couplings);"
   ]
  },
  {
   "cell_type": "code",
   "execution_count": null,
   "metadata": {},
   "outputs": [],
   "source": [
    "gs = [all_eigvecs[k, :, 1] for k in 1:length(exact_times)]\n",
    "first_ex = [all_eigvecs[k, :, 2] for k in 1:length(exact_times)]\n",
    "second_ex = [all_eigvecs[k, :, 3] for k in 1:length(exact_times)]\n",
    "\n",
    "overlap_01_x = [first_ex[k]' * H_x * gs[k] for k in 1:length(exact_times)]\n",
    "overlap_01_z = [first_ex[k]' * H_z * gs[k] for k in 1:length(exact_times)]\n",
    "\n",
    "overlap_02_x = [second_ex[k]' * H_x * gs[k] for k in 1:length(exact_times)]\n",
    "overlap_02_z = [second_ex[k]' * H_z * gs[k] for k in 1:length(exact_times)];"
   ]
  },
  {
   "cell_type": "code",
   "execution_count": null,
   "metadata": {},
   "outputs": [],
   "source": [
    "figure(figsize=(7, 5))\n",
    "ax = subplot(221)\n",
    "# plot(exact_times, abs.(overlap_01_x), label=\"\\$X\\$\")\n",
    "# plot(exact_times, abs.(overlap_01_z), label=\"\\$Z\\$\")\n",
    "plot(exact_times, abs.(overlap_01_z .- overlap_01_x), label=\"\\$|\\\\langle 1|H_Z-H_X|0\\\\rangle|\\$\")\n",
    "axvline(gap_interval[1], c=\"k\")\n",
    "axvline(gaploc, c=\"C3\")\n",
    "axvline(gap_interval[end], c=\"k\")\n",
    "xlim(0., 1.)\n",
    "# ylim(-0., 0.5)\n",
    "ax.set_xticklabels([])\n",
    "ylabel(\"Numerator Adiab. Thm.\")\n",
    "legend(frameon=false)\n",
    "\n",
    "ax = subplot(222)\n",
    "plot(exact_times, abs.(overlap_01_z .- overlap_01_x) ./ ((λ[2, :] .- λ[1, :])))\n",
    "# semilogy(exact_times, abs.(overlap_01_z .- overlap_01_x) ./ ((λ[2, :] .- λ[1, :])))\n",
    "axvline(gap_interval[1], c=\"k\")\n",
    "axvline(gaploc, c=\"C3\")\n",
    "axvline(gap_interval[end], c=\"k\")\n",
    "xlim(0., 1.)\n",
    "ylim(0, )\n",
    "ax.set_xticklabels([])\n",
    "ylabel(\"Adiab. Thm.\")\n",
    "\n",
    "\n",
    "ax = subplot(223)\n",
    "\n",
    "# plot(exact_times, abs.(overlap_02_x), \"-\", label=\"\\$X\\$\")\n",
    "# plot(exact_times, abs.(overlap_02_z), \"-\", label=\"\\$Z\\$\")\n",
    "plot(exact_times, abs.(overlap_02_z .- overlap_02_x), label=\"\\$|\\\\langle 1|H_Z-H_X|0\\\\rangle|\\$\")\n",
    "\n",
    "axvline(gap_interval[1], c=\"k\")\n",
    "axvline(gaploc, c=\"C3\")\n",
    "axvline(gap_interval[end], c=\"k\")\n",
    "xlim(0., 1.)\n",
    "# ylim(-0., 0.5)\n",
    "xlabel(\"\\$s\\$\")\n",
    "ylabel(\"Numerator Adiab. Thm.\")\n",
    "legend(frameon=false)\n",
    "\n",
    "ax = subplot(224)\n",
    "plot(exact_times, abs.(overlap_02_z .- overlap_02_x) ./ ((λ[3, :] .- λ[1, :])))\n",
    "axvline(gap_interval[1], c=\"k\")\n",
    "axvline(gaploc, c=\"C3\")\n",
    "axvline(gap_interval[end], c=\"k\")\n",
    "xlim(0., 1.)\n",
    "# ylim(1e-6, 1e0)\n",
    "xlabel(\"\\$s\\$\")\n",
    "ylabel(\"Adiab. Thm.\")\n",
    "\n",
    "tight_layout()"
   ]
  },
  {
   "cell_type": "markdown",
   "metadata": {},
   "source": [
    "## Mean-field trajectories"
   ]
  },
  {
   "cell_type": "code",
   "execution_count": null,
   "metadata": {},
   "outputs": [],
   "source": [
    "# T_final = 1000. \n",
    "# T_final = 4000. \n",
    "# T_final = 8000. \n",
    "# T_final = 16000.\n",
    "T_final = 32768.\n",
    "# T_final = 64000.\n",
    "tol = 1e-6;"
   ]
  },
  {
   "cell_type": "code",
   "execution_count": null,
   "metadata": {},
   "outputs": [],
   "source": [
    "# sol = evolve_mean_field(mf_problem.local_fields, mf_problem.couplings, T_final, t -> t/T_final, rtol=1e2*tol, atol=tol)\n",
    "\n",
    "sol_t = h5read(folder_name * @sprintf(\"results_random_SK_instance_N_%i_seed_%i.h5\", N, seed), @sprintf(\"mean_field_T_final_%.0f_tol_1e%.0f/times\", T_final, log10(tol)))\n",
    "sol_u = h5read(folder_name * @sprintf(\"results_random_SK_instance_N_%i_seed_%i.h5\", N, seed), @sprintf(\"mean_field_T_final_%.0f_tol_1e%.0f/trajectories\", T_final, log10(tol)));"
   ]
  },
  {
   "cell_type": "code",
   "execution_count": null,
   "metadata": {},
   "outputs": [],
   "source": [
    "size(sol_u)"
   ]
  },
  {
   "cell_type": "code",
   "execution_count": null,
   "metadata": {},
   "outputs": [],
   "source": [
    "component_dict = Dict(\"x\" => 1, \"y\" => 2, \"z\" => 3)\n",
    "component = \"z\"\n",
    "# test_data = reduce(hcat, [sol.u[k][component_dict[component], :] for k in 1:size(sol.u)[1]]);\n",
    "test_data = reduce(hcat, [sol_u[k, component_dict[component], :] for k in 1:size(sol_u)[1]]);"
   ]
  },
  {
   "cell_type": "code",
   "execution_count": null,
   "metadata": {},
   "outputs": [],
   "source": [
    "areas = Dict()\n",
    "# dts = [(x[2] - x[1]) / T_final for x in zip(sol.t[1:end-1], sol.t[2:end])]\n",
    "dts = [(x[2] - x[1]) / T_final for x in zip(sol_t[1:end-1], sol_t[2:end])]\n",
    "for spin_idx in 1:N-1\n",
    "    areas[spin_idx] = sum(dts .* test_data[spin_idx, 2:end]) |> abs\n",
    "end\n",
    "\n",
    "top_idxs = [k for (k, v) in sort(areas |> collect, by=x->x[2])]\n",
    "top_idx = top_idxs[1]"
   ]
  },
  {
   "cell_type": "code",
   "execution_count": null,
   "metadata": {},
   "outputs": [],
   "source": [
    "figure(figsize=(4, 3))\n",
    "\n",
    "subplot(111)\n",
    "# for spin_nr in 1:N-1\n",
    "#     if round(abs.(test_data[spin_nr, :][end]), digits=3) == 1.0\n",
    "#         plot(sol.t ./ T_final, test_data[spin_nr, :], \"-\")\n",
    "#     else\n",
    "#         plot(sol.t ./ T_final, test_data[spin_nr, :], \"-\", label=@sprintf(\"\\$i=%i\\$\", spin_nr))    \n",
    "#     end\n",
    "# end\n",
    "\n",
    "for (spin_nr, _) in sort(areas |> collect, by=x->x[2])[1:4]\n",
    "    plot(sol_t ./ T_final, test_data[spin_nr, :], \"-\", label=@sprintf(\"\\$i=%i\\$\", spin_nr))    \n",
    "end\n",
    "\n",
    "xlim(0, 1)\n",
    "ylim(-1, 1)\n",
    "xlabel(\"\\$s\\$\")\n",
    "ylabel(\"\\$n_i^z(s)\\$\")\n",
    "legend(frameon=false, ncol=2)\n",
    "\n",
    "tight_layout()\n",
    "# savefig(\"../plots/\" * @sprintf(\"mean_field_max2sat_typical_instance_%04i_from_arxiv_2206_06876_N_%i_num_clauses_%i.pdf\", idx, N, num_clauses), dpi=256, bbox_inches=\"tight\")"
   ]
  },
  {
   "cell_type": "code",
   "execution_count": null,
   "metadata": {},
   "outputs": [],
   "source": [
    "# sigma_star = sign.(sol.u[end][3, :])\n",
    "sigma_star = sign.(sol_u[end, 3, :])\n",
    "h = mf_problem.local_fields\n",
    "J = mf_problem.couplings\n",
    "E = sum([-h[l] * sigma_star[l] for l in 1:N-1]) + sum([-J[i, j] * sigma_star[i] * sigma_star[j] for i in 1:N-1 for j in (i+1):N-1])"
   ]
  },
  {
   "cell_type": "code",
   "execution_count": null,
   "metadata": {},
   "outputs": [],
   "source": [
    "for spin_idx in 1:N-1\n",
    "    # sigma_star_flip = sign.(sol.u[end][3, :])\n",
    "    sigma_star_flip = sign.(sol_u[end, 3, :])\n",
    "    sigma_star_flip[spin_idx] = (-1) * sigma_star_flip[spin_idx]\n",
    "    E_flip = sum([-h[l] * sigma_star_flip[l] for l in 1:N-1]) + sum([-J[i, j] * sigma_star_flip[i] * sigma_star_flip[j] for i in 1:N-1 for j in (i+1):N-1])\n",
    "    println(spin_idx, \": \", E_flip)\n",
    "end"
   ]
  },
  {
   "cell_type": "code",
   "execution_count": null,
   "metadata": {},
   "outputs": [],
   "source": [
    "λ[1, :][end]"
   ]
  },
  {
   "cell_type": "markdown",
   "metadata": {},
   "source": [
    "## Statistical Green function"
   ]
  },
  {
   "cell_type": "code",
   "execution_count": null,
   "metadata": {},
   "outputs": [],
   "source": [
    "tol = 1e-8\n",
    "T_final = 32000.\n",
    "npts = 2048\n",
    "\n",
    "T_final = 32768.\n",
    "npts = 4096\n",
    "coarse_times = range(0, 1, npts + 1);"
   ]
  },
  {
   "cell_type": "code",
   "execution_count": null,
   "metadata": {},
   "outputs": [],
   "source": [
    "# lyapunov_parameters = LyapunovParameters(T_final, npts, 1e-4, 1e-6)\n",
    "# mf_sol, stat_GF = statistical_green_function(mf_problem, lyapunov_parameters);\n",
    "# flucs = k -> (real.(1.0im .* diag(stat_GF[k])[1:mf_problem.num_qubits]) .- 1.0) ./ 2\n",
    "# all_flucs = reduce(hcat, map(flucs, 1:npts+1));"
   ]
  },
  {
   "cell_type": "code",
   "execution_count": null,
   "metadata": {},
   "outputs": [],
   "source": [
    "# F = evolve_statistical_function(mf_problem, LyapunovParameters(T_final, npts, 1e-6, 1e-6))"
   ]
  },
  {
   "cell_type": "code",
   "execution_count": null,
   "metadata": {},
   "outputs": [],
   "source": [
    "mapped_F = F[1].(T_final .* coarse_times)\n",
    "new_all_flucs = [(real.(1.0im .* diag(mapped_F[k])[1:mf_problem.num_qubits]) .- 1.0) ./ 2 for k in 1:npts+1]\n",
    "new_all_flucs = reduce(hcat, new_all_flucs);"
   ]
  },
  {
   "cell_type": "code",
   "execution_count": null,
   "metadata": {},
   "outputs": [],
   "source": [
    "all_flucs = h5read(folder_name * @sprintf(\"results_random_SK_instance_N_%i_seed_%i.h5\", N, seed), @sprintf(\"fluctuations_T_final_%.0f_tol_1e%.0f_npts_%i\", T_final, log10(1e-8), npts));"
   ]
  },
  {
   "cell_type": "code",
   "execution_count": null,
   "metadata": {},
   "outputs": [],
   "source": [
    "function moving_average(vs, n)\n",
    "    res = similar(vs, length(vs) - (n-1))\n",
    "    @inbounds for i in 1:length(res)\n",
    "        res[i] = sum(@view vs[i:(i + n-1)]) / n\n",
    "    end\n",
    "    return res\n",
    "end\n",
    "\n",
    "function smoothen(data, coarse_times; navg=64)\n",
    "    ninterp = size(coarse_times)[1] - 1\n",
    "    avg_data = linear_interpolation(range(0, 1, ninterp + 1)[1:end - navg + 1], moving_average(data, navg), extrapolation_bc=Line())\n",
    "    map(x -> avg_data(x - navg / 2ninterp), coarse_times)\n",
    "end"
   ]
  },
  {
   "cell_type": "code",
   "execution_count": null,
   "metadata": {},
   "outputs": [],
   "source": [
    "figure(figsize=(8, 2))\n",
    "subplot(131)\n",
    "plot(coarse_times, mean(all_flucs, dims=1)[1, :])\n",
    "# plot(coarse_times, smoothen(mean(all_flucs, dims=1)[1, :], coarse_times))\n",
    "\n",
    "# plot(coarse_times, mean(new_all_flucs, dims=1)[1, :])\n",
    "\n",
    "# for idx in top_idxs[1:1]\n",
    "#     plot(coarse_times, new_all_flucs[idx, :] .- mean(new_all_flucs, dims=1)[1, :])\n",
    "#     plot(coarse_times, all_flucs[idx, :] .- mean(all_flucs, dims=1)[1, :])\n",
    "# end\n",
    "axvline(gaploc, c=\"r\")\n",
    "axvline(gap_interval[1], c=\"k\")\n",
    "axvline(gap_interval[end], c=\"k\")\n",
    "\n",
    "subplot(132)\n",
    "plot(coarse_times, sum([(all_flucs[top_idxs[k], :] .- mean(all_flucs, dims=1)[1, :]) ./ maximum(all_flucs[top_idxs[k], :]) for k in 1:3]))\n",
    "axvline(gaploc, c=\"r\")\n",
    "axvline(gap_interval[1], c=\"k\")\n",
    "axvline(gap_interval[end], c=\"k\")\n",
    "ylim(0, )\n",
    "\n",
    "subplot(133)\n",
    "plot(coarse_times, all_flucs[top_idxs[1], :] .- mean(all_flucs, dims=1)[1, :])\n",
    "plot(coarse_times, all_flucs[top_idxs[2], :] .- mean(all_flucs, dims=1)[1, :])\n",
    "axvline(gaploc, c=\"r\")\n",
    "axvline(gap_interval[1], c=\"k\")\n",
    "axvline(gap_interval[end], c=\"k\")\n",
    "ylim(0, )\n",
    "tight_layout()"
   ]
  },
  {
   "cell_type": "code",
   "execution_count": null,
   "metadata": {},
   "outputs": [],
   "source": [
    "figure(figsize=(20, 4))\n",
    "ylims = (-0.0, ) # 0.25\n",
    "for i in 1:(N-1)÷2\n",
    "    ax = subplot(2, (N-1)÷2, i)\n",
    "    # plot(coarse_times, all_flucs[i, :], label=@sprintf(\"\\$i=%s\\$\", string(i)))\n",
    "    c = \"C0\"\n",
    "    if i in top_idxs[1:3]\n",
    "        c = \"C3\"\n",
    "    end\n",
    "    plot(coarse_times, all_flucs[i, :] .- mean(all_flucs, dims=1)[1, :], label=@sprintf(\"\\$i=%s\\$\", string(i)), c=c)\n",
    "    plot(coarse_times, smoothen(all_flucs[i, :], coarse_times) .- mean(all_flucs, dims=1)[1, :], label=@sprintf(\"\\$i=%s\\$\", string(i)), c=\"k\")\n",
    "    axvline(gaploc, c=\"r\")\n",
    "    axvline(gap_interval[1], c=\"k\")\n",
    "    axvline(gap_interval[end], c=\"k\")\n",
    "    xlim(0., 1.)\n",
    "    ax.set_xticklabels([])\n",
    "    ylim(ylims...)\n",
    "    if i > 1\n",
    "        ax.set_yticklabels([])\n",
    "    end\n",
    "    legend(frameon=false, ncol=2, handlelength=0)\n",
    "end\n",
    "\n",
    "ax = subplot(2, (N-1)÷2, 1)\n",
    "ax.set_ylabel(\"\\$F_{ii}(t, t)\\$\")\n",
    "\n",
    "for i in (N-1)÷2+1:N-1\n",
    "    ax = subplot(2, (N-1)÷2, i)\n",
    "    # plot(coarse_times, all_flucs[i, :], label=@sprintf(\"\\$i=%s\\$\", string(i)))\n",
    "    c = \"C0\"\n",
    "    if i in top_idxs[1:3]\n",
    "        c = \"C3\"\n",
    "    end\n",
    "    plot(coarse_times, all_flucs[i, :] .- mean(all_flucs, dims=1)[1, :], label=@sprintf(\"\\$i=%s\\$\", string(i)), c=c)\n",
    "    plot(coarse_times, smoothen(all_flucs[i, :], coarse_times) .- mean(all_flucs, dims=1)[1, :], label=@sprintf(\"\\$i=%s\\$\", string(i)), c=\"k\")\n",
    "    axvline(gaploc, c=\"r\")    \n",
    "    axvline(gap_interval[1], c=\"k\")\n",
    "    axvline(gap_interval[end], c=\"k\")\n",
    "    xlim(0., 1.)\n",
    "    ylim(ylims...)\n",
    "    if i > (N-1)÷2+1\n",
    "        ax.set_yticklabels([])\n",
    "    end    \n",
    "    xlabel(\"\\$s\\$\")    \n",
    "    legend(frameon=false, ncol=2, handlelength=0)\n",
    "end\n",
    "\n",
    "ax = subplot(2, (N-1)÷2, (N-1)÷2 + 1)\n",
    "ax.set_ylabel(\"\\$F_{ii}(t, t)\\$\")\n",
    "\n",
    "tight_layout()\n",
    "# savefig(\"../plots/\" * @sprintf(\"fluctuations_max2sat_typical_instance_%04i_from_arxiv_2206_06876_N_%i_num_clauses_%i.pdf\", idx, N, num_clauses), dpi=256, bbox_inches=\"tight\")"
   ]
  },
  {
   "cell_type": "code",
   "execution_count": null,
   "metadata": {},
   "outputs": [],
   "source": [
    "figure(figsize=(20, 4))\n",
    "ylims = () #(-0.0, 0.1) # 0.25\n",
    "for i in 1:(N-1)÷2\n",
    "    ax = subplot(2, (N-1)÷2, i)\n",
    "    plot(coarse_times, all_flucs[i, :], label=@sprintf(\"\\$i=%s\\$\", string(i)))\n",
    "    # plot(coarse_times, all_flucs[i, :] .- mean(all_flucs, dims=1)[1, :], label=@sprintf(\"\\$i=%s\\$\", string(i)))\n",
    "    axvline(gaploc, c=\"r\")\n",
    "    axvline(gap_interval[1], c=\"k\")\n",
    "    axvline(gap_interval[end], c=\"k\")\n",
    "    xlim(0., 1.)\n",
    "    ax.set_xticklabels([])\n",
    "    ylim(ylims...)\n",
    "    # if i > 1\n",
    "    #     ax.set_yticklabels([])\n",
    "    # end\n",
    "    legend(frameon=false, ncol=2, handlelength=0)\n",
    "end\n",
    "\n",
    "ax = subplot(2, (N-1)÷2, 1)\n",
    "ax.set_ylabel(\"\\$F_{ii}(t, t)\\$\")\n",
    "\n",
    "for i in (N-1)÷2+1:N-1\n",
    "    ax = subplot(2, (N-1)÷2, i)\n",
    "    plot(coarse_times, all_flucs[i, :], label=@sprintf(\"\\$i=%s\\$\", string(i)))\n",
    "    # plot(coarse_times, all_flucs[i, :] .- mean(all_flucs, dims=1)[1, :], label=@sprintf(\"\\$i=%s\\$\", string(i)))\n",
    "    axvline(gaploc, c=\"r\")    \n",
    "    axvline(gap_interval[1], c=\"k\")\n",
    "    axvline(gap_interval[end], c=\"k\")\n",
    "    xlim(0., 1.)\n",
    "    ylim(ylims...)\n",
    "    # if i > (N-1)÷2+1\n",
    "    #     ax.set_yticklabels([])\n",
    "    # end    \n",
    "    xlabel(\"\\$s\\$\")    \n",
    "    legend(frameon=false, ncol=2, handlelength=0)\n",
    "end\n",
    "\n",
    "ax = subplot(2, (N-1)÷2, (N-1)÷2 + 1)\n",
    "ax.set_ylabel(\"\\$F_{ii}(t, t)\\$\")\n",
    "\n",
    "tight_layout()\n",
    "# savefig(\"../plots/\" * @sprintf(\"fluctuations_max2sat_typical_instance_%04i_from_arxiv_2206_06876_N_%i_num_clauses_%i.pdf\", idx, N, num_clauses), dpi=256, bbox_inches=\"tight\")"
   ]
  },
  {
   "cell_type": "markdown",
   "metadata": {},
   "source": [
    "### Close-up"
   ]
  },
  {
   "cell_type": "code",
   "execution_count": null,
   "metadata": {},
   "outputs": [],
   "source": [
    "start_idx = findfirst(x -> isapprox(x, 0.8, atol=1e-3), coarse_times)\n",
    "end_idx = findfirst(x -> isapprox(x, 0.85, atol=1e-3), coarse_times)\n",
    "ts = coarse_times[start_idx:end_idx];"
   ]
  },
  {
   "cell_type": "code",
   "execution_count": null,
   "metadata": {},
   "outputs": [],
   "source": [
    "npts = length(ts)\n",
    "ωs = [(ω - 1 - npts/2)/(ts[end] - ts[1]) for ω in 1:npts]\n",
    "fft_f = fftshift(fft(all_flucs[5, start_idx:end_idx]))\n",
    "spec = abs.(fft_f) ./ maximum(abs.(fft_f));"
   ]
  },
  {
   "cell_type": "code",
   "execution_count": null,
   "metadata": {},
   "outputs": [],
   "source": [
    "figure(figsize=(11, 3))\n",
    "subplot(131)\n",
    "plot(coarse_times, all_flucs[3, :], \"-\")\n",
    "# xlim(0.75, 0.80)\n",
    "\n",
    "subplot(132)\n",
    "# plot(ts, all_flucs[5, start_idx:end_idx], \"-\")\n",
    "plot(coarse_times, all_flucs[7, :], \"-\")\n",
    "\n",
    "subplot(133)\n",
    "# plot(ωs, spec)\n",
    "plot(coarse_times, all_flucs[3, :] .+ all_flucs[7, :] .- mean(all_flucs, dims=1)[1, :], \"-\")\n",
    "ylim(0, 0.1)\n",
    "tight_layout()"
   ]
  },
  {
   "cell_type": "markdown",
   "metadata": {},
   "source": [
    "## Spectra"
   ]
  },
  {
   "cell_type": "code",
   "execution_count": null,
   "metadata": {},
   "outputs": [],
   "source": [
    "# npts_diag = 16\n",
    "# τ_final = 1500.\n",
    "# spectral_sols = evolve_spectral_function(mf_problem, T_final, τ_final, npts_diag=npts_diag, rtol=1e-6, atol=1e-6);"
   ]
  },
  {
   "cell_type": "code",
   "execution_count": null,
   "metadata": {},
   "outputs": [],
   "source": [
    "T_final = 32768.\n",
    "T_final = 512.\n",
    "npts_diag = 16\n",
    "# T_diags = T_final .* range(0.5, 1.0, npts_diag+1)\n",
    "T_diags = T_final .* [0.70, 0.72]\n",
    "# T_diags = T_final .* exact_times[small_idxs[1:findfirst(x -> x == gap_idx, small_idxs) + 1]] \n",
    "τ_final = T_final;\n",
    "# τ_final = 8192.;\n",
    "# τ_final = 2048.;"
   ]
  },
  {
   "cell_type": "code",
   "execution_count": null,
   "metadata": {},
   "outputs": [],
   "source": [
    "# _, spectral_sols = evolve_spectral_function(mf_problem, T_final, τ_final, T_diags, rtol=1e-3, atol=1e-4);\n",
    "_, spectral_sols = evolve_spectral_function(mf_problem, T_final, τ_final, T_diags, rtol=1e-4, atol=1e-6);\n",
    "\n",
    "# spec_sum = []\n",
    "# for k in 1:length(T_diags)\n",
    "#     push!(spec_sum, spectral_fft(spectral_sum(spectral_sols[k])))\n",
    "# end"
   ]
  },
  {
   "cell_type": "code",
   "execution_count": null,
   "metadata": {},
   "outputs": [],
   "source": [
    "_, spectral_sums = evolve_spectral_sum(mf_problem, T_final, τ_final, T_diags, rtol=1e-4, atol=1e-6);\n",
    "\n",
    "spec_sum = []\n",
    "for k in 1:length(T_diags)\n",
    "    push!(spec_sum, spectral_fft(spectral_sums[k])) \n",
    "    # ωs = h5read(folder_name * \"results_\" * @sprintf(\"random_SK_instance_N_%i_seed_%i.h5\", N, seed), @sprintf(\"spectra_T_final_%i_tau_final_%i/T_%0.5f/omegas\", T_final, τ_final, T_diags[k] / T_final))\n",
    "    # spec = h5read(folder_name * \"results_\" * @sprintf(\"random_SK_instance_N_%i_seed_%i.h5\", N, seed), @sprintf(\"spectra_T_final_%i_tau_final_%i/T_%0.5f/data\", T_final, τ_final, T_diags[k] / T_final))\n",
    "    # push!(spec_sum, (ωs, spec))\n",
    "end"
   ]
  },
  {
   "cell_type": "code",
   "execution_count": null,
   "metadata": {},
   "outputs": [],
   "source": [
    "spectral_data = Dict();"
   ]
  },
  {
   "cell_type": "code",
   "execution_count": null,
   "metadata": {},
   "outputs": [],
   "source": [
    "for spin_idx in 1:N-1\n",
    "    spectral_data[spin_idx] = spectrum_vs_T(spin_idx, spectral_sols)\n",
    "end"
   ]
  },
  {
   "cell_type": "code",
   "execution_count": null,
   "metadata": {},
   "outputs": [],
   "source": [
    "spin_idx = top_idx\n",
    "\n",
    "# map data to functions\n",
    "spectral_fs = []\n",
    "for (k, (ωs, spec)) in enumerate(zip(spectral_data[spin_idx]...))\n",
    "    push!(spectral_fs, linear_interpolation(ωs, spec, extrapolation_bc=Line()))\n",
    "end"
   ]
  },
  {
   "cell_type": "code",
   "execution_count": null,
   "metadata": {},
   "outputs": [],
   "source": [
    "plot_data = collect(enumerate(zip(spectral_data[spin_idx]...)))\n",
    "num_plots = length(plot_data)\n",
    "xlim_vals = (-0.01, 0.2)\n",
    "# fig, axs = subplots(figsize=(5, 12), nrows=num_plots, ncols=1)\n",
    "fig, axs = subplots(figsize=(5, 1.5*num_plots), nrows=num_plots, ncols=1)\n",
    "\n",
    "# T_diags = range(0, 1, npts_diag+1)\n",
    "for (k, (ωs, spec)) in plot_data\n",
    "    ax = axs[k] # subplot(num_plots, 1, k)     \n",
    "\n",
    "    ax.plot(spec_sum[k]..., \"-C2\")\n",
    "\n",
    "    ax.plot(ωs, spec, \"-\", label=@sprintf(\"\\$T=%0.3f\\$\", T_diags[k] ./ T_final))\n",
    "    ax.axvline(mingap / (2pi), ls=\"--\", c=\"k\", alpha=0.2)\n",
    "    ax.axvline(bogo_spec[N, gap_idx] / (2pi), ls=\"--\", c=\"k\", alpha=0.2)\n",
    "    # max_loc = ωs[findfirst(x->x==maximum(spec), spec)]\n",
    "    # axvline.([max_loc], c=\"r\", ls=\"--\")\n",
    "\n",
    "    ax.set_xlim(xlim_vals...)\n",
    "    ax.set_ylim(0, 1)  \n",
    "    ax.set_xticks(range(xlim_vals..., 5))  \n",
    "    ax.set_xticklabels([])\n",
    "    # ax.set_ylabel(@sprintf(\"\\$\\\\rho_{%i%i}(T, \\\\omega)\\$\", idx, idx))\n",
    "    ax.legend(frameon=false, handlelength=0, fontsize=10)\n",
    "    if k%2 == 0\n",
    "        ax.yaxis.tick_right()\n",
    "    end\n",
    "    ax.tick_params(axis=\"y\", labelsize=10)\n",
    "end\n",
    "ax = subplot(num_plots, 1, num_plots)\n",
    "ax.set_xlabel(\"\\$\\\\nu\\$\")\n",
    "ax.set_xticklabels(round.(range(xlim_vals..., 5), digits=3))\n",
    "\n",
    "# fig.text(0.0, 0.5, @sprintf(\"\\$\\\\rho_{%i%i}(T, \\\\omega)\\$\", spin_idx, spin_idx), va=\"center\", rotation=\"vertical\")\n",
    "subplots_adjust(wspace=0.5, hspace=0.16)\n",
    "# savefig(\"../plots/\" * @sprintf(\"spectrum_spin_%02i_max2sat_typical_instance_%04i_from_arxiv_2206_06876_N_%i_num_clauses_%i.pdf\", spin_idx, idx, N, num_clauses), dpi=256, bbox_inches=\"tight\")"
   ]
  },
  {
   "cell_type": "code",
   "execution_count": null,
   "metadata": {},
   "outputs": [],
   "source": [
    "# T_diags = T_final .* range(0.5, 1.0, npts_diag+1)\n",
    "# @sprintf(\"spectra_T_final_%i_tau_final_%i/T_%0.5f/omegas\", T_final, τ_final, T_diags[4] / T_final)"
   ]
  },
  {
   "cell_type": "code",
   "execution_count": null,
   "metadata": {},
   "outputs": [],
   "source": [
    "omega_range = range(-0.02, 0.3, 1001) |> collect\n",
    "data_2D = [map(spectral_fs[k], omega_range) for (k, (ωs, spec)) in enumerate(zip(spectral_data[spin_idx]...))];"
   ]
  },
  {
   "cell_type": "code",
   "execution_count": null,
   "metadata": {},
   "outputs": [],
   "source": [
    "cmap = \"gist_yarg\"\n",
    "\n",
    "figure(figsize=(4, 3))\n",
    "Y, X = meshgrid(omega_range, T_diags ./ T_final);\n",
    "ax = subplot(111)\n",
    "heatmap = ax.pcolormesh(Y, X, data_2D, cmap=cmap, rasterized=true, vmin=0, vmax=0.1)\n",
    "heatmap.set_edgecolor(\"face\")\n",
    "# ax.set_aspect(\"equal\")\n",
    "cbar = colorbar(mappable=heatmap)\n",
    "# cbar.formatter.set_powerlimits((0, 0))\n",
    "ax.set_xlabel(\"\\$\\\\omega\\$\")\n",
    "ax.set_ylabel(\"\\$T\\$\")\n",
    "ax.set_xlim(omega_range[1], omega_range[end])\n",
    "ax.set_ylim(T_diags[1] ./ T_final, T_diags[end] ./ T_final)\n",
    "# ax.set_xticks(t_scale .* [0, T/2, T])\n",
    "# ax.set_yticks(t_scale .* [0, T/2, T])\n",
    "\n",
    "tight_layout(pad=0.75, w_pad=0.25, h_pad=0)"
   ]
  },
  {
   "cell_type": "code",
   "execution_count": null,
   "metadata": {},
   "outputs": [],
   "source": [
    "data_2D_f = interpolate((omega_range, T_diags), reduce(hcat, data_2D), Gridded(Linear()));\n",
    "interp_data_2D = [[data_2D_f(ω, T) for ω in omega_range] for T in range(T_diags[1], T_diags[end], 1001)];"
   ]
  },
  {
   "cell_type": "code",
   "execution_count": null,
   "metadata": {},
   "outputs": [],
   "source": [
    "figure(figsize=(4, 3))\n",
    "Y, X = meshgrid(omega_range, range(T_diags[1], T_diags[end], 1001) ./ T_final);\n",
    "ax = subplot(111)\n",
    "heatmap = ax.pcolormesh(Y, X, interp_data_2D, cmap=cmap, rasterized=true, vmin=0, vmax=1)\n",
    "heatmap.set_edgecolor(\"face\")\n",
    "# ax.set_aspect(\"equal\")\n",
    "cbar = colorbar(mappable=heatmap)\n",
    "ax.set_xlim(omega_range[1], omega_range[end])\n",
    "# ax.set_ylim(0, 1)\n",
    "# ax.set_xticks(t_scale .* [0, T/2, T])\n",
    "# ax.set_yticks(t_scale .* [0, T/2, T])\n",
    "\n",
    "tight_layout(pad=0.75, w_pad=0.25, h_pad=0)"
   ]
  },
  {
   "cell_type": "code",
   "execution_count": null,
   "metadata": {},
   "outputs": [],
   "source": [
    "iidx = 1\n",
    "plot(spectral_sols[iidx].t, map(t -> spectral_sols[iidx](t)[2, 2], spectral_sols[iidx].t))\n",
    "xlim(1000, 1200)\n",
    "# ylim(-100, 100)"
   ]
  },
  {
   "cell_type": "markdown",
   "metadata": {},
   "source": [
    "## Load Spectrum"
   ]
  },
  {
   "cell_type": "code",
   "execution_count": null,
   "metadata": {},
   "outputs": [],
   "source": [
    "T_final = 32768.\n",
    "tol = 1e-6\n",
    "τ_final = 2048.\n",
    "\n",
    "npts_diag = 16\n",
    "T_diags = T_final .* range(0.5, 1.0, npts_diag+1);"
   ]
  },
  {
   "cell_type": "code",
   "execution_count": null,
   "metadata": {},
   "outputs": [],
   "source": [
    "# mean-field solution and energy\n",
    "J_mat = h5read(folder_name * @sprintf(\"random_SK_instance_N_%i_seed_%i.h5\", N, seed), \"J\")\n",
    "mf_problem = Problem(0, J_mat)\n",
    "\n",
    "mf_sol = h5read(folder_name * \"results_\" * @sprintf(\"random_SK_instance_N_%i_seed_%i.h5\", N, seed), @sprintf(\"mean_field_sol_T_final_%.0f_tol_1e%.0f\", T_final, log10(tol)))\n",
    "sigma_star = sign.(mf_sol)\n",
    "h = mf_problem.local_fields\n",
    "J = mf_problem.couplings\n",
    "E_star = sum([-h[l] * sigma_star[l] for l in 1:N-1]) + sum([-J[i, j] * sigma_star[i] * sigma_star[j] for i in 1:N-1 for j in (i+1):N-1])\n",
    "\n",
    "# gap and spectra\n",
    "λ = h5read(folder_name * @sprintf(\"random_SK_instance_N_%i_seed_%i.h5\", N, seed), \"exact_ARPACK_LM_eigvals\")\n",
    "\n",
    "println(seed, \": \" , E_star .- λ[1, end])\n",
    "\n",
    "gap = λ[2, :] .- λ[1, :]    \n",
    "exact_times = range(0, 1, 33)\n",
    "gap_idx = findfirst(x -> x == minimum(gap), gap)\n",
    "gaploc = exact_times[gap_idx] \n",
    "println(gap[gap_idx], \", \", gaploc)\n",
    "gap_idx = gap_idx - 16 # we use only the interval [0.5, 1.0] with 16+1 points\n",
    "\n",
    "ωs = []\n",
    "spec_sum = []\n",
    "for k in 1:17\n",
    "# for k in [1]\n",
    "    push!(ωs, h5read(folder_name * \"results_\" * @sprintf(\"random_SK_instance_N_%i_seed_%i.h5\", N, seed), @sprintf(\"spectra_T_final_%i_tau_final_%i/T_%0.5f/omegas\", T_final, τ_final, T_diags[k] / T_final)))\n",
    "    push!(spec_sum, h5read(folder_name * \"results_\" * @sprintf(\"random_SK_instance_N_%i_seed_%i.h5\", N, seed), @sprintf(\"spectra_T_final_%i_tau_final_%i/T_%0.5f/data\", T_final, τ_final, T_diags[k] / T_final)))\n",
    "end   \n"
   ]
  },
  {
   "cell_type": "code",
   "execution_count": null,
   "metadata": {},
   "outputs": [],
   "source": [
    "figure(figsize=(4, 3))\n",
    "ax = subplot(111)\n",
    "axvline(gap[gap_idx + 16], ls=\"--\") \n",
    "# for k in 1:17\n",
    "for k in gap_idx-2:gap_idx\n",
    "# for k in [gap_idx]\n",
    "    plot(ωs[k], spec_sum[k])\n",
    "end\n",
    "xlim(-0.01, 0.2)\n",
    "# xlim(-0.01, 0.01)\n",
    "# ylim(-0., 0.05)\n",
    "xlabel(\"\\$\\\\nu\\$\")\n",
    "ylabel(\"Spectrum\", fontsize=12)\n",
    "tight_layout()"
   ]
  },
  {
   "cell_type": "code",
   "execution_count": null,
   "metadata": {},
   "outputs": [],
   "source": []
  },
  {
   "cell_type": "code",
   "execution_count": null,
   "metadata": {},
   "outputs": [],
   "source": []
  }
 ],
 "metadata": {
  "kernelspec": {
   "display_name": "Julia 1.8.5",
   "language": "julia",
   "name": "julia-1.8"
  },
  "language_info": {
   "file_extension": ".jl",
   "mimetype": "application/julia",
   "name": "julia",
   "version": "1.8.5"
  },
  "orig_nbformat": 4
 },
 "nbformat": 4,
 "nbformat_minor": 2
}
