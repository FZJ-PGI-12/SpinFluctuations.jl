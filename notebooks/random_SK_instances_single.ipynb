{
 "cells": [
  {
   "cell_type": "markdown",
   "metadata": {},
   "source": [
    "# Single instance"
   ]
  },
  {
   "cell_type": "code",
   "execution_count": null,
   "metadata": {},
   "outputs": [],
   "source": [
    "using Yao, QAOA, Random, Combinatorics, Arpack, Distributions, LinearAlgebra, Interpolations\n",
    "using JLD, HDF5, Printf\n",
    "using PyPlot\n",
    "PyPlot.plt.style.use(\"./paper.mplstyle\")\n",
    "\n",
    "PATH = \"/home/ubuntu/Archives/\";"
   ]
  },
  {
   "cell_type": "code",
   "execution_count": null,
   "metadata": {},
   "outputs": [],
   "source": [
    "using Revise, SpinFluctuations"
   ]
  },
  {
   "cell_type": "code",
   "execution_count": null,
   "metadata": {},
   "outputs": [],
   "source": [
    "Base.show(io::IO, f::Float64) = @printf(io, \"%1.4f\", f)"
   ]
  },
  {
   "cell_type": "code",
   "execution_count": null,
   "metadata": {},
   "outputs": [],
   "source": [
    "N = 9\n",
    "pattern = r\"random_SK_instance_N_9_seed_(\\d+)\\.h5\"\n",
    "\n",
    "subdir = \"small_gaps\"\n",
    "# subdir = \"large_gaps\"\n",
    "folder_name = PATH * @sprintf(\"data/SK_model/N_%i/%s/\", N, subdir)\n",
    "instance_names = readdir(folder_name);"
   ]
  },
  {
   "cell_type": "code",
   "execution_count": null,
   "metadata": {},
   "outputs": [],
   "source": [
    "T_final = 32000.\n",
    "\n",
    "# number of points to get Lyapunov exponent for\n",
    "npts = 256\n",
    "# npts = 2048\n",
    "\n",
    "# tolerance for DifferentialEquations.jl when solving mean-field \n",
    "tol = 1e-8;"
   ]
  },
  {
   "cell_type": "code",
   "execution_count": null,
   "metadata": {},
   "outputs": [],
   "source": [
    "# N = 9\n",
    "seed = 6\n",
    "seed = 42\n",
    "# seed = 4147\n",
    "# seed = \"6150\"\n",
    "# seed = \"11068\"\n",
    "seed = 75\n",
    "seed = 1004\n",
    "\n",
    "# N = 15\n",
    "# seed = \"36\"\n",
    "# seed = \"325\"\n",
    "# seed = \"19015\"\n",
    "# seed = \"19134\"\n",
    "# seed = \"20484\"\n",
    "J_mat = h5read(folder_name * @sprintf(\"random_SK_instance_N_%i_seed_%i.h5\", N, seed), \"J\")\n",
    "λ = h5read(folder_name * @sprintf(\"random_SK_instance_N_%i_seed_%i.h5\", N, seed), \"exact_ARPACK_LM_eigvals\");\n",
    "\n",
    "# seed = \"2015\"\n",
    "# J_mat = couplings_large_gap[seed];\n",
    "# λ = eigvals_large_gap[seed];"
   ]
  },
  {
   "cell_type": "code",
   "execution_count": null,
   "metadata": {},
   "outputs": [],
   "source": [
    "mf_problem = Problem(0, J_mat);"
   ]
  },
  {
   "cell_type": "markdown",
   "metadata": {},
   "source": [
    "## Exact gap"
   ]
  },
  {
   "cell_type": "code",
   "execution_count": null,
   "metadata": {},
   "outputs": [],
   "source": [
    "exact_times = range(0, 1, 33);"
   ]
  },
  {
   "cell_type": "code",
   "execution_count": null,
   "metadata": {},
   "outputs": [],
   "source": [
    "gap = λ[2, :] .- λ[1, :];\n",
    "mingap = minimum(gap) \n",
    "mingap |> println\n",
    "gaploc = exact_times[findfirst(x -> x == minimum(gap), gap)] \n",
    "gaploc |> println"
   ]
  },
  {
   "cell_type": "code",
   "execution_count": null,
   "metadata": {},
   "outputs": [],
   "source": [
    "small_idxs = findall(x -> x < 0.15, gap) \n",
    "small_idxs |> println\n",
    "\n",
    "gap_idx = findfirst(x -> x == mingap, gap) \n",
    "gap_idx |> println\n",
    "small_idxs[1:findfirst(x -> x == gap_idx, small_idxs) + 1] |> println\n",
    "exact_times[small_idxs[1:findfirst(x -> x == gap_idx, small_idxs) + 1]] |> println"
   ]
  },
  {
   "cell_type": "code",
   "execution_count": null,
   "metadata": {},
   "outputs": [],
   "source": [
    "figure(figsize=(4, 3))\n",
    "subplot(111)\n",
    "for i in 1:size(λ)[1]\n",
    "    plot(exact_times, (λ[i, :] .- λ[1, :]), \"-k\", ms=2)\n",
    "end\n",
    "axvline(exact_times[small_idxs[1]], c=\"r\")\n",
    "axvline(exact_times[gap_idx], c=\"r\")\n",
    "xlim(0., 1.)\n",
    "ylim(0, 2)\n",
    "xlabel(\"\\$s\\$\")\n",
    "ylabel(\"Exact Eigenvalues\")\n",
    "tight_layout()"
   ]
  },
  {
   "cell_type": "code",
   "execution_count": null,
   "metadata": {},
   "outputs": [],
   "source": [
    "bogo_spec = bogoliubov_spectrum(mf_problem, LyapunovParameters(32000, 32, tol, tol))\n",
    "bogo_spec = reduce(hcat, bogo_spec)\n",
    "bogo_spec = sort(bogo_spec .|> real, dims=1);"
   ]
  },
  {
   "cell_type": "code",
   "execution_count": null,
   "metadata": {},
   "outputs": [],
   "source": [
    "figure(figsize=(4, 3))\n",
    "subplot(111)\n",
    "for i in 1:size(bogo_spec)[1]\n",
    "    # plot(exact_times[2:end], bogo_spec[i, :], \"-k\", ms=2)\n",
    "    # plot(exact_times, (λ[i, :] .- λ[1, :]), \"--r\", ms=2)\n",
    "    plot(exact_times[2:end], bogo_spec[i, :] ./ 2pi, \"--r\", ms=2)\n",
    "    plot(exact_times, (λ[i, :] .- λ[1, :]) ./ 2pi, \"-k\", ms=2)    \n",
    "end\n",
    "xlim(0., 1.)\n",
    "ylim(-0., 0.5)\n",
    "xlabel(\"\\$s\\$\")\n",
    "ylabel(\"Exact Eigenvalues\")\n",
    "tight_layout()"
   ]
  },
  {
   "cell_type": "markdown",
   "metadata": {},
   "source": [
    "## Mean-field trajectories"
   ]
  },
  {
   "cell_type": "code",
   "execution_count": null,
   "metadata": {},
   "outputs": [],
   "source": [
    "# T_final = 1000. \n",
    "# T_final = 4000. \n",
    "# T_final = 8000. \n",
    "# T_final = 16000.\n",
    "T_final = 32000.\n",
    "# T_final = 64000.\n",
    "tol = 1e-8;"
   ]
  },
  {
   "cell_type": "code",
   "execution_count": null,
   "metadata": {},
   "outputs": [],
   "source": [
    "sol = evolve_mean_field(mf_problem.local_fields, mf_problem.couplings, T_final, t -> t/T_final, rtol=1e2*tol, atol=tol)\n",
    "size(sol.t)[1] "
   ]
  },
  {
   "cell_type": "code",
   "execution_count": null,
   "metadata": {},
   "outputs": [],
   "source": [
    "component_dict = Dict(\"x\" => 1, \"y\" => 2, \"z\" => 3)\n",
    "component = \"z\"\n",
    "test_data = reduce(hcat, [sol.u[k][component_dict[component], :] for k in 1:size(sol.u)[1]]);"
   ]
  },
  {
   "cell_type": "code",
   "execution_count": null,
   "metadata": {},
   "outputs": [],
   "source": [
    "figure(figsize=(4, 3))\n",
    "\n",
    "subplot(111)\n",
    "for spin_nr in 1:N-1\n",
    "    if round(abs.(test_data[spin_nr, :][end]), digits=3) == 1.0\n",
    "        plot(sol.t ./ T_final, test_data[spin_nr, :], \"-\")\n",
    "    else\n",
    "        plot(sol.t ./ T_final, test_data[spin_nr, :], \"-\", label=@sprintf(\"\\$i=%i\\$\", spin_nr))    \n",
    "    end\n",
    "end\n",
    "\n",
    "xlim(0, 1)\n",
    "ylim(-1, 1)\n",
    "xlabel(\"\\$s\\$\")\n",
    "ylabel(\"\\$n_i^z(s)\\$\")\n",
    "legend(frameon=false)\n",
    "\n",
    "tight_layout()\n",
    "# savefig(\"../plots/\" * @sprintf(\"mean_field_max2sat_typical_instance_%04i_from_arxiv_2206_06876_N_%i_num_clauses_%i.pdf\", idx, N, num_clauses), dpi=256, bbox_inches=\"tight\")"
   ]
  },
  {
   "cell_type": "code",
   "execution_count": null,
   "metadata": {},
   "outputs": [],
   "source": [
    "sigma_star = sign.(sol.u[end][3, :])\n",
    "h = mf_problem.local_fields\n",
    "J = mf_problem.couplings\n",
    "E = sum([-h[l] * sigma_star[l] for l in 1:N-1]) + sum([-J[i, j] * sigma_star[i] * sigma_star[j] for i in 1:N-1 for j in (i+1):N-1])"
   ]
  },
  {
   "cell_type": "code",
   "execution_count": null,
   "metadata": {},
   "outputs": [],
   "source": [
    "λ[1, :][end]"
   ]
  },
  {
   "cell_type": "markdown",
   "metadata": {},
   "source": [
    "## Statistical Green function"
   ]
  },
  {
   "cell_type": "code",
   "execution_count": null,
   "metadata": {},
   "outputs": [],
   "source": [
    "tol = 1e-8\n",
    "# T_final = 32000.\n",
    "# npts = 2048\n",
    "coarse_times = range(0, 1, npts + 1);"
   ]
  },
  {
   "cell_type": "code",
   "execution_count": null,
   "metadata": {},
   "outputs": [],
   "source": [
    "lyapunov_parameters = LyapunovParameters(T_final, npts, tol, tol)\n",
    "mf_sol, stat_GF = statistical_green_function(mf_problem, lyapunov_parameters);"
   ]
  },
  {
   "cell_type": "code",
   "execution_count": null,
   "metadata": {},
   "outputs": [],
   "source": [
    "flucs = k -> (real.(1.0im .* diag(stat_GF[k])[1:mf_problem.num_qubits]) .- 1.0) ./ 2;\n",
    "all_flucs = reduce(hcat, map(flucs, 1:npts+1));"
   ]
  },
  {
   "cell_type": "code",
   "execution_count": null,
   "metadata": {},
   "outputs": [],
   "source": [
    "figure(figsize=(20, 4))\n",
    "ylims = 0.25\n",
    "for i in 1:(N-1)÷2\n",
    "    ax = subplot(2, (N-1)÷2, i)\n",
    "    plot(coarse_times, all_flucs[i, :], label=@sprintf(\"\\$i=%s\\$\", string(i)))\n",
    "    # axvline(coarse_times[findfirst(x -> x == maximum(all_flucs[i, :]), all_flucs[i, :])], c=\"r\")\n",
    "    xlim(0., 1.)\n",
    "    ax.set_xticklabels([])\n",
    "    ylim(0., ylims)\n",
    "    if i > 1\n",
    "        ax.set_yticklabels([])\n",
    "    end\n",
    "    legend(frameon=false, ncol=2, handlelength=0)\n",
    "end\n",
    "\n",
    "ax = subplot(2, (N-1)÷2, 1)\n",
    "ax.set_ylabel(\"\\$F_{ii}(t, t)\\$\")\n",
    "\n",
    "for i in (N-1)÷2+1:N-1\n",
    "    ax = subplot(2, (N-1)÷2, i)\n",
    "    plot(coarse_times, all_flucs[i, :], label=@sprintf(\"\\$i=%s\\$\", string(i)))\n",
    "#     println(i, \": \", maximum(all_flucs[i, :]))\n",
    "    # axvline(coarse_times[findfirst(x -> x == maximum(all_flucs[i, :]), all_flucs[i, :])], c=\"r\")    \n",
    "    xlim(0., 1.)\n",
    "    ylim(0., ylims)\n",
    "    if i > (N-1)÷2+1\n",
    "        ax.set_yticklabels([])\n",
    "    end    \n",
    "    xlabel(\"\\$s\\$\")    \n",
    "    legend(frameon=false, ncol=2, handlelength=0)\n",
    "end\n",
    "\n",
    "ax = subplot(2, (N-1)÷2, (N-1)÷2 + 1)\n",
    "ax.set_ylabel(\"\\$F_{ii}(t, t)\\$\")\n",
    "\n",
    "tight_layout()\n",
    "# savefig(\"../plots/\" * @sprintf(\"fluctuations_max2sat_typical_instance_%04i_from_arxiv_2206_06876_N_%i_num_clauses_%i.pdf\", idx, N, num_clauses), dpi=256, bbox_inches=\"tight\")"
   ]
  },
  {
   "cell_type": "markdown",
   "metadata": {},
   "source": [
    "## Spectra"
   ]
  },
  {
   "cell_type": "code",
   "execution_count": null,
   "metadata": {},
   "outputs": [],
   "source": [
    "# npts_diag = 16\n",
    "# τ_final = 1500.\n",
    "# spectral_sols = evolve_spectral_function(mf_problem, T_final, τ_final, npts_diag=npts_diag, rtol=1e-6, atol=1e-6);"
   ]
  },
  {
   "cell_type": "code",
   "execution_count": null,
   "metadata": {},
   "outputs": [],
   "source": [
    "npts_diag = 16\n",
    "T_diags = T_final .* range(0.2, 0.8, npts_diag+1)\n",
    "# T_diags = T_final .* exact_times[small_idxs[1:findfirst(x -> x == gap_idx, small_idxs) + 1]] \n",
    "τ_final = 2000.;"
   ]
  },
  {
   "cell_type": "code",
   "execution_count": null,
   "metadata": {},
   "outputs": [],
   "source": [
    "_, spectral_sols = evolve_spectral_function(mf_problem, T_final, τ_final, T_diags, rtol=1e-6, atol=1e-6);\n",
    "\n",
    "spec_sum = []\n",
    "for k in 1:length(T_diags)\n",
    "    push!(spec_sum, spectral_fft(spectral_sum(spectral_sols[k])))\n",
    "end"
   ]
  },
  {
   "cell_type": "code",
   "execution_count": null,
   "metadata": {},
   "outputs": [],
   "source": [
    "_, spectral_sums = evolve_spectral_sum(mf_problem, T_final, τ_final, T_diags, rtol=1e-4, atol=1e-6);\n",
    "\n",
    "spec_sum = []\n",
    "for k in 1:length(T_diags)\n",
    "    push!(spec_sum, spectral_fft(spectral_sums[k]))\n",
    "end"
   ]
  },
  {
   "cell_type": "code",
   "execution_count": null,
   "metadata": {},
   "outputs": [],
   "source": [
    "spectral_data = Dict();"
   ]
  },
  {
   "cell_type": "code",
   "execution_count": null,
   "metadata": {},
   "outputs": [],
   "source": [
    "for spin_idx in 1:N-1\n",
    "    spectral_data[spin_idx] = spectrum_vs_T(spin_idx, spectral_sols)\n",
    "end"
   ]
  },
  {
   "cell_type": "code",
   "execution_count": null,
   "metadata": {},
   "outputs": [],
   "source": [
    "spin_idx = 4\n",
    "\n",
    "# map data to functions\n",
    "spectral_fs = []\n",
    "for (k, (ωs, spec)) in enumerate(zip(spectral_data[spin_idx]...))\n",
    "    push!(spectral_fs, linear_interpolation(ωs, spec, extrapolation_bc=Line()))\n",
    "end"
   ]
  },
  {
   "cell_type": "code",
   "execution_count": null,
   "metadata": {},
   "outputs": [],
   "source": [
    "# spin_idx = 2\n",
    "num_plots = length(spectral_sols)\n",
    "xlim_vals = (-0.05, 0.3)\n",
    "# fig, axs = subplots(figsize=(5, 12), nrows=num_plots, ncols=1)\n",
    "fig, axs = subplots(figsize=(5, 8), nrows=num_plots, ncols=1)\n",
    "\n",
    "# T_diags = range(0, 1, npts_diag+1)\n",
    "for (k, (ωs, spec)) in enumerate(zip(spectral_data[spin_idx]...))\n",
    "    ax = axs[k] # subplot(num_plots, 1, k)     \n",
    "\n",
    "    ax.plot(spec_sum[k]..., \"-C2\")\n",
    "\n",
    "    ax.plot(ωs, spec, \"-\", label=@sprintf(\"\\$T=%0.3f\\$\", T_diags[k] ./ T_final))\n",
    "    # ax.axvline(mingap, ls=\"--\", c=\"k\", alpha=0.2)\n",
    "    # max_loc = ωs[findfirst(x->x==maximum(spec), spec)]\n",
    "    # axvline.([max_loc], c=\"r\", ls=\"--\")\n",
    "\n",
    "    ax.set_xlim(xlim_vals...)\n",
    "    ax.set_ylim(0, 0.1)  \n",
    "    ax.set_xticks(range(xlim_vals..., 8))  \n",
    "    ax.set_xticklabels([])\n",
    "    # ax.set_ylabel(@sprintf(\"\\$\\\\rho_{%i%i}(T, \\\\omega)\\$\", idx, idx))\n",
    "    ax.legend(frameon=false, handlelength=0, fontsize=12)\n",
    "    if k%2 == 0\n",
    "        ax.yaxis.tick_right()\n",
    "    end\n",
    "    ax.tick_params(axis=\"y\", labelsize=10)\n",
    "end\n",
    "ax = subplot(num_plots, 1, num_plots)\n",
    "ax.set_xlabel(\"\\$\\\\nu\\$\")\n",
    "ax.set_xticklabels(round.(range(xlim_vals..., 8), digits=2))\n",
    "\n",
    "fig.text(0.0, 0.5, @sprintf(\"\\$\\\\rho_{%i%i}(T, \\\\omega)\\$\", spin_idx, spin_idx), va=\"center\", rotation=\"vertical\")\n",
    "subplots_adjust(wspace=0.5, hspace=0.16)\n",
    "# savefig(\"../plots/\" * @sprintf(\"spectrum_spin_%02i_max2sat_typical_instance_%04i_from_arxiv_2206_06876_N_%i_num_clauses_%i.pdf\", spin_idx, idx, N, num_clauses), dpi=256, bbox_inches=\"tight\")"
   ]
  },
  {
   "cell_type": "code",
   "execution_count": null,
   "metadata": {},
   "outputs": [],
   "source": [
    "T_diags = T_final .* range(0.5, 1.0, npts_diag+1)\n",
    "@sprintf(\"spectra_T_final_%i_tau_final_%i/T_%0.5f/omegas\", T_final, τ_final, T_diags[4] / T_final)"
   ]
  },
  {
   "cell_type": "code",
   "execution_count": null,
   "metadata": {},
   "outputs": [],
   "source": [
    "omega_range = range(-0.02, 0.3, 1001) |> collect\n",
    "data_2D = [map(spectral_fs[k], omega_range) for (k, (ωs, spec)) in enumerate(zip(spectral_data[spin_idx]...))];"
   ]
  },
  {
   "cell_type": "code",
   "execution_count": null,
   "metadata": {},
   "outputs": [],
   "source": [
    "cmap = \"gist_yarg\"\n",
    "\n",
    "figure(figsize=(4, 3))\n",
    "Y, X = meshgrid(omega_range, T_diags ./ T_final);\n",
    "ax = subplot(111)\n",
    "heatmap = ax.pcolormesh(Y, X, data_2D, cmap=cmap, rasterized=true, vmin=0, vmax=0.1)\n",
    "heatmap.set_edgecolor(\"face\")\n",
    "# ax.set_aspect(\"equal\")\n",
    "cbar = colorbar(mappable=heatmap)\n",
    "# cbar.formatter.set_powerlimits((0, 0))\n",
    "ax.set_xlabel(\"\\$\\\\omega\\$\")\n",
    "ax.set_ylabel(\"\\$T\\$\")\n",
    "ax.set_xlim(omega_range[1], omega_range[end])\n",
    "ax.set_ylim(T_diags[1] ./ T_final, T_diags[end] ./ T_final)\n",
    "# ax.set_xticks(t_scale .* [0, T/2, T])\n",
    "# ax.set_yticks(t_scale .* [0, T/2, T])\n",
    "\n",
    "tight_layout(pad=0.75, w_pad=0.25, h_pad=0)"
   ]
  },
  {
   "cell_type": "code",
   "execution_count": null,
   "metadata": {},
   "outputs": [],
   "source": [
    "data_2D_f = interpolate((omega_range, T_diags), reduce(hcat, data_2D), Gridded(Linear()));\n",
    "interp_data_2D = [[data_2D_f(ω, T) for ω in omega_range] for T in range(T_diags[1], T_diags[end], 1001)];"
   ]
  },
  {
   "cell_type": "code",
   "execution_count": null,
   "metadata": {},
   "outputs": [],
   "source": [
    "figure(figsize=(4, 3))\n",
    "Y, X = meshgrid(omega_range, range(T_diags[1], T_diags[end], 1001) ./ T_final);\n",
    "ax = subplot(111)\n",
    "heatmap = ax.pcolormesh(Y, X, interp_data_2D, cmap=cmap, rasterized=true, vmin=0, vmax=1)\n",
    "heatmap.set_edgecolor(\"face\")\n",
    "# ax.set_aspect(\"equal\")\n",
    "cbar = colorbar(mappable=heatmap)\n",
    "ax.set_xlim(omega_range[1], omega_range[end])\n",
    "# ax.set_ylim(0, 1)\n",
    "# ax.set_xticks(t_scale .* [0, T/2, T])\n",
    "# ax.set_yticks(t_scale .* [0, T/2, T])\n",
    "\n",
    "tight_layout(pad=0.75, w_pad=0.25, h_pad=0)"
   ]
  },
  {
   "cell_type": "code",
   "execution_count": null,
   "metadata": {},
   "outputs": [],
   "source": []
  }
 ],
 "metadata": {
  "kernelspec": {
   "display_name": "Julia 1.8.5",
   "language": "julia",
   "name": "julia-1.8"
  },
  "language_info": {
   "file_extension": ".jl",
   "mimetype": "application/julia",
   "name": "julia",
   "version": "1.8.5"
  },
  "orig_nbformat": 4
 },
 "nbformat": 4,
 "nbformat_minor": 2
}
