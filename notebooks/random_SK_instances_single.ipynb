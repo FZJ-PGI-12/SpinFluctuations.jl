{
 "cells": [
  {
   "cell_type": "markdown",
   "metadata": {},
   "source": [
    "# Plots for the \"Illustrative\" Section"
   ]
  },
  {
   "cell_type": "code",
   "execution_count": null,
   "metadata": {},
   "outputs": [],
   "source": [
    "using QAOA, Distributions, Interpolations, LinearAlgebra\n",
    "using HDF5, Printf\n",
    "using PythonPlot\n",
    "PythonPlot.matplotlib.style.use(\"./paper.mplstyle\")\n",
    "PythonPlot.rc(\"axes\", prop_cycle = PythonPlot.matplotlib.cycler(color = [\"#2D5FAA\", \"#B7293F\", \"#438E6A\", \"#F7BD2E\", \"#F16C37\"]))\n",
    "\n",
    "# PATH = \"../\";\n",
    "PATH = \"/home/ubuntu/Archives/\"\n",
    "PLOT_PATH = \"/home/ubuntu/Archives/plots/SK_model/paper/\";"
   ]
  },
  {
   "cell_type": "code",
   "execution_count": null,
   "metadata": {},
   "outputs": [],
   "source": [
    "using Revise, SpinFluctuations"
   ]
  },
  {
   "cell_type": "code",
   "execution_count": null,
   "metadata": {},
   "outputs": [],
   "source": [
    "Base.show(io::IO, f::Float64) = @printf(io, \"%1.4f\", f)"
   ]
  },
  {
   "cell_type": "code",
   "execution_count": null,
   "metadata": {},
   "outputs": [],
   "source": [
    "N = 9\n",
    "N = 17\n",
    "\n",
    "# folder_name = PATH * @sprintf(\"data/\")\n",
    "subdir = \"small_gaps\"\n",
    "# subdir = \"large_gaps\"\n",
    "folder_name = PATH * @sprintf(\"data/SK_model/N_%i/%s/\", N, subdir)\n",
    "instance_names = readdir(folder_name);"
   ]
  },
  {
   "cell_type": "code",
   "execution_count": null,
   "metadata": {},
   "outputs": [],
   "source": [
    "# N = 9\n",
    "# seed = 22824 # highest peak\n",
    "# seed = 28563 # second-highest, solved by mean-field\n",
    "\n",
    "seed = 23583 # clean coupling to first excited state, great illustration!\n",
    "\n",
    "# large\n",
    "# seed = 100210\n",
    "\n",
    "# N = 17\n",
    "seed = 10173\n",
    "seed = 16173"
   ]
  },
  {
   "cell_type": "code",
   "execution_count": null,
   "metadata": {},
   "outputs": [],
   "source": [
    "# # look what's inside\n",
    "# h5open(folder_name * @sprintf(\"results_random_SK_instance_N_%i_seed_%i.h5\", N, seed))"
   ]
  },
  {
   "cell_type": "code",
   "execution_count": null,
   "metadata": {},
   "outputs": [],
   "source": [
    "J_mat = h5read(folder_name * @sprintf(\"random_SK_instance_N_%i_seed_%i.h5\", N, seed), \"J\")\n",
    "mf_problem = Problem(0, J_mat);"
   ]
  },
  {
   "cell_type": "code",
   "execution_count": null,
   "metadata": {},
   "outputs": [],
   "source": [
    "T_final = 32768.\n",
    "npts = 2048\n",
    "# npts = 4096\n",
    "coarse_times = range(0, 1, npts + 1);\n",
    "exact_times = range(0, 1, 33);"
   ]
  },
  {
   "cell_type": "markdown",
   "metadata": {},
   "source": [
    "## Exact gap"
   ]
  },
  {
   "cell_type": "code",
   "execution_count": null,
   "metadata": {},
   "outputs": [],
   "source": [
    "λ = h5read(folder_name * @sprintf(\"random_SK_instance_N_%i_seed_%i.h5\", N, seed), \"exact_ARPACK_LM_eigvals\");"
   ]
  },
  {
   "cell_type": "code",
   "execution_count": null,
   "metadata": {},
   "outputs": [],
   "source": [
    "gap = λ[2, :] .- λ[1, :];\n",
    "mingap = minimum(gap)\n",
    "mingap |> println\n",
    "gap_idx = findfirst(x -> x == mingap, gap)\n",
    "gaploc = exact_times[gap_idx]\n",
    "gaploc |> println"
   ]
  },
  {
   "cell_type": "code",
   "execution_count": null,
   "metadata": {},
   "outputs": [],
   "source": [
    "tol = 1e-8\n",
    "T_final = 32000.\n",
    "bogo_spec = h5read(folder_name * @sprintf(\"results_random_SK_instance_N_%i_seed_%i.h5\", N, seed), \n",
    "                   @sprintf(\"bogoliubov_spectrum_T_final_%.0f_tol_1e%.0f_npts_%i\", T_final, log10(tol), 32));"
   ]
  },
  {
   "cell_type": "code",
   "execution_count": null,
   "metadata": {},
   "outputs": [],
   "source": [
    "all_eigvecs = h5read(folder_name * @sprintf(\"random_SK_instance_N_%i_seed_%i.h5\", N, seed), \"exact_ARPACK_LM_lowest_eigvecs\");"
   ]
  },
  {
   "cell_type": "code",
   "execution_count": null,
   "metadata": {},
   "outputs": [],
   "source": [
    "H_x = SpinFluctuations.hamiltonian(1, 0, mf_problem.local_fields, mf_problem.couplings)\n",
    "H_z = SpinFluctuations.hamiltonian(0, 1, mf_problem.local_fields, mf_problem.couplings);"
   ]
  },
  {
   "cell_type": "code",
   "execution_count": null,
   "metadata": {},
   "outputs": [],
   "source": [
    "gs = [all_eigvecs[k, :, 1] for k in 1:length(exact_times)]\n",
    "first_ex = [all_eigvecs[k, :, 2] for k in 1:length(exact_times)]\n",
    "second_ex = [all_eigvecs[k, :, 3] for k in 1:length(exact_times)]\n",
    "\n",
    "overlap_01_x = [first_ex[k]' * H_x * gs[k] for k in 1:length(exact_times)]\n",
    "overlap_01_z = [first_ex[k]' * H_z * gs[k] for k in 1:length(exact_times)]\n",
    "\n",
    "overlap_02_x = [second_ex[k]' * H_x * gs[k] for k in 1:length(exact_times)]\n",
    "overlap_02_z = [second_ex[k]' * H_z * gs[k] for k in 1:length(exact_times)];"
   ]
  },
  {
   "cell_type": "code",
   "execution_count": null,
   "metadata": {},
   "outputs": [],
   "source": [
    "figure(figsize = (4, 4))\n",
    "\n",
    "ax = subplot(211)\n",
    "for i in 1:14\n",
    "\tif i == 2 || i == 3\n",
    "\t\tplot(exact_times, (λ[i, :] .- λ[1, :]), lw = 1.5, alpha = 1)\n",
    "\telse\n",
    "\t\tplot(exact_times, (λ[i, :] .- λ[1, :]), \"-k\", lw=0.75, alpha = 1)\n",
    "\tend\n",
    "\tplot(exact_times[2:end], bogo_spec[i, :], \"--k\", lw = 1.5, alpha=0.5)\n",
    "end\n",
    "plot([], [], \"-k\", lw = 1, label = \"Exact\")\n",
    "plot([], [], label = \"Bogoliubov\", \"--k\", lw=1.5, alpha = 0.5)\n",
    "xlim(0.0, 1.0)\n",
    "ax.set_yticks(2 .* [0, 0.5, 1.0])\n",
    "ylim(-0.0, 2)\n",
    "ax.set_xticklabels([])\n",
    "ylabel(\"\\$E_\\\\alpha - E_0\\$\")\n",
    "legend(frameon = false, handlelength=1., handletextpad=0.3, borderaxespad=0.2)\n",
    "\n",
    "ax = subplot(212)\n",
    "plot(exact_times, abs.(overlap_02_z .- overlap_02_x), label = \"\\$\\\\alpha = 2\\$\", \"-C1\", lw=2)\n",
    "plot(exact_times, abs.(overlap_01_z .- overlap_01_x), label = \"\\$\\\\alpha = 1\\$\", \"-C0\")\n",
    "xlim(0.0, 1.0)\n",
    "ax.set_yticks([0, 1.0])\n",
    "ylim(0, 1)\n",
    "xlabel(\"\\$s\\$\")\n",
    "ylabel(\"\\${|\\\\langle \\\\alpha|H_Z-H_X|0\\\\rangle|}\\$\")\n",
    "\n",
    "legend(frameon = false)\n",
    "\n",
    "tight_layout(pad=0.25)\n",
    "# savefig(PLOT_PATH * @sprintf(\"exact_spectrum_N_%i_seed_%i.pdf\", N, seed), dpi=256, bbox_inches=\"tight\")\n",
    "display(gcf())\n",
    "PythonPlot.close();"
   ]
  },
  {
   "cell_type": "markdown",
   "metadata": {},
   "source": [
    "## Mean-field trajectories"
   ]
  },
  {
   "cell_type": "code",
   "execution_count": null,
   "metadata": {},
   "outputs": [],
   "source": [
    "T_final = 32768.\n",
    "tol = 1e-6\n",
    "sol_t = h5read(folder_name * @sprintf(\"results_random_SK_instance_N_%i_seed_%i.h5\", N, seed), @sprintf(\"mean_field_T_final_%.0f_tol_1e%.0f/times\", T_final, log10(tol)))\n",
    "sol_u = h5read(folder_name * @sprintf(\"results_random_SK_instance_N_%i_seed_%i.h5\", N, seed), @sprintf(\"mean_field_T_final_%.0f_tol_1e%.0f/trajectories\", T_final, log10(tol)));"
   ]
  },
  {
   "cell_type": "code",
   "execution_count": null,
   "metadata": {},
   "outputs": [],
   "source": [
    "size(sol_u)"
   ]
  },
  {
   "cell_type": "markdown",
   "metadata": {},
   "source": [
    "### Bloch coordinates, Magnetization & Complex Coordinates"
   ]
  },
  {
   "cell_type": "code",
   "execution_count": null,
   "metadata": {},
   "outputs": [],
   "source": [
    "nx_vals = n_vals(\"x\", sol_u)\n",
    "ny_vals = n_vals(\"y\", sol_u)\n",
    "nz_vals = n_vals(\"z\", sol_u);"
   ]
  },
  {
   "cell_type": "code",
   "execution_count": null,
   "metadata": {},
   "outputs": [],
   "source": [
    "nx_coarse = n_coarse(nx_vals, sol_t, coarse_times)\n",
    "ny_coarse = n_coarse(ny_vals, sol_t, coarse_times)\n",
    "nz_coarse = n_coarse(nz_vals, sol_t, coarse_times);"
   ]
  },
  {
   "cell_type": "code",
   "execution_count": null,
   "metadata": {},
   "outputs": [],
   "source": [
    "S_vals = [transpose(reduce(hcat, [nx_coarse[:, k], ny_coarse[:, k], nz_coarse[:, k]])) |> Matrix for k in 1:npts+1]\n",
    "magnetizations = reduce(hcat, map(S -> magnetization(S, mf_problem.local_fields, mf_problem.couplings), S_vals));"
   ]
  },
  {
   "cell_type": "code",
   "execution_count": null,
   "metadata": {},
   "outputs": [],
   "source": [
    "areas = Dict()\n",
    "EA_param = Dict()\n",
    "# dts = [(x[2] - x[1]) / T_final for x in zip(sol_t[1:end-1], sol_t[2:end])]\n",
    "dts = [(x[2] - x[1]) / T_final for x in zip(coarse_times[1:end-1], coarse_times[2:end])]\n",
    "for spin_idx in 1:N-1\n",
    "\t# areas[spin_idx] = sum(dts .* nz_vals[spin_idx, 2:end]) |> abs\n",
    "\tareas[spin_idx] = sum(dts .* magnetizations[spin_idx, 2:end]) |> abs\n",
    "\n",
    "\t# Edwards-Anderson\n",
    "\tEA_param[spin_idx] = (1/(N-1)) * sum(dts .* nz_coarse[spin_idx, 2:end] .^ 2) |> abs\n",
    "end\n",
    "\n",
    "top_idxs = [k for (k, v) in sort(areas |> collect, by = x -> x[2])]\n",
    "top_idx = top_idxs[2]"
   ]
  },
  {
   "cell_type": "code",
   "execution_count": null,
   "metadata": {},
   "outputs": [],
   "source": [
    "[(spin_nr, 1e4A) for (spin_nr, A) in EA_param]"
   ]
  },
  {
   "cell_type": "code",
   "execution_count": null,
   "metadata": {},
   "outputs": [],
   "source": [
    "[(spin_nr, 1e4A) for (spin_nr, A) in areas]"
   ]
  },
  {
   "cell_type": "code",
   "execution_count": null,
   "metadata": {},
   "outputs": [],
   "source": [
    "regular_trajectories = filter!(x -> x != top_idx, collect(1:N-1));\n",
    "regular_trajectories = filter!(x -> x != top_idxs[3], regular_trajectories);"
   ]
  },
  {
   "cell_type": "code",
   "execution_count": null,
   "metadata": {},
   "outputs": [],
   "source": [
    "figure(figsize = (4, 5))\n",
    "\n",
    "c1 = \"-C1\"\n",
    "c2 = \"-C0\"\n",
    "\n",
    "ax = subplot(411)\n",
    "for spin_nr in regular_trajectories\n",
    "\tplot(sol_t ./ sol_t[end], nx_vals[spin_nr, :], \"-k\", lw=0.75)\n",
    "end\n",
    "plot(sol_t ./ sol_t[end], nx_vals[top_idxs[3], :], c2, lw=1, label = @sprintf(\"\\$i=%i\\$\", top_idxs[3]))\n",
    "plot(sol_t ./ sol_t[end], nx_vals[top_idx, :], c1, lw=1.5, label = @sprintf(\"\\$i=%i\\$\", top_idx))\n",
    "xlim(0, 1)\n",
    "ax.set_xticklabels([])\n",
    "ylim(-0.1, 1.1)\n",
    "ylabel(\"\\$n_i^x(s)\\$\")\n",
    "legend(frameon = false)\n",
    "\n",
    "ax = subplot(412)\n",
    "for spin_nr in regular_trajectories\n",
    "\tplot(sol_t ./ T_final, nz_vals[spin_nr, :], \"-k\", lw=0.75)\n",
    "end\n",
    "plot(sol_t ./ T_final, nz_vals[top_idxs[3], :], c2, lw=1)\n",
    "plot(sol_t ./ T_final, nz_vals[top_idx, :], c1, lw=1.5)\n",
    "\n",
    "# Edwards-Anderson\n",
    "plot(coarse_times, sum([nz_coarse[spin_nr, :] .^ 2 for spin_nr in 1:N-1]) ./ (N-1), \"-C2\", lw=2.5, label=\"\\$q_{\\\\mathrm{EA}}\\$\")\n",
    "xlim(0, 1)\n",
    "ylim(-1.1, 1.1)\n",
    "ax.set_xticklabels([])\n",
    "ylabel(\"\\$n_i^z(s)\\$\")\n",
    "legend(frameon = false)\n",
    "\n",
    "ax = subplot(413)\n",
    "for spin_nr in regular_trajectories\n",
    "\tplot(coarse_times, (abs.(complex_coordinate(spin_nr, nx_coarse, ny_coarse, nz_coarse))), \"-k\", lw=0.75)\n",
    "end\n",
    "plot(coarse_times, (abs.(complex_coordinate(top_idxs[3], nx_coarse, ny_coarse, nz_coarse))), c2, lw=1, label = @sprintf(\"\\$i=%i\\$\", top_idxs[3]))\n",
    "plot(coarse_times, (abs.(complex_coordinate(top_idx, nx_coarse, ny_coarse, nz_coarse))), c1, lw=1.5, label = @sprintf(\"\\$i=%i\\$\", top_idx))\n",
    "\n",
    "xlim(0, 1)\n",
    "ylim(0, 1.5)\n",
    "ax.set_xticklabels([])\n",
    "ylabel(\"\\$|z_i(s)|\\$\")\n",
    "\n",
    "ax = subplot(414)\n",
    "\n",
    "for spin_nr in regular_trajectories\n",
    "\tplot(coarse_times, magnetizations[spin_nr, :], \"-k\", lw=0.75)\n",
    "end\n",
    "plot(coarse_times, magnetizations[top_idxs[3], :], c2, lw=1, label = @sprintf(\"\\$i=%i\\$\", top_idxs[3]))\n",
    "plot(coarse_times, magnetizations[top_idx, :], c1, lw=1.5, label = @sprintf(\"\\$i=%i\\$\", top_idx))\n",
    "\n",
    "# for spin_nr in regular_trajectories\n",
    "# \tplot(coarse_times, magnetizations[spin_nr, :] ./ mf_problem.local_fields[spin_nr], \"-k\", lw=0.75)\n",
    "# end\n",
    "# plot(coarse_times, magnetizations[top_idxs[3], :] ./ mf_problem.local_fields[top_idxs[3]], c2, lw=1, label = @sprintf(\"\\$i=%i\\$\", top_idxs[3]))\n",
    "# plot(coarse_times, magnetizations[top_idx, :] ./ mf_problem.local_fields[top_idx], c1, lw=1.5, label = @sprintf(\"\\$i=%i\\$\", top_idx))\n",
    "xlim(0.0, 1)\n",
    "ylim(-3, 3)\n",
    "xlabel(\"\\$s\\$\")\n",
    "ylabel(\"\\$m_i(s)\\$\")\n",
    "\n",
    "tight_layout(pad=0.1)\n",
    "display(gcf())\n",
    "# savefig(PLOT_PATH * @sprintf(\"mean_fields_N_%i_seed_%i.pdf\", N, seed), dpi=256, bbox_inches=\"tight\")\n",
    "PythonPlot.close();"
   ]
  },
  {
   "cell_type": "markdown",
   "metadata": {},
   "source": [
    "## Energies"
   ]
  },
  {
   "cell_type": "code",
   "execution_count": null,
   "metadata": {},
   "outputs": [],
   "source": [
    "sigma_star = sign.(sol_u[end, 3, :])\n",
    "h = mf_problem.local_fields\n",
    "J = mf_problem.couplings\n",
    "E = sum([-h[l] * sigma_star[l] for l in 1:N-1]) + sum([-J[i, j] * sigma_star[i] * sigma_star[j] for i in 1:N-1 for j in (i+1):N-1])"
   ]
  },
  {
   "cell_type": "code",
   "execution_count": null,
   "metadata": {},
   "outputs": [],
   "source": [
    "[λ[k, :][end] for k in 1:6] |> println"
   ]
  },
  {
   "cell_type": "code",
   "execution_count": null,
   "metadata": {},
   "outputs": [],
   "source": [
    "isapprox.([λ[k, :][end] for k in 1:6], E, atol=1e-5) |> println"
   ]
  },
  {
   "cell_type": "code",
   "execution_count": null,
   "metadata": {},
   "outputs": [],
   "source": [
    "top_idxs"
   ]
  },
  {
   "cell_type": "code",
   "execution_count": null,
   "metadata": {},
   "outputs": [],
   "source": [
    "for spin_idx in 1:N-1\n",
    "\tsigma_star_flip = sign.(sol_u[end, 3, :])\n",
    "\tsigma_star_flip[spin_idx] = (-1) * sigma_star_flip[spin_idx]\n",
    "\tE_flip = sum([-h[l] * sigma_star_flip[l] for l in 1:N-1]) + sum([-J[i, j] * sigma_star_flip[i] * sigma_star_flip[j] for i in 1:N-1 for j in (i+1):N-1])\n",
    "\tprintln(spin_idx, \": \", E_flip)\n",
    "end"
   ]
  },
  {
   "cell_type": "markdown",
   "metadata": {},
   "source": [
    "## Statistical Green function"
   ]
  },
  {
   "cell_type": "code",
   "execution_count": null,
   "metadata": {},
   "outputs": [],
   "source": [
    "T_final = 32000\n",
    "tol = 1e-8\n",
    "all_flucs = h5read(folder_name * @sprintf(\"results_random_SK_instance_N_%i_seed_%i.h5\", N, seed), @sprintf(\"fluctuations_T_final_%.0f_tol_1e%.0f_npts_%i\", T_final, log10(1e-8), npts));"
   ]
  },
  {
   "cell_type": "code",
   "execution_count": null,
   "metadata": {},
   "outputs": [],
   "source": [
    "regular_trajectories = filter!(x -> x != top_idxs[1], collect(1:N-1));\n",
    "regular_trajectories = filter!(x -> x != top_idxs[3], regular_trajectories);\n",
    "\n",
    "scale_factors = [1 .+ abs.(complex_coordinate(i, nx_coarse, ny_coarse, nz_coarse)) .^ 2 for i in 1:N-1]\n",
    "mean_flucs = mean([smoothen(all_flucs[i, :], coarse_times) for i in regular_trajectories], dims=1)[1];\n",
    "mean_scaled_flucs = mean([smoothen(scale_factors[i] .^ 2 .* all_flucs[i, :], coarse_times) for i in regular_trajectories], dims = 1)[1];"
   ]
  },
  {
   "cell_type": "code",
   "execution_count": null,
   "metadata": {},
   "outputs": [],
   "source": [
    "inv_mag = 1 ./ (magnetizations[top_idx, :] .|> abs)\n",
    "inner_navg = 64\n",
    "outer_navg = 64\n",
    "# inv_mag = smoothen(smoothen(magnetizations[top_idx, :], coarse_times, navg=inner_navg) .|> abs, coarse_times, navg=outer_navg)\n",
    "scale_factor = 1 .+ abs.(complex_coordinate(top_idx, nx_coarse, ny_coarse, nz_coarse)) .^ 2\n",
    "crit_flucs = smoothen(scale_factor.^2 .* all_flucs[top_idx, :], coarse_times, navg=256) .* inv_mag;"
   ]
  },
  {
   "cell_type": "code",
   "execution_count": null,
   "metadata": {},
   "outputs": [],
   "source": [
    "figure(figsize = (4, 4))\n",
    "ax = subplot(211)\n",
    "axvline(gaploc, ls = \"-\", c=\"k\", alpha=0.2, lw=5)\n",
    "semilogy(exact_times, abs.(overlap_01_z .- overlap_01_x) ./ ((λ[2, :] .- λ[1, :])), label = \"\\$\\\\alpha = 1\\$\")\n",
    "semilogy(exact_times, abs.(overlap_02_z .- overlap_02_x) ./ ((λ[3, :] .- λ[1, :])), label=\"\\$\\\\alpha = 2\\$\", lw=2)\n",
    "xlim(0.0, 1.0)\n",
    "ylim(1e-1, 1e3)\n",
    "ax.set_xticklabels([])\n",
    "# ylabel(\"\\$\\\\frac{|\\\\langle \\\\alpha|H_Z-H_X|0\\\\rangle|}{E_\\\\alpha - E_0}\\$\")\n",
    "ylabel(\"\\$|\\\\langle \\\\alpha|H_Z \\\\hspace{-1mm} - \\\\hspace{-0.5mm} H_X|0\\\\rangle|/(E_\\\\alpha \\\\hspace{-1mm} - \\\\hspace{-0.5mm} E_0)\\$\", fontsize=11)\n",
    "legend(frameon = false)\n",
    "\n",
    "ax = subplot(212)\n",
    "axvline(gaploc, ls = \"-\", c=\"k\", alpha=0.2, lw=5)\n",
    "plot(coarse_times, crit_flucs, c1, lw=1.5, label=@sprintf(\"\\$i_*=%s\\$\", top_idx))\n",
    "xlim(0, 1)\n",
    "# ylim(0, 5e1)\n",
    "# ax.set_yticks([0, 25, 50])\n",
    "xlabel(\"\\$s\\$\")\n",
    "ylabel(\"\\$ \\\\langle\\\\delta  z_{i_*}(s) \\\\delta \\\\bar z_{i_*}(s) \\\\rangle / |m_{i_*}(s)|\\$\", fontsize=12)\n",
    "legend(frameon = false)\n",
    "\n",
    "tight_layout(pad=0.2)\n",
    "# savefig(PLOT_PATH * @sprintf(\"metric_N_%i_seed_%i.pdf\", N, seed), dpi=256, bbox_inches=\"tight\")\n",
    "display(gcf())\n",
    "PythonPlot.close();"
   ]
  },
  {
   "cell_type": "markdown",
   "metadata": {},
   "source": [
    "## Fluctuations & Spectrum"
   ]
  },
  {
   "cell_type": "code",
   "execution_count": null,
   "metadata": {},
   "outputs": [],
   "source": [
    "figure(figsize = (7.5, 2.5))\n",
    "ax = subplot(121)\n",
    "all_colors = vcat([\"-k\", c2, c1], [\"-k\" for _ in 1:5])\n",
    "all_labels = vcat([\"\", @sprintf(\"\\$i=%s\\$\", string(2)), @sprintf(\"\\$i=%s\\$\", string(3))], [\"\" for _ in 1:5])\n",
    "for i in 1:(N-1)\n",
    "\tscale_factor = 1 # .+ abs.(complex_coordinate(i, nx_coarse, ny_coarse, nz_coarse)) .^ 2\n",
    "\tplot(coarse_times, scale_factor .^ 2 .* smoothen(all_flucs[i, :], coarse_times))#, label=all_labels[i], all_colors[i])\n",
    "\txlim(0.0, 1.0)\n",
    "\t# legend(frameon = false, handlelength = 1, ncol=1)\n",
    "end\n",
    "xlabel(\"\\$s\\$\")\n",
    "ax.set_ylabel(\"\\$ -\\\\mathrm{Im}\\\\, G^<_{ii}(s, s) \\$\")\n",
    "xlim(0, 1)\n",
    "ylim(0, 0.5)\n",
    "yticks([0.1k for k in 0:5])\n",
    "# ax.set_ylabel(\"\\$ \\\\langle\\\\delta \\\\bar z_i(s) \\\\delta z_i(s) \\\\rangle\\$\")\n",
    "\n",
    "# ax = subplot(122)\n",
    "# # for k in [t_idx]\n",
    "# # \tplot(2pi .* ωs[k], spec_sum[k], \"-k\")\n",
    "# # end\n",
    "# axvline.(bogo_spec[N:end, 16+t_idx], c=\"k\", alpha = 0.5, ls = \"--\", lw=2.5)\n",
    "# xlim(0., 1.)\n",
    "# ylim(-0.0, 1)\n",
    "# yticks([0, 0.5, 1.0])\n",
    "# xlabel(\"\\$\\\\omega\\$\")\n",
    "# ylabel(\"\\$\\\\left|\\\\mathrm{Tr}\\\\;\\\\boldsymbol{\\\\rho}(T, \\\\omega)\\\\right|\\$\", labelpad=8)\n",
    "# ax.yaxis.set_label_position(\"right\")\n",
    "# # ax.yaxis.tick_right()\n",
    "\n",
    "tight_layout(pad=0.1)\n",
    "# savefig(PLOT_PATH * @sprintf(\"statistical_and_spectral_N_%i_seed_%i.pdf\", N, seed), dpi=256, bbox_inches=\"tight\")\n",
    "display(gcf())\n",
    "PythonPlot.close();"
   ]
  },
  {
   "cell_type": "markdown",
   "metadata": {},
   "source": [
    "## More Details"
   ]
  },
  {
   "cell_type": "code",
   "execution_count": null,
   "metadata": {},
   "outputs": [],
   "source": [
    "figure(figsize = (8, 3))\n",
    "ylims = (0, 0.4)\n",
    "\n",
    "for i in 1:(N-1)÷2\n",
    "\tax = subplot(2, (N - 1) ÷ 2, i)\n",
    "\tc = \"k\"\n",
    "\tif i in [top_idx]\n",
    "\t\tc = \"C1\"\n",
    "\tend\n",
    "\tscale_factor = 1 #.+ abs.(complex_coordinate(i, nx_coarse, ny_coarse, nz_coarse)) .^ 2\n",
    "\tplot(coarse_times, scale_factor .^ 2 .* smoothen(all_flucs[i, :], coarse_times), label = @sprintf(\"\\$i=%s\\$\", string(i)), c = c)\n",
    "\txlim(0.0, 1.0)\n",
    "\tax.set_xticklabels([])\n",
    "\tylim(ylims...)\n",
    "\tif i > 1\n",
    "\t\tax.set_yticklabels([])\n",
    "\tend\n",
    "\tlegend(frameon = false, handlelength = 0)\n",
    "end\n",
    "\n",
    "ax = subplot(2, (N - 1) ÷ 2, 1)\n",
    "ax.set_ylabel(\"\\$ \\\\langle\\\\delta \\\\bar z_i(s) \\\\delta z_i(s) \\\\rangle\\$\")\n",
    "\n",
    "for i in (N-1)÷2+1:N-1\n",
    "\tax = subplot(2, (N - 1) ÷ 2, i)\n",
    "\tc = \"k\"\n",
    "\tif i in [top_idx]\n",
    "\t\tc = \"C1\"\n",
    "\tend\n",
    "\tscale_factor = 1 #.+ abs.(complex_coordinate(i, nx_coarse, ny_coarse, nz_coarse)) .^ 2\n",
    "\tplot(coarse_times, scale_factor .^ 2 .* smoothen(all_flucs[i, :], coarse_times), label = @sprintf(\"\\$i=%s\\$\", string(i)), c = c)\n",
    "\txlim(0.0, 1.0)\n",
    "\tylim(ylims...)\n",
    "\tif i > (N - 1) ÷ 2 + 1\n",
    "\t\tax.set_yticklabels([])\n",
    "\tend\n",
    "\txlabel(\"\\$s\\$\")\n",
    "\tlegend(frameon = false, handlelength = 0)\n",
    "end\n",
    "\n",
    "ax = subplot(2, (N - 1) ÷ 2, (N - 1) ÷ 2 + 1)\n",
    "ax.set_ylabel(\"\\$ \\\\langle\\\\delta \\\\bar z_i(s) \\\\delta z_i(s) \\\\rangle\\$\")\n",
    "\n",
    "tight_layout(pad=0.1)\n",
    "display(gcf())\n",
    "PythonPlot.close();"
   ]
  },
  {
   "cell_type": "code",
   "execution_count": null,
   "metadata": {},
   "outputs": [],
   "source": [
    "tol = 1e-8\n",
    "T_final = 32768.0\n",
    "npts = 4096\n",
    "coarse_times_fine = range(0, 1, npts + 1);\n",
    "all_flucs_fine = h5read(folder_name * @sprintf(\"results_random_SK_instance_N_%i_seed_%i.h5\", N, seed), @sprintf(\"fluctuations_T_final_%.0f_tol_1e%.0f_npts_%i\", T_final, log10(1e-8), npts));"
   ]
  },
  {
   "cell_type": "code",
   "execution_count": null,
   "metadata": {},
   "outputs": [],
   "source": [
    "figure(figsize = (4, 3))\n",
    "plot(coarse_times_fine, mean(all_flucs_fine, dims = 1)[1, :])\n",
    "plot(coarse_times, smoothen(mean(all_flucs, dims = 1)[1, :], coarse_times), \"-\")\n",
    "tight_layout()\n",
    "xlim(0, 1)\n",
    "ylim(0)\n",
    "display(gcf())\n",
    "tight_layout()\n",
    "PythonPlot.close();\n"
   ]
  },
  {
   "cell_type": "code",
   "execution_count": null,
   "metadata": {},
   "outputs": [],
   "source": []
  }
 ],
 "metadata": {
  "kernelspec": {
   "display_name": "Julia 1.8.5",
   "language": "julia",
   "name": "julia-1.8"
  },
  "language_info": {
   "file_extension": ".jl",
   "mimetype": "application/julia",
   "name": "julia",
   "version": "1.8.5"
  },
  "orig_nbformat": 4
 },
 "nbformat": 4,
 "nbformat_minor": 2
}
