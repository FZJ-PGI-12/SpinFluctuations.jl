{
 "cells": [
  {
   "cell_type": "markdown",
   "metadata": {},
   "source": [
    "# Scripted spectra"
   ]
  },
  {
   "cell_type": "code",
   "execution_count": null,
   "metadata": {},
   "outputs": [],
   "source": [
    "using Yao, QAOA, Random, Combinatorics, Arpack, Distributions, LinearAlgebra, Interpolations\n",
    "using JLD, HDF5, Printf\n",
    "using PyPlot\n",
    "PyPlot.plt.style.use(\"./paper.mplstyle\")\n",
    "\n",
    "using PyCall\n",
    "np = pyimport(\"numpy\")\n",
    "\n",
    "PATH = \"/home/ubuntu/Archives/\";"
   ]
  },
  {
   "cell_type": "code",
   "execution_count": null,
   "metadata": {},
   "outputs": [],
   "source": [
    "using Revise, SpinFluctuations"
   ]
  },
  {
   "cell_type": "code",
   "execution_count": null,
   "metadata": {},
   "outputs": [],
   "source": [
    "Base.show(io::IO, f::Float64) = @printf(io, \"%1.4f\", f)"
   ]
  },
  {
   "cell_type": "code",
   "execution_count": null,
   "metadata": {},
   "outputs": [],
   "source": [
    "N = 9\n",
    "pattern = r\"random_SK_instance_N_9_seed_(\\d+)\\.h5\"\n",
    "\n",
    "# N = 11\n",
    "# pattern = r\"random_SK_instance_N_11_seed_(\\d+)\\.h5\"\n",
    "\n",
    "# N = 13\n",
    "# pattern = r\"random_SK_instance_N_13_seed_(\\d+)\\.h5\"\n",
    "\n",
    "# N = 15\n",
    "# pattern = r\"random_SK_instance_N_15_seed_(\\d+)\\.h5\"\n",
    "\n",
    "subdir = \"small_gaps\"\n",
    "# subdir = \"large_gaps\"\n",
    "folder_name = PATH * @sprintf(\"data/SK_model/N_%i/%s/\", N, subdir)\n",
    "instance_names = readdir(folder_name);"
   ]
  },
  {
   "cell_type": "code",
   "execution_count": null,
   "metadata": {},
   "outputs": [],
   "source": [
    "# T_final = 32000.\n",
    "T_final = 32768.\n",
    "tol = 1e-6\n",
    "# τ_final = 2000.\n",
    "τ_final = 2048.\n",
    "\n",
    "npts_diag = 16\n",
    "T_diags = T_final .* range(0.5, 1.0, npts_diag+1)\n",
    "@sprintf(\"spectra_T_final_%i_tau_final_%i/T_%0.3f/omegas\", T_final, τ_final, T_diags[1] / T_final)"
   ]
  },
  {
   "cell_type": "code",
   "execution_count": null,
   "metadata": {},
   "outputs": [],
   "source": [
    "all_mf_Es = []\n",
    "all_exact_E0s = []\n",
    "all_exact_E1s = []\n",
    "all_ωs = []\n",
    "spec_sum = []\n",
    "\n",
    "num_plots = 100\n",
    "for instance_name in instance_names#[1:num_plots]\n",
    "    if occursin(\"results\", instance_name)\n",
    "        continue\n",
    "    end\n",
    "    try\n",
    "        seed = match(pattern, instance_name)[1]    \n",
    "\n",
    "        # mean-field solution and energy\n",
    "        J_mat = h5read(folder_name * instance_name, \"J\")\n",
    "        mf_problem = Problem(0, J_mat)\n",
    "\n",
    "        mf_sol = h5read(folder_name * \"results_\" * instance_name, @sprintf(\"mean_field_sol_T_final_%.0f_tol_1e%.0f\", T_final, log10(tol)))\n",
    "        sigma_star = sign.(mf_sol)\n",
    "        h = mf_problem.local_fields\n",
    "        J = mf_problem.couplings\n",
    "        E = sum([-h[l] * sigma_star[l] for l in 1:N-1]) + sum([-J[i, j] * sigma_star[i] * sigma_star[j] for i in 1:N-1 for j in (i+1):N-1])\n",
    "        push!(all_mf_Es, E)\n",
    "        \n",
    "        \n",
    "        # gap and spectra\n",
    "        λ = h5read(folder_name * instance_name, \"exact_ARPACK_LM_eigvals\")\n",
    "        push!(all_exact_E0s, λ[1, end])\n",
    "        push!(all_exact_E1s, λ[2, end])\n",
    "\n",
    "        gap = λ[2, :] .- λ[1, :]    \n",
    "        exact_times = range(0, 1, 33)\n",
    "        gap_idx = findfirst(x -> x == minimum(gap), gap)\n",
    "        gaploc = exact_times[gap_idx] \n",
    "        \n",
    "        # T_diags = T_final .* [gaploc - 0.1, gaploc - 0.05, gaploc]\n",
    "\n",
    "        gap_idx = gap_idx - 16 # we use only the interval [0.5, 1.0] with 16+1 points\n",
    "\n",
    "        # for k in gap_idx:gap_idx\n",
    "        for k in [gap_idx-2]\n",
    "        # for k in [4]\n",
    "            push!(all_ωs, h5read(folder_name * \"results_\" * instance_name, @sprintf(\"spectra_T_final_%i_tau_final_%i/T_%0.5f/omegas\", T_final, τ_final, T_diags[k] / T_final)))\n",
    "            push!(spec_sum, h5read(folder_name * \"results_\" * instance_name, @sprintf(\"spectra_T_final_%i_tau_final_%i/T_%0.5f/data\", T_final, τ_final, T_diags[k] / T_final)))\n",
    "        end   \n",
    "    catch\n",
    "        # printstyled(instance_name, \"\\n\", color=:red)\n",
    "    end\n",
    "end"
   ]
  },
  {
   "cell_type": "code",
   "execution_count": null,
   "metadata": {},
   "outputs": [],
   "source": [
    "num_plots = length(spec_sum)"
   ]
  },
  {
   "cell_type": "code",
   "execution_count": null,
   "metadata": {},
   "outputs": [],
   "source": [
    "ΔE = all_mf_Es .- all_exact_E0s\n",
    "ΔE1 = all_mf_Es .- all_exact_E1s\n",
    "mean(ΔE) |> println\n",
    "mean(ΔE1) |> println\n",
    "findall(x -> x == 0, ΔE) |> length |> println\n",
    "findall(x -> isapprox(x, 0.0, atol=1e-1), ΔE) |> length |> println\n",
    "findall(x -> isapprox(x, 0.0, atol=1e-1), ΔE1) |> length |> println"
   ]
  },
  {
   "cell_type": "code",
   "execution_count": null,
   "metadata": {},
   "outputs": [],
   "source": [
    "num_bins = 64\n",
    "counts, bins = np.histogram(log.(abs.(ΔE) .+ 1.0im), bins=num_bins)\n",
    "bins = real.(bins)\n",
    "\n",
    "# PyPlot.rc(\"axes\", prop_cycle=PyPlot.plt.cycler(color=[\"slategray\", \"midnightblue\", \"seagreen\", \"darkcyan\"]))\n",
    "\n",
    "figure(figsize=(4, 3))\n",
    "hist(bins[1:end-1], bins, weights=counts/length(ΔE))\n",
    "# legend(frameon=false)\n",
    "xlim(0, 0.2)\n",
    "ylim(0, 0.5)\n",
    "xlabel(\"\\$\\\\ln(E_* - E_0)\\$\")\n",
    "ylabel(\"\\$P(E_*)\\$\")\n",
    "tight_layout()\n",
    "# savefig(@sprintf(\"../plots/Histogram_MAX2SAT_L_%i.pdf\", L))"
   ]
  },
  {
   "cell_type": "code",
   "execution_count": null,
   "metadata": {},
   "outputs": [],
   "source": [
    "num_bins = 64\n",
    "counts, bins = np.histogram(log.(abs.(ΔE1) .+ 1.0im), bins=num_bins)\n",
    "bins = real.(bins)\n",
    "\n",
    "# PyPlot.rc(\"axes\", prop_cycle=PyPlot.plt.cycler(color=[\"slategray\", \"midnightblue\", \"seagreen\", \"darkcyan\"]))\n",
    "\n",
    "figure(figsize=(4, 3))\n",
    "hist(bins[1:end-1], bins, weights=counts/length(ΔE1))\n",
    "# legend(frameon=false)\n",
    "xlim(0, 0.2)\n",
    "ylim(0, 1.)\n",
    "xlabel(\"\\$\\\\ln(E_* - E_0)\\$\")\n",
    "ylabel(\"\\$P(E_*)\\$\")\n",
    "tight_layout()\n",
    "# savefig(@sprintf(\"../plots/Histogram_MAX2SAT_L_%i.pdf\", L))"
   ]
  },
  {
   "cell_type": "code",
   "execution_count": null,
   "metadata": {},
   "outputs": [],
   "source": [
    "# map data to functions\n",
    "spectral_sum_fs = []\n",
    "for (k, (ωs, spec)) in enumerate(zip(all_ωs, spec_sum))\n",
    "    push!(spectral_sum_fs, linear_interpolation(ωs, spec, extrapolation_bc=Line()))\n",
    "end"
   ]
  },
  {
   "cell_type": "code",
   "execution_count": null,
   "metadata": {},
   "outputs": [],
   "source": [
    "xlim_vals = (-0.05, 0.4)\n",
    "new_ωs = range(xlim_vals..., 2001)\n",
    "spectral_average = mean([map(spectral_sum_fs[k], new_ωs) for k in 1:length(spectral_sum_fs)]);"
   ]
  },
  {
   "cell_type": "code",
   "execution_count": null,
   "metadata": {},
   "outputs": [],
   "source": [
    "figure(figsize=(4, 3))\n",
    "subplot(111)\n",
    "plot(new_ωs, spectral_average, \"-k\", ms=2)    \n",
    "xlim(xlim_vals...)\n",
    "ylim(-0., 0.04)\n",
    "xlabel(\"\\$\\\\nu\\$\")\n",
    "ylabel(\"Ensemble-averaged spectrum\", fontsize=12)\n",
    "tight_layout()"
   ]
  },
  {
   "cell_type": "code",
   "execution_count": null,
   "metadata": {},
   "outputs": [],
   "source": []
  },
  {
   "cell_type": "code",
   "execution_count": null,
   "metadata": {},
   "outputs": [],
   "source": [
    "xlim_vals = (-0.05, 0.1)\n",
    "fig, axs = subplots(figsize=(5, 50), nrows=num_plots, ncols=1)\n",
    "\n",
    "for (k, (ωs, spec)) in enumerate(zip(all_ωs, spec_sum))\n",
    "    ax = axs[k]     \n",
    "    ax.plot(ωs, spec, \"-\")\n",
    "\n",
    "    ax.set_xlim(xlim_vals...)\n",
    "    ax.set_ylim(0, 0.05)  \n",
    "    ax.set_xticks(range(xlim_vals..., 7))  \n",
    "    ax.set_xticklabels([])\n",
    "    # ax.set_ylabel(@sprintf(\"\\$\\\\rho_{%i%i}(T, \\\\omega)\\$\", idx, idx))\n",
    "    # ax.legend(frameon=false, handlelength=0, fontsize=12)\n",
    "    if k%2 == 0\n",
    "        ax.yaxis.tick_right()\n",
    "    end\n",
    "    ax.tick_params(axis=\"y\", labelsize=10)\n",
    "end\n",
    "ax = subplot(num_plots, 1, num_plots)\n",
    "ax.set_xlabel(\"\\$\\\\nu\\$\")\n",
    "ax.set_xticklabels(round.(range(xlim_vals..., 7), digits=3))\n",
    "\n",
    "subplots_adjust(wspace=0.5, hspace=0.16)"
   ]
  },
  {
   "cell_type": "code",
   "execution_count": null,
   "metadata": {},
   "outputs": [],
   "source": []
  }
 ],
 "metadata": {
  "kernelspec": {
   "display_name": "Julia 1.8.5",
   "language": "julia",
   "name": "julia-1.8"
  },
  "language_info": {
   "file_extension": ".jl",
   "mimetype": "application/julia",
   "name": "julia",
   "version": "1.8.5"
  },
  "orig_nbformat": 4
 },
 "nbformat": 4,
 "nbformat_minor": 2
}
