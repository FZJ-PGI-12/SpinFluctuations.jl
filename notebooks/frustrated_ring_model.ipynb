{
 "cells": [
  {
   "cell_type": "markdown",
   "metadata": {},
   "source": [
    "# Frustrated Ring Model\n",
    "\n",
    "https://doi.org/10.1088/2058-9565/acfbaa"
   ]
  },
  {
   "cell_type": "code",
   "execution_count": null,
   "metadata": {},
   "outputs": [],
   "source": [
    "using QAOA, Distributions, Interpolations, LinearAlgebra, Arpack\n",
    "using HDF5, Printf\n",
    "using PythonPlot\n",
    "PythonPlot.matplotlib.style.use(\"./paper.mplstyle\")\n",
    "PythonPlot.rc(\"axes\", prop_cycle = PythonPlot.matplotlib.cycler(color = [\"#2D5FAA\", \"#B7293F\", \"#438E6A\", \"#F7BD2E\", \"#F16C37\"]))\n",
    "\n",
    "PATH = \"/home/ubuntu/Archives/\"\n",
    "PLOT_PATH = \"/home/ubuntu/Archives/plots/SK_model/paper/\";"
   ]
  },
  {
   "cell_type": "code",
   "execution_count": null,
   "metadata": {},
   "outputs": [],
   "source": [
    "using Revise, SpinFluctuations"
   ]
  },
  {
   "cell_type": "code",
   "execution_count": null,
   "metadata": {},
   "outputs": [],
   "source": [
    "Base.show(io::IO, f::Float64) = @printf(io, \"%1.4f\", f)"
   ]
  },
  {
   "cell_type": "code",
   "execution_count": null,
   "metadata": {},
   "outputs": [],
   "source": [
    "all_data = Dict();"
   ]
  },
  {
   "cell_type": "code",
   "execution_count": null,
   "metadata": {},
   "outputs": [],
   "source": [
    "# N = 11\n",
    "N = 13\n",
    "# N = 15\n",
    "N = 17\n",
    "# N = 19\n",
    "N = 101\n",
    "@assert N % 2 != 0\n",
    "nev=32\n",
    "keep_EVs = 4;"
   ]
  },
  {
   "cell_type": "code",
   "execution_count": null,
   "metadata": {},
   "outputs": [],
   "source": [
    "data_N = Dict();"
   ]
  },
  {
   "cell_type": "code",
   "execution_count": null,
   "metadata": {},
   "outputs": [],
   "source": [
    "J = 1.\n",
    "J_L = 0.5\n",
    "J_R = 0.45;"
   ]
  },
  {
   "cell_type": "code",
   "execution_count": null,
   "metadata": {},
   "outputs": [],
   "source": [
    "J_mat = zeros(N, N)\n",
    "for n in 1:(N - 1) ÷ 2\n",
    "    J_mat[n, n + 1] = J\n",
    "end\n",
    "J_mat[(N - 1) ÷ 2, (N + 1) ÷ 2] = J_L \n",
    "J_mat[(N + 1) ÷ 2, (N + 3) ÷ 2] = J_L  \n",
    "for n in (N + 3) ÷ 2:N-1\n",
    "    J_mat[n, n + 1] = J\n",
    "end\n",
    "J_mat[1, N] = -J_R\n",
    "J_mat = J_mat + transpose(J_mat);"
   ]
  },
  {
   "cell_type": "code",
   "execution_count": null,
   "metadata": {},
   "outputs": [],
   "source": [
    "mf_problem = Problem(0, J_mat);\n",
    "full_problem = Problem(0, zeros(size(J_mat)[1]), J_mat)\n",
    "fix_idx = (N + 1) ÷ 2\n",
    "smart_problem = Problem(0, J_mat[1:end .!= fix_idx, fix_idx], J_mat[1:end .!= fix_idx, 1:end .!= fix_idx]);"
   ]
  },
  {
   "cell_type": "code",
   "execution_count": null,
   "metadata": {},
   "outputs": [],
   "source": [
    "# T_final = 2.0^15\n",
    "T_final = 2.0^16\n",
    "# npts = 2048\n",
    "npts = 4096\n",
    "coarse_times = range(0, 1, npts + 1);\n",
    "exact_times = range(0, 1, 129);"
   ]
  },
  {
   "cell_type": "markdown",
   "metadata": {},
   "source": [
    "## Exact gap"
   ]
  },
  {
   "cell_type": "code",
   "execution_count": null,
   "metadata": {},
   "outputs": [],
   "source": [
    "# fixing spin\n",
    "eigeninfo = map(s -> (eigs(-SpinFluctuations.hamiltonian(1 - s, s, smart_problem.local_fields, smart_problem.couplings), nev=nev, which=:LM, maxiter=10000)), exact_times)\n",
    "H_x = SpinFluctuations.hamiltonian(1, 0, smart_problem.local_fields, smart_problem.couplings)\n",
    "H_z = SpinFluctuations.hamiltonian(0, 1, smart_problem.local_fields, smart_problem.couplings)\n",
    "all_eigvecs = zeros(length(exact_times), 2^(N-1), keep_EVs)\n",
    "\n",
    "λs = [vals[1] for vals in eigeninfo]\n",
    "λ = sort(reduce(hcat, λs), dims=1)\n",
    "\n",
    "gap = λ[2, :] .- λ[1, :];"
   ]
  },
  {
   "cell_type": "code",
   "execution_count": null,
   "metadata": {},
   "outputs": [],
   "source": [
    "# not fixing spin\n",
    "eigeninfo = map(s -> (eigs(-SpinFluctuations.hamiltonian(1 - s, s, full_problem.local_fields, full_problem.couplings), nev=nev, which=:LM, maxiter=10000)), exact_times)\n",
    "all_eigvecs = zeros(length(exact_times), 2^(N), keep_EVs)\n",
    "H_x = SpinFluctuations.hamiltonian(1, 0, full_problem.local_fields, full_problem.couplings)\n",
    "H_z = SpinFluctuations.hamiltonian(0, 1, full_problem.local_fields, full_problem.couplings)\n",
    "\n",
    "λs = [vals[1] for vals in eigeninfo]\n",
    "λ = sort(reduce(hcat, λs), dims=1)\n",
    "\n",
    "gap = λ[3, :] .- λ[1, :];"
   ]
  },
  {
   "cell_type": "code",
   "execution_count": null,
   "metadata": {},
   "outputs": [],
   "source": [
    "for k in 1:length(exact_times)\n",
    "    sorting_perm = sortperm(λs[k])\n",
    "    all_eigvecs[k, :, :] .= eigeninfo[k][2][:, sorting_perm[1:keep_EVs]]\n",
    "end"
   ]
  },
  {
   "cell_type": "code",
   "execution_count": null,
   "metadata": {},
   "outputs": [],
   "source": [
    "mingap = minimum(gap)\n",
    "mingap |> println\n",
    "gap_idx = findfirst(x -> x == mingap, gap)\n",
    "gaploc = exact_times[gap_idx]\n",
    "gaploc |> println"
   ]
  },
  {
   "cell_type": "code",
   "execution_count": null,
   "metadata": {},
   "outputs": [],
   "source": [
    "gs = [all_eigvecs[k, :, 1] for k in 1:length(exact_times)]\n",
    "first_ex = [all_eigvecs[k, :, 2] for k in 1:length(exact_times)]\n",
    "second_ex = [all_eigvecs[k, :, 3] for k in 1:length(exact_times)]\n",
    "third_ex = [all_eigvecs[k, :, 4] for k in 1:length(exact_times)]\n",
    "\n",
    "overlap_01_x = [first_ex[k]' * H_x * gs[k] for k in 1:length(exact_times)]\n",
    "overlap_01_z = [first_ex[k]' * H_z * gs[k] for k in 1:length(exact_times)]\n",
    "\n",
    "overlap_02_x = [second_ex[k]' * H_x * gs[k] for k in 1:length(exact_times)]\n",
    "overlap_02_z = [second_ex[k]' * H_z * gs[k] for k in 1:length(exact_times)]\n",
    "\n",
    "overlap_03_x = [third_ex[k]' * H_x * gs[k] for k in 1:length(exact_times)]\n",
    "overlap_03_z = [third_ex[k]' * H_z * gs[k] for k in 1:length(exact_times)]\n",
    "\n",
    "overlap_12_x = [second_ex[k]' * H_x * first_ex[k] for k in 1:length(exact_times)]\n",
    "overlap_12_z = [second_ex[k]' * H_z * first_ex[k] for k in 1:length(exact_times)]\n",
    "\n",
    "overlap_13_x = [third_ex[k]' * H_x * first_ex[k] for k in 1:length(exact_times)]\n",
    "overlap_13_z = [third_ex[k]' * H_z * first_ex[k] for k in 1:length(exact_times)];"
   ]
  },
  {
   "cell_type": "code",
   "execution_count": null,
   "metadata": {},
   "outputs": [],
   "source": [
    "data_N[\"eigvals\"] = [λ[i, :] for i in 1:4]\n",
    "data_N[\"eigvecs\"] = [all_eigvecs[i, :, :] for i in 1:4];\n",
    "data_N[\"overlaps\"] = [abs.(overlap_01_z .- overlap_01_x), abs.(overlap_02_z .- overlap_02_x), abs.(overlap_03_z .- overlap_03_x)]\n",
    "data_N[\"g_alphas\"] = [abs.(overlap_01_z .- overlap_01_x) ./ ((λ[2, :] .- λ[1, :]).^2), abs.(overlap_02_z .- overlap_02_x) ./ ((λ[3, :] .- λ[1, :]).^2)];"
   ]
  },
  {
   "cell_type": "code",
   "execution_count": null,
   "metadata": {},
   "outputs": [],
   "source": [
    "all_data[N] = data_N;"
   ]
  },
  {
   "cell_type": "code",
   "execution_count": null,
   "metadata": {},
   "outputs": [],
   "source": [
    "all_data[N][\"g_alphas\"]"
   ]
  },
  {
   "cell_type": "markdown",
   "metadata": {},
   "source": [
    "#### Fixing spin"
   ]
  },
  {
   "cell_type": "code",
   "execution_count": null,
   "metadata": {},
   "outputs": [],
   "source": [
    "figure(figsize = (4, 4))\n",
    "\n",
    "ax = subplot(211)\n",
    "axvline(gaploc, ls = \"-\", c=\"k\", alpha=0.2, lw=6)\n",
    "for i in 1:10\n",
    "\tif i == 2 \n",
    "\t\tplot(exact_times, (λ[i, :] .- λ[1, :]), lw = 2.0, alpha = 1)\n",
    "\telseif i == 3\t\t\n",
    "\t\tplot(exact_times, (λ[i, :] .- λ[1, :]), lw = 1.25, alpha = 1)\t\n",
    "\telse\n",
    "\t\tplot(exact_times, (λ[i, :] .- λ[1, :]), \"-k\", lw=0.75, alpha = 1)\n",
    "\tend\n",
    "end\n",
    "plot([], [], \"-k\", lw = 1, label = @sprintf(\"\\$N=%i\\$\", N-1))\n",
    "xlim(0.0, 1.0)\n",
    "ax.set_yticks(2 .* [0, 0.5, 1.0])\n",
    "ylim(0, 2)\n",
    "ax.set_xticklabels([])\n",
    "ylabel(\"\\$E_\\\\alpha - E_0\\$\")\n",
    "legend(frameon = false, handlelength=1., handletextpad=0.5, borderaxespad=0.2)\n",
    "\n",
    "ax = subplot(212)\n",
    "axvline(gaploc, ls = \"-\", c=\"k\", alpha=0.2, lw=6)\n",
    "ax.semilogy(exact_times, abs.(overlap_02_z .- overlap_02_x) ./ ((λ[3, :] .- λ[1, :]).^2), label=\"\\$\\\\alpha = 2\\$\", \"-C1\", lw=1.25)\n",
    "ax.semilogy(exact_times, abs.(overlap_01_z .- overlap_01_x) ./ ((λ[2, :] .- λ[1, :]).^2), label=\"\\$\\\\alpha = 1\\$\", \"-C0\", lw=2.0)\n",
    "\n",
    "ax.set_xlim(0.0, 1.0)\n",
    "# ax.set_ylim(1e-1, 1e5)\n",
    "ax.set_ylim(1e-1, 1e2)\n",
    "# ax.set_ylim(0, 50)\n",
    "# ax.set_yticks([0, 25, 50])\n",
    "ax.set_xlabel(\"\\$s\\$\")\n",
    "ax.set_ylabel(\"\\$ g_\\\\alpha(s)\\$\")\n",
    "ax.legend(loc=\"upper left\", handlelength=1.2, handletextpad=0.5, borderaxespad=0.3)\n",
    "\n",
    "tight_layout(pad=0.25)\n",
    "savefig(PLOT_PATH * @sprintf(\"frustrated_ring_exact_spectrum_N_%i.pdf\", N-1), dpi=256, bbox_inches=\"tight\")\n",
    "display(gcf())\n",
    "PythonPlot.close();"
   ]
  },
  {
   "cell_type": "markdown",
   "metadata": {},
   "source": [
    "#### Not fixing spin"
   ]
  },
  {
   "cell_type": "code",
   "execution_count": null,
   "metadata": {},
   "outputs": [],
   "source": [
    "figure(figsize = (4, 4))\n",
    "\n",
    "ax = subplot(211)\n",
    "axvline(gaploc, ls = \"-\", c=\"k\", alpha=0.2, lw=6)\n",
    "for i in 1:10\n",
    "\tif i == 3 \n",
    "\t\tplot(exact_times, (λ[i, :] .- λ[1, :]), lw = 2.0, alpha = 1)\n",
    "\telseif i == 4\t\t\n",
    "\t\tplot(exact_times, (λ[i, :] .- λ[1, :]), lw = 1.25, alpha = 1)\n",
    "\telse\n",
    "\t\tplot(exact_times, (λ[i, :] .- λ[1, :]), \"-k\", lw=0.75, alpha = 1)\n",
    "\tend\n",
    "end\n",
    "plot([], [], \"-k\", lw = 1, label = @sprintf(\"\\$\\\\mathcal{N}=%i\\$\", N))\n",
    "xlim(0.0, 1.0)\n",
    "ax.set_yticks(2 .* [0, 0.5, 1.0])\n",
    "ylim(0, 2)\n",
    "ax.set_xticklabels([])\n",
    "ylabel(\"\\$E_\\\\alpha - E_0\\$\")\n",
    "legend(frameon = false, handlelength=1., handletextpad=0.5, borderaxespad=0.2)\n",
    "\n",
    "ax = subplot(212)\n",
    "axvline(gaploc, ls = \"-\", c=\"k\", alpha=0.2, lw=6)\n",
    "ax.semilogy(exact_times, abs.(overlap_03_z .- overlap_03_x) ./ ((λ[4, :] .- λ[1, :]).^2), label=\"\\$\\\\alpha = 3\\$\", \"-C1\", lw=1.25)\n",
    "ax.semilogy(exact_times, abs.(overlap_02_z .- overlap_02_x) ./ ((λ[3, :] .- λ[1, :]).^2), label=\"\\$\\\\alpha = 2\\$\", \"-C0\", lw=2.0)\n",
    "\n",
    "# ax.plot(exact_times, abs.(overlap_13_z .- overlap_13_x) ./ ((λ[4, :] .- λ[1, :]).^2), \"--C1\", lw=1.25)\n",
    "# ax.plot(exact_times, abs.(overlap_12_z .- overlap_12_x) ./ ((λ[3, :] .- λ[1, :]).^2), \"--C0\", lw=1.25)\n",
    "\n",
    "ax.set_xlim(0.0, 1.0)\n",
    "ax.set_ylim(1e1, 1e4)\n",
    "# ax.set_yticks([1e0, 1e2, 1e4])\n",
    "ax.set_xlabel(\"\\$s\\$\")\n",
    "ax.set_ylabel(\"\\$ g_\\\\alpha(s)\\$\")\n",
    "ax.legend(loc=\"upper left\", handlelength=1.2, handletextpad=0.5, borderaxespad=0.3)\n",
    "\n",
    "tight_layout(pad=0.25)\n",
    "savefig(PLOT_PATH * @sprintf(\"frustrated_ring_exact_spectrum_N_%i.pdf\", N), dpi=256, bbox_inches=\"tight\")\n",
    "display(gcf())\n",
    "PythonPlot.close();"
   ]
  },
  {
   "cell_type": "markdown",
   "metadata": {},
   "source": [
    "## Mean-field trajectories"
   ]
  },
  {
   "cell_type": "code",
   "execution_count": null,
   "metadata": {},
   "outputs": [],
   "source": [
    "tol = 1e-6 \n",
    "tol = 1e-8\n",
    "schedule(t) = t / T_final\n",
    "sol = evolve_mean_field(mf_problem.local_fields, mf_problem.couplings, T_final, schedule, rtol=1e2tol, atol=tol) \n",
    "\n",
    "# get mean-field solution\n",
    "solution = S -> sign.([S[3, i] for i in 1:size(S)[2]])\n",
    "mf_sol = solution(sol(T_final));"
   ]
  },
  {
   "cell_type": "markdown",
   "metadata": {},
   "source": [
    "### Bloch coordinates, Magnetization & Complex Coordinates"
   ]
  },
  {
   "cell_type": "code",
   "execution_count": null,
   "metadata": {},
   "outputs": [],
   "source": [
    "sol_u = zeros(length(sol.u), size(sol.u[1])...)\n",
    "for i in 1:length(sol.u)\n",
    "    sol_u[i, :, :] .= sol.u[i]\n",
    "end"
   ]
  },
  {
   "cell_type": "code",
   "execution_count": null,
   "metadata": {},
   "outputs": [],
   "source": [
    "nx_vals = n_vals(\"x\", sol_u)\n",
    "ny_vals = n_vals(\"y\", sol_u)\n",
    "nz_vals = n_vals(\"z\", sol_u);"
   ]
  },
  {
   "cell_type": "code",
   "execution_count": null,
   "metadata": {},
   "outputs": [],
   "source": [
    "sol_t = sol.t\n",
    "nx_coarse = n_coarse(nx_vals, sol_t, coarse_times)\n",
    "ny_coarse = n_coarse(ny_vals, sol_t, coarse_times)\n",
    "nz_coarse = n_coarse(nz_vals, sol_t, coarse_times);"
   ]
  },
  {
   "cell_type": "code",
   "execution_count": null,
   "metadata": {},
   "outputs": [],
   "source": [
    "S_vals = [transpose(reduce(hcat, [nx_coarse[:, k], ny_coarse[:, k], nz_coarse[:, k]])) |> Matrix for k in 1:npts+1]\n",
    "magnetizations = reduce(hcat, map(S -> magnetization(S, mf_problem.local_fields, mf_problem.couplings), S_vals));"
   ]
  },
  {
   "cell_type": "code",
   "execution_count": null,
   "metadata": {},
   "outputs": [],
   "source": [
    "areas = Dict()\n",
    "EA_param = Dict()\n",
    "dts = [(x[2] - x[1]) / T_final for x in zip(coarse_times[1:end-1], coarse_times[2:end])]\n",
    "for spin_idx in 1:N-1\n",
    "\tareas[spin_idx] = sum(dts .* magnetizations[spin_idx, 2:end]) |> abs\n",
    "\n",
    "\t# Edwards-Anderson\n",
    "\tEA_param[spin_idx] = (1/(N-1)) * sum(dts .* nz_coarse[spin_idx, 2:end] .^ 2) |> abs\n",
    "end\n",
    "\n",
    "top_idxs = [k for (k, v) in sort(areas |> collect, by = x -> x[2])]\n",
    "top_idxs = [k for (k, v) in sort(EA_param |> collect, by = x -> x[2])]\n",
    "top_idx = top_idxs[1]"
   ]
  },
  {
   "cell_type": "code",
   "execution_count": null,
   "metadata": {},
   "outputs": [],
   "source": [
    "regular_trajectories = filter!(x -> x != top_idx, collect(1:N-1));"
   ]
  },
  {
   "cell_type": "code",
   "execution_count": null,
   "metadata": {},
   "outputs": [],
   "source": [
    "figure(figsize = (4, 5))\n",
    "\n",
    "c1 = \"-C1\"\n",
    "c2 = \"-C0\"\n",
    "\n",
    "ax = subplot(411)\n",
    "axvline(gaploc, ls = \"-\", c=\"k\", alpha=0.2, lw=6)\n",
    "for spin_nr in regular_trajectories\n",
    "\tplot(sol_t ./ sol_t[end], nx_vals[spin_nr, :], \"-k\", lw=0.75)\n",
    "end\n",
    "plot(sol_t ./ sol_t[end], nx_vals[top_idx, :], c1, lw=1.5, label = @sprintf(\"\\$i=%i\\$\", top_idx))\n",
    "xlim(0, 1)\n",
    "ax.set_xticklabels([])\n",
    "ylim(-0.1, 1.1)\n",
    "ylabel(\"\\$n_i^x(s)\\$\")\n",
    "legend(handlelength=1.2, handletextpad=0.5, borderaxespad=0.2)\n",
    "\n",
    "ax = subplot(412)\n",
    "axvline(gaploc, ls = \"-\", c=\"k\", alpha=0.2, lw=6)\n",
    "for spin_nr in regular_trajectories\n",
    "\tplot(sol_t ./ T_final, nz_vals[spin_nr, :], \"-k\", lw=0.75)\n",
    "end\n",
    "plot(sol_t ./ T_final, nz_vals[top_idx, :], c1, lw=1.5)\n",
    "\n",
    "# Edwards-Anderson\n",
    "plot(coarse_times, sum([nz_coarse[spin_nr, :] .^ 2 for spin_nr in 1:N-1]) ./ (N-1), \"-C0\", lw=2.5, label=\"\\$q_{\\\\mathrm{EA}}\\$\")\n",
    "xlim(0, 1)\n",
    "ylim(-1.1, 1.1)\n",
    "ax.set_xticklabels([])\n",
    "ylabel(\"\\$n_i^z(s)\\$\")\n",
    "legend(handlelength=1.2, handletextpad=0.5, borderaxespad=0.2)\n",
    "\n",
    "ax = subplot(413)\n",
    "axvline(gaploc, ls = \"-\", c=\"k\", alpha=0.2, lw=6)\n",
    "for spin_nr in regular_trajectories\n",
    "\tplot(coarse_times, (abs.(complex_coordinate(spin_nr, nx_coarse, ny_coarse, nz_coarse))), \"-k\", lw=0.75)\n",
    "end\n",
    "plot(coarse_times, (abs.(complex_coordinate(top_idx, nx_coarse, ny_coarse, nz_coarse))), c1, lw=1.5, label = @sprintf(\"\\$i=%i\\$\", top_idx))\n",
    "\n",
    "xlim(0, 1)\n",
    "ylim(0, 1.5)\n",
    "ax.set_xticklabels([])\n",
    "ylabel(\"\\$|z_i(s)|\\$\")\n",
    "\n",
    "ax = subplot(414)\n",
    "axvline(gaploc, ls = \"-\", c=\"k\", alpha=0.2, lw=6)\n",
    "for spin_nr in regular_trajectories\n",
    "\tplot(coarse_times, magnetizations[spin_nr, :], \"-k\", lw=0.75)\n",
    "end\n",
    "plot(coarse_times, magnetizations[top_idx, :], c1, lw=1.5, label = @sprintf(\"\\$i=%i\\$\", top_idx))\n",
    "\n",
    "xlim(0.0, 1)\n",
    "ylim(-3, 3)\n",
    "xlabel(\"\\$s\\$\")\n",
    "ylabel(\"\\$m_i(s)\\$\")\n",
    "\n",
    "tight_layout(pad=0.1)\n",
    "display(gcf())\n",
    "savefig(PLOT_PATH * @sprintf(\"frustrated_ring_mean_fields_N_%i.pdf\", N-1), dpi=256, bbox_inches=\"tight\")\n",
    "PythonPlot.close();"
   ]
  },
  {
   "cell_type": "markdown",
   "metadata": {},
   "source": [
    "## Energies"
   ]
  },
  {
   "cell_type": "code",
   "execution_count": null,
   "metadata": {},
   "outputs": [],
   "source": [
    "sigma_star = sign.(sol_u[end, 3, :])\n",
    "h = mf_problem.local_fields\n",
    "J = mf_problem.couplings\n",
    "E = sum([-h[l] * sigma_star[l] for l in 1:N-1]) + sum([-J[i, j] * sigma_star[i] * sigma_star[j] for i in 1:N-1 for j in (i+1):N-1])"
   ]
  },
  {
   "cell_type": "code",
   "execution_count": null,
   "metadata": {},
   "outputs": [],
   "source": [
    "E_0 = -(N - 3) + J_R - 2J_L\n",
    "E_1 = E_0 + 2(J_L - J_R)\n",
    "\n",
    "E_0 |> println\n",
    "E_1 |> println"
   ]
  },
  {
   "cell_type": "code",
   "execution_count": null,
   "metadata": {},
   "outputs": [],
   "source": [
    "[λ[k, :][end] for k in 1:6] |> println"
   ]
  },
  {
   "cell_type": "code",
   "execution_count": null,
   "metadata": {},
   "outputs": [],
   "source": [
    "isapprox.([λ[k, :][end] for k in 1:6], E, atol=1e-5) |> println"
   ]
  },
  {
   "cell_type": "markdown",
   "metadata": {},
   "source": [
    "## Statistical Green function"
   ]
  },
  {
   "cell_type": "code",
   "execution_count": null,
   "metadata": {},
   "outputs": [],
   "source": [
    "# statistical Green function\n",
    "coarse_times = range(0, 1, npts + 1)\n",
    "lyapunov_parameters = LyapunovParameters(T_final, npts, tol, tol)\n",
    "mf_sol, stat_GF = statistical_green_function(mf_problem, lyapunov_parameters)\n",
    "\n",
    "flucs = k -> (real.(1.0im .* diag(stat_GF[k])[1:mf_problem.num_qubits]) .- 1.0) ./ 2;\n",
    "all_flucs = reduce(hcat, map(flucs, 1:npts+1));"
   ]
  },
  {
   "cell_type": "code",
   "execution_count": null,
   "metadata": {},
   "outputs": [],
   "source": [
    "regular_trajectories = filter!(x -> x != top_idxs[1], collect(1:N-1));\n",
    "\n",
    "scale_factors = [1 .+ abs.(complex_coordinate(i, nx_coarse, ny_coarse, nz_coarse)) .^ 2 for i in 1:N-1]\n",
    "mean_flucs = mean([smoothen(all_flucs[i, :], coarse_times) for i in regular_trajectories], dims=1)[1];\n",
    "mean_scaled_flucs = mean([smoothen(scale_factors[i] .^ 2 .* all_flucs[i, :], coarse_times) for i in regular_trajectories], dims = 1)[1];"
   ]
  },
  {
   "cell_type": "code",
   "execution_count": null,
   "metadata": {},
   "outputs": [],
   "source": [
    "local_EA_param = 1. # nz_coarse[top_idx, :].^2\n",
    "q_EA = sum([nz_coarse[spin_nr, :] .^ 2 for spin_nr in 1:N-1]) ./ (N-1)\n",
    "scale_factor = 1 .+ abs.(complex_coordinate(top_idx, nx_coarse, ny_coarse, nz_coarse)) .^ 2\n",
    "\n",
    "top_flucs = smoothen(scale_factor.^2 .* all_flucs[top_idx, :], coarse_times, navg=256)\n",
    "# crit_flucs = smoothen(scale_factor.^2 .* all_flucs[top_idx, :] .* local_EA_param, coarse_times, navg=256);\n",
    "crit_flucs = smoothen(scale_factor.^2 .* all_flucs[top_idx, :] .* q_EA, coarse_times, navg=256);"
   ]
  },
  {
   "cell_type": "code",
   "execution_count": null,
   "metadata": {},
   "outputs": [],
   "source": [
    "maximum(abs.(overlap_01_z .- overlap_01_x) ./ ((λ[2, :] .- λ[1, :]).^2))"
   ]
  },
  {
   "cell_type": "code",
   "execution_count": null,
   "metadata": {},
   "outputs": [],
   "source": [
    "figure(figsize = (5., 5.4))\n",
    "ax = subplot(211)\n",
    "twinax = ax.twinx()\n",
    "# axvline(gaploc, ls = \"-\", c=\"k\", alpha=0.2, lw=6)\n",
    "ax.semilogy(exact_times, abs.(overlap_02_z .- overlap_02_x) ./ ((λ[3, :] .- λ[1, :]).^2), \"-C0\", label=\"\\$\\\\alpha = 2\\$\", lw=1.25)\n",
    "# ax.semilogy(exact_times, abs.(overlap_01_z .- overlap_01_x) ./ ((λ[2, :] .- λ[1, :]).^2), \"C0\", label = \"\\$\\\\alpha = 1\\$\", lw=2)\n",
    "twinax.plot(coarse_times, crit_flucs, c1, lw=1.5, label=@sprintf(\"\\$i_*=%s\\$\", top_idx))\n",
    "xlim(0.0, 1.0)\n",
    "ax.set_ylim(1e0, 1e2)\n",
    "ax.set_yticks([1e0, 1e1, 1e2])\n",
    "twinax.set_ylim(0, 0.1)\n",
    "ax.tick_params(axis=\"y\", which=\"both\", colors=\"C0\")\n",
    "twinax.spines[\"left\"].set_color(\"C0\")\n",
    "twinax.spines[\"right\"].set_color(\"C1\")\n",
    "twinax.tick_params(axis=\"y\", which=\"both\", colors=\"C1\")\n",
    "ax.set_xlabel(\"\\$s\\$\")\n",
    "# ylabel(\"\\$\\\\frac{|\\\\langle \\\\alpha|H_Z-H_X|0\\\\rangle|}{E_\\\\alpha - E_0}\\$\")\n",
    "ax.set_ylabel(\"\\$|\\\\langle \\\\alpha|\\\\hat H_Z \\\\hspace{-1mm} - \\\\hspace{-0.5mm} \\\\hat H_X|0\\\\rangle|/(E_\\\\alpha \\\\hspace{-1mm} - \\\\hspace{-0.5mm} E_0)^2\\$\")\n",
    "twinax.set_ylabel(\"\\$ q_{\\\\mathrm{EA}}(s) \\\\langle\\\\delta  z_{i_*}(s) \\\\delta \\\\bar z_{i_*}(s) \\\\rangle\\$\")\n",
    "ax.legend(loc=\"upper left\", handlelength=1.2, handletextpad=0.5, borderaxespad=0.3)\n",
    "twinax.legend(loc=\"upper right\", frameon=false, framealpha=0.9, edgecolor=\"w\", \n",
    "              handlelength=1.2, handletextpad=0.5, borderaxespad=0.3)\n",
    "\n",
    "tight_layout(pad=0.2)\n",
    "savefig(PLOT_PATH * @sprintf(\"frustrated_ring_metric_N_%i.pdf\", N-1), dpi=256, bbox_inches=\"tight\")\n",
    "display(gcf())\n",
    "PythonPlot.close();"
   ]
  },
  {
   "cell_type": "markdown",
   "metadata": {},
   "source": [
    "## Fluctuations"
   ]
  },
  {
   "cell_type": "code",
   "execution_count": null,
   "metadata": {},
   "outputs": [],
   "source": [
    "figure(figsize = (7.5, 2.5))\n",
    "\n",
    "ax = subplot(121)\n",
    "# axvline(gaploc, ls = \"-\", c=\"k\", alpha=0.2, lw=6)\n",
    "all_colors = [\"-k\" for _ in 1:N-1]\n",
    "all_colors[top_idx] = c1\n",
    "all_labels = [\"\" for _ in 1:N-1]\n",
    "all_labels[top_idx] = @sprintf(\"\\$i=%s\\$\", string(top_idx))\n",
    "for i in 1:(N-1)\n",
    "\tscale_factor = 1 .+ abs.(complex_coordinate(i, nx_coarse, ny_coarse, nz_coarse)) .^ 2\n",
    "\tplot(coarse_times,  smoothen(scale_factor .^ 2 .* all_flucs[i, :] .* q_EA, coarse_times, navg=512), label=all_labels[i], all_colors[i])\n",
    "\txlim(0.0, 1.0)\n",
    "end\n",
    "legend(frameon = false, handlelength = 1, ncol=1)\n",
    "xlabel(\"\\$s\\$\")\n",
    "# ax.set_ylabel(\"\\$ -\\\\mathrm{Im}\\\\, G^<_{ii}(s, s) \\$\")\n",
    "ax.set_ylabel(\"\\$ q_{\\\\mathrm{EA}}(s) \\\\langle\\\\delta  z_{i_*}(s) \\\\delta \\\\bar z_{i_*}(s) \\\\rangle\\$\")\n",
    "xlim(0, 1)\n",
    "ylim(0, 0.1)\n",
    "\n",
    "tight_layout(pad=0.1)\n",
    "savefig(PLOT_PATH * @sprintf(\"frustrated_ring_statistical_N_%i.pdf\", N - 1), dpi=256, bbox_inches=\"tight\")\n",
    "display(gcf())\n",
    "PythonPlot.close();"
   ]
  },
  {
   "cell_type": "markdown",
   "metadata": {},
   "source": [
    "## Testing"
   ]
  },
  {
   "cell_type": "code",
   "execution_count": null,
   "metadata": {},
   "outputs": [],
   "source": [
    "figure(figsize = (4, 4))\n",
    "\n",
    "ax = subplot(211)\n",
    "\n",
    "axvline(gaploc, ls = \"-\", c=\"k\", alpha=0.2, lw=6)\n",
    "\n",
    "# ax.semilogy(exact_times, all_data[13][\"g_alphas\"][1], label=\"\\$\\\\alpha = 1\\$\", \"-C0\", lw=2.0)\n",
    "# ax.semilogy(exact_times, all_data[15][\"g_alphas\"][1], label=\"\\$\\\\alpha = 1\\$\", \"-C0\", lw=2.0)\n",
    "ax.semilogy(exact_times, all_data[13][\"g_alphas\"][2], label=@sprintf(\"\\$N=%i\\$\", 12), \"-.C0\", lw=1.25)\n",
    "ax.semilogy(exact_times, all_data[15][\"g_alphas\"][2], label=@sprintf(\"\\$N=%i\\$\", 14), \"--C1\", lw=1.25)\n",
    "ax.semilogy(exact_times, all_data[17][\"g_alphas\"][2], label=@sprintf(\"\\$N=%i\\$\", 16), \"-C2\", lw=1.25)\n",
    "\n",
    "\n",
    "ax.set_xlim(0.0, 1.0)\n",
    "# ax.set_ylim(1e-1, 1e5)\n",
    "ax.set_ylim(1e-1, 1e2)\n",
    "# ax.set_ylim(0, 50)\n",
    "# ax.set_yticks([0, 25, 50])\n",
    "ax.set_xlabel(\"\\$s\\$\")\n",
    "ax.set_ylabel(\"\\$ g_2(s)\\$\")\n",
    "ax.legend(loc=\"upper left\", handlelength=1.2, handletextpad=0.5, borderaxespad=0.3)\n",
    "\n",
    "tight_layout(pad=0.25)\n",
    "savefig(PLOT_PATH * @sprintf(\"frustrated_ring_g_alphas.pdf\"), dpi=256, bbox_inches=\"tight\")\n",
    "display(gcf())\n",
    "PythonPlot.close();"
   ]
  },
  {
   "cell_type": "code",
   "execution_count": null,
   "metadata": {},
   "outputs": [],
   "source": [
    "figure(figsize = (4, 3))\n",
    "\n",
    "c1 = \"-C1\"\n",
    "c2 = \"-C0\"\n",
    "\n",
    "ax = subplot(211)\n",
    "\n",
    "axvline(gaploc, ls = \"-\", c=\"k\", alpha=0.2, lw=6)\n",
    "# for spin_nr in regular_trajectories\n",
    "# \tplot(sol_t ./ T_final, nz_vals[spin_nr, :], \"-k\", lw=0.75)\n",
    "# end\n",
    "semilogy(coarse_times, smoothen(nz_coarse[top_idx, :], coarse_times, navg=256), c1, lw=1.5)\n",
    "ylim(1e-7, 1e-2)\n",
    "\n",
    "ax = subplot(212)\n",
    "axvline(gaploc, ls = \"-\", c=\"k\", alpha=0.2, lw=6)\n",
    "for spin_nr in regular_trajectories\n",
    "\tplot(coarse_times, magnetizations[spin_nr, :], \"-k\", lw=0.75)\n",
    "end\n",
    "plot(coarse_times, magnetizations[top_idx, :], c1, lw=1.5, label = @sprintf(\"\\$i=%i\\$\", top_idx))\n",
    "\n",
    "xlim(0.0, 1)\n",
    "ylim(-3, 3)\n",
    "xlabel(\"\\$s\\$\")\n",
    "ylabel(\"\\$m_i(s)\\$\")\n",
    "\n",
    "tight_layout(pad=0.1)\n",
    "display(gcf())\n",
    "# savefig(PLOT_PATH * @sprintf(\"frustrated_ring_mean_fields_N_%i.pdf\", N-1), dpi=256, bbox_inches=\"tight\")\n",
    "PythonPlot.close();"
   ]
  },
  {
   "cell_type": "code",
   "execution_count": null,
   "metadata": {},
   "outputs": [],
   "source": [
    "# figure(figsize = (4, 5))\n",
    "\n",
    "# ax = subplot(311)\n",
    "# axvline(gaploc, ls = \"-\", c=\"k\", alpha=0.2, lw=6)\n",
    "# for i in 1:5\n",
    "# \t# if i == 2 \n",
    "# \t# \tplot(exact_times, (λ[i, :] .- λ[1, :]), lw = 2.0, alpha = 1)\n",
    "# \t# elseif i == 3\t\t\n",
    "# \t# \tplot(exact_times, (λ[i, :] .- λ[1, :]), lw = 2.0, alpha = 1)\t\n",
    "# \tif i == 3 \n",
    "# \t\tplot(exact_times, (λ[i, :] .- λ[1, :]), lw = 2.0, alpha = 1)\n",
    "# \telseif i == 4\t\t\n",
    "# \t\tplot(exact_times, (λ[i, :] .- λ[1, :]), lw = 2.0, alpha = 1)\n",
    "# \telse\n",
    "# \t\tplot(exact_times, (λ[i, :] .- λ[1, :]), \"-k\", lw=0.75, alpha = 1)\n",
    "# \tend\n",
    "# end\n",
    "# plot([], [], \"-k\", lw = 1, label = @sprintf(\"\\$N=%i\\$\", N-1))\n",
    "# # plot([], [], \"-k\", lw = 1, label = @sprintf(\"\\$N=%i\\$\", N))\n",
    "# xlim(0.0, 1.0)\n",
    "# ax.set_yticks(2 .* [0, 0.5, 1.0])\n",
    "# ylim(0, 2)\n",
    "# ax.set_xticklabels([])\n",
    "# ylabel(\"\\$E_\\\\alpha - E_0\\$\")\n",
    "# legend(frameon = false, handlelength=1., handletextpad=0.5, borderaxespad=0.2)\n",
    "\n",
    "# ax = subplot(312)\n",
    "# axvline(gaploc, ls = \"-\", c=\"k\", alpha=0.2, lw=6)\n",
    "# plot(exact_times, abs.(overlap_03_z .- overlap_03_x), label = \"\\$\\\\alpha = 3\\$\", \"-C1\", lw=1.25)\n",
    "# plot(exact_times, abs.(overlap_02_z .- overlap_02_x), label = \"\\$\\\\alpha = 2\\$\", \"-C0\", lw=1.25)\n",
    "\n",
    "# # plot(exact_times, abs.(overlap_02_z .- overlap_02_x), label = \"\\$\\\\alpha = 2\\$\", \"-C1\", lw=1.25)\n",
    "# # plot(exact_times, abs.(overlap_01_z .- overlap_01_x), label = \"\\$\\\\alpha = 1\\$\", \"-C0\", lw=1.0)\n",
    "\n",
    "# plot(exact_times, abs.(overlap_13_z .- overlap_13_x), \"--C1\", lw=1.25)\n",
    "# plot(exact_times, abs.(overlap_12_z .- overlap_12_x), \"--C0\", lw=1.25)\n",
    "\n",
    "# xlim(0.0, 1.0)\n",
    "# ax.set_xticklabels([])\n",
    "# # ax.set_yticks([0, 1.0])\n",
    "# ylim(0, 1)\n",
    "# # ylim(0, 2)\n",
    "# # xlabel(\"\\$s\\$\")\n",
    "# ylabel(\"\\${|\\\\langle \\\\alpha|\\\\hat H_Z- \\\\hat H_X|0\\\\rangle|}\\$\")\n",
    "\n",
    "# legend(ncol=1, handlelength=1., handletextpad=0.5, borderaxespad=0.2, loc=\"upper left\")\n",
    "\n",
    "# ax = subplot(313)\n",
    "# axvline(gaploc, ls = \"-\", c=\"k\", alpha=0.2, lw=6)\n",
    "# ax.semilogy(exact_times, abs.(overlap_03_z .- overlap_03_x) ./ ((λ[4, :] .- λ[1, :]).^2), label=\"\\$\\\\alpha = 3\\$\", \"-C1\", lw=1.25)\n",
    "# ax.semilogy(exact_times, abs.(overlap_02_z .- overlap_02_x) ./ ((λ[3, :] .- λ[1, :]).^2), label=\"\\$\\\\alpha = 2\\$\", \"-C0\", lw=1.25)\n",
    "\n",
    "# ax.plot(exact_times, abs.(overlap_13_z .- overlap_13_x) ./ ((λ[4, :] .- λ[1, :]).^2), \"--C1\", lw=1.25)\n",
    "# ax.plot(exact_times, abs.(overlap_12_z .- overlap_12_x) ./ ((λ[3, :] .- λ[1, :]).^2), \"--C0\", lw=1.25)\n",
    "\n",
    "# ax.set_xlim(0.0, 1.0)\n",
    "# # ax.set_ylim(1e-1, 1e5)\n",
    "# ax.set_ylim(1e-1, 1e8)\n",
    "# # ax.set_ylim(0, 50)\n",
    "# # ax.set_yticks([0, 25, 50])\n",
    "# ax.set_xlabel(\"\\$s\\$\")\n",
    "# ax.set_ylabel(\"\\$ g_\\\\alpha(s)\\$\")\n",
    "# ax.legend(loc=\"upper left\", handlelength=1.2, handletextpad=0.5, borderaxespad=0.3)\n",
    "\n",
    "# tight_layout(pad=0.25)\n",
    "# # savefig(PLOT_PATH * @sprintf(\"frustrated_ring_exact_spectrum_N_%i.pdf\", N-1), dpi=256, bbox_inches=\"tight\")\n",
    "# # savefig(PLOT_PATH * @sprintf(\"frustrated_ring_exact_spectrum_N_%i.pdf\", N), dpi=256, bbox_inches=\"tight\")\n",
    "# display(gcf())\n",
    "# PythonPlot.close();"
   ]
  }
 ],
 "metadata": {
  "kernelspec": {
   "display_name": "Julia 1.8.5",
   "language": "julia",
   "name": "julia-1.8"
  },
  "language_info": {
   "file_extension": ".jl",
   "mimetype": "application/julia",
   "name": "julia",
   "version": "1.8.5"
  },
  "orig_nbformat": 4
 },
 "nbformat": 4,
 "nbformat_minor": 2
}
