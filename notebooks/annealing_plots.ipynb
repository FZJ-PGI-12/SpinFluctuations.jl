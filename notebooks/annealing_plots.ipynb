{
 "cells": [
  {
   "cell_type": "markdown",
   "metadata": {},
   "source": [
    "# Simulate Annealing for Single Instances"
   ]
  },
  {
   "cell_type": "code",
   "execution_count": null,
   "metadata": {},
   "outputs": [],
   "source": [
    "using QAOA, Distributions, Interpolations, LinearAlgebra\n",
    "using HDF5, Printf\n",
    "using PythonPlot\n",
    "PythonPlot.matplotlib.style.use(\"./paper.mplstyle\")\n",
    "PythonPlot.rc(\"axes\", prop_cycle=PythonPlot.matplotlib.cycler(color=[\"#2D5FAA\", \"#B7293F\", \"#438E6A\", \"#F7BD2E\", \"#F16C37\"]))\n",
    "\n",
    "# PATH = \"../\";\n",
    "PATH = \"/home/ubuntu/Archives/\"\n",
    "PLOT_PATH = \"/home/ubuntu/Archives/plots/SK_model/paper/\";"
   ]
  },
  {
   "cell_type": "code",
   "execution_count": null,
   "metadata": {},
   "outputs": [],
   "source": [
    "using Revise, SpinFluctuations"
   ]
  },
  {
   "cell_type": "code",
   "execution_count": null,
   "metadata": {},
   "outputs": [],
   "source": [
    "Base.show(io::IO, f::Float64) = @printf(io, \"%1.8f\", f)"
   ]
  },
  {
   "cell_type": "code",
   "execution_count": null,
   "metadata": {},
   "outputs": [],
   "source": [
    "# N = 9\n",
    "N = 11\n",
    "\n",
    "patterns_dict = Dict(\n",
    "    9  => r\"random_SK_instance_N_9_seed_(\\d+)\\.h5\",\n",
    "    11 => r\"random_SK_instance_N_11_seed_(\\d+)\\.h5\",\n",
    "    13 => r\"random_SK_instance_N_13_seed_(\\d+)\\.h5\",\n",
    "    15 => r\"random_SK_instance_N_15_seed_(\\d+)\\.h5\",\n",
    "    17 => r\"random_SK_instance_N_17_seed_(\\d+)\\.h5\",\n",
    "    19 => r\"random_SK_instance_N_19_seed_(\\d+)\\.h5\"\n",
    ");\n",
    "\n",
    "subdir = \"small_gaps\"\n",
    "# subdir = \"large_gaps\"\n",
    "folder_name = PATH * @sprintf(\"data/SK_model/N_%i/%s/\", N, subdir)\n",
    "instance_names = readdir(folder_name);"
   ]
  },
  {
   "cell_type": "markdown",
   "metadata": {},
   "source": [
    "## Exact Fidelities"
   ]
  },
  {
   "cell_type": "code",
   "execution_count": null,
   "metadata": {},
   "outputs": [],
   "source": [
    "# # N = 9\n",
    "# seed = 22824\n",
    "# large_seed = 100210\n",
    "\n",
    "# N = 11\n",
    "seed = 2809\n",
    "large_seed = 100061\n",
    "\n",
    "J_mat = h5read(folder_name * @sprintf(\"random_SK_instance_N_%i_seed_%i.h5\", N, seed), \"J\")\n",
    "mf_problem = Problem(0, J_mat);\n",
    "\n",
    "λ = h5read(folder_name * @sprintf(\"random_SK_instance_N_%i_seed_%i.h5\", N, seed), \"exact_ARPACK_LM_eigvals\");"
   ]
  },
  {
   "cell_type": "code",
   "execution_count": null,
   "metadata": {},
   "outputs": [],
   "source": [
    "# # look what's inside\n",
    "# h5open(PATH * @sprintf(\"data/SK_model/N_%i/%s/\", N, \"large_gaps\") * @sprintf(\"random_SK_instance_N_%i_seed_%i.h5\", N, large_seed))"
   ]
  },
  {
   "cell_type": "code",
   "execution_count": null,
   "metadata": {},
   "outputs": [],
   "source": [
    "T_final = 32768\n",
    "tol = 1e-8;"
   ]
  },
  {
   "cell_type": "code",
   "execution_count": null,
   "metadata": {},
   "outputs": [],
   "source": [
    "exact_times = range(0, 1, 33);"
   ]
  },
  {
   "cell_type": "code",
   "execution_count": null,
   "metadata": {},
   "outputs": [],
   "source": [
    "gap = λ[2, :] .- λ[1, :];\n",
    "mingap = minimum(gap) \n",
    "mingap |> println\n",
    "gap_idx = findfirst(x -> x == mingap, gap) \n",
    "gaploc = exact_times[gap_idx] \n",
    "gaploc |> println"
   ]
  },
  {
   "cell_type": "code",
   "execution_count": null,
   "metadata": {},
   "outputs": [],
   "source": [
    "all_eigvecs = h5read(folder_name * @sprintf(\"random_SK_instance_N_%i_seed_%i.h5\", N, seed), \"exact_ARPACK_LM_lowest_eigvecs\");\n",
    "# all_eigvecs_II = h5read(folder_name * @sprintf(\"random_SK_instance_N_%i_seed_%i.h5\", N, 23583), \"exact_ARPACK_LM_lowest_eigvecs\")\n",
    "\n",
    "λ_large = h5read(PATH * @sprintf(\"data/SK_model/N_%i/%s/\", N, \"large_gaps\") * @sprintf(\"random_SK_instance_N_%i_seed_%i.h5\", N, large_seed), \"exact_ARPACK_LM_eigvals\");\n",
    "all_eigvecs_large = h5read(PATH * @sprintf(\"data/SK_model/N_%i/%s/\", N, \"large_gaps\") * @sprintf(\"random_SK_instance_N_%i_seed_%i.h5\", N, large_seed), \"exact_ARPACK_LM_lowest_eigvecs\");"
   ]
  },
  {
   "cell_type": "code",
   "execution_count": null,
   "metadata": {},
   "outputs": [],
   "source": [
    "gs = [all_eigvecs[k, :, 1] for k in 1:length(exact_times)]\n",
    "ex = [all_eigvecs[k, :, 4] for k in 1:length(exact_times)]\n",
    "# gs_II = [all_eigvecs_II[k, :, 1] for k in 1:length(exact_times)]\n",
    "gs_large = [all_eigvecs_large[k, :, 1] for k in 1:length(exact_times)]\n",
    "\n",
    "gs_fidelity = [gs[end]' * gs[k] for k in 1:length(exact_times)];\n",
    "ex_fidelity = [gs[end]' * ex[k] for k in 1:length(exact_times)];\n",
    "# gs_fidelity_II = [gs_II[end]' * gs_II[k] for k in 1:length(exact_times)]\n",
    "gs_fidelity_large = [gs_large[end]' * gs_large[k] for k in 1:length(exact_times)];"
   ]
  },
  {
   "cell_type": "code",
   "execution_count": null,
   "metadata": {},
   "outputs": [],
   "source": [
    "figure(figsize=(4., 2.))\n",
    "ax = subplot(111)\n",
    "axvline(gaploc, ls = \"-\", c=\"k\", alpha=0.2, lw=6)\n",
    "plot(exact_times, (λ_large[2, :] .- λ_large[1, :]), \"--C0\", lw=1, alpha=0.75, label=\"large gap\")\n",
    "plot(exact_times, (λ[2, :] .- λ[1, :]), \"--C1\", lw=1.5, alpha=0.75, label=\"small gap\")\n",
    "# plot(exact_times, abs.(gs_fidelity_II).^2, label=\"small gap\")\n",
    "plot(exact_times, abs.(gs_fidelity_large).^2, \"-sC0\", ms=4)\n",
    "plot(exact_times, abs.(gs_fidelity).^2, \"-oC1\", lw=1.5, ms=4)\n",
    "xlim(0., 1.)\n",
    "ylim(0, 1)\n",
    "xlabel(\"\\$s\\$\")\n",
    "ylabel(\"\\$|\\\\langle 0\\\\hspace{0.25mm}|\\\\hspace{0.25mm}\\\\psi_0\\\\rangle|^2\\$\")\n",
    "\n",
    "legend(frameon=false, handlelength=1.2, handletextpad=0.4, borderaxespad=0.1, fontsize=12, loc=\"center left\")\n",
    "\n",
    "tight_layout(pad=0.1)\n",
    "savefig(PLOT_PATH * @sprintf(\"fidelity_N_%i_seeds_%i_%i.pdf\", N, seed, large_seed), dpi=256, bbox_inches=\"tight\")\n",
    "display(gcf())\n",
    "PythonPlot.close();"
   ]
  },
  {
   "cell_type": "markdown",
   "metadata": {},
   "source": [
    "## Annealing"
   ]
  },
  {
   "cell_type": "code",
   "execution_count": null,
   "metadata": {},
   "outputs": [],
   "source": [
    "# N = 9\n",
    "seed = 23583\n",
    "seed = 131412\n",
    "\n",
    "# N = 11\n",
    "seed = 2809\n",
    "\n",
    "J_mat = h5read(folder_name * @sprintf(\"random_SK_instance_N_%i_seed_%i.h5\", N, seed), \"J\")\n",
    "mf_problem = Problem(0, J_mat);\n",
    "\n",
    "λ = h5read(folder_name * @sprintf(\"random_SK_instance_N_%i_seed_%i.h5\", N, seed), \"exact_ARPACK_LM_eigvals\");"
   ]
  },
  {
   "cell_type": "code",
   "execution_count": null,
   "metadata": {},
   "outputs": [],
   "source": [
    "sol_dict = Dict();"
   ]
  },
  {
   "cell_type": "code",
   "execution_count": null,
   "metadata": {},
   "outputs": [],
   "source": [
    "# seed = 131412\n",
    "\n",
    "# T_anneal = 2.0^8\n",
    "# p = 2^12\n",
    "\n",
    "# T_anneal = 2.0^9\n",
    "# p = 2^13\n",
    "\n",
    "# T_anneal = 2.0^10\n",
    "# p = 2^14\n",
    "\n",
    "# T_anneal = 2.0^11\n",
    "# p = 2^15\n",
    ";"
   ]
  },
  {
   "cell_type": "code",
   "execution_count": null,
   "metadata": {},
   "outputs": [],
   "source": [
    "# seed = 23583\n",
    "# seed = 2809\n",
    "\n",
    "T_anneal = 2.0^13\n",
    "p = 2^16\n",
    "\n",
    "T_anneal = 2.0^14\n",
    "p = 2^17\n",
    "\n",
    "T_anneal = 2.0^15\n",
    "p = 2^18\n",
    "\n",
    "T_anneal = 2.0^16\n",
    "p = 2^19\n",
    ";"
   ]
  },
  {
   "cell_type": "code",
   "execution_count": null,
   "metadata": {},
   "outputs": [],
   "source": [
    "sol_dict[T_anneal] = []"
   ]
  },
  {
   "cell_type": "code",
   "execution_count": null,
   "metadata": {},
   "outputs": [],
   "source": [
    "linear_schedule(t) = t / T_anneal\n",
    "\n",
    "# second-order schedule\n",
    "τ = T_anneal / p\n",
    "γ = τ .* ((1:p) .- 1/2) ./ p |> collect\n",
    "β = τ .* (1 .- (1:p) ./ p) |> collect\n",
    "β[p] = τ / (4 * p);"
   ]
  },
  {
   "cell_type": "code",
   "execution_count": null,
   "metadata": {},
   "outputs": [],
   "source": [
    "# annealing_problem = Problem(p, zeros(N), J_mat)\n",
    "annealing_problem = Problem(p, J_mat)"
   ]
  },
  {
   "cell_type": "code",
   "execution_count": null,
   "metadata": {},
   "outputs": [],
   "source": [
    "H_Z = -hamiltonian(0, 1, annealing_problem.local_fields, annealing_problem.couplings);"
   ]
  },
  {
   "cell_type": "code",
   "execution_count": null,
   "metadata": {},
   "outputs": [],
   "source": [
    "# probabs = anneal(annealing_problem, linear_schedule, T_anneal);"
   ]
  },
  {
   "cell_type": "code",
   "execution_count": null,
   "metadata": {},
   "outputs": [],
   "source": [
    "using Yao\n",
    "beta_and_gamma = vcat(β, γ)\n",
    "circ = QAOA.circuit(annealing_problem)\n",
    "circ = QAOA.dispatch_parameters!(circ, annealing_problem, beta_and_gamma)\n",
    "probabs = Yao.uniform_state(Yao.nqubits(circ)) |> circ |> Yao.probs;"
   ]
  },
  {
   "cell_type": "code",
   "execution_count": null,
   "metadata": {},
   "outputs": [],
   "source": [
    "figure(figsize=(3, 2))\n",
    "plot(probabs, label=@sprintf(\"\\$T = %0.f\\$\", T_anneal))\n",
    "xlim(0, 2^annealing_problem.num_qubits)\n",
    "ylim(0, 1)\n",
    "legend(frameon=false)\n",
    "tight_layout()\n",
    "display(gcf())\n",
    "# savefig(\"../plots/\" * @sprintf(\"mean_field_max2sat_typical_instance_%04i_from_arxiv_2206_06876_N_%i_num_clauses_%i.pdf\", idx, N, num_clauses), dpi=256, bbox_inches=\"tight\")\n",
    "PythonPlot.close();"
   ]
  },
  {
   "cell_type": "code",
   "execution_count": null,
   "metadata": {},
   "outputs": [],
   "source": [
    "max_prob = maximum(probabs)\n",
    "max_prob |> println\n",
    "sol_idxs = findall(x -> x == max_prob, probabs)"
   ]
  },
  {
   "cell_type": "code",
   "execution_count": null,
   "metadata": {},
   "outputs": [],
   "source": [
    "max_prob_2 = maximum(filter(x -> x != max_prob, probabs))\n",
    "max_prob_2 |> println\n",
    "sol_idxs_2 = findall(x -> x == max_prob_2, probabs)"
   ]
  },
  {
   "cell_type": "code",
   "execution_count": null,
   "metadata": {},
   "outputs": [],
   "source": [
    "max_prob_3 = maximum(filter(x -> x != max_prob_2, filter(x -> x != max_prob, probabs)))\n",
    "max_prob_3 |> println\n",
    "sol_idxs_3 = findall(x -> x == max_prob_3, probabs)"
   ]
  },
  {
   "cell_type": "code",
   "execution_count": null,
   "metadata": {},
   "outputs": [],
   "source": [
    "bitstrings = digits.(0:2^annealing_problem.num_qubits-1, base=2, pad=annealing_problem.num_qubits)\n",
    "vec_dict = Dict(1 => [1, 0], -1 => [0, 1]);"
   ]
  },
  {
   "cell_type": "code",
   "execution_count": null,
   "metadata": {},
   "outputs": [],
   "source": [
    "1 .- 2bitstrings[sol_idxs[1]] |> println\n",
    "1 .- 2bitstrings[sol_idxs_2[1]] |> println\n",
    "1 .- 2bitstrings[sol_idxs_3[1]] |> println"
   ]
  },
  {
   "cell_type": "code",
   "execution_count": null,
   "metadata": {},
   "outputs": [],
   "source": [
    "(1 .- 2bitstrings[sol_idxs[1]]) .* (1 .- 2bitstrings[sol_idxs_2[1]]) |> println"
   ]
  },
  {
   "cell_type": "code",
   "execution_count": null,
   "metadata": {},
   "outputs": [],
   "source": [
    "sol_vec_1 = reduce(kron, [vec_dict[1 - 2z] for z in bitstrings[sol_idxs[1]]]);\n",
    "sol_vec_2 = reduce(kron, [vec_dict[1 - 2z] for z in bitstrings[sol_idxs_2[1]]]);\n",
    "sol_vec_3 = reduce(kron, [vec_dict[1 - 2z] for z in bitstrings[sol_idxs_3[1]]]);"
   ]
  },
  {
   "cell_type": "code",
   "execution_count": null,
   "metadata": {},
   "outputs": [],
   "source": [
    "sol_vec_1' * H_Z * sol_vec_1 |> println\n",
    "sol_vec_2' * H_Z * sol_vec_2 |> println\n",
    "sol_vec_3' * H_Z * sol_vec_3 |> println"
   ]
  },
  {
   "cell_type": "code",
   "execution_count": null,
   "metadata": {},
   "outputs": [],
   "source": [
    "push!(sol_dict[T_anneal], max_prob)"
   ]
  },
  {
   "cell_type": "code",
   "execution_count": null,
   "metadata": {},
   "outputs": [],
   "source": [
    "push!(sol_dict[T_anneal], max_prob_2)"
   ]
  },
  {
   "cell_type": "code",
   "execution_count": null,
   "metadata": {},
   "outputs": [],
   "source": [
    "max_prob + max_prob_2"
   ]
  },
  {
   "cell_type": "markdown",
   "metadata": {},
   "source": [
    "### Plotting"
   ]
  },
  {
   "cell_type": "code",
   "execution_count": null,
   "metadata": {},
   "outputs": [],
   "source": [
    "sol_dict = sol_dict |> collect |> sort"
   ]
  },
  {
   "cell_type": "code",
   "execution_count": null,
   "metadata": {},
   "outputs": [],
   "source": [
    "Ts = [T for (T, p) in sol_dict]\n",
    "P_0 = [p[1] for (T, p) in sol_dict]\n",
    "P_1 = [p[2] for (T, p) in sol_dict]\n",
    "\n",
    "figure(figsize=(3, 2))\n",
    "ax = subplot(111)\n",
    "# ax.plot(Ts, P_0 .+ P_1, \"-k\")#, label=\"\\$|0\\\\rangle\\$\")\n",
    "ax.plot(Ts, P_1, \"-sC1\", label=\"\\$|1\\\\rangle\\$\")\n",
    "ax.plot(Ts, P_0, \"-oC0\", label=\"\\$|0\\\\rangle\\$\")\n",
    "ax.set_xscale(\"log\", base=2)\n",
    "ax.set_xticks(Ts)\n",
    "# ax.set_xlim(Ts[1], Ts[end])\n",
    "# ax.set_ylim(-0.1, 1.1)\n",
    "ax.set_ylim(0., 1.)\n",
    "xlabel(\"\\$T_f\\$\")\n",
    "ylabel(\"Probability\")\n",
    "legend()\n",
    "tight_layout(pad=0.1)\n",
    "savefig(PLOT_PATH * @sprintf(\"annealing_N_%i_seed_%i.pdf\", N, seed), dpi=256, bbox_inches=\"tight\")\n",
    "display(gcf())\n",
    "PythonPlot.close();"
   ]
  },
  {
   "cell_type": "markdown",
   "metadata": {},
   "source": [
    "#### Instance 23583"
   ]
  },
  {
   "cell_type": "markdown",
   "metadata": {},
   "source": [
    "Annealing results: $P_0 = 0.030$, $P_1 = 0.811$ with second-order annealing schedule at $T_f = 2^{13}$ and $p = 2^{16}$. \n",
    "\n",
    "Annealing results: $P_0 = 0.058$, $P_1 = 0.891$ with second-order annealing schedule at $T_f = 2^{14}$ and $p = 2^{17}$. \n",
    "\n",
    "Annealing results: $P_0 = 0.113$, $P_1 = 0.884$ with second-order annealing schedule at $T_f = 2^{15}$ and $p = 2^{18}$. \n",
    "\n",
    "Annealing results: $P_0 = 0.213$, $P_1 = 0.787$ with second-order annealing schedule at $T_f = 2^{16}$ and $p = 2^{19}$. \n",
    "\n",
    "\n",
    "Strings `[-1, 1, -1, 1, -1, -1, 1, -1]` and `[1, -1, -1, -1, 1, 1, -1, 1]` with Hamming distance is 7."
   ]
  },
  {
   "cell_type": "code",
   "execution_count": null,
   "metadata": {},
   "outputs": [],
   "source": [
    "Ts = [2^(13), 2^(14), 2^(15), 2^(16)]\n",
    "P_0 = [0.030, 0.058, 0.113, 0.213]\n",
    "P_1 = [0.811, 0.891, 0.884, 0.787]\n",
    "\n",
    "figure(figsize=(3, 2))\n",
    "ax = subplot(111)\n",
    "# ax.plot(Ts, P_0 .+ P_1, \"-k\")#, label=\"\\$|0\\\\rangle\\$\")\n",
    "ax.plot(Ts, P_1, \"-sC1\", label=\"\\$|1\\\\rangle\\$\")\n",
    "ax.plot(Ts, P_0, \"-oC0\", label=\"\\$|0\\\\rangle\\$\")\n",
    "ax.set_xscale(\"log\", base=2)\n",
    "ax.set_xticks(Ts)\n",
    "# ax.set_xlim(Ts[1], Ts[end])\n",
    "# ax.set_ylim(-0.1, 1.1)\n",
    "ax.set_ylim(0., 1.)\n",
    "xlabel(\"\\$T_f\\$\")\n",
    "ylabel(\"Probability\")\n",
    "legend()\n",
    "tight_layout(pad=0.1)\n",
    "# savefig(PLOT_PATH * @sprintf(\"annealing_N_%i_seed_%i.pdf\", N, seed), dpi=256, bbox_inches=\"tight\")\n",
    "display(gcf())\n",
    "PythonPlot.close();"
   ]
  },
  {
   "cell_type": "code",
   "execution_count": null,
   "metadata": {},
   "outputs": [],
   "source": []
  }
 ],
 "metadata": {
  "kernelspec": {
   "display_name": "Julia 1.8.5",
   "language": "julia",
   "name": "julia-1.8"
  },
  "language_info": {
   "file_extension": ".jl",
   "mimetype": "application/julia",
   "name": "julia",
   "version": "1.8.5"
  },
  "orig_nbformat": 4
 },
 "nbformat": 4,
 "nbformat_minor": 2
}
