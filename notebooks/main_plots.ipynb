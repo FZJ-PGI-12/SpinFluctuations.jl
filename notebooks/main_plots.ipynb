{
 "cells": [
  {
   "attachments": {},
   "cell_type": "markdown",
   "metadata": {},
   "source": [
    "# Data-Set Overview Plots"
   ]
  },
  {
   "cell_type": "code",
   "execution_count": null,
   "metadata": {},
   "outputs": [],
   "source": [
    "using QAOA, Distributions, Interpolations\n",
    "using HDF5, Printf\n",
    "using PyPlot\n",
    "PyPlot.plt.style.use(\"./paper.mplstyle\")\n",
    "\n",
    "using PyCall\n",
    "np = pyimport(\"numpy\")\n",
    "\n",
    "PATH = \"/home/ubuntu/Archives/\"\n",
    "PLOT_PATH = \"/home/ubuntu/Archives/plots/SK_model/paper/\";"
   ]
  },
  {
   "cell_type": "code",
   "execution_count": null,
   "metadata": {},
   "outputs": [],
   "source": [
    "using Revise, SpinFluctuations"
   ]
  },
  {
   "cell_type": "code",
   "execution_count": null,
   "metadata": {},
   "outputs": [],
   "source": [
    "Base.show(io::IO, f::Float64) = @printf(io, \"%1.4f\", f)"
   ]
  },
  {
   "cell_type": "markdown",
   "metadata": {},
   "source": [
    "## Small-/Large-gap data comparison"
   ]
  },
  {
   "cell_type": "code",
   "execution_count": null,
   "metadata": {},
   "outputs": [],
   "source": [
    "N = 9\n",
    "# N = 11\n",
    "# N = 13\n",
    "# N = 15\n",
    "# N = 17\n",
    "# N = 19\n",
    "\n",
    "patterns_dict = Dict(\n",
    "    9 => r\"random_SK_instance_N_9_seed_(\\d+)\\.h5\",\n",
    "    11 => r\"random_SK_instance_N_11_seed_(\\d+)\\.h5\",\n",
    "    13 => r\"random_SK_instance_N_13_seed_(\\d+)\\.h5\",\n",
    "    15 => r\"random_SK_instance_N_15_seed_(\\d+)\\.h5\",\n",
    "    17 => r\"random_SK_instance_N_17_seed_(\\d+)\\.h5\",\n",
    "    19 => r\"random_SK_instance_N_19_seed_(\\d+)\\.h5\"\n",
    ");"
   ]
  },
  {
   "cell_type": "markdown",
   "metadata": {},
   "source": [
    "### Loading"
   ]
  },
  {
   "cell_type": "code",
   "execution_count": null,
   "metadata": {},
   "outputs": [],
   "source": [
    "npts = 2048\n",
    "coarse_times = range(0, 1, npts + 1)\n",
    "\n",
    "exact_times = range(0, 1, 33);"
   ]
  },
  {
   "cell_type": "code",
   "execution_count": null,
   "metadata": {},
   "outputs": [],
   "source": [
    "subdir = \"small_gaps\"\n",
    "# subdir = \"large_gaps\"\n",
    "folder_name = PATH * @sprintf(\"data/SK_model/N_%i/%s/\", N, subdir)\n",
    "instance_names = readdir(folder_name)\n",
    "filter!(x -> !occursin(\"results\", x), instance_names)\n",
    "filter!(x -> !occursin(\"undecided\", x), instance_names)\n",
    "filter!(x -> !occursin(\"frustrated\", x), instance_names);"
   ]
  },
  {
   "cell_type": "code",
   "execution_count": null,
   "metadata": {},
   "outputs": [],
   "source": [
    "# most_frustrated_spins = Dict(zip(h5read(folder_name * @sprintf(\"most_undecided_spins_N_%i.h5\", N), @sprintf(\"T_final_%.0f_tol_1e%.0f/seeds\", 32768., log10(1e-6))),\n",
    "#                                       h5read(folder_name * @sprintf(\"most_undecided_spins_N_%i.h5\", N), @sprintf(\"T_final_%.0f_tol_1e%.0f/spin_idxs\", 32768., log10(1e-6)))));"
   ]
  },
  {
   "cell_type": "code",
   "execution_count": null,
   "metadata": {},
   "outputs": [],
   "source": [
    "most_frustrated_spins_seeds = h5read(folder_name * @sprintf(\"most_frustrated_spins_N_%i.h5\", N), @sprintf(\"T_final_%.0f_tol_1e%.0f/seeds\", 32768., log10(1e-6)))\n",
    "most_frustrated_spins_idxs = h5read(folder_name * @sprintf(\"most_frustrated_spins_N_%i.h5\", N), @sprintf(\"T_final_%.0f_tol_1e%.0f/spin_idxs\", 32768., log10(1e-6)));\n",
    "most_frustrated_spins = Dict(zip(most_frustrated_spins_seeds, eachrow(most_frustrated_spins_idxs)));"
   ]
  },
  {
   "cell_type": "code",
   "execution_count": null,
   "metadata": {},
   "outputs": [],
   "source": [
    "ordered_seeds = []\n",
    "\n",
    "mean_fields = Dict()\n",
    "mean_scaled_flucs = Dict()\n",
    "most_frustrated_flucs = Dict()\n",
    "\n",
    "all_Hs = Dict()\n",
    "all_eigenvals = Dict()\n",
    "all_eigenstates = Dict()\n",
    "\n",
    "# for (k, instance_name) in enumerate(instance_names[310:319]) # instance \"23320\"\n",
    "for (k, instance_name) in enumerate(instance_names[1:200])\n",
    "    seed = match(patterns_dict[N], instance_name)[1]    \n",
    "    print(k, \", \")\n",
    "\n",
    "    # eigenvalues and -vectors\n",
    "    λ = h5read(folder_name * instance_name, \"exact_ARPACK_LM_eigvals\")\n",
    "    all_eigvecs = h5read(folder_name * instance_name, \"exact_ARPACK_LM_lowest_eigvecs\")\n",
    "\n",
    "    J_mat = h5read(folder_name * instance_name, \"J\")\n",
    "    mf_problem = Problem(0, J_mat)\n",
    "\n",
    "    # mean-field solutions\n",
    "    T_final = 32768.\n",
    "    tol = 1e-6\n",
    "    mf_sol = h5read(folder_name * \"results_\" * instance_name, @sprintf(\"mean_field_sol_T_final_%.0f_tol_1e%.0f\", T_final, log10(tol)))\n",
    "    sigma_star = sign.(mf_sol)\n",
    "    h = mf_problem.local_fields\n",
    "    J = mf_problem.couplings\n",
    "    E_star = sum([-h[l] * sigma_star[l] for l in 1:N-1]) + sum([-J[i, j] * sigma_star[i] * sigma_star[j] for i in 1:N-1 for j in (i+1):N-1]) \n",
    "    \n",
    "    # if isapprox(E_star, λ[1, end], atol=1e-5) || isapprox(E_star, λ[2, end], atol=1e-2)\n",
    "    #     continue\n",
    "    # end\n",
    "        \n",
    "    sol_t = h5read(folder_name * \"results_\" * instance_name, @sprintf(\"mean_field_T_final_%.0f_tol_1e%.0f/times\", T_final, log10(tol)))\n",
    "    sol_u = h5read(folder_name * \"results_\" * instance_name, @sprintf(\"mean_field_T_final_%.0f_tol_1e%.0f/trajectories\", T_final, log10(tol)))\n",
    "\n",
    "    n_vals(xyz) = reduce(hcat, [sol_u[k, xyz, :] for k in 1:size(sol_u)[1]])\n",
    "    n_coarse(n_xyz) = reduce(hcat, [map(linear_interpolation(sol_t, n_xyz[spin_nr, :], extrapolation_bc=Line()), T_final .* coarse_times) for spin_nr in 1:N-1]) |> transpose\n",
    "    nx_coarse = n_coarse(n_vals(1)) \n",
    "    ny_coarse = n_coarse(n_vals(2))\n",
    "    nz_coarse = n_coarse(n_vals(3))\n",
    "    mean_fields[seed] = [nx_coarse, ny_coarse, nz_coarse]\n",
    "\n",
    "    # fluctuations\n",
    "    T_final = 32000\n",
    "    tol = 1e-8\n",
    "    all_flucs = h5read(folder_name * \"results_\" * instance_name, @sprintf(\"fluctuations_T_final_%.0f_tol_1e%.0f_npts_%i\", T_final, log10(tol), npts))\n",
    "    lyapunov_exponent = sum(all_flucs, dims=1)\n",
    "    if sum(lyapunov_exponent) |> abs < 1e4 # discard non-converged ones\n",
    "\n",
    "        # get \"normal\" trajectories \n",
    "        regular_trajectories = filter!(x -> x != most_frustrated_spins[seed][1], collect(1:N-1))\n",
    "        # regular_trajectories = filter!(x -> x != most_frustrated_spins[seed][2], regular_trajectories)\n",
    "\n",
    "        scale_factors = [1 .+ (nx_coarse[i, :] ./ (1 .+ sign(nz_coarse[i, end]) .* nz_coarse[i, :])).^2 for i in 1:N-1]\n",
    "        # mean_scaled_flucs[seed] = mean([scale_factors[i] .* real(sqrt.(smoothen(all_flucs[i, :] .+ 0.0im, coarse_times))) for i in 1:N-1], dims=1)[1]\n",
    "        mean_scaled_flucs[seed] = mean([scale_factors[i] .* real(sqrt.(all_flucs[i, :])) for i in regular_trajectories], dims=1)[1]\n",
    "\n",
    "        most_frustrated_flucs[seed] = all_flucs[most_frustrated_spins[seed][1], :]\n",
    "    end\n",
    "\n",
    "    # adiabatic theorem...\n",
    "    H_x = SpinFluctuations.hamiltonian(1, 0, mf_problem.local_fields, mf_problem.couplings)\n",
    "    H_z = SpinFluctuations.hamiltonian(0, 1, mf_problem.local_fields, mf_problem.couplings)\n",
    "    all_Hs[seed] = [H_x, H_z]\n",
    "\n",
    "    eigenstate(n) = [all_eigvecs[k, :, n] for k in 1:length(exact_times)]\n",
    "    num_eig_vecs = size(all_eigvecs)[3]\n",
    "    all_eigenstates[seed] = [eigenstate(n) for n in 1:num_eig_vecs]\n",
    "    all_eigenvals[seed] = [λ[n, :] for n in 1:num_eig_vecs]\n",
    "\n",
    "    push!(ordered_seeds, seed)\n",
    "end"
   ]
  },
  {
   "cell_type": "code",
   "execution_count": null,
   "metadata": {},
   "outputs": [],
   "source": [
    "ordered_seeds |> size"
   ]
  },
  {
   "cell_type": "markdown",
   "metadata": {},
   "source": [
    "## Data evaluation"
   ]
  },
  {
   "cell_type": "code",
   "execution_count": null,
   "metadata": {},
   "outputs": [],
   "source": [
    "minigap_locs = Dict()\n",
    "all_adiabatic_fracs = Dict()\n",
    "all_frustrated_flucs = Dict()\n",
    "\n",
    "seeds_to_max_fracs = Dict()\n",
    "\n",
    "for seed in ordered_seeds\n",
    "    try\n",
    "        λs = all_eigenvals[seed]\n",
    "        mingap = minimum(λs[2] .- λs[1])\n",
    "        gap_idx = findfirst(x -> x == mingap, λs[2] .- λs[1]) \n",
    "        gaploc = exact_times[gap_idx]\n",
    "        minigap_locs[seed] = gaploc\n",
    "\n",
    "        nx_coarse, ny_coarse, nz_coarse = mean_fields[seed]\n",
    "\n",
    "        top_idx = most_frustrated_spins[seed][1]\n",
    "        scale_factor = 1 .+ (nx_coarse[top_idx, :] ./ (1 .+ sign(nz_coarse[top_idx, end]) .* nz_coarse[top_idx, :])).^2\n",
    "        # all_frustrated_flucs[seed] = scale_factor .* (smoothen(most_frustrated_flucs[seed] .+ 0.0im, coarse_times) .|> sqrt |> real)\n",
    "        all_frustrated_flucs[seed] = scale_factor .* (most_frustrated_flucs[seed] .|> sqrt |> real)\n",
    "\n",
    "        H_x, H_z = all_Hs[seed]\n",
    "        eigenstates = all_eigenstates[seed]\n",
    "\n",
    "        overlap(n, H) = [eigenstates[n][k]' * H * eigenstates[1][k] for k in 1:length(exact_times)]\n",
    "        frac_n(n) = abs.(overlap(n, H_z) .- overlap(n, H_x)) ./ (λs[n] .- λs[1])\n",
    "        \n",
    "        all_adiabatic_fracs[seed] = [frac_n(n) for n in 2:5]\n",
    "        # all_adiabatic_fracs[seed] = [frac_n(n) for n in 2:4]\n",
    "        \n",
    "        # println(maximum(all_adiabatic_fracs[seed][1]), \", \", mean(all_adiabatic_fracs[seed][1]))\n",
    "        seeds_to_max_fracs[seed] = maximum(all_adiabatic_fracs[seed][1])\n",
    "    catch err\n",
    "        println(seed)\n",
    "    end\n",
    "end"
   ]
  },
  {
   "cell_type": "code",
   "execution_count": null,
   "metadata": {},
   "outputs": [],
   "source": [
    "seeds_and_max_fracs = sort([(k, v) for (k, v) in seeds_to_max_fracs], by=x->x[2]) |> reverse;"
   ]
  },
  {
   "cell_type": "code",
   "execution_count": null,
   "metadata": {},
   "outputs": [],
   "source": [
    "seeds_and_max_fracs"
   ]
  },
  {
   "cell_type": "markdown",
   "metadata": {},
   "source": [
    "## Plots"
   ]
  },
  {
   "cell_type": "code",
   "execution_count": null,
   "metadata": {},
   "outputs": [],
   "source": [
    "mean_frac_1 = mean([seed_fracs[2][1] for seed_fracs in all_adiabatic_fracs])\n",
    "mean_frac_2 = mean([seed_fracs[2][2] for seed_fracs in all_adiabatic_fracs])\n",
    "\n",
    "# mean_frustrated_flucs = mean([(all_frustrated_flucs[seed] .- mean_scaled_flucs[seed]) ./ maximum(all_frustrated_flucs[seed] .- mean_scaled_flucs[seed]) for (seed, _) in all_adiabatic_fracs]);\n",
    "# mean_frustrated_flucs = mean([(all_frustrated_flucs[seed] .- mean_scaled_flucs[seed]) for (seed, _) in all_adiabatic_fracs]);\n",
    "mean_frustrated_flucs = mean([all_frustrated_flucs[seed] ./ maximum(all_frustrated_flucs[seed]) .- mean_scaled_flucs[seed] ./ maximum(mean_scaled_flucs[seed]) for (seed, _) in all_adiabatic_fracs]);"
   ]
  },
  {
   "cell_type": "code",
   "execution_count": null,
   "metadata": {},
   "outputs": [],
   "source": [
    "num_instances = 100\n",
    "num_instances = length(seeds_and_max_fracs)\n",
    "mean_frac_1 = mean([all_adiabatic_fracs[seed][1] for (seed, _) in seeds_and_max_fracs[1:num_instances]])\n",
    "mean_frac_2 = mean([all_adiabatic_fracs[seed][2] for (seed, _) in seeds_and_max_fracs[1:num_instances]])\n",
    "mean_frac_3 = mean([all_adiabatic_fracs[seed][3] for (seed, _) in seeds_and_max_fracs[1:num_instances]])\n",
    "mean_frac_4 = mean([all_adiabatic_fracs[seed][4] for (seed, _) in seeds_and_max_fracs[1:num_instances]])\n",
    "\n",
    "\n",
    "mean_frustrated_flucs = mean([all_frustrated_flucs[seed] for (seed, _) in seeds_and_max_fracs[1:num_instances]]);\n",
    "mean_mean_scaled_flucs = mean([mean_scaled_flucs[seed] for (seed, _) in seeds_and_max_fracs[1:num_instances]]);\n",
    "mean_normalized_flucs = mean([(all_frustrated_flucs[seed] .- mean_scaled_flucs[seed]) ./ maximum(all_frustrated_flucs[seed] .- mean_scaled_flucs[seed]) for (seed, _) in seeds_and_max_fracs[1:num_instances]]);"
   ]
  },
  {
   "cell_type": "code",
   "execution_count": null,
   "metadata": {},
   "outputs": [],
   "source": [
    "figure(figsize=(4, 4))\n",
    "ax = subplot(211)\n",
    "plot(exact_times, mean_frac_1, label=\"\\$\\\\alpha = 1\\$\")\n",
    "plot(exact_times, mean_frac_2, label=\"\\$\\\\alpha = 2\\$\", lw=1.5)\n",
    "plot(exact_times, mean_frac_3, label=\"\\$\\\\alpha = 3\\$\", lw=2)\n",
    "plot(exact_times, mean_frac_4, label=\"\\$\\\\alpha = 4\\$\", lw=2.5)\n",
    "plot(exact_times, mean_frac_1 .+ mean_frac_2 .+ mean_frac_3 .+ mean_frac_4, \"-k\", lw=2.5)\n",
    "xlim(0., 1.)\n",
    "ylim(0, )\n",
    "ylabel(\"\\$\\\\frac{|\\\\langle \\\\alpha|H_Z-H_X|0\\\\rangle|}{E_\\\\alpha - E_0}\\$\")\n",
    "ax.set_xticklabels([])\n",
    "legend(frameon=false)\n",
    "\n",
    "ax = subplot(212)\n",
    "plot(coarse_times,  mean_frustrated_flucs)\n",
    "plot(coarse_times,  mean_frustrated_flucs .- mean_mean_scaled_flucs)\n",
    "plot(coarse_times,  mean_normalized_flucs)\n",
    "xlim(0., 1.)\n",
    "ylim(0, )\n",
    "xlabel(\"\\$s\\$\")\n",
    "tight_layout()"
   ]
  },
  {
   "cell_type": "code",
   "execution_count": null,
   "metadata": {},
   "outputs": [],
   "source": [
    "figure(figsize=(4, 4))\n",
    "ax = subplot(211)\n",
    "semilogy(exact_times, mean_frac_1, \"-ok\", lw=1.5, ms=3)\n",
    "xlim(0., 1.)\n",
    "ylim(1e-1, 1e2)\n",
    "ylabel(\"\\$\\\\frac{|\\\\langle 1|H_Z-H_X|0\\\\rangle|}{E_1 - E_0}\\$\")\n",
    "ax.set_xticklabels([])\n",
    "\n",
    "ax = subplot(212)\n",
    "plot(coarse_times,  mean_normalized_flucs)\n",
    "xlim(0., 1.)\n",
    "ylim(0, )\n",
    "xlabel(\"\\$s\\$\")\n",
    "ylabel(\"\\$\\\\mathrm{Re}\\\\;\\\\delta z_i(s)\\$\")\n",
    "tight_layout()"
   ]
  },
  {
   "cell_type": "markdown",
   "metadata": {},
   "source": [
    "### Shifted to center"
   ]
  },
  {
   "cell_type": "code",
   "execution_count": null,
   "metadata": {},
   "outputs": [],
   "source": [
    "padded_exact_times = range(0, 1, 2(size(exact_times)[1] - 1) + 1)\n",
    "padded_coarse_times = range(0, 1, 2(size(coarse_times)[1] - 1) + 1);"
   ]
  },
  {
   "cell_type": "code",
   "execution_count": null,
   "metadata": {},
   "outputs": [],
   "source": [
    "num_instances = 100\n",
    "num_instances = length(seeds_and_max_fracs)\n",
    "\n",
    "mean_shifted_fracs = []\n",
    "mean_shifted_flucs = []\n",
    "for (seed, _) in seeds_and_max_fracs[1:num_instances]\n",
    "    total_fracs = sum(all_adiabatic_fracs[seed])\n",
    "\n",
    "    # get maximum from adiabatic fraction alongside index and time\n",
    "    max_frac = maximum(total_fracs)\n",
    "    max_frac_idx = findfirst(x -> x == max_frac, total_fracs)\n",
    "    max_frac_time = exact_times[max_frac_idx]\n",
    "    push!(mean_shifted_fracs, shift_idx_to_center(max_frac_idx, total_fracs))\n",
    "\n",
    "    # find that also for coarse_times\n",
    "    max_frac_idx_coarse = findfirst(x -> x == max_frac_time, coarse_times)\n",
    "    push!(mean_shifted_flucs, shift_idx_to_center(max_frac_idx_coarse, all_frustrated_flucs[seed]))\n",
    "end\n",
    "\n",
    "mean_shifted_fracs = mean(mean_shifted_fracs)\n",
    "mean_shifted_flucs = mean(mean_shifted_flucs);"
   ]
  },
  {
   "cell_type": "code",
   "execution_count": null,
   "metadata": {},
   "outputs": [],
   "source": [
    "figure(figsize=(4, 4))\n",
    "ax = subplot(211)\n",
    "# plot(padded_exact_times, mean_shifted_fracs, \"-ok\", lw=1.5, ms=3)\n",
    "semilogy(padded_exact_times, mean_shifted_fracs, \"-ok\", lw=1.5, ms=3)\n",
    "xlim(0., 1.)\n",
    "ylim(1e-1, 1e2)\n",
    "ylabel(\"\\$\\\\frac{|\\\\langle 1|H_Z-H_X|0\\\\rangle|}{E_1 - E_0}\\$\")\n",
    "ax.set_xticklabels([])\n",
    "\n",
    "ax = subplot(212)\n",
    "plot(padded_coarse_times,  mean_shifted_flucs)\n",
    "xlim(0., 1.)\n",
    "ylim(0, )\n",
    "xlabel(\"\\$s\\$\")\n",
    "ylabel(\"\\$\\\\mathrm{Re}\\\\;\\\\delta z_i(s)\\$\")\n",
    "tight_layout()"
   ]
  },
  {
   "cell_type": "markdown",
   "metadata": {},
   "source": [
    "### Single-instance plots"
   ]
  },
  {
   "cell_type": "code",
   "execution_count": null,
   "metadata": {},
   "outputs": [],
   "source": [
    "num_instances = 3\n",
    "\n",
    "# for plot_seed in ordered_seeds\n",
    "for (plot_seed, _) in seeds_and_max_fracs[1:num_instances]\n",
    "    # plot_seed = ordered_seeds[20]\n",
    "    print(plot_seed, \"\\t\")\n",
    "    frac_1, frac_2, frac_3, frac_4 = all_adiabatic_fracs[plot_seed]\n",
    "    total_fracs = sum(all_adiabatic_fracs[plot_seed])\n",
    "\n",
    "    # get maximum from adiabatic fraction alongside index and time\n",
    "    max_frac = maximum(total_fracs)\n",
    "    max_frac_idx = findfirst(x -> x == max_frac, total_fracs)\n",
    "    max_frac_time = exact_times[max_frac_idx]\n",
    "\n",
    "    # find that also for coarse_times\n",
    "    max_frac_idx_coarse = findfirst(x -> x == max_frac_time, coarse_times)\n",
    "\n",
    "    frustrated_flucs = all_frustrated_flucs[plot_seed]\n",
    "\n",
    "    figure(figsize=(4, 3))\n",
    "    title(plot_seed)\n",
    "    ax = subplot(211)\n",
    "    plot(padded_exact_times, shift_idx_to_center(max_frac_idx, total_fracs), \"-k\", lw=2.5)\n",
    "    xlim(0., 1.)\n",
    "    ylim(0, 10)\n",
    "    ylabel(\"\\$\\\\frac{|\\\\langle \\\\alpha|H_Z-H_X|0\\\\rangle|}{E_\\\\alpha - E_0}\\$\")\n",
    "    ax.set_xticklabels([])\n",
    "    axvline(minigap_locs[plot_seed], ls=\"--\", c=\"k\", alpha=0.5)\n",
    "    # legend(frameon=false)\n",
    "\n",
    "    ax = subplot(212)\n",
    "    plot(padded_coarse_times,  shift_idx_to_center(max_frac_idx_coarse, frustrated_flucs .- mean_scaled_flucs[plot_seed]), label=plot_seed)\n",
    "    plot(padded_coarse_times,  shift_idx_to_center(max_frac_idx_coarse, frustrated_flucs))\n",
    "    xlim(0., 1.)\n",
    "    ylim(0, )\n",
    "    xlabel(\"\\$s - s_*\\$\")\n",
    "    legend(frameon=false)\n",
    "\n",
    "    tight_layout()\n",
    "    # savefig((\"test_plots/seed_\" * plot_seed * \".pdf\"))\n",
    "end"
   ]
  },
  {
   "cell_type": "code",
   "execution_count": null,
   "metadata": {},
   "outputs": [],
   "source": [
    "num_instances = 10\n",
    "# for plot_seed in ordered_seeds\n",
    "for (plot_seed, _) in seeds_and_max_fracs[1:num_instances]\n",
    "    # plot_seed = ordered_seeds[20]\n",
    "    print(plot_seed, \"\\t\")\n",
    "    frac_1, frac_2, frac_3, frac_4 = all_adiabatic_fracs[plot_seed]\n",
    "    frustrated_flucs = all_frustrated_flucs[plot_seed];\n",
    "\n",
    "    figure(figsize=(4, 3))\n",
    "    title(plot_seed)\n",
    "    ax = subplot(211)\n",
    "    plot(exact_times, frac_1, label=\"\\$\\\\alpha = 0\\$\")\n",
    "    plot(exact_times, frac_2, label=\"\\$\\\\alpha = 1\\$\", lw=1.5)\n",
    "    plot(exact_times, frac_3, label=\"\\$\\\\alpha = 2\\$\", lw=2)\n",
    "    plot(exact_times, frac_4, label=\"\\$\\\\alpha = 3\\$\", lw=2.5)\n",
    "    plot(exact_times, sum(all_adiabatic_fracs[plot_seed]), \"-k\", lw=2.5)\n",
    "    xlim(0., 1.)\n",
    "    ylim(0, 10)\n",
    "    ylabel(\"\\$\\\\frac{|\\\\langle \\\\alpha|H_Z-H_X|0\\\\rangle|}{E_\\\\alpha - E_0}\\$\")\n",
    "    ax.set_xticklabels([])\n",
    "    axvline(minigap_locs[plot_seed], ls=\"--\", c=\"k\", alpha=0.5)\n",
    "    # legend(frameon=false)\n",
    "\n",
    "    ax = subplot(212)\n",
    "    plot(coarse_times,  frustrated_flucs .- mean_scaled_flucs[plot_seed], label=plot_seed)\n",
    "    plot(coarse_times,  frustrated_flucs)\n",
    "    xlim(0., 1.)\n",
    "    ylim(0, )\n",
    "    xlabel(\"\\$s\\$\")\n",
    "    legend(frameon=false)\n",
    "\n",
    "    tight_layout()\n",
    "    # savefig((\"test_plots/seed_\" * plot_seed * \".pdf\"))\n",
    "end"
   ]
  },
  {
   "cell_type": "code",
   "execution_count": null,
   "metadata": {},
   "outputs": [],
   "source": []
  }
 ],
 "metadata": {
  "kernelspec": {
   "display_name": "Julia 1.8.5",
   "language": "julia",
   "name": "julia-1.8"
  },
  "language_info": {
   "file_extension": ".jl",
   "mimetype": "application/julia",
   "name": "julia",
   "version": "1.8.5"
  },
  "orig_nbformat": 4
 },
 "nbformat": 4,
 "nbformat_minor": 2
}
