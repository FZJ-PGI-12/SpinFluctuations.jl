{
 "cells": [
  {
   "attachments": {},
   "cell_type": "markdown",
   "metadata": {},
   "source": [
    "# Data-Set Overview Plots"
   ]
  },
  {
   "cell_type": "code",
   "execution_count": null,
   "metadata": {},
   "outputs": [],
   "source": [
    "using QAOA, Distributions, Interpolations\n",
    "using DataFrames, Arrow, HDF5, Printf\n",
    "using PyPlot\n",
    "PyPlot.plt.style.use(\"./paper.mplstyle\")\n",
    "\n",
    "using PyCall\n",
    "np = pyimport(\"numpy\")\n",
    "\n",
    "PATH = \"/home/ubuntu/Archives/\"\n",
    "PLOT_PATH = \"/home/ubuntu/Archives/plots/SK_model/paper/\";"
   ]
  },
  {
   "cell_type": "code",
   "execution_count": null,
   "metadata": {},
   "outputs": [],
   "source": [
    "using Revise, SpinFluctuations"
   ]
  },
  {
   "cell_type": "code",
   "execution_count": null,
   "metadata": {},
   "outputs": [],
   "source": [
    "Base.show(io::IO, f::Float64) = @printf(io, \"%1.4f\", f)\n",
    "Base.show(io::IO, ::MIME\"text/latex\", df::AbstractDataFrame) = show(df, backend=:html, show_row_number=true, highlighters=:tf_html_default)\n",
    "\n",
    "normalize!(X) = X ./ maximum(filter(!isnan, X));"
   ]
  },
  {
   "cell_type": "markdown",
   "metadata": {},
   "source": [
    "## Small-/Large-gap data comparison"
   ]
  },
  {
   "cell_type": "code",
   "execution_count": null,
   "metadata": {},
   "outputs": [],
   "source": [
    "N = 9\n",
    "# N = 11\n",
    "# N = 13\n",
    "# N = 15\n",
    "# N = 17\n",
    "# N = 19\n",
    "\n",
    "patterns_dict = Dict(\n",
    "    9  => r\"random_SK_instance_N_9_seed_(\\d+)\\.h5\",\n",
    "    11 => r\"random_SK_instance_N_11_seed_(\\d+)\\.h5\",\n",
    "    13 => r\"random_SK_instance_N_13_seed_(\\d+)\\.h5\",\n",
    "    15 => r\"random_SK_instance_N_15_seed_(\\d+)\\.h5\",\n",
    "    17 => r\"random_SK_instance_N_17_seed_(\\d+)\\.h5\",\n",
    "    19 => r\"random_SK_instance_N_19_seed_(\\d+)\\.h5\"\n",
    ");"
   ]
  },
  {
   "cell_type": "markdown",
   "metadata": {},
   "source": [
    "### Loading"
   ]
  },
  {
   "cell_type": "code",
   "execution_count": null,
   "metadata": {},
   "outputs": [],
   "source": [
    "npts = 2048\n",
    "# npts = 2^13\n",
    "coarse_times = range(0, 1, npts + 1)\n",
    "exact_times = range(0, 1, 33);"
   ]
  },
  {
   "cell_type": "code",
   "execution_count": null,
   "metadata": {},
   "outputs": [],
   "source": [
    "subdir = \"small_gaps\"\n",
    "# subdir = \"large_gaps\"\n",
    "folder_name = PATH * @sprintf(\"data/SK_model/N_%i/%s/\", N, subdir)\n",
    "instance_names = readdir(folder_name)\n",
    "filter!(x -> !occursin(\"results\", x), instance_names)\n",
    "filter!(x -> !occursin(\"undecided\", x), instance_names)\n",
    "filter!(x -> !occursin(\"frustrated\", x), instance_names)\n",
    "filter!(x -> !occursin(\"main_df\", x), instance_names);"
   ]
  },
  {
   "cell_type": "code",
   "execution_count": null,
   "metadata": {},
   "outputs": [],
   "source": [
    "# most_frustrated_spins_seeds = h5read(folder_name * @sprintf(\"most_undecided_spins_N_%i.h5\", N), @sprintf(\"T_final_%.0f_tol_1e%.0f/seeds\", 32768., log10(1e-6)))\n",
    "# most_frustrated_spins_idxs = h5read(folder_name * @sprintf(\"most_undecided_spins_N_%i.h5\", N), @sprintf(\"T_final_%.0f_tol_1e%.0f/spin_idxs\", 32768., log10(1e-6)));\n",
    "# most_frustrated_spins = Dict(zip(most_frustrated_spins_seeds, eachrow(most_frustrated_spins_idxs)))\n",
    "# main_df = DataFrame(Arrow.Table(folder_name * \"main_df_undecided.arrow\"));"
   ]
  },
  {
   "cell_type": "code",
   "execution_count": null,
   "metadata": {},
   "outputs": [],
   "source": [
    "most_frustrated_spins_seeds = h5read(folder_name * @sprintf(\"most_frustrated_spins_N_%i.h5\", N), @sprintf(\"T_final_%.0f_tol_1e%.0f/seeds\", 32768., log10(1e-6)))\n",
    "most_frustrated_spins_idxs = h5read(folder_name * @sprintf(\"most_frustrated_spins_N_%i.h5\", N), @sprintf(\"T_final_%.0f_tol_1e%.0f/spin_idxs\", 32768., log10(1e-6)));\n",
    "most_frustrated_spins = Dict(zip(most_frustrated_spins_seeds, eachrow(most_frustrated_spins_idxs)))\n",
    "main_df = DataFrame(Arrow.Table(folder_name * \"main_df_frustrated.arrow\"));"
   ]
  },
  {
   "cell_type": "code",
   "execution_count": null,
   "metadata": {},
   "outputs": [],
   "source": []
  },
  {
   "cell_type": "code",
   "execution_count": null,
   "metadata": {},
   "outputs": [],
   "source": [
    "names(main_df)"
   ]
  },
  {
   "cell_type": "markdown",
   "metadata": {},
   "source": [
    "## Plots"
   ]
  },
  {
   "cell_type": "markdown",
   "metadata": {},
   "source": [
    "### Shifted to center"
   ]
  },
  {
   "cell_type": "code",
   "execution_count": null,
   "metadata": {},
   "outputs": [],
   "source": [
    "padded_exact_times = range(0, 1, 2(size(exact_times)[1] - 1) + 1)\n",
    "padded_coarse_times = range(0, 1, 2(size(coarse_times)[1] - 1) + 1);"
   ]
  },
  {
   "cell_type": "markdown",
   "metadata": {},
   "source": [
    "#### Average plots"
   ]
  },
  {
   "cell_type": "code",
   "execution_count": null,
   "metadata": {},
   "outputs": [],
   "source": [
    "function get_mean_shifted_fracs(main_df)\n",
    "    mean_shifted_fracs = []\n",
    "    # for row in eachrow(first(main_df, num_instances))\n",
    "    for row in eachrow(main_df)\n",
    "        # total_fracs = sum(all_adiabatic_fracs[seed])\n",
    "        total_fracs = row[:adiabatic_fracs][1]\n",
    "\n",
    "        # get maximum from adiabatic fraction alongside index and time\n",
    "        max_frac = maximum(total_fracs)\n",
    "        max_frac_idx = findfirst(x -> x == max_frac, total_fracs)\n",
    "        max_frac_time = exact_times[max_frac_idx]\n",
    "        push!(mean_shifted_fracs, shift_idx_to_center(max_frac_idx, total_fracs))\n",
    "    end\n",
    "\n",
    "    mean(mean_shifted_fracs)\n",
    "end"
   ]
  },
  {
   "cell_type": "code",
   "execution_count": null,
   "metadata": {},
   "outputs": [],
   "source": [
    "function get_mean_shifted_crit_flucs(main_df, most_frustrated_spins)\n",
    "    \n",
    "    mean_shifted_crit_flucs = []\n",
    "    # num_instances = 20\n",
    "    # for row in eachrow(first(main_df, num_instances))\n",
    "    for row in eachrow(main_df)\n",
    "        # print(row[:seed], \"\\t\")\n",
    "        \n",
    "        # get maximum from adiabatic fraction alongside index and time\n",
    "        total_fracs = sum(row[:adiabatic_fracs])\n",
    "        max_frac = maximum(total_fracs)\n",
    "        max_frac_idx = findfirst(x -> x == max_frac, total_fracs)\n",
    "        max_frac_time = exact_times[max_frac_idx]\n",
    "\n",
    "        # find that also for coarse_times\n",
    "        max_frac_idx_coarse = findfirst(x -> x == max_frac_time, coarse_times)\n",
    "\n",
    "        frustrated_flucs_1 = row[:scaled_most_frustrated_flucs][1]\n",
    "        frustrated_flucs_2 = row[:scaled_most_frustrated_flucs][2]\n",
    "\n",
    "        top_idx = most_frustrated_spins[row[:seed]][1]\n",
    "        sec_idx = most_frustrated_spins[row[:seed]][2]\n",
    "        magnetizations = reshape(row[:magnetizations], (length(most_frustrated_spins[row[:seed]]), npts+1))\n",
    "\n",
    "        inner_navg = 64\n",
    "        outer_navg = 64 # 256\n",
    "        # inv_mag_1 = smoothen(smoothen(shift_idx_to_center(max_frac_idx_coarse, magnetizations[top_idx, :]), padded_coarse_times, navg=inner_navg) .|> abs, padded_coarse_times, navg=outer_navg)\n",
    "        # inv_mag_2 = smoothen(smoothen(shift_idx_to_center(max_frac_idx_coarse, magnetizations[sec_idx, :]), padded_coarse_times, navg=inner_navg) .|> abs, padded_coarse_times, navg=outer_navg)\n",
    "        # crit_flucs = [smoothen(shift_idx_to_center(max_frac_idx_coarse, frustrated_flucs_1), padded_coarse_times) ./ inv_mag_1, \n",
    "        #               smoothen(shift_idx_to_center(max_frac_idx_coarse, frustrated_flucs_2), padded_coarse_times) ./ inv_mag_2]\n",
    "\n",
    "        inv_mag_1 = smoothen(smoothen(magnetizations[top_idx, :], coarse_times, navg=inner_navg) .|> abs, coarse_times, navg=outer_navg)\n",
    "        inv_mag_2 = smoothen(smoothen(magnetizations[sec_idx, :], coarse_times, navg=inner_navg) .|> abs, coarse_times, navg=outer_navg)\n",
    "        crit_flucs = [shift_idx_to_center(max_frac_idx_coarse, smoothen(frustrated_flucs_1, coarse_times) ./ inv_mag_1), \n",
    "                      shift_idx_to_center(max_frac_idx_coarse, smoothen(frustrated_flucs_2, coarse_times) ./ inv_mag_2)]          \n",
    "        \n",
    "        # which_spin(X) = abs(0.5 - padded_coarse_times[findfirst(x -> x == maximum(filter(!isnan, X)), X)])\n",
    "        # crit_idx = sort([(1, which_spin(crit_flucs[1])), (2, which_spin(crit_flucs[2]))], by=x->x[2])[1][1]\n",
    "        crit_idx = reverse!(sort([(1, normalize!(crit_flucs[1])[npts+1]), (2, normalize!(crit_flucs[2])[npts+1])], by=x->x[2]))[1][1]\n",
    "\n",
    "        # push!(mean_shifted_crit_flucs, crit_flucs[crit_idx] |> normalize!)\n",
    "        # push!(mean_shifted_crit_flucs, maximum(total_fracs) .* normalize!(crit_flucs[crit_idx]))\n",
    "        # push!(mean_shifted_crit_flucs, maximum(total_fracs) .* (crit_flucs[crit_idx]))\n",
    "        push!(mean_shifted_crit_flucs,  crit_flucs[crit_idx])\n",
    "    end\n",
    "    mean_shifted_crit_flucs\n",
    "end"
   ]
  },
  {
   "cell_type": "code",
   "execution_count": null,
   "metadata": {},
   "outputs": [],
   "source": [
    "N_vals = [9, 11, 13, 15, 17, 19]\n",
    "all_mean_shifted_fracs = []\n",
    "all_mean_shifted_crit_flucs = []\n",
    "for N in N_vals\n",
    "    try\n",
    "        folder_name = PATH * @sprintf(\"data/SK_model/N_%i/%s/\", N, subdir)\n",
    "\n",
    "        # most_frustrated_spins_seeds = h5read(folder_name * @sprintf(\"most_undecided_spins_N_%i.h5\", N), @sprintf(\"T_final_%.0f_tol_1e%.0f/seeds\", 32768., log10(1e-6)))\n",
    "        # most_frustrated_spins_idxs = h5read(folder_name * @sprintf(\"most_undecided_spins_N_%i.h5\", N), @sprintf(\"T_final_%.0f_tol_1e%.0f/spin_idxs\", 32768., log10(1e-6)));\n",
    "        # most_frustrated_spins = Dict(zip(most_frustrated_spins_seeds, eachrow(most_frustrated_spins_idxs)))\n",
    "        # main_df = DataFrame(Arrow.Table(folder_name * \"main_df_undecided.arrow\"))      \n",
    "        \n",
    "        most_frustrated_spins_seeds = h5read(folder_name * @sprintf(\"most_frustrated_spins_N_%i.h5\", N), @sprintf(\"T_final_%.0f_tol_1e%.0f/seeds\", 32768., log10(1e-6)))\n",
    "        most_frustrated_spins_idxs = h5read(folder_name * @sprintf(\"most_frustrated_spins_N_%i.h5\", N), @sprintf(\"T_final_%.0f_tol_1e%.0f/spin_idxs\", 32768., log10(1e-6)));\n",
    "        most_frustrated_spins = Dict(zip(most_frustrated_spins_seeds, eachrow(most_frustrated_spins_idxs)))\n",
    "        main_df = DataFrame(Arrow.Table(folder_name * \"main_df_frustrated.arrow\"))\n",
    "\n",
    "        mean_shifted_fracs = get_mean_shifted_fracs(main_df)\n",
    "        mean_shifted_crit_flucs = get_mean_shifted_crit_flucs(main_df, most_frustrated_spins)\n",
    "        push!(all_mean_shifted_fracs, mean_shifted_fracs)    \n",
    "        push!(all_mean_shifted_crit_flucs, mean_shifted_crit_flucs)   \n",
    "    catch err\n",
    "        println(N, \", \", err, \", \") \n",
    "    end\n",
    "end"
   ]
  },
  {
   "cell_type": "code",
   "execution_count": null,
   "metadata": {},
   "outputs": [],
   "source": [
    "figure(figsize=(12, 4))\n",
    "for (k, mean_shifted_fracs) in enumerate(all_mean_shifted_fracs)\n",
    "    ax = subplot(2, 6, k)\n",
    "    axvline(0, c=\"k\", alpha=0.25, lw=5)\n",
    "    semilogy(padded_exact_times .- 1/2, mean_shifted_fracs, \"-ok\", lw=1.5, ms=3)#, label=@sprintf(\"\\$N = %i\\$\", N_vals[k] - 1))\n",
    "    semilogy([], [], \"-k\", lw=0 , label=@sprintf(\"\\$N = %i\\$\", N_vals[k] - 1))\n",
    "    xlim(-0.5, 0.5)\n",
    "    ax.set_xticklabels([-0.25, 0.0, 0.25])\n",
    "    ylim(1e-1, 1e3)\n",
    "    ax.set_xticklabels([])\n",
    "    if k == 1\n",
    "        ylabel(\"Average \\$ g_1(s)  \\$\")\n",
    "    else\n",
    "        ax.set_yticklabels([])\n",
    "    end   \n",
    "    # legend(frameon=false, handlelength=0, markerscale=0, borderaxespad=0.1, fontsize=12, loc=\"upper right\")\n",
    "    legend(frameon=false, borderaxespad=0.1, fontsize=12, loc=\"upper right\")\n",
    "end\n",
    "\n",
    "all_y_data = mean.(all_mean_shifted_crit_flucs)\n",
    "for (k, y_data) in enumerate(all_y_data)\n",
    "    println(length(all_mean_shifted_crit_flucs[k]))\n",
    "    ax = subplot(2, 6, k + 6)\n",
    "    axvline(0, c=\"k\", alpha=0.25, lw=5)\n",
    "    plot(padded_coarse_times .- 1/2, normalize!(y_data), \"-k\")\n",
    "    xlabel(\"\\$s - s_*\\$\")\n",
    "    xlim(-0.5, 0.5)\n",
    "    # ax.set_xticklabels([\"\\$-\\\\frac 12\\$\", \"\\$0\\$\", \"\\$\\\\frac 12\\$\"], fontsize=12)\n",
    "    ax.set_xticklabels([\"\\$-1/2\\$\", \"\\$0\\$\", \"\\$1/2\\$\"], fontsize=12)\n",
    "    ylim(0, 1)\n",
    "    if k == 1\n",
    "        ylabel(\"Average \\$ \\\\widetilde{\\\\chi}_{i_*}(s) \\$\")\n",
    "    else\n",
    "        ax.set_yticklabels([])\n",
    "    end    \n",
    "end\n",
    "tight_layout(h_pad=0.0, w_pad=0.5)\n",
    "savefig(PLOT_PATH * \"disorder_stats.pdf\", dpi=256, bbox_inches=\"tight\")"
   ]
  },
  {
   "cell_type": "code",
   "execution_count": null,
   "metadata": {},
   "outputs": [],
   "source": []
  },
  {
   "cell_type": "code",
   "execution_count": null,
   "metadata": {},
   "outputs": [],
   "source": [
    "figure(figsize=(12, 4))\n",
    "for (k, mean_shifted_fracs) in enumerate(all_mean_shifted_fracs)\n",
    "    ax = subplot(2, 6, k)\n",
    "    semilogy(padded_exact_times .- 1/2, mean_shifted_fracs, \"-ok\", lw=1.5, ms=3, label=@sprintf(\"\\$N = %i\\$\", N_vals[k] - 1))\n",
    "    xlim(-0.5, 0.5)\n",
    "    ax.set_xticklabels([-0.25, 0.0, 0.25])\n",
    "    ylim(1e-1, 1e3)\n",
    "    ax.set_xticklabels([])\n",
    "    if k == 1\n",
    "        ylabel(\"Average \\$ g_1(s)  \\$\")\n",
    "    else\n",
    "        ax.set_yticklabels([])\n",
    "    end   \n",
    "    legend(frameon=false, handlelength=0, markerscale=0, borderaxespad=0.1, loc=\"upper left\")\n",
    "end\n",
    "# ylabel(\"\\$ \\\\left\\\\langle\\\\hspace{-2mm}\\\\left\\\\langle\\\\frac{|\\\\langle 1|H_Z-H_X|0\\\\rangle|}{E_1 - E_0} \\\\right\\\\rangle\\\\hspace{-2mm}\\\\right\\\\rangle\\$\")\n",
    "# ylabel(\"\\$ \\\\left\\\\langle\\\\hspace{-0.8mm}\\\\langle g_1(s) \\\\right\\\\rangle\\\\hspace{-1mm}\\\\rangle \\$\")\n",
    "# ax.set_xticklabels([])\n",
    "\n",
    "all_y_data = mean.(all_mean_shifted_crit_flucs)\n",
    "for (k, y_data) in enumerate(all_y_data)\n",
    "    ax = subplot(2, 6, k + 6)\n",
    "    axvline(0, c=\"k\", alpha=0.25, lw=5)\n",
    "    semilogy(padded_coarse_times .- 1/2, y_data, \"-k\")\n",
    "    xlabel(\"\\$s - s_*\\$\")\n",
    "    xlim(-0.5, 0.5)\n",
    "    ax.set_xticklabels([\"\\$-\\\\frac 12\\$\", \"\\$0\\$\", \"\\$\\\\frac 12\\$\"])\n",
    "    # ax.set_xticklabels([\"\\$-1/2\\$\", \"\\$0\\$\", \"\\$1/2\\$\"])\n",
    "    ylim(1e-1, 1e1)\n",
    "    if k == 1\n",
    "        ylabel(\"Average \\$ \\\\chi_{i_*}(s)  \\$\")\n",
    "    else\n",
    "        ax.set_yticklabels([])\n",
    "    end    \n",
    "end\n",
    "# ylim(0, )\n",
    "# ylabel(\"\\$ \\\\langle\\\\delta \\\\bar z_i(s) \\\\delta z_i(s) \\\\rangle \\$\")\n",
    "# ylabel(\"\\$ \\\\left\\\\langle\\\\hspace{-0.8mm}\\\\langle \\\\chi(s) \\\\right\\\\rangle\\\\hspace{-1mm}\\\\rangle \\$\")\n",
    "tight_layout(pad=0.25)"
   ]
  },
  {
   "cell_type": "code",
   "execution_count": null,
   "metadata": {},
   "outputs": [],
   "source": []
  },
  {
   "cell_type": "code",
   "execution_count": null,
   "metadata": {},
   "outputs": [],
   "source": [
    "mean_shifted_flucs = []\n",
    "# for row in eachrow(first(main_df, num_instances))\n",
    "for row in eachrow(main_df)\n",
    "    # total_fracs = sum(all_adiabatic_fracs[seed])\n",
    "    total_fracs = row[:adiabatic_fracs][1]\n",
    "\n",
    "    # get maximum from adiabatic fraction alongside index and time\n",
    "    max_frac = maximum(total_fracs)\n",
    "    max_frac_idx = findfirst(x -> x == max_frac, total_fracs)\n",
    "    max_frac_time = exact_times[max_frac_idx]\n",
    "\n",
    "    # find that also for coarse_times\n",
    "    max_frac_idx_coarse = findfirst(x -> x == max_frac_time, coarse_times)\n",
    "    push!(mean_shifted_flucs, shift_idx_to_center(max_frac_idx_coarse, row[:scaled_most_frustrated_flucs][1]))\n",
    "end\n",
    "\n",
    "mean_shifted_flucs = mean(mean_shifted_flucs);"
   ]
  },
  {
   "cell_type": "code",
   "execution_count": null,
   "metadata": {},
   "outputs": [],
   "source": [
    "figure(figsize=(4, 4))\n",
    "ax = subplot(211)\n",
    "# plot(padded_exact_times, mean_shifted_fracs, \"-ok\", lw=1.5, ms=3)\n",
    "semilogy(padded_exact_times .- 1/2, mean_shifted_fracs, \"-ok\", lw=1.5, ms=3)\n",
    "xlim(-0.5, 0.5)\n",
    "ylim(1e-1, 1e2)\n",
    "ylabel(\"\\$\\\\frac{|\\\\langle 1|H_Z-H_X|0\\\\rangle|}{E_1 - E_0}\\$\")\n",
    "ax.set_xticklabels([])\n",
    "\n",
    "ax = subplot(212)\n",
    "y_data = smoothen(mean_shifted_flucs, padded_coarse_times, navg=128)\n",
    "# y_data = mean_shifted_flucs\n",
    "plot(padded_coarse_times .- 1/2, y_data ./ maximum(y_data))\n",
    "xlim(-0.5, 0.5)\n",
    "ylim(0, 1)\n",
    "xlabel(\"\\$s - s_*\\$\")\n",
    "ylabel(\"\\$ \\\\langle\\\\delta \\\\bar z_i(s) \\\\delta z_i(s) \\\\rangle \\$\")\n",
    "tight_layout()"
   ]
  },
  {
   "cell_type": "markdown",
   "metadata": {},
   "source": [
    "#### Single-instance plots"
   ]
  },
  {
   "cell_type": "code",
   "execution_count": null,
   "metadata": {},
   "outputs": [],
   "source": [
    "num_instances = 20\n",
    "\n",
    "for row in eachrow(first(main_df, num_instances))\n",
    "    print(row[:seed], \"\\t\")\n",
    "    # frac_1, frac_2, frac_3, frac_4 = row[:adiabatic_fracs]\n",
    "    # frac_1, frac_2 = all_adiabatic_fracs[plot_seed]\n",
    "    total_fracs = sum(row[:adiabatic_fracs])\n",
    "\n",
    "    # get maximum from adiabatic fraction alongside index and time\n",
    "    max_frac = maximum(total_fracs)\n",
    "    max_frac_idx = findfirst(x -> x == max_frac, total_fracs)\n",
    "    max_frac_time = exact_times[max_frac_idx]\n",
    "\n",
    "    # find that also for coarse_times\n",
    "    max_frac_idx_coarse = findfirst(x -> x == max_frac_time, coarse_times)\n",
    "\n",
    "    frustrated_flucs_1 = row[:scaled_most_frustrated_flucs][1]\n",
    "    frustrated_flucs_2 = row[:scaled_most_frustrated_flucs][2]\n",
    "\n",
    "    figure(figsize=(4, 3))\n",
    "    title(row[:seed])\n",
    "    ax = subplot(211)\n",
    "    plot(padded_exact_times, shift_idx_to_center(max_frac_idx, row[:adiabatic_fracs][1]), lw=2.5)\n",
    "    plot(padded_exact_times, shift_idx_to_center(max_frac_idx, row[:adiabatic_fracs][2]), lw=2.5)\n",
    "    plot(padded_exact_times, shift_idx_to_center(max_frac_idx, total_fracs), \"-k\", lw=2.5)\n",
    "    xlim(0., 1.)\n",
    "    ylim(0, 10)\n",
    "    ylabel(\"\\$\\\\frac{|\\\\langle \\\\alpha|H_Z-H_X|0\\\\rangle|}{E_\\\\alpha - E_0}\\$\")\n",
    "    ax.set_xticklabels([])\n",
    "    # legend(frameon=false)\n",
    "\n",
    "    ax = subplot(212)\n",
    "    # plot(padded_coarse_times,  shift_idx_to_center(max_frac_idx_coarse, frustrated_flucs_1 .- row[:mean_scaled_flucs])  |> normalize!, label=row[:seed])\n",
    "    # plot(padded_coarse_times,  shift_idx_to_center(max_frac_idx_coarse, frustrated_flucs_1) |> normalize!)\n",
    "\n",
    "    top_idx = most_frustrated_spins[row[:seed]][1]\n",
    "    sec_idx = most_frustrated_spins[row[:seed]][2]\n",
    "    magnetizations = reshape(row[:magnetizations], (N-1, npts+1))\n",
    "\n",
    "    inner_navg = 64\n",
    "    outer_navg = 64\n",
    "    # inv_mag_1 = smoothen(smoothen(shift_idx_to_center(max_frac_idx_coarse, magnetizations[top_idx, :]), padded_coarse_times, navg=inner_navg) .|> abs, padded_coarse_times, navg=outer_navg)\n",
    "    # inv_mag_2 = smoothen(smoothen(shift_idx_to_center(max_frac_idx_coarse, magnetizations[sec_idx, :]), padded_coarse_times, navg=inner_navg) .|> abs, padded_coarse_times, navg=outer_navg)\n",
    "    # crit_flucs = [smoothen(shift_idx_to_center(max_frac_idx_coarse, frustrated_flucs_1), padded_coarse_times) ./ inv_mag_1, \n",
    "    #               smoothen(shift_idx_to_center(max_frac_idx_coarse, frustrated_flucs_2), padded_coarse_times) ./ inv_mag_2]\n",
    "\n",
    "    inv_mag_1 = smoothen(smoothen(magnetizations[top_idx, :], coarse_times, navg=inner_navg) .|> abs, coarse_times, navg=outer_navg)\n",
    "    inv_mag_2 = smoothen(smoothen(magnetizations[sec_idx, :], coarse_times, navg=inner_navg) .|> abs, coarse_times, navg=outer_navg)\n",
    "    crit_flucs = [shift_idx_to_center(max_frac_idx_coarse, smoothen(frustrated_flucs_1, coarse_times) ./ inv_mag_1), \n",
    "                  shift_idx_to_center(max_frac_idx_coarse, smoothen(frustrated_flucs_2, coarse_times) ./ inv_mag_2)]                  \n",
    "    \n",
    "    which_spin(X) = abs(0.5 - padded_coarse_times[findfirst(x -> x == maximum(filter(!isnan, X)), X)])\n",
    "    crit_idx = sort([(1, which_spin(crit_flucs[1])), (2, which_spin(crit_flucs[2]))], by=x->x[2])[1][1]\n",
    "    # print(crit_idx, \"\\t\")\n",
    "    crit_idx = reverse!(sort([(1, normalize!(crit_flucs[1])[npts+1]), (2, normalize!(crit_flucs[2])[npts+1])], by=x->x[2]))[1][1]\n",
    "    # println(crit_idx)\n",
    "    # println(maximum(filter(!isnan, crit_flucs[1])), \", \", maximum(filter(!isnan, crit_flucs[2])), \", \", shift_idx_to_center(max_frac_idx, total_fracs) |> maximum)\n",
    "    spin_max_loc(X) = padded_coarse_times[findfirst(x -> x == maximum(filter(!isnan, X)), X)]\n",
    "    axvline.([spin_max_loc(crit_flucs[1]), spin_max_loc(crit_flucs[2])], c=\"k\")\n",
    "\n",
    "    # plot(padded_coarse_times, crit_flucs[crit_idx] |> normalize!, \"-k\", label=row[:seed])\n",
    "    # plot(padded_coarse_times, crit_flucs[1] |> normalize!, \"--C0\")\n",
    "    # plot(padded_coarse_times, crit_flucs[2] |> normalize!, \"--C1\") \n",
    "    plot(padded_coarse_times, crit_flucs[crit_idx], \"-k\", label=row[:seed])\n",
    "    plot(padded_coarse_times, crit_flucs[1], \"--C0\")\n",
    "    plot(padded_coarse_times, crit_flucs[2], \"--C1\")     \n",
    "    xlim(0., 1.)\n",
    "    ylim(0, )\n",
    "    xlabel(\"\\$s - s_*\\$\")\n",
    "    legend(frameon=false)\n",
    "\n",
    "    tight_layout()\n",
    "    # savefig((\"test_plots/seed_\" * plot_seed * \".pdf\"))\n",
    "end"
   ]
  }
 ],
 "metadata": {
  "kernelspec": {
   "display_name": "Julia 1.8.5",
   "language": "julia",
   "name": "julia-1.8"
  },
  "language_info": {
   "file_extension": ".jl",
   "mimetype": "application/julia",
   "name": "julia",
   "version": "1.8.5"
  },
  "orig_nbformat": 4
 },
 "nbformat": 4,
 "nbformat_minor": 2
}
