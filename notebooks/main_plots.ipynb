{
 "cells": [
  {
   "attachments": {},
   "cell_type": "markdown",
   "metadata": {},
   "source": [
    "# Data-Set Overview Plots"
   ]
  },
  {
   "cell_type": "code",
   "execution_count": null,
   "metadata": {},
   "outputs": [],
   "source": [
    "using QAOA, Distributions, Interpolations\n",
    "using DataFrames, Arrow, HDF5, Printf\n",
    "using PyPlot\n",
    "PyPlot.plt.style.use(\"./paper.mplstyle\")\n",
    "\n",
    "using PyCall\n",
    "np = pyimport(\"numpy\")\n",
    "\n",
    "PATH = \"/home/ubuntu/Archives/\"\n",
    "PLOT_PATH = \"/home/ubuntu/Archives/plots/SK_model/paper/\";"
   ]
  },
  {
   "cell_type": "code",
   "execution_count": null,
   "metadata": {},
   "outputs": [],
   "source": [
    "using Revise, SpinFluctuations"
   ]
  },
  {
   "cell_type": "code",
   "execution_count": null,
   "metadata": {},
   "outputs": [],
   "source": [
    "Base.show(io::IO, f::Float64) = @printf(io, \"%1.4f\", f)\n",
    "Base.show(io::IO, ::MIME\"text/latex\", df::AbstractDataFrame) = show(df, backend=:html, show_row_number=true, highlighters=:tf_html_default)\n",
    "\n",
    "normalize!(X) = X ./ maximum(filter(!isnan, X));"
   ]
  },
  {
   "cell_type": "markdown",
   "metadata": {},
   "source": [
    "## Small-/Large-gap data comparison"
   ]
  },
  {
   "cell_type": "code",
   "execution_count": null,
   "metadata": {},
   "outputs": [],
   "source": [
    "N = 9\n",
    "N = 11\n",
    "N = 13\n",
    "N = 15\n",
    "N = 17\n",
    "N = 19\n",
    "\n",
    "patterns_dict = Dict(\n",
    "    9  => r\"random_SK_instance_N_9_seed_(\\d+)\\.h5\",\n",
    "    11 => r\"random_SK_instance_N_11_seed_(\\d+)\\.h5\",\n",
    "    13 => r\"random_SK_instance_N_13_seed_(\\d+)\\.h5\",\n",
    "    15 => r\"random_SK_instance_N_15_seed_(\\d+)\\.h5\",\n",
    "    17 => r\"random_SK_instance_N_17_seed_(\\d+)\\.h5\",\n",
    "    19 => r\"random_SK_instance_N_19_seed_(\\d+)\\.h5\"\n",
    ");"
   ]
  },
  {
   "cell_type": "markdown",
   "metadata": {},
   "source": [
    "### Loading"
   ]
  },
  {
   "cell_type": "code",
   "execution_count": null,
   "metadata": {},
   "outputs": [],
   "source": [
    "npts = 2048\n",
    "# npts = 2^13\n",
    "coarse_times = range(0, 1, npts + 1)\n",
    "exact_times = range(0, 1, 33);"
   ]
  },
  {
   "cell_type": "code",
   "execution_count": null,
   "metadata": {},
   "outputs": [],
   "source": [
    "subdir = \"small_gaps\"\n",
    "# subdir = \"large_gaps\"\n",
    "folder_name = PATH * @sprintf(\"data/SK_model/N_%i/%s/\", N, subdir)\n",
    "instance_names = readdir(folder_name)\n",
    "filter!(x -> !occursin(\"results\", x), instance_names)\n",
    "filter!(x -> !occursin(\"undecided\", x), instance_names)\n",
    "filter!(x -> !occursin(\"frustrated\", x), instance_names)\n",
    "filter!(x -> !occursin(\"main_df\", x), instance_names);"
   ]
  },
  {
   "cell_type": "code",
   "execution_count": null,
   "metadata": {},
   "outputs": [],
   "source": [
    "# most_frustrated_spins = Dict(zip(h5read(folder_name * @sprintf(\"most_undecided_spins_N_%i.h5\", N), @sprintf(\"T_final_%.0f_tol_1e%.0f/seeds\", 32768., log10(1e-6))),\n",
    "#                                       h5read(folder_name * @sprintf(\"most_undecided_spins_N_%i.h5\", N), @sprintf(\"T_final_%.0f_tol_1e%.0f/spin_idxs\", 32768., log10(1e-6)))));"
   ]
  },
  {
   "cell_type": "code",
   "execution_count": null,
   "metadata": {},
   "outputs": [],
   "source": [
    "most_frustrated_spins_seeds = h5read(folder_name * @sprintf(\"most_frustrated_spins_N_%i.h5\", N), @sprintf(\"T_final_%.0f_tol_1e%.0f/seeds\", 32768., log10(1e-6)))\n",
    "most_frustrated_spins_idxs = h5read(folder_name * @sprintf(\"most_frustrated_spins_N_%i.h5\", N), @sprintf(\"T_final_%.0f_tol_1e%.0f/spin_idxs\", 32768., log10(1e-6)));\n",
    "most_frustrated_spins = Dict(zip(most_frustrated_spins_seeds, eachrow(most_frustrated_spins_idxs)));"
   ]
  },
  {
   "cell_type": "code",
   "execution_count": null,
   "metadata": {},
   "outputs": [],
   "source": [
    "main_df = DataFrame(Arrow.Table(folder_name * \"main_df.arrow\"));"
   ]
  },
  {
   "cell_type": "code",
   "execution_count": null,
   "metadata": {},
   "outputs": [],
   "source": [
    "names(main_df)"
   ]
  },
  {
   "cell_type": "markdown",
   "metadata": {},
   "source": [
    "## Plots"
   ]
  },
  {
   "cell_type": "markdown",
   "metadata": {},
   "source": [
    "### Shifted to center"
   ]
  },
  {
   "cell_type": "code",
   "execution_count": null,
   "metadata": {},
   "outputs": [],
   "source": [
    "padded_exact_times = range(0, 1, 2(size(exact_times)[1] - 1) + 1)\n",
    "padded_coarse_times = range(0, 1, 2(size(coarse_times)[1] - 1) + 1);"
   ]
  },
  {
   "cell_type": "markdown",
   "metadata": {},
   "source": [
    "#### Average plots"
   ]
  },
  {
   "cell_type": "code",
   "execution_count": null,
   "metadata": {},
   "outputs": [],
   "source": [
    "mean_shifted_fracs = []\n",
    "mean_shifted_flucs = []\n",
    "# for row in eachrow(first(main_df, num_instances))\n",
    "for row in eachrow(main_df)\n",
    "    # total_fracs = sum(all_adiabatic_fracs[seed])\n",
    "    total_fracs = row[:adiabatic_fracs][1]\n",
    "\n",
    "    # get maximum from adiabatic fraction alongside index and time\n",
    "    max_frac = maximum(total_fracs)\n",
    "    max_frac_idx = findfirst(x -> x == max_frac, total_fracs)\n",
    "    max_frac_time = exact_times[max_frac_idx]\n",
    "    push!(mean_shifted_fracs, shift_idx_to_center(max_frac_idx, total_fracs))\n",
    "\n",
    "    # find that also for coarse_times\n",
    "    max_frac_idx_coarse = findfirst(x -> x == max_frac_time, coarse_times)\n",
    "    push!(mean_shifted_flucs, shift_idx_to_center(max_frac_idx_coarse, row[:scaled_most_frustrated_flucs][1]))\n",
    "end\n",
    "\n",
    "mean_shifted_fracs = mean(mean_shifted_fracs)\n",
    "mean_shifted_flucs = mean(mean_shifted_flucs);"
   ]
  },
  {
   "cell_type": "code",
   "execution_count": null,
   "metadata": {},
   "outputs": [],
   "source": [
    "figure(figsize=(4, 4))\n",
    "ax = subplot(211)\n",
    "# plot(padded_exact_times, mean_shifted_fracs, \"-ok\", lw=1.5, ms=3)\n",
    "semilogy(padded_exact_times .- 1/2, mean_shifted_fracs, \"-ok\", lw=1.5, ms=3)\n",
    "xlim(-0.5, 0.5)\n",
    "ylim(1e-1, 1e2)\n",
    "ylabel(\"\\$\\\\frac{|\\\\langle 1|H_Z-H_X|0\\\\rangle|}{E_1 - E_0}\\$\")\n",
    "ax.set_xticklabels([])\n",
    "\n",
    "ax = subplot(212)\n",
    "y_data = smoothen(mean_shifted_flucs, padded_coarse_times, navg=128)\n",
    "# y_data = mean_shifted_flucs\n",
    "plot(padded_coarse_times .- 1/2, y_data ./ maximum(y_data))\n",
    "xlim(-0.5, 0.5)\n",
    "ylim(0, 1)\n",
    "xlabel(\"\\$s - s_*\\$\")\n",
    "ylabel(\"\\$ \\\\langle\\\\delta \\\\bar z_i(s) \\\\delta z_i(s) \\\\rangle \\$\")\n",
    "tight_layout()"
   ]
  },
  {
   "cell_type": "code",
   "execution_count": null,
   "metadata": {},
   "outputs": [],
   "source": [
    "num_instances = 20\n",
    "\n",
    "mean_shifted_crit_flucs = []\n",
    "# for row in eachrow(first(main_df, num_instances))\n",
    "for row in eachrow(main_df)\n",
    "    # print(row[:seed], \"\\t\")\n",
    "    \n",
    "    # get maximum from adiabatic fraction alongside index and time\n",
    "    total_fracs = sum(row[:adiabatic_fracs])\n",
    "    max_frac = maximum(total_fracs)\n",
    "    max_frac_idx = findfirst(x -> x == max_frac, total_fracs)\n",
    "    max_frac_time = exact_times[max_frac_idx]\n",
    "\n",
    "    # find that also for coarse_times\n",
    "    max_frac_idx_coarse = findfirst(x -> x == max_frac_time, coarse_times)\n",
    "\n",
    "    frustrated_flucs_1 = row[:scaled_most_frustrated_flucs][1]\n",
    "    frustrated_flucs_2 = row[:scaled_most_frustrated_flucs][2]\n",
    "\n",
    "    top_idx = most_frustrated_spins[row[:seed]][1]\n",
    "    sec_idx = most_frustrated_spins[row[:seed]][2]\n",
    "    magnetizations = reshape(row[:magnetizations], (N-1, npts+1))\n",
    "\n",
    "    inner_navg = 64\n",
    "    outer_navg = 64 # 256\n",
    "    # inv_mag_1 = smoothen(smoothen(shift_idx_to_center(max_frac_idx_coarse, magnetizations[top_idx, :]), padded_coarse_times, navg=inner_navg) .|> abs, padded_coarse_times, navg=outer_navg)\n",
    "    # inv_mag_2 = smoothen(smoothen(shift_idx_to_center(max_frac_idx_coarse, magnetizations[sec_idx, :]), padded_coarse_times, navg=inner_navg) .|> abs, padded_coarse_times, navg=outer_navg)\n",
    "    # crit_flucs = [smoothen(shift_idx_to_center(max_frac_idx_coarse, frustrated_flucs_1), padded_coarse_times) ./ inv_mag_1, \n",
    "    #               smoothen(shift_idx_to_center(max_frac_idx_coarse, frustrated_flucs_2), padded_coarse_times) ./ inv_mag_2]\n",
    "\n",
    "    inv_mag_1 = smoothen(smoothen(magnetizations[top_idx, :], coarse_times, navg=inner_navg) .|> abs, coarse_times, navg=outer_navg)\n",
    "    inv_mag_2 = smoothen(smoothen(magnetizations[sec_idx, :], coarse_times, navg=inner_navg) .|> abs, coarse_times, navg=outer_navg)\n",
    "    crit_flucs = [shift_idx_to_center(max_frac_idx_coarse, smoothen(frustrated_flucs_1, coarse_times) ./ inv_mag_1), \n",
    "                  shift_idx_to_center(max_frac_idx_coarse, smoothen(frustrated_flucs_2, coarse_times) ./ inv_mag_2)]          \n",
    "    \n",
    "    # which_spin(X) = abs(0.5 - padded_coarse_times[findfirst(x -> x == maximum(filter(!isnan, X)), X)])\n",
    "    # crit_idx = sort([(1, which_spin(crit_flucs[1])), (2, which_spin(crit_flucs[2]))], by=x->x[2])[1][1]\n",
    "    crit_idx = reverse!(sort([(1, normalize!(crit_flucs[1])[npts+1]), (2, normalize!(crit_flucs[2])[npts+1])], by=x->x[2]))[1][1]\n",
    "\n",
    "    # push!(mean_shifted_crit_flucs, crit_flucs[crit_idx] |> normalize!)\n",
    "    # push!(mean_shifted_crit_flucs, maximum(total_fracs) .* normalize!(crit_flucs[crit_idx]))\n",
    "    # push!(mean_shifted_crit_flucs, maximum(total_fracs) .* (crit_flucs[crit_idx]))\n",
    "    push!(mean_shifted_crit_flucs,  crit_flucs[crit_idx])\n",
    "end"
   ]
  },
  {
   "cell_type": "code",
   "execution_count": null,
   "metadata": {},
   "outputs": [],
   "source": [
    "length(mean_shifted_crit_flucs)"
   ]
  },
  {
   "cell_type": "code",
   "execution_count": null,
   "metadata": {},
   "outputs": [],
   "source": [
    "figure(figsize=(4, 4))\n",
    "ax = subplot(211)\n",
    "# plot(padded_exact_times, mean_shifted_fracs, \"-ok\", lw=1.5, ms=3)\n",
    "semilogy(padded_exact_times .- 1/2, mean_shifted_fracs, \"-ok\", lw=1.5, ms=3)\n",
    "xlim(-0.5, 0.5)\n",
    "ylim(1e-1, 1e2)\n",
    "ylabel(\"\\$ \\\\left\\\\langle\\\\hspace{-2mm}\\\\left\\\\langle\\\\frac{|\\\\langle 1|H_Z-H_X|0\\\\rangle|}{E_1 - E_0} \\\\right\\\\rangle\\\\hspace{-2mm}\\\\right\\\\rangle\\$\")\n",
    "ax.set_xticklabels([])\n",
    "\n",
    "ax = subplot(212)\n",
    "y_data = mean(mean_shifted_crit_flucs)\n",
    "# plot(padded_coarse_times .- 1/2, normalize!(y_data))\n",
    "semilogy(padded_coarse_times .- 1/2, y_data)\n",
    "xlim(-0.5, 0.5)\n",
    "# ylim(0, )\n",
    "ylim(1e-1, 1e1)\n",
    "xlabel(\"\\$s - s_*\\$\")\n",
    "# ylabel(\"\\$ \\\\langle\\\\delta \\\\bar z_i(s) \\\\delta z_i(s) \\\\rangle \\$\")\n",
    "ylabel(\"\\$ \\\\left\\\\langle\\\\hspace{-0.8mm}\\\\langle \\\\chi(s) \\\\right\\\\rangle\\\\hspace{-1mm}\\\\rangle \\$\")\n",
    "tight_layout()"
   ]
  },
  {
   "cell_type": "code",
   "execution_count": null,
   "metadata": {},
   "outputs": [],
   "source": [
    "map(x->maximum.(x), main_df[!, :adiabatic_fracs])"
   ]
  },
  {
   "cell_type": "markdown",
   "metadata": {},
   "source": [
    "#### Single-instance plots"
   ]
  },
  {
   "cell_type": "code",
   "execution_count": null,
   "metadata": {},
   "outputs": [],
   "source": [
    "num_instances = 20\n",
    "\n",
    "for row in eachrow(first(main_df, num_instances))\n",
    "    print(row[:seed], \"\\t\")\n",
    "    # frac_1, frac_2, frac_3, frac_4 = row[:adiabatic_fracs]\n",
    "    # frac_1, frac_2 = all_adiabatic_fracs[plot_seed]\n",
    "    total_fracs = sum(row[:adiabatic_fracs])\n",
    "\n",
    "    # get maximum from adiabatic fraction alongside index and time\n",
    "    max_frac = maximum(total_fracs)\n",
    "    max_frac_idx = findfirst(x -> x == max_frac, total_fracs)\n",
    "    max_frac_time = exact_times[max_frac_idx]\n",
    "\n",
    "    # find that also for coarse_times\n",
    "    max_frac_idx_coarse = findfirst(x -> x == max_frac_time, coarse_times)\n",
    "\n",
    "    frustrated_flucs_1 = row[:scaled_most_frustrated_flucs][1]\n",
    "    frustrated_flucs_2 = row[:scaled_most_frustrated_flucs][2]\n",
    "\n",
    "    figure(figsize=(4, 3))\n",
    "    title(row[:seed])\n",
    "    ax = subplot(211)\n",
    "    plot(padded_exact_times, shift_idx_to_center(max_frac_idx, row[:adiabatic_fracs][1]), lw=2.5)\n",
    "    plot(padded_exact_times, shift_idx_to_center(max_frac_idx, row[:adiabatic_fracs][2]), lw=2.5)\n",
    "    plot(padded_exact_times, shift_idx_to_center(max_frac_idx, total_fracs), \"-k\", lw=2.5)\n",
    "    xlim(0., 1.)\n",
    "    ylim(0, 10)\n",
    "    ylabel(\"\\$\\\\frac{|\\\\langle \\\\alpha|H_Z-H_X|0\\\\rangle|}{E_\\\\alpha - E_0}\\$\")\n",
    "    ax.set_xticklabels([])\n",
    "    # legend(frameon=false)\n",
    "\n",
    "    ax = subplot(212)\n",
    "    # plot(padded_coarse_times,  shift_idx_to_center(max_frac_idx_coarse, frustrated_flucs_1 .- row[:mean_scaled_flucs])  |> normalize!, label=row[:seed])\n",
    "    # plot(padded_coarse_times,  shift_idx_to_center(max_frac_idx_coarse, frustrated_flucs_1) |> normalize!)\n",
    "\n",
    "    top_idx = most_frustrated_spins[row[:seed]][1]\n",
    "    sec_idx = most_frustrated_spins[row[:seed]][2]\n",
    "    magnetizations = reshape(row[:magnetizations], (N-1, npts+1))\n",
    "\n",
    "    inner_navg = 64\n",
    "    outer_navg = 64\n",
    "    # inv_mag_1 = smoothen(smoothen(shift_idx_to_center(max_frac_idx_coarse, magnetizations[top_idx, :]), padded_coarse_times, navg=inner_navg) .|> abs, padded_coarse_times, navg=outer_navg)\n",
    "    # inv_mag_2 = smoothen(smoothen(shift_idx_to_center(max_frac_idx_coarse, magnetizations[sec_idx, :]), padded_coarse_times, navg=inner_navg) .|> abs, padded_coarse_times, navg=outer_navg)\n",
    "    # crit_flucs = [smoothen(shift_idx_to_center(max_frac_idx_coarse, frustrated_flucs_1), padded_coarse_times) ./ inv_mag_1, \n",
    "    #               smoothen(shift_idx_to_center(max_frac_idx_coarse, frustrated_flucs_2), padded_coarse_times) ./ inv_mag_2]\n",
    "\n",
    "    inv_mag_1 = smoothen(smoothen(magnetizations[top_idx, :], coarse_times, navg=inner_navg) .|> abs, coarse_times, navg=outer_navg)\n",
    "    inv_mag_2 = smoothen(smoothen(magnetizations[sec_idx, :], coarse_times, navg=inner_navg) .|> abs, coarse_times, navg=outer_navg)\n",
    "    crit_flucs = [shift_idx_to_center(max_frac_idx_coarse, smoothen(frustrated_flucs_1, coarse_times) ./ inv_mag_1), \n",
    "                  shift_idx_to_center(max_frac_idx_coarse, smoothen(frustrated_flucs_2, coarse_times) ./ inv_mag_2)]                  \n",
    "    \n",
    "    which_spin(X) = abs(0.5 - padded_coarse_times[findfirst(x -> x == maximum(filter(!isnan, X)), X)])\n",
    "    crit_idx = sort([(1, which_spin(crit_flucs[1])), (2, which_spin(crit_flucs[2]))], by=x->x[2])[1][1]\n",
    "    # print(crit_idx, \"\\t\")\n",
    "    crit_idx = reverse!(sort([(1, normalize!(crit_flucs[1])[npts+1]), (2, normalize!(crit_flucs[2])[npts+1])], by=x->x[2]))[1][1]\n",
    "    # println(crit_idx)\n",
    "    # println(maximum(filter(!isnan, crit_flucs[1])), \", \", maximum(filter(!isnan, crit_flucs[2])), \", \", shift_idx_to_center(max_frac_idx, total_fracs) |> maximum)\n",
    "    spin_max_loc(X) = padded_coarse_times[findfirst(x -> x == maximum(filter(!isnan, X)), X)]\n",
    "    axvline.([spin_max_loc(crit_flucs[1]), spin_max_loc(crit_flucs[2])], c=\"k\")\n",
    "\n",
    "    # plot(padded_coarse_times, crit_flucs[crit_idx] |> normalize!, \"-k\", label=row[:seed])\n",
    "    # plot(padded_coarse_times, crit_flucs[1] |> normalize!, \"--C0\")\n",
    "    # plot(padded_coarse_times, crit_flucs[2] |> normalize!, \"--C1\") \n",
    "    plot(padded_coarse_times, crit_flucs[crit_idx], \"-k\", label=row[:seed])\n",
    "    plot(padded_coarse_times, crit_flucs[1], \"--C0\")\n",
    "    plot(padded_coarse_times, crit_flucs[2], \"--C1\")     \n",
    "    xlim(0., 1.)\n",
    "    ylim(0, )\n",
    "    xlabel(\"\\$s - s_*\\$\")\n",
    "    legend(frameon=false)\n",
    "\n",
    "    tight_layout()\n",
    "    # savefig((\"test_plots/seed_\" * plot_seed * \".pdf\"))\n",
    "end"
   ]
  },
  {
   "cell_type": "markdown",
   "metadata": {},
   "source": [
    "## Not shifted to center..."
   ]
  },
  {
   "cell_type": "code",
   "execution_count": null,
   "metadata": {},
   "outputs": [],
   "source": [
    "num_instances = 10\n",
    "# for plot_seed in ordered_seeds\n",
    "for (plot_seed, _) in seeds_and_max_fracs[1:num_instances]\n",
    "    # plot_seed = ordered_seeds[20]\n",
    "    print(plot_seed, \"\\t\")\n",
    "    # frac_1, frac_2, frac_3, frac_4 = all_adiabatic_fracs[plot_seed]\n",
    "    frac_1, frac_2 = all_adiabatic_fracs[plot_seed]\n",
    "    frustrated_flucs = all_frustrated_flucs[plot_seed];\n",
    "\n",
    "    figure(figsize=(4, 3))\n",
    "    title(plot_seed)\n",
    "    ax = subplot(211)\n",
    "    plot(exact_times, frac_1, label=\"\\$\\\\alpha = 0\\$\")\n",
    "    plot(exact_times, frac_2, label=\"\\$\\\\alpha = 1\\$\", lw=1.5)\n",
    "    # plot(exact_times, frac_3, label=\"\\$\\\\alpha = 2\\$\", lw=2)\n",
    "    # plot(exact_times, frac_4, label=\"\\$\\\\alpha = 3\\$\", lw=2.5)\n",
    "    plot(exact_times, sum(all_adiabatic_fracs[plot_seed]), \"-k\", lw=2.5)\n",
    "    xlim(0., 1.)\n",
    "    ylim(0, 10)\n",
    "    ylabel(\"\\$\\\\frac{|\\\\langle \\\\alpha|H_Z-H_X|0\\\\rangle|}{E_\\\\alpha - E_0}\\$\")\n",
    "    ax.set_xticklabels([])\n",
    "    axvline(minigap_locs[plot_seed], ls=\"--\", c=\"k\", alpha=0.5)\n",
    "    # legend(frameon=false)\n",
    "\n",
    "    ax = subplot(212)\n",
    "    plot(coarse_times,  frustrated_flucs .- mean_scaled_flucs[plot_seed], label=plot_seed)\n",
    "    plot(coarse_times,  frustrated_flucs)\n",
    "    top_idx = most_frustrated_spins[plot_seed][1]\n",
    "    # plot(coarse_times, 1 ./ smoothen(smoothen(all_magnetizations[plot_seed][top_idx, :], coarse_times, navg=64) .|> abs, coarse_times, navg=64))\n",
    "    plot(coarse_times, (1 ./ smoothen(smoothen(all_magnetizations[plot_seed][top_idx, :], coarse_times, navg=64) .|> abs, coarse_times, navg=64)) .* smoothen(frustrated_flucs, coarse_times))\n",
    "    xlim(0., 1.)\n",
    "    ylim(0, )\n",
    "    xlabel(\"\\$s\\$\")\n",
    "    legend(frameon=false)\n",
    "\n",
    "    tight_layout()\n",
    "    # savefig((\"test_plots/seed_\" * plot_seed * \".pdf\"))\n",
    "end"
   ]
  },
  {
   "cell_type": "code",
   "execution_count": null,
   "metadata": {},
   "outputs": [],
   "source": [
    "# mean_frustrated_flucs = mean([(all_frustrated_flucs[seed] .- mean_scaled_flucs[seed]) ./ maximum(all_frustrated_flucs[seed] .- mean_scaled_flucs[seed]) for (seed, _) in all_adiabatic_fracs]);\n",
    "# mean_frustrated_flucs = mean([(all_frustrated_flucs[seed] .- mean_scaled_flucs[seed]) for (seed, _) in all_adiabatic_fracs]);\n",
    "mean_frustrated_flucs = mean([all_frustrated_flucs[seed] ./ maximum(all_frustrated_flucs[seed]) .- mean_scaled_flucs[seed] ./ maximum(mean_scaled_flucs[seed]) for (seed, _) in all_adiabatic_fracs]);"
   ]
  },
  {
   "cell_type": "code",
   "execution_count": null,
   "metadata": {},
   "outputs": [],
   "source": [
    "num_instances = 100\n",
    "num_instances = length(seeds_and_max_fracs)\n",
    "mean_frac_1 = mean([all_adiabatic_fracs[seed][1] for (seed, _) in seeds_and_max_fracs[1:num_instances]])\n",
    "mean_frac_2 = mean([all_adiabatic_fracs[seed][2] for (seed, _) in seeds_and_max_fracs[1:num_instances]])\n",
    "# mean_frac_3 = mean([all_adiabatic_fracs[seed][3] for (seed, _) in seeds_and_max_fracs[1:num_instances]])\n",
    "# mean_frac_4 = mean([all_adiabatic_fracs[seed][4] for (seed, _) in seeds_and_max_fracs[1:num_instances]])\n",
    "\n",
    "\n",
    "mean_frustrated_flucs = mean([all_frustrated_flucs[seed] for (seed, _) in seeds_and_max_fracs[1:num_instances]]);\n",
    "mean_mean_scaled_flucs = mean([mean_scaled_flucs[seed] for (seed, _) in seeds_and_max_fracs[1:num_instances]]);\n",
    "mean_normalized_flucs = mean([(all_frustrated_flucs[seed] .- mean_scaled_flucs[seed]) ./ maximum(all_frustrated_flucs[seed] .- mean_scaled_flucs[seed]) for (seed, _) in seeds_and_max_fracs[1:num_instances]]);"
   ]
  },
  {
   "cell_type": "code",
   "execution_count": null,
   "metadata": {},
   "outputs": [],
   "source": [
    "# mean_flucs_over_inv_mags = mean([smoothen(all_frustrated_flucs[seed] ./ all_inv_mags[seed], coarse_times, navg=128) for (seed, _) in seeds_and_max_fracs[1:num_instances]]);"
   ]
  },
  {
   "cell_type": "code",
   "execution_count": null,
   "metadata": {},
   "outputs": [],
   "source": [
    "figure(figsize=(4, 4))\n",
    "ax = subplot(211)\n",
    "plot(exact_times, mean_frac_1, label=\"\\$\\\\alpha = 1\\$\")\n",
    "# plot(exact_times, mean_frac_2, label=\"\\$\\\\alpha = 2\\$\", lw=1.5)\n",
    "# plot(exact_times, mean_frac_3, label=\"\\$\\\\alpha = 3\\$\", lw=2)\n",
    "# plot(exact_times, mean_frac_4, label=\"\\$\\\\alpha = 4\\$\", lw=2.5)\n",
    "# plot(exact_times, mean_frac_1 .+ mean_frac_2 .+ mean_frac_3 .+ mean_frac_4, \"-k\", lw=2.5)\n",
    "xlim(0., 1.)\n",
    "ylim(0, )\n",
    "ylabel(\"\\$\\\\frac{|\\\\langle \\\\alpha|H_Z-H_X|0\\\\rangle|}{E_\\\\alpha - E_0}\\$\")\n",
    "ax.set_xticklabels([])\n",
    "legend(frameon=false)\n",
    "\n",
    "ax = subplot(212)\n",
    "# plot(coarse_times,  mean_frustrated_flucs)\n",
    "plot(coarse_times,  mean_frustrated_flucs .- mean_mean_scaled_flucs)\n",
    "plot(coarse_times,  mean_normalized_flucs)\n",
    "# plot(coarse_times,  mean_flucs_over_inv_mags)\n",
    "xlim(0., 1.)\n",
    "# ylim(0, )\n",
    "xlabel(\"\\$s\\$\")\n",
    "tight_layout()"
   ]
  },
  {
   "cell_type": "code",
   "execution_count": null,
   "metadata": {},
   "outputs": [],
   "source": [
    "figure(figsize=(4, 4))\n",
    "ax = subplot(211)\n",
    "semilogy(exact_times, mean_frac_1, \"-ok\", lw=1.5, ms=3)\n",
    "xlim(0., 1.)\n",
    "ylim(1e-1, 1e2)\n",
    "ylabel(\"\\$\\\\frac{|\\\\langle 1|H_Z-H_X|0\\\\rangle|}{E_1 - E_0}\\$\")\n",
    "ax.set_xticklabels([])\n",
    "\n",
    "ax = subplot(212)\n",
    "plot(coarse_times,  mean_normalized_flucs)\n",
    "xlim(0., 1.)\n",
    "ylim(0, )\n",
    "xlabel(\"\\$s\\$\")\n",
    "ylabel(\"\\$\\\\mathrm{Re}\\\\;\\\\delta z_i(s)\\$\")\n",
    "tight_layout()"
   ]
  },
  {
   "cell_type": "markdown",
   "metadata": {},
   "source": [
    "## Old"
   ]
  },
  {
   "cell_type": "code",
   "execution_count": null,
   "metadata": {},
   "outputs": [],
   "source": [
    "instance_names[1]"
   ]
  },
  {
   "cell_type": "code",
   "execution_count": null,
   "metadata": {},
   "outputs": [],
   "source": [
    "ordered_seeds = []\n",
    "\n",
    "mean_fields = Dict()\n",
    "all_magnetizations = Dict()\n",
    "mean_scaled_flucs = Dict()\n",
    "most_frustrated_flucs = Dict()\n",
    "\n",
    "all_Hs = Dict()\n",
    "all_eigenvals = Dict()\n",
    "all_eigenstates = Dict()\n",
    "\n",
    "# for (k, instance_name) in enumerate(instance_names[310:319]) # instance \"23320\"\n",
    "for (k, instance_name) in enumerate(instance_names[1])\n",
    "    seed = match(patterns_dict[N], instance_name)[1]    \n",
    "    print(k, \", \")\n",
    "\n",
    "    # eigenvalues and -vectors\n",
    "    λ = h5read(folder_name * instance_name, \"exact_ARPACK_LM_eigvals\")\n",
    "    all_eigvecs = h5read(folder_name * instance_name, \"exact_ARPACK_LM_lowest_eigvecs\")\n",
    "\n",
    "    J_mat = h5read(folder_name * instance_name, \"J\")\n",
    "    mf_problem = Problem(0, J_mat)\n",
    "\n",
    "    # # mean-field solutions\n",
    "    T_final = 32768.\n",
    "    tol = 1e-6\n",
    "    mf_sol = h5read(folder_name * \"results_\" * instance_name, @sprintf(\"mean_field_sol_T_final_%.0f_tol_1e%.0f\", T_final, log10(tol)))\n",
    "    sigma_star = sign.(mf_sol)\n",
    "    h = mf_problem.local_fields\n",
    "    J = mf_problem.couplings\n",
    "    E_star = sum([-h[l] * sigma_star[l] for l in 1:N-1]) + sum([-J[i, j] * sigma_star[i] * sigma_star[j] for i in 1:N-1 for j in (i+1):N-1]) \n",
    "    \n",
    "    if isapprox(E_star, λ[1, end], atol=1e-5)\n",
    "        continue\n",
    "    end\n",
    "        \n",
    "    sol_t = h5read(folder_name * \"results_\" * instance_name, @sprintf(\"mean_field_T_final_%.0f_tol_1e%.0f/times\", T_final, log10(tol)))\n",
    "    sol_u = h5read(folder_name * \"results_\" * instance_name, @sprintf(\"mean_field_T_final_%.0f_tol_1e%.0f/trajectories\", T_final, log10(tol)))\n",
    "\n",
    "    nx_coarse, ny_coarse, nz_coarse = [n_coarse(n_vals(xyz, sol_u), sol_t, coarse_times) for xyz in 1:3]\n",
    "    mean_fields[seed] = [nx_coarse, ny_coarse, nz_coarse]\n",
    "    S_vals = [transpose(reduce(hcat, [nx_coarse[:, k], ny_coarse[:, k], nz_coarse[:, k]])) |> Matrix for k in 1:npts+1]\n",
    "    magnetizations = reduce(hcat, map(S -> magnetization(S, mf_problem.local_fields, mf_problem.couplings), S_vals))\n",
    "    all_magnetizations[seed] = magnetizations    \n",
    "\n",
    "    # fluctuations\n",
    "    T_final = 32000\n",
    "    # T_final = 2^16\n",
    "    tol = 1e-8\n",
    "    all_flucs = h5read(folder_name * \"results_\" * instance_name, @sprintf(\"fluctuations_T_final_%.0f_tol_1e%.0f_npts_%i\", T_final, log10(tol), npts))\n",
    "    lyapunov_exponent = sum(all_flucs, dims=1)\n",
    "    if sum(lyapunov_exponent) |> abs < 1e4 # discard non-converged ones\n",
    "\n",
    "        # get \"normal\" trajectories\n",
    "        regular_trajectories = filter!(x -> x != most_frustrated_spins[seed][1], collect(1:N-1))\n",
    "        # regular_trajectories = filter!(x -> x != most_frustrated_spins[seed][2], regular_trajectories)\n",
    "\n",
    "        scale_factors = [1 .+ abs.(complex_coordinate(i, mean_fields[seed]...)).^2 for i in 1:N-1]\n",
    "        # mean_scaled_flucs[seed] = mean([scale_factors[i] .* real(sqrt.(smoothen(all_flucs[i, :] .+ 0.0im, coarse_times))) for i in 1:N-1], dims=1)[1]\n",
    "        mean_scaled_flucs[seed] = mean([scale_factors[i].^2 .* all_flucs[i, :] for i in regular_trajectories], dims=1)[1]\n",
    "\n",
    "        most_frustrated_flucs[seed] = all_flucs[most_frustrated_spins[seed][1], :]\n",
    "    end\n",
    "\n",
    "    # adiabatic theorem...\n",
    "    H_x = SpinFluctuations.hamiltonian(1, 0, mf_problem.local_fields, mf_problem.couplings)\n",
    "    H_z = SpinFluctuations.hamiltonian(0, 1, mf_problem.local_fields, mf_problem.couplings)\n",
    "    all_Hs[seed] = [H_x, H_z]\n",
    "\n",
    "    eigenstate(n) = [all_eigvecs[k, :, n] for k in 1:length(exact_times)]\n",
    "    num_eig_vecs = size(all_eigvecs)[3]\n",
    "    all_eigenstates[seed] = [eigenstate(n) for n in 1:num_eig_vecs]\n",
    "    all_eigenvals[seed] = [λ[n, :] for n in 1:num_eig_vecs]\n",
    "\n",
    "    push!(ordered_seeds, seed)\n",
    "end"
   ]
  },
  {
   "cell_type": "code",
   "execution_count": null,
   "metadata": {},
   "outputs": [],
   "source": [
    "minigap_locs = Dict()\n",
    "all_adiabatic_fracs = Dict()\n",
    "all_frustrated_flucs = Dict()\n",
    "all_inv_mags = Dict()\n",
    "seeds_to_max_fracs = Dict()\n",
    "\n",
    "\n",
    "for seed in ordered_seeds\n",
    "    try\n",
    "        λs = all_eigenvals[seed]\n",
    "        mingap = minimum(λs[2] .- λs[1])\n",
    "        gap_idx = findfirst(x -> x == mingap, λs[2] .- λs[1]) \n",
    "        gaploc = exact_times[gap_idx]\n",
    "        minigap_locs[seed] = gaploc\n",
    "        \n",
    "        nx_coarse, ny_coarse, nz_coarse = mean_fields[seed]\n",
    "        \n",
    "        top_idx = most_frustrated_spins[seed][1]\n",
    "        scale_factor = 1 .+ abs.(complex_coordinate(top_idx, mean_fields[seed]...)).^2\n",
    "        # all_frustrated_flucs[seed] = scale_factor .* (smoothen(most_frustrated_flucs[seed] .+ 0.0im, coarse_times) .|> sqrt |> real)\n",
    "        all_frustrated_flucs[seed] = scale_factor.^2 .* most_frustrated_flucs[seed]\n",
    "        \n",
    "        # all_inv_mags[seed] = regularize.(abs.(all_magnetizations[seed][top_idx, :]), ε=5.0e-2)\n",
    "        \n",
    "        H_x, H_z = all_Hs[seed]\n",
    "        eigenstates = all_eigenstates[seed]\n",
    "        \n",
    "        overlap(n, H) = [eigenstates[n][k]' * H * eigenstates[1][k] for k in 1:length(exact_times)]\n",
    "        frac_n(n) = abs.(overlap(n, H_z) .- overlap(n, H_x)) ./ (λs[n] .- λs[1])\n",
    "        \n",
    "        # # all_adiabatic_fracs[seed] = [frac_n(n) for n in 2:5]\n",
    "        all_adiabatic_fracs[seed] = [frac_n(n) for n in 2:3]\n",
    "        \n",
    "        # # println(maximum(all_adiabatic_fracs[seed][1]), \", \", mean(all_adiabatic_fracs[seed][1]))\n",
    "        seeds_to_max_fracs[seed] = maximum(all_adiabatic_fracs[seed][1])\n",
    "    catch err\n",
    "        println(err)\n",
    "        println(seed)\n",
    "    end\n",
    "end"
   ]
  },
  {
   "cell_type": "code",
   "execution_count": null,
   "metadata": {},
   "outputs": [],
   "source": [
    "seeds_and_max_fracs = sort([(k, v) for (k, v) in seeds_to_max_fracs], by=x->x[2]) |> reverse;\n",
    "# seeds_and_max_fracs = sort([(k, v) for (k, v) in seeds_to_max_fracs], by=x->x[2]);"
   ]
  }
 ],
 "metadata": {
  "kernelspec": {
   "display_name": "Julia 1.8.5",
   "language": "julia",
   "name": "julia-1.8"
  },
  "language_info": {
   "file_extension": ".jl",
   "mimetype": "application/julia",
   "name": "julia",
   "version": "1.8.5"
  },
  "orig_nbformat": 4
 },
 "nbformat": 4,
 "nbformat_minor": 2
}
