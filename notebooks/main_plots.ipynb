{
 "cells": [
  {
   "attachments": {},
   "cell_type": "markdown",
   "metadata": {},
   "source": [
    "# Data-Set Overview Plots"
   ]
  },
  {
   "cell_type": "code",
   "execution_count": 38,
   "metadata": {},
   "outputs": [],
   "source": [
    "using QAOA, Distributions, Interpolations\n",
    "using DataFrames, Arrow, HDF5, Printf\n",
    "using PyPlot\n",
    "PyPlot.plt.style.use(\"./paper.mplstyle\")\n",
    "\n",
    "using PyCall\n",
    "np = pyimport(\"numpy\")\n",
    "\n",
    "PATH = \"/home/ubuntu/Archives/\"\n",
    "PLOT_PATH = \"/home/ubuntu/Archives/plots/SK_model/paper/\";"
   ]
  },
  {
   "cell_type": "code",
   "execution_count": 39,
   "metadata": {},
   "outputs": [],
   "source": [
    "using Revise, SpinFluctuations"
   ]
  },
  {
   "cell_type": "code",
   "execution_count": 40,
   "metadata": {},
   "outputs": [],
   "source": [
    "Base.show(io::IO, f::Float64) = @printf(io, \"%1.4f\", f)\n",
    "Base.show(io::IO, ::MIME\"text/latex\", df::AbstractDataFrame) = show(df, backend=:html, show_row_number=true, highlighters=:tf_html_default)\n",
    "\n",
    "normalize!(X) = X ./ maximum(filter(!isnan, X));"
   ]
  },
  {
   "cell_type": "markdown",
   "metadata": {},
   "source": [
    "## Small-/Large-gap data comparison"
   ]
  },
  {
   "cell_type": "code",
   "execution_count": 41,
   "metadata": {},
   "outputs": [],
   "source": [
    "N = 9\n",
    "# N = 11\n",
    "# N = 13\n",
    "# N = 15\n",
    "# N = 17\n",
    "# N = 19\n",
    "\n",
    "patterns_dict = Dict(\n",
    "    9  => r\"random_SK_instance_N_9_seed_(\\d+)\\.h5\",\n",
    "    11 => r\"random_SK_instance_N_11_seed_(\\d+)\\.h5\",\n",
    "    13 => r\"random_SK_instance_N_13_seed_(\\d+)\\.h5\",\n",
    "    15 => r\"random_SK_instance_N_15_seed_(\\d+)\\.h5\",\n",
    "    17 => r\"random_SK_instance_N_17_seed_(\\d+)\\.h5\",\n",
    "    19 => r\"random_SK_instance_N_19_seed_(\\d+)\\.h5\"\n",
    ");"
   ]
  },
  {
   "cell_type": "markdown",
   "metadata": {},
   "source": [
    "### Loading"
   ]
  },
  {
   "cell_type": "code",
   "execution_count": 42,
   "metadata": {},
   "outputs": [],
   "source": [
    "npts = 2048\n",
    "# npts = 2^13\n",
    "coarse_times = range(0, 1, npts + 1)\n",
    "exact_times = range(0, 1, 33);"
   ]
  },
  {
   "cell_type": "code",
   "execution_count": 43,
   "metadata": {},
   "outputs": [
    {
     "data": {
      "text/plain": [
       "\"/home/ubuntu/Archives/data/SK_model/N_9/small_gaps/\""
      ]
     },
     "execution_count": 43,
     "metadata": {},
     "output_type": "execute_result"
    }
   ],
   "source": [
    "subdir = \"small_gaps\"\n",
    "# subdir = \"large_gaps\"\n",
    "folder_name = PATH * @sprintf(\"data/SK_model/N_%i/%s/\", N, subdir)\n",
    "instance_names = readdir(folder_name)\n",
    "filter!(x -> !occursin(\"results\", x), instance_names)\n",
    "filter!(x -> !occursin(\"undecided\", x), instance_names)\n",
    "filter!(x -> !occursin(\"frustrated\", x), instance_names)\n",
    "filter!(x -> !occursin(\"main_df\", x), instance_names);\n",
    "folder_name"
   ]
  },
  {
   "cell_type": "code",
   "execution_count": 44,
   "metadata": {},
   "outputs": [],
   "source": [
    "most_frustrated_spins_seeds = h5read(folder_name * @sprintf(\"most_undecided_spins_N_%i.h5\", N), @sprintf(\"T_final_%.0f_tol_1e%.0f/seeds\", 32768., log10(1e-6)))\n",
    "most_frustrated_spins_idxs = h5read(folder_name * @sprintf(\"most_undecided_spins_N_%i.h5\", N), @sprintf(\"T_final_%.0f_tol_1e%.0f/spin_idxs\", 32768., log10(1e-6)));\n",
    "most_frustrated_spins = Dict(zip(most_frustrated_spins_seeds, eachrow(most_frustrated_spins_idxs)))\n",
    "main_df = DataFrame(Arrow.Table(folder_name * \"main_df_undecided.arrow\"));"
   ]
  },
  {
   "cell_type": "code",
   "execution_count": 45,
   "metadata": {},
   "outputs": [],
   "source": [
    "# most_frustrated_spins_seeds = h5read(folder_name * @sprintf(\"most_frustrated_spins_N_%i.h5\", N), @sprintf(\"T_final_%.0f_tol_1e%.0f/seeds\", 32768., log10(1e-6)))\n",
    "# most_frustrated_spins_idxs = h5read(folder_name * @sprintf(\"most_frustrated_spins_N_%i.h5\", N), @sprintf(\"T_final_%.0f_tol_1e%.0f/spin_idxs\", 32768., log10(1e-6)));\n",
    "# most_frustrated_spins = Dict(zip(most_frustrated_spins_seeds, eachrow(most_frustrated_spins_idxs)))\n",
    "# main_df = DataFrame(Arrow.Table(folder_name * \"main_df_frustrated.arrow\"));"
   ]
  },
  {
   "cell_type": "code",
   "execution_count": 46,
   "metadata": {},
   "outputs": [
    {
     "name": "stdout",
     "output_type": "stream",
     "text": [
      "(2171, 11)\n"
     ]
    },
    {
     "data": {
      "text/plain": [
       "11-element Vector{String}:\n",
       " \"seed\"\n",
       " \"minigap_locs\"\n",
       " \"eigvals\"\n",
       " \"eigstates\"\n",
       " \"scaled_most_frustrated_flucs\"\n",
       " \"overlaps\"\n",
       " \"gaps\"\n",
       " \"gs_fidelities\"\n",
       " \"mean_scaled_flucs\"\n",
       " \"mean_fields\"\n",
       " \"magnetizations\""
      ]
     },
     "execution_count": 46,
     "metadata": {},
     "output_type": "execute_result"
    }
   ],
   "source": [
    "println(size(main_df))\n",
    "names(main_df)"
   ]
  },
  {
   "cell_type": "markdown",
   "metadata": {},
   "source": [
    "## Plots"
   ]
  },
  {
   "cell_type": "markdown",
   "metadata": {},
   "source": [
    "### Shifted to center"
   ]
  },
  {
   "cell_type": "code",
   "execution_count": 47,
   "metadata": {},
   "outputs": [],
   "source": [
    "padded_exact_times = range(0, 1, 2(size(exact_times)[1] - 1) + 1)\n",
    "padded_coarse_times = range(0, 1, 2(size(coarse_times)[1] - 1) + 1);"
   ]
  },
  {
   "cell_type": "markdown",
   "metadata": {},
   "source": [
    "#### Average plots"
   ]
  },
  {
   "cell_type": "code",
   "execution_count": 48,
   "metadata": {},
   "outputs": [
    {
     "data": {
      "text/plain": [
       "get_mean_shifted_fracs (generic function with 1 method)"
      ]
     },
     "execution_count": 48,
     "metadata": {},
     "output_type": "execute_result"
    }
   ],
   "source": [
    "function get_mean_shifted_fracs(main_df)\n",
    "    mean_shifted_fracs = []\n",
    "    # for row in eachrow(first(main_df, num_instances))\n",
    "    for row in eachrow(main_df)\n",
    "        # total_fracs = sum(all_adiabatic_fracs[seed])\n",
    "        # total_fracs = row[:adiabatic_fracs][1]\n",
    "        total_fracs = row[:overlaps][1] .* row[:gaps][1].^2\n",
    "\n",
    "        # get maximum from adiabatic fraction alongside index and time\n",
    "        max_frac = maximum(total_fracs)\n",
    "        max_frac_idx = findfirst(x -> x == max_frac, total_fracs)\n",
    "        max_frac_time = exact_times[max_frac_idx]\n",
    "        push!(mean_shifted_fracs, shift_idx_to_center(max_frac_idx, total_fracs))\n",
    "    end\n",
    "\n",
    "    mean(mean_shifted_fracs)\n",
    "end"
   ]
  },
  {
   "cell_type": "code",
   "execution_count": 181,
   "metadata": {},
   "outputs": [
    {
     "data": {
      "text/plain": [
       "get_mean_shifted_crit_flucs (generic function with 1 method)"
      ]
     },
     "execution_count": 181,
     "metadata": {},
     "output_type": "execute_result"
    }
   ],
   "source": [
    "function get_mean_shifted_crit_flucs(main_df, most_frustrated_spins)\n",
    "    \n",
    "    mean_shifted_crit_flucs = []\n",
    "    num_instances = 100 # 200 # 500 \n",
    "    # for row in eachrow(first(main_df, num_instances))\n",
    "    for row in eachrow(main_df)\n",
    "        N_val = length(most_frustrated_spins[row[:seed]])\n",
    "        # print(row[:seed], \"\\t\")\n",
    "        \n",
    "        # get maximum from adiabatic fraction alongside index and time\n",
    "        # total_fracs = sum(row[:adiabatic_fracs])\n",
    "        total_fracs = row[:overlaps][1] .* row[:gaps][1].^2\n",
    "        max_frac = maximum(total_fracs)\n",
    "        max_frac_idx = findfirst(x -> x == max_frac, total_fracs)\n",
    "        max_frac_time = exact_times[max_frac_idx]\n",
    "\n",
    "        # find that also for coarse_times\n",
    "        max_frac_idx_coarse = findfirst(x -> x == max_frac_time, coarse_times)\n",
    "\n",
    "        frustrated_flucs_1 = row[:scaled_most_frustrated_flucs][1]\n",
    "        frustrated_flucs_2 = row[:scaled_most_frustrated_flucs][2]\n",
    "\n",
    "        top_idx = most_frustrated_spins[row[:seed]][1]\n",
    "        sec_idx = most_frustrated_spins[row[:seed]][2]\n",
    "        magnetizations = reshape(row[:magnetizations], (N_val, npts+1))\n",
    "\n",
    "        # inner_navg = 32\n",
    "        # outer_navg = 32\n",
    "        # inv_mag_1 = smoothen(smoothen(magnetizations[top_idx, :], coarse_times, navg=inner_navg) .|> abs, coarse_times, navg=outer_navg)\n",
    "        # inv_mag_2 = smoothen(smoothen(magnetizations[sec_idx, :], coarse_times, navg=inner_navg) .|> abs, coarse_times, navg=outer_navg)\n",
    "        # inv_mag_1 = smoothen(smoothen(magnetizations[top_idx, :] .|> abs, coarse_times, navg=inner_navg), coarse_times, navg=outer_navg)\n",
    "        # inv_mag_2 = smoothen(smoothen(magnetizations[sec_idx, :] .|> abs, coarse_times, navg=inner_navg), coarse_times, navg=outer_navg)        \n",
    "        # inv_mag_1 = smoothen(smoothen(magnetizations[top_idx, :], coarse_times, navg=inner_navg).^2, coarse_times, navg=outer_navg)\n",
    "        # inv_mag_2 = smoothen(smoothen(magnetizations[sec_idx, :], coarse_times, navg=inner_navg).^2, coarse_times, navg=outer_navg)\n",
    "        # inv_mag_1 = smoothen(smoothen(magnetizations[top_idx, :].^2, coarse_times, navg=inner_navg), coarse_times, navg=outer_navg)\n",
    "        # inv_mag_2 = smoothen(smoothen(magnetizations[sec_idx, :].^2, coarse_times, navg=inner_navg), coarse_times, navg=outer_navg)        \n",
    "        inv_mag_1 = 1\n",
    "        inv_mag_2 = 1\n",
    "        # crit_flucs = [shift_idx_to_center(max_frac_idx_coarse, smoothen(frustrated_flucs_1, coarse_times) ./ inv_mag_1), \n",
    "        #               shift_idx_to_center(max_frac_idx_coarse, smoothen(frustrated_flucs_2, coarse_times) ./ inv_mag_2)]   \n",
    "                      \n",
    "        mean_fields = reshape(row[:mean_fields][3], (N_val, npts+1))\n",
    "        # EA_param_1 = sum([mean_fields[k, :].^2 for k in 1:N_val]) ./ N_val\n",
    "        # EA_param_2 = sum([mean_fields[k, :].^2 for k in 1:N_val]) ./ N_val\n",
    "        # EA_param_1 = smoothen(mean_fields[top_idx, :].^2, coarse_times)\n",
    "        # EA_param_2 = smoothen(mean_fields[sec_idx, :].^2, coarse_times)        \n",
    "        # crit_flucs = [shift_idx_to_center(max_frac_idx_coarse, smoothen(frustrated_flucs_1, coarse_times) .* EA_param_1 ./ inv_mag_1), \n",
    "        #               shift_idx_to_center(max_frac_idx_coarse, smoothen(frustrated_flucs_2, coarse_times) .* EA_param_2 ./ inv_mag_2)]\n",
    "        EA_param_1 = mean_fields[top_idx, :].^2\n",
    "        EA_param_2 = mean_fields[sec_idx, :].^2\n",
    "        crit_navg = 64\n",
    "        crit_flucs = [shift_idx_to_center(max_frac_idx_coarse, smoothen(frustrated_flucs_1 .* EA_param_1, coarse_times, navg=crit_navg)), \n",
    "                      shift_idx_to_center(max_frac_idx_coarse, smoothen(frustrated_flucs_2 .* EA_param_2, coarse_times, navg=crit_navg))] \n",
    "        # crit_flucs = [shift_idx_to_center(max_frac_idx_coarse, smoothen(EA_param_1, coarse_times, navg=crit_navg)), \n",
    "                    #   shift_idx_to_center(max_frac_idx_coarse, smoothen(EA_param_2, coarse_times, navg=crit_navg))]            \n",
    "\n",
    "        # EA_param_1 = 1 ./ mean_fields[top_idx, :].^2\n",
    "        # EA_param_2 = 1 ./ mean_fields[sec_idx, :].^2  \n",
    "        # EA_param_1 = sum([smoothen(1 ./ mean_fields[i, :].^2, coarse_times, navg=128) for i in 1:N-1])\n",
    "        # EA_param_2 = sum([smoothen(1 ./ mean_fields[i, :].^2, coarse_times, navg=128) for i in 1:N-1])\n",
    "        # EA_param_1 = 1 ./ smoothen(mean_fields[top_idx, :].^2, coarse_times, navg=256)\n",
    "        # EA_param_2 = 1 ./ smoothen(mean_fields[sec_idx, :].^2, coarse_times, navg=256)              \n",
    "        # EA_param_1 = 1.\n",
    "        # EA_param_2 = 1.\n",
    "\n",
    "        # inner_navg = 32\n",
    "        # outer_navg = 32\n",
    "        # crit_flucs = [shift_idx_to_center(max_frac_idx_coarse, smoothen(smoothen(frustrated_flucs_1 .* EA_param_1, coarse_times, navg=inner_navg), coarse_times, navg=outer_navg)), \n",
    "        #               shift_idx_to_center(max_frac_idx_coarse, smoothen(smoothen(frustrated_flucs_2 .* EA_param_2, coarse_times, navg=inner_navg), coarse_times, navg=outer_navg))]                \n",
    "\n",
    "        crit_idx = reverse!(sort([(1, normalize!(crit_flucs[1])[npts+1]), (2, normalize!(crit_flucs[2])[npts+1])], by=x->x[2]))[1][1]\n",
    "\n",
    "        push!(mean_shifted_crit_flucs,  crit_flucs[crit_idx])\n",
    "        # push!(mean_shifted_crit_flucs,  mean(crit_flucs))\n",
    "    end\n",
    "    mean_shifted_crit_flucs\n",
    "end"
   ]
  },
  {
   "cell_type": "code",
   "execution_count": 182,
   "metadata": {},
   "outputs": [],
   "source": [
    "N_vals = [9, 11, 13, 15, 17, 19]\n",
    "all_mean_shifted_fracs = []\n",
    "all_mean_shifted_crit_flucs = []\n",
    "for N in N_vals\n",
    "    try\n",
    "        folder_name = PATH * @sprintf(\"data/SK_model/N_%i/%s/\", N, subdir)\n",
    "\n",
    "        most_frustrated_spins_seeds = h5read(folder_name * @sprintf(\"most_undecided_spins_N_%i.h5\", N), @sprintf(\"T_final_%.0f_tol_1e%.0f/seeds\", 32768., log10(1e-6)))\n",
    "        most_frustrated_spins_idxs = h5read(folder_name * @sprintf(\"most_undecided_spins_N_%i.h5\", N), @sprintf(\"T_final_%.0f_tol_1e%.0f/spin_idxs\", 32768., log10(1e-6)));\n",
    "        most_frustrated_spins = Dict(zip(most_frustrated_spins_seeds, eachrow(most_frustrated_spins_idxs)))\n",
    "        main_df = DataFrame(Arrow.Table(folder_name * \"main_df_undecided.arrow\"))      \n",
    "        \n",
    "        # most_frustrated_spins_seeds = h5read(folder_name * @sprintf(\"most_frustrated_spins_N_%i.h5\", N), @sprintf(\"T_final_%.0f_tol_1e%.0f/seeds\", 32768., log10(1e-6)))\n",
    "        # most_frustrated_spins_idxs = h5read(folder_name * @sprintf(\"most_frustrated_spins_N_%i.h5\", N), @sprintf(\"T_final_%.0f_tol_1e%.0f/spin_idxs\", 32768., log10(1e-6)));\n",
    "        # most_frustrated_spins = Dict(zip(most_frustrated_spins_seeds, eachrow(most_frustrated_spins_idxs)))\n",
    "        # main_df = DataFrame(Arrow.Table(folder_name * \"main_df_frustrated.arrow\"))\n",
    "\n",
    "        mean_shifted_fracs = get_mean_shifted_fracs(main_df)\n",
    "        mean_shifted_crit_flucs = get_mean_shifted_crit_flucs(main_df, most_frustrated_spins)\n",
    "        push!(all_mean_shifted_fracs, mean_shifted_fracs)    \n",
    "        push!(all_mean_shifted_crit_flucs, mean_shifted_crit_flucs)   \n",
    "    catch err\n",
    "        println(N, \", \", err, \", \") \n",
    "    end\n",
    "end"
   ]
  },
  {
   "cell_type": "code",
   "execution_count": 184,
   "metadata": {},
   "outputs": [
    {
     "name": "stdout",
     "output_type": "stream",
     "text": [
      "2171\n",
      "2169\n",
      "1939\n",
      "1050\n",
      "250\n",
      "110\n"
     ]
    },
    {
     "data": {
      "image/png": "[encoded data removed]",
      "text/plain": [
       "Figure(PyObject <Figure size 1200x400 with 12 Axes>)"
      ]
     },
     "metadata": {},
     "output_type": "display_data"
    }
   ],
   "source": [
    "figure(figsize=(12, 4))\n",
    "for (k, mean_shifted_fracs) in enumerate(all_mean_shifted_fracs)\n",
    "    ax = subplot(2, 6, k)\n",
    "    axvline(0, c=\"k\", alpha=0.25, lw=5)\n",
    "    semilogy(padded_exact_times .- 1/2, mean_shifted_fracs, \"-ok\", lw=1.5, ms=3)#, label=@sprintf(\"\\$N = %i\\$\", N_vals[k] - 1))\n",
    "    semilogy([], [], \"-k\", lw=0 , label=@sprintf(\"\\$N = %i\\$\", N_vals[k] - 1))\n",
    "    xlim(-0.5, 0.5)\n",
    "    ax.set_xticklabels([-0.25, 0.0, 0.25])\n",
    "    ylim(1e0, 1e5)\n",
    "    ax.set_xticklabels([])\n",
    "    if k == 1\n",
    "        ylabel(\"Average \\$ g_1(s)  \\$\")\n",
    "    else\n",
    "        ax.set_yticklabels([])\n",
    "    end   \n",
    "    # legend(frameon=false, handlelength=0, markerscale=0, borderaxespad=0.1, fontsize=12, loc=\"upper right\")\n",
    "    legend(frameon=false, borderaxespad=0.1, fontsize=12, loc=\"upper right\")\n",
    "end\n",
    "\n",
    "all_y_data = mean.(all_mean_shifted_crit_flucs)\n",
    "for (k, y_data) in enumerate(all_y_data)\n",
    "    println(length(all_mean_shifted_crit_flucs[k]))\n",
    "    ax = subplot(2, 6, k + 6)\n",
    "    axvline(0, c=\"k\", alpha=0.25, lw=5)\n",
    "    # plot(padded_coarse_times .- 1/2, normalize!(y_data), \"-k\")\n",
    "    plot(padded_coarse_times .- 1/2, y_data, \"-k\")\n",
    "    xlabel(\"\\$s - s_*\\$\")\n",
    "    xlim(-0.5, 0.5)\n",
    "    # ax.set_xticklabels([\"\\$-\\\\frac 12\\$\", \"\\$0\\$\", \"\\$\\\\frac 12\\$\"], fontsize=12)\n",
    "    ax.set_xticklabels([\"\\$-1/2\\$\", \"\\$0\\$\", \"\\$1/2\\$\"], fontsize=12)\n",
    "    ylim(0, )\n",
    "    ylim(0, 0.02)\n",
    "    if k == 1\n",
    "        ylabel(\"Average \\$ \\\\chi_{i_*}(s) \\$\")\n",
    "    else\n",
    "        ax.set_yticklabels([])\n",
    "    end    \n",
    "end\n",
    "tight_layout(h_pad=0.0, w_pad=0.5)\n",
    "# savefig(PLOT_PATH * \"disorder_stats.pdf\", dpi=256, bbox_inches=\"tight\")"
   ]
  },
  {
   "cell_type": "code",
   "execution_count": 180,
   "metadata": {},
   "outputs": [
    {
     "name": "stdout",
     "output_type": "stream",
     "text": [
      "(33,)\n",
      "(33,)\n"
     ]
    }
   ],
   "source": [
    "for row in eachrow(first(main_df, 2))\n",
    "    size(row[:gs_fidelities]) |> println\n",
    "end"
   ]
  },
  {
   "cell_type": "markdown",
   "metadata": {},
   "source": [
    "#### Single-instance plots"
   ]
  },
  {
   "cell_type": "code",
   "execution_count": null,
   "metadata": {},
   "outputs": [],
   "source": [
    "num_instances = 10\n",
    "\n",
    "for (k, row) in enumerate(eachrow(main_df))\n",
    "    # for (k, row) in enumerate(eachrow(last(main_df, num_instances)))\n",
    "    print(k, \"\\t\") # row[:seed]\n",
    "    total_fracs = row[:overlaps][1] .* row[:gaps][1].^2\n",
    "\n",
    "    # get maximum from adiabatic fraction alongside index and time\n",
    "    max_frac = maximum(total_fracs)\n",
    "    max_frac_idx = findfirst(x -> x == max_frac, total_fracs)\n",
    "    max_frac_time = exact_times[max_frac_idx]\n",
    "\n",
    "    # find that also for coarse_times\n",
    "    max_frac_idx_coarse = findfirst(x -> x == max_frac_time, coarse_times)\n",
    "\n",
    "    frustrated_flucs_1 = row[:scaled_most_frustrated_flucs][1]\n",
    "    frustrated_flucs_2 = row[:scaled_most_frustrated_flucs][2]\n",
    "\n",
    "    figure(figsize=(4, 3))\n",
    "    title(row[:seed])\n",
    "    ax = subplot(211)\n",
    "    axvline(0, c=\"k\", alpha=0.25, lw=5)\n",
    "    plot(padded_exact_times .- 1/2, shift_idx_to_center(max_frac_idx, normalize!(row[:overlaps][1] .* row[:gaps][1].^2)), lw=1.5, \"-k\")\n",
    "    plot(padded_exact_times .- 1/2, shift_idx_to_center(max_frac_idx, row[:overlaps][1]), lw=1.5, \"-C0\")\n",
    "    plot(padded_exact_times .- 1/2, shift_idx_to_center(max_frac_idx, row[:overlaps][2]), lw=1.5, \"-C1\")\n",
    "    plot(padded_exact_times .- 1/2, shift_idx_to_center(max_frac_idx, 1 ./ row[:gaps][1]), lw=0.5, \"--C0\")\n",
    "    plot(padded_exact_times .- 1/2, shift_idx_to_center(max_frac_idx, 1 ./ row[:gaps][2]), lw=0.5, \"--C1\") \n",
    "\n",
    "    plot(padded_exact_times .- 1/2, shift_idx_to_center(max_frac_idx, abs.(row[:gs_fidelities]).^2), \"-r\")\n",
    "\n",
    "    plot([], [], label=@sprintf(\"%i\", maximum(total_fracs)))   \n",
    "    xlim(-1/2, 1/2)\n",
    "    ylim(0, )\n",
    "    # ylabel(\"\\$\\\\frac{|\\\\langle \\\\alpha|H_Z-H_X|0\\\\rangle|}{E_\\\\alpha - E_0}\\$\")\n",
    "    ax.set_xticklabels([])\n",
    "    legend(frameon=false)\n",
    "\n",
    "    ax = subplot(212)\n",
    "\n",
    "    top_idx = most_frustrated_spins[row[:seed]][1]\n",
    "    sec_idx = most_frustrated_spins[row[:seed]][2]\n",
    "    magnetizations = reshape(row[:magnetizations], (length(most_frustrated_spins[row[:seed]]), npts+1))\n",
    "\n",
    "    inner_navg = 64\n",
    "    outer_navg = 64\n",
    "    inv_mag_1 = smoothen(smoothen(magnetizations[top_idx, :], coarse_times, navg=inner_navg) .|> abs, coarse_times, navg=outer_navg)\n",
    "    inv_mag_2 = smoothen(smoothen(magnetizations[sec_idx, :], coarse_times, navg=inner_navg) .|> abs, coarse_times, navg=outer_navg)\n",
    "    # crit_flucs = [shift_idx_to_center(max_frac_idx_coarse, smoothen(frustrated_flucs_1, coarse_times) ./ inv_mag_1), \n",
    "                #   shift_idx_to_center(max_frac_idx_coarse, smoothen(frustrated_flucs_2, coarse_times) ./ inv_mag_2)]                  \n",
    "    crit_flucs = [shift_idx_to_center(max_frac_idx_coarse, smoothen(frustrated_flucs_1, coarse_times)), \n",
    "                  shift_idx_to_center(max_frac_idx_coarse, smoothen(frustrated_flucs_2, coarse_times))]\n",
    "                \n",
    "    which_spin(X) = abs(0.5 - padded_coarse_times[findfirst(x -> x == maximum(filter(!isnan, X)), X)])\n",
    "    crit_idx = sort([(1, which_spin(crit_flucs[1])), (2, which_spin(crit_flucs[2]))], by=x->x[2])[1][1]\n",
    "    crit_idx = reverse!(sort([(1, normalize!(crit_flucs[1])[npts+1]), (2, normalize!(crit_flucs[2])[npts+1])], by=x->x[2]))[1][1]\n",
    "    # println(maximum(filter(!isnan, crit_flucs[1])), \", \", maximum(filter(!isnan, crit_flucs[2])), \", \", shift_idx_to_center(max_frac_idx, total_fracs) |> maximum)\n",
    "\n",
    "    spin_max_loc(X) = padded_coarse_times[findfirst(x -> x == maximum(filter(!isnan, X)), X)]\n",
    "    # axvline.([spin_max_loc(crit_flucs[1]), spin_max_loc(crit_flucs[2])], c=\"k\")\n",
    "    axvline(0, c=\"k\", alpha=0.25, lw=5)\n",
    "    # plot(padded_coarse_times .- 1/2, crit_flucs[crit_idx], \"-k\", label=row[:seed])\n",
    "    plot(padded_coarse_times .- 1/2, crit_flucs[1] |> normalize!, \"-C0\", label=row[:seed])\n",
    "    plot(padded_coarse_times .- 1/2, crit_flucs[2] |> normalize!, \"-C1\")\n",
    "\n",
    "    plot(padded_coarse_times .- 1/2, shift_idx_to_center(max_frac_idx_coarse, normalize!(1 ./ inv_mag_1)), \"--C0\")\n",
    "    plot(padded_coarse_times .- 1/2, shift_idx_to_center(max_frac_idx_coarse, normalize!(1 ./ inv_mag_2)), \"--C1\")    \n",
    "\n",
    "    mean_fields = reshape(row[:mean_fields][3], (N-1, npts+1))\n",
    "    plot(padded_coarse_times .- 1/2, shift_idx_to_center(max_frac_idx_coarse, sum([mean_fields[k, :].^2 for k in 1:N-1])) ./ (N-1), \"-k\", alpha=0.5)\n",
    "    plot(padded_coarse_times .- 1/2, shift_idx_to_center(max_frac_idx_coarse, sum([mean_fields[k, :].^8 for k in 1:N-1])) ./ (N-1), \"-k\")\n",
    "\n",
    "    xlim(-1/2, 1/2)\n",
    "    ylim(0, 1)\n",
    "    xlabel(\"\\$s - s_*\\$\")\n",
    "    legend(frameon=false)\n",
    "\n",
    "    tight_layout(pad=0.0)\n",
    "    # savefig(PATH * @sprintf(\"plots/SK_model/N_%i/%s/\", N, \"details\") * @sprintf(\"random_SK_instance_N_%i_hardness_%i.pdf\", N, k), dpi=128, bbox_inches=\"tight\")\n",
    "    # close()\n",
    "end"
   ]
  },
  {
   "cell_type": "markdown",
   "metadata": {},
   "source": [
    "### Critical points"
   ]
  },
  {
   "cell_type": "code",
   "execution_count": null,
   "metadata": {},
   "outputs": [],
   "source": [
    "function get_max_frac_times(main_df)\n",
    "    max_frac_times = []\n",
    "    for row in eachrow(main_df)\n",
    "        total_fracs = row[:overlaps][1] .* row[:gaps][1].^2\n",
    "\n",
    "        # get maximum from adiabatic fraction alongside index and time\n",
    "        max_frac = maximum(total_fracs)\n",
    "        max_frac_idx = findfirst(x -> x == max_frac, total_fracs)\n",
    "        max_frac_time = exact_times[max_frac_idx]\n",
    "        push!(max_frac_times, max_frac_time)\n",
    "    end\n",
    "\n",
    "    max_frac_times\n",
    "end"
   ]
  },
  {
   "cell_type": "code",
   "execution_count": null,
   "metadata": {},
   "outputs": [],
   "source": [
    "N_vals = [9, 11, 13, 15, 17, 19]\n",
    "all_max_frac_times = []\n",
    "for N in N_vals\n",
    "    try\n",
    "        folder_name = PATH * @sprintf(\"data/SK_model/N_%i/%s/\", N, subdir)\n",
    "\n",
    "        # most_frustrated_spins_seeds = h5read(folder_name * @sprintf(\"most_undecided_spins_N_%i.h5\", N), @sprintf(\"T_final_%.0f_tol_1e%.0f/seeds\", 32768., log10(1e-6)))\n",
    "        # most_frustrated_spins_idxs = h5read(folder_name * @sprintf(\"most_undecided_spins_N_%i.h5\", N), @sprintf(\"T_final_%.0f_tol_1e%.0f/spin_idxs\", 32768., log10(1e-6)));\n",
    "        # most_frustrated_spins = Dict(zip(most_frustrated_spins_seeds, eachrow(most_frustrated_spins_idxs)))\n",
    "        # main_df = DataFrame(Arrow.Table(folder_name * \"main_df_undecided.arrow\"))      \n",
    "        \n",
    "        most_frustrated_spins_seeds = h5read(folder_name * @sprintf(\"most_frustrated_spins_N_%i.h5\", N), @sprintf(\"T_final_%.0f_tol_1e%.0f/seeds\", 32768., log10(1e-6)))\n",
    "        most_frustrated_spins_idxs = h5read(folder_name * @sprintf(\"most_frustrated_spins_N_%i.h5\", N), @sprintf(\"T_final_%.0f_tol_1e%.0f/spin_idxs\", 32768., log10(1e-6)));\n",
    "        most_frustrated_spins = Dict(zip(most_frustrated_spins_seeds, eachrow(most_frustrated_spins_idxs)))\n",
    "        # main_df = DataFrame(Arrow.Table(folder_name * \"main_df_frustrated.arrow\"))\n",
    "        main_df = DataFrame(Arrow.Table(folder_name * \"main_df_frustrated_nondeg.arrow\"))\n",
    "\n",
    "        max_frac_times = get_max_frac_times(main_df)\n",
    "        push!(all_max_frac_times, max_frac_times)\n",
    "    catch err\n",
    "        println(N, \", \", err, \", \") \n",
    "    end\n",
    "end"
   ]
  },
  {
   "cell_type": "code",
   "execution_count": null,
   "metadata": {},
   "outputs": [],
   "source": [
    "all_max_frac_times[1]"
   ]
  },
  {
   "cell_type": "markdown",
   "metadata": {},
   "source": [
    "## Testing"
   ]
  },
  {
   "cell_type": "code",
   "execution_count": null,
   "metadata": {},
   "outputs": [],
   "source": [
    "max_frac_times_1 = []\n",
    "max_frac_times_2 = []\n",
    "for N in N_vals\n",
    "    try\n",
    "        folder_name = PATH * @sprintf(\"data/SK_model/N_%i/%s/\", N, subdir)\n",
    "\n",
    "        for row in eachrow(main_df)\n",
    "            total_fracs = row[:overlaps][1] .* row[:gaps][1]\n",
    "            \n",
    "            # get maximum from adiabatic fraction alongside index and time\n",
    "            max_frac = maximum(total_fracs)\n",
    "            max_frac_idx = findfirst(x -> x == max_frac, total_fracs)\n",
    "            max_frac_time = exact_times[max_frac_idx]\n",
    "            push!(max_frac_times_1, max_frac_time)\n",
    "\n",
    "            total_fracs = row[:overlaps][1] .* row[:gaps][1].^2\n",
    "\n",
    "            # get maximum from adiabatic fraction alongside index and time\n",
    "            max_frac = maximum(total_fracs)\n",
    "            max_frac_idx = findfirst(x -> x == max_frac, total_fracs)\n",
    "            max_frac_time = exact_times[max_frac_idx]\n",
    "            push!(max_frac_times_2, max_frac_time)\n",
    "        end\n",
    "    catch err\n",
    "        println(N, \", \", err, \", \") \n",
    "    end\n",
    "end"
   ]
  },
  {
   "cell_type": "code",
   "execution_count": null,
   "metadata": {},
   "outputs": [],
   "source": []
  }
 ],
 "metadata": {
  "kernelspec": {
   "display_name": "Julia 1.8.5",
   "language": "julia",
   "name": "julia-1.8"
  },
  "language_info": {
   "file_extension": ".jl",
   "mimetype": "application/julia",
   "name": "julia",
   "version": "1.8.5"
  },
  "orig_nbformat": 4
 },
 "nbformat": 4,
 "nbformat_minor": 2
}
