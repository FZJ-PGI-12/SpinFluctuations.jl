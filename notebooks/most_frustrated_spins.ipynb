{
 "cells": [
  {
   "attachments": {},
   "cell_type": "markdown",
   "metadata": {},
   "source": [
    "# Most Frustrated Spins from Different Metrics"
   ]
  },
  {
   "cell_type": "code",
   "execution_count": null,
   "metadata": {},
   "outputs": [],
   "source": [
    "using QAOA\n",
    "using HDF5, Printf\n",
    "\n",
    "PATH = \"/home/ubuntu/Archives/\"\n",
    "PLOT_PATH = \"/home/ubuntu/Archives/plots/SK_model/paper/\";"
   ]
  },
  {
   "cell_type": "code",
   "execution_count": null,
   "metadata": {},
   "outputs": [],
   "source": [
    "using Revise, SpinFluctuations"
   ]
  },
  {
   "cell_type": "code",
   "execution_count": null,
   "metadata": {},
   "outputs": [],
   "source": [
    "N = 9\n",
    "# N = 11\n",
    "# N = 13\n",
    "# N = 15\n",
    "# N = 17\n",
    "# N = 19\n",
    "\n",
    "patterns_dict = Dict(\n",
    "    9  => r\"random_SK_instance_N_9_seed_(\\d+)\\.h5\",\n",
    "    11 => r\"random_SK_instance_N_11_seed_(\\d+)\\.h5\",\n",
    "    13 => r\"random_SK_instance_N_13_seed_(\\d+)\\.h5\",\n",
    "    15 => r\"random_SK_instance_N_15_seed_(\\d+)\\.h5\",\n",
    "    17 => r\"random_SK_instance_N_17_seed_(\\d+)\\.h5\",\n",
    "    19 => r\"random_SK_instance_N_19_seed_(\\d+)\\.h5\"\n",
    ");"
   ]
  },
  {
   "cell_type": "code",
   "execution_count": null,
   "metadata": {},
   "outputs": [],
   "source": [
    "subdir = \"small_gaps\"\n",
    "# subdir = \"large_gaps\"\n",
    "folder_name = PATH * @sprintf(\"data/SK_model/N_%i/%s/\", N, subdir)\n",
    "instance_names = readdir(folder_name)\n",
    "filter!(x -> !occursin(\"results\", x), instance_names)\n",
    "filter!(x -> !occursin(\"undecided\", x), instance_names)\n",
    "filter!(x -> !occursin(\"frustrated\", x), instance_names);"
   ]
  },
  {
   "cell_type": "code",
   "execution_count": null,
   "metadata": {},
   "outputs": [],
   "source": [
    "# # testing\n",
    "# instance_names = instance_names[1:10]"
   ]
  },
  {
   "cell_type": "markdown",
   "metadata": {},
   "source": [
    "### From area under magnetization"
   ]
  },
  {
   "cell_type": "code",
   "execution_count": null,
   "metadata": {},
   "outputs": [],
   "source": [
    "# T_final = 32000.\n",
    "T_final = 32768.\n",
    "tol = 1e-6\n",
    "\n",
    "npts = 2048\n",
    "coarse_times = range(0, 1, npts + 1);"
   ]
  },
  {
   "cell_type": "code",
   "execution_count": null,
   "metadata": {},
   "outputs": [],
   "source": [
    "all_most_frustrated_spins = Dict()\n",
    "\n",
    "for instance_name in instance_names\n",
    "    seed = match(patterns_dict[N], instance_name)[1]  \n",
    "    print(seed, \"\\t\")  \n",
    "    \n",
    "    # Mean-field trajectories\n",
    "    sol_t = h5read(folder_name * \"results_\" * instance_name, @sprintf(\"mean_field_T_final_%.0f_tol_1e%.0f/times\", T_final, log10(tol)))\n",
    "    sol_u = h5read(folder_name * \"results_\" * instance_name, @sprintf(\"mean_field_T_final_%.0f_tol_1e%.0f/trajectories\", T_final, log10(tol)))\n",
    "    nz_vals = n_vals(\"z\", sol_u)\n",
    "    nxy_coarse = zeros(N-1)\n",
    "    nz_coarse = n_coarse(nz_vals, sol_t, coarse_times)\n",
    "\n",
    "    # mean-field\n",
    "    J_mat = h5read(folder_name * instance_name, \"J\")\n",
    "    mf_problem = Problem(0, J_mat)\n",
    "\n",
    "    S_vals = [transpose(reduce(hcat, [nxy_coarse, nxy_coarse, nz_coarse[:, k]])) |> Matrix for k in 1:npts+1]\n",
    "    magnetizations = reduce(hcat, map(S -> magnetization(S, mf_problem.local_fields, mf_problem.couplings), S_vals));  \n",
    "\n",
    "    # Get most frustrated spins from area under magnetization\n",
    "    areas = Dict()\n",
    "    dts = [(x[2] - x[1]) / T_final for x in zip(coarse_times[1:end-1], coarse_times[2:end])]\n",
    "    for spin_idx in 1:N-1\n",
    "        areas[spin_idx] = sum(dts .* magnetizations[spin_idx, 2:end]) |> abs\n",
    "    end\n",
    "    all_most_frustrated_spins[seed] = [k for (k, v) in sort(areas |> collect, by=x->x[2])]\n",
    "end"
   ]
  },
  {
   "cell_type": "code",
   "execution_count": null,
   "metadata": {},
   "outputs": [],
   "source": [
    "all_most_frustrated_spins"
   ]
  },
  {
   "cell_type": "code",
   "execution_count": null,
   "metadata": {},
   "outputs": [],
   "source": [
    "# h5write(folder_name * @sprintf(\"most_frustrated_spins_N_%i.h5\", N), \n",
    "# @sprintf(\"T_final_%.0f_tol_1e%.0f/seeds\", 32768., log10(1e-6)), [k |> string for (k, v) in all_most_frustrated_spins])\n",
    "\n",
    "# h5write(folder_name * @sprintf(\"most_frustrated_spins_N_%i.h5\", N), \n",
    "# @sprintf(\"T_final_%.0f_tol_1e%.0f/spin_idxs\", 32768., log10(1e-6)), reduce(hcat, [v for (k, v) in all_most_frustrated_spins]) |> transpose |> Matrix)"
   ]
  },
  {
   "cell_type": "markdown",
   "metadata": {},
   "source": [
    "### From area under $n^z$ components"
   ]
  },
  {
   "cell_type": "code",
   "execution_count": null,
   "metadata": {},
   "outputs": [],
   "source": [
    "most_undecided_spins = Dict()\n",
    "\n",
    "for instance_name in instance_names\n",
    "    seed = match(patterns_dict[N], instance_name)[1]    \n",
    "    \n",
    "    # Mean-field trajectories\n",
    "    sol_t = h5read(folder_name * \"results_\" * instance_name, @sprintf(\"mean_field_T_final_%.0f_tol_1e%.0f/times\", 32768., log10(1e-6)))\n",
    "    sol_u = h5read(folder_name * \"results_\" * instance_name, @sprintf(\"mean_field_T_final_%.0f_tol_1e%.0f/trajectories\", 32768., log10(1e-6)))\n",
    "    nzs = reduce(hcat, [sol_u[k, 3, :] for k in 1:size(sol_u)[1]])\n",
    "\n",
    "    # Get \"most undecided spin\" from area under z components\n",
    "    areas = Dict()\n",
    "    dts = [(x[2] - x[1]) / T_final for x in zip(sol_t[1:end-1], sol_t[2:end])]\n",
    "    for spin_idx in 1:N-1\n",
    "        areas[spin_idx] = sum(dts .* nzs[spin_idx, 2:end]) |> abs\n",
    "    end\n",
    "    undecided_spins = [k for (k, v) in sort(areas |> collect, by=x->x[2])]\n",
    "    most_undecided_spin = undecided_spins[1]\n",
    "    most_undecided_spins[seed] = most_undecided_spin\n",
    "end"
   ]
  },
  {
   "cell_type": "code",
   "execution_count": null,
   "metadata": {},
   "outputs": [],
   "source": [
    "most_undecided_spins"
   ]
  },
  {
   "cell_type": "code",
   "execution_count": null,
   "metadata": {},
   "outputs": [],
   "source": [
    "# h5write(folder_name * @sprintf(\"most_undecided_spins_N_%i.h5\", N), \n",
    "# @sprintf(\"T_final_%.0f_tol_1e%.0f/seeds\", 32768., log10(1e-6)), [k for (k, v) in most_undecided_spins])\n",
    "\n",
    "# h5write(folder_name * @sprintf(\"most_undecided_spins_N_%i.h5\", N), \n",
    "# @sprintf(\"T_final_%.0f_tol_1e%.0f/spin_idxs\", 32768., log10(1e-6)), [v for (k, v) in most_undecided_spins])"
   ]
  },
  {
   "cell_type": "markdown",
   "metadata": {},
   "source": [
    "### From energy change upon spin flip"
   ]
  },
  {
   "cell_type": "code",
   "execution_count": null,
   "metadata": {},
   "outputs": [],
   "source": [
    "all_most_frustrated_spins = Dict()\n",
    "\n",
    "for instance_name in instance_names\n",
    "    seed = match(patterns_dict[N], instance_name)[1]    \n",
    "    \n",
    "    # Mean-field trajectories\n",
    "    sol_t = h5read(folder_name * \"results_\" * instance_name, @sprintf(\"mean_field_T_final_%.0f_tol_1e%.0f/times\", 32768., log10(1e-6)))\n",
    "    sol_u = h5read(folder_name * \"results_\" * instance_name, @sprintf(\"mean_field_T_final_%.0f_tol_1e%.0f/trajectories\", 32768., log10(1e-6)))\n",
    "    nzs = reduce(hcat, [sol_u[k, 3, :] for k in 1:size(sol_u)[1]])\n",
    "    \n",
    "    # mean-field solution and energy\n",
    "    J_mat = h5read(folder_name * instance_name, \"J\")\n",
    "    mf_problem = Problem(0, J_mat)\n",
    "    \n",
    "    mf_sol = h5read(folder_name * \"results_\" * instance_name, @sprintf(\"mean_field_sol_T_final_%.0f_tol_1e%.0f\", T_final, log10(tol)))\n",
    "    sigma_star = sign.(mf_sol)\n",
    "    h = mf_problem.local_fields\n",
    "    J = mf_problem.couplings\n",
    "    E_star = sum([-h[l] * sigma_star[l] for l in 1:N-1]) + sum([-J[i, j] * sigma_star[i] * sigma_star[j] for i in 1:N-1 for j in (i+1):N-1])\n",
    "    \n",
    "    # Get \"most frustrated spin\" from spin flip\n",
    "    most_frustrated_spins = [(0, 0.) for _ in 1:N-1]\n",
    "    for spin_idx in 1:N-1\n",
    "        sigma_star_flip = sign.(sol_u[end, 3, :])\n",
    "        sigma_star_flip[spin_idx] = (-1) * sigma_star_flip[spin_idx]\n",
    "        E_flip = sum([-h[l] * sigma_star_flip[l] for l in 1:N-1]) + sum([-J[i, j] * sigma_star_flip[i] * sigma_star_flip[j] for i in 1:N-1 for j in (i+1):N-1])\n",
    "        most_frustrated_spins[spin_idx] = (spin_idx, E_flip)\n",
    "    end\n",
    "    all_most_frustrated_spins[seed] = [idx for (idx, E_val) in sort!(most_frustrated_spins, by=x->abs(x[2] - E_star))]\n",
    "end"
   ]
  },
  {
   "cell_type": "code",
   "execution_count": null,
   "metadata": {},
   "outputs": [],
   "source": [
    "all_most_frustrated_spins"
   ]
  },
  {
   "cell_type": "code",
   "execution_count": null,
   "metadata": {},
   "outputs": [],
   "source": [
    "# h5write(folder_name * @sprintf(\"most_frustrated_spin_flips_N_%i.h5\", N), \n",
    "# @sprintf(\"T_final_%.0f_tol_1e%.0f/seeds\", 32768., log10(1e-6)), [k |> string for (k, v) in all_most_frustrated_spins])\n",
    "\n",
    "# h5write(folder_name * @sprintf(\"most_frustrated_spin_flips_N_%i.h5\", N), \n",
    "# @sprintf(\"T_final_%.0f_tol_1e%.0f/spin_idxs\", 32768., log10(1e-6)), reduce(hcat, [v for (k, v) in all_most_frustrated_spins]) |> transpose |> Matrix)"
   ]
  }
 ],
 "metadata": {
  "kernelspec": {
   "display_name": "Julia 1.8.5",
   "language": "julia",
   "name": "julia-1.8"
  },
  "language_info": {
   "file_extension": ".jl",
   "mimetype": "application/julia",
   "name": "julia",
   "version": "1.8.5"
  },
  "orig_nbformat": 4
 },
 "nbformat": 4,
 "nbformat_minor": 2
}
