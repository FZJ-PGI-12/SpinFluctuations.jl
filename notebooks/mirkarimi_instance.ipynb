{
 "cells": [
  {
   "cell_type": "markdown",
   "metadata": {},
   "source": [
    "# Plots for Example Crosson Instance"
   ]
  },
  {
   "cell_type": "code",
   "execution_count": null,
   "metadata": {},
   "outputs": [],
   "source": [
    "using QAOA, Distributions, Interpolations, LinearAlgebra, Arpack\n",
    "using HDF5, Printf\n",
    "using PythonPlot\n",
    "PythonPlot.matplotlib.style.use(\"./paper.mplstyle\")\n",
    "PythonPlot.rc(\"axes\", prop_cycle=PythonPlot.matplotlib.cycler(color=[\"#2D5FAA\", \"#B7293F\", \"#438E6A\", \"#F7BD2E\", \"#F16C37\"]))\n",
    "\n",
    "PATH = \"/home/ubuntu/Archives/\";\n",
    "# PLOT_PATH = \"/home/ubuntu/Archives/plots/SK_model/paper/\";"
   ]
  },
  {
   "cell_type": "code",
   "execution_count": null,
   "metadata": {},
   "outputs": [],
   "source": [
    "using Revise, SpinFluctuations"
   ]
  },
  {
   "cell_type": "code",
   "execution_count": null,
   "metadata": {},
   "outputs": [],
   "source": [
    "Base.show(io::IO, f::Float64) = @printf(io, \"%1.4f\", f)"
   ]
  },
  {
   "cell_type": "code",
   "execution_count": null,
   "metadata": {},
   "outputs": [],
   "source": [
    "h = [5.0, -1.0, -5.0, 0.0, 0.0, -2.0, -1.0, -3.0, -1.0, -2.0]\n",
    "\n",
    "J = [0.0 2.0 1.0 1.0 2.0 1.0 1.0 1.0 1.0 1.0;\n",
    "    2.0 0.0 -1.0 0.0 2.0 1.0 1.0 0.0 0.0 0.0;\n",
    "    1.0 -1.0 0.0 0.0 -2.0 0.0 0.0 -1.0 0.0 0.0;\n",
    "    1.0 0.0 0.0 0.0 0.0 0.0 0.0 1.0 0.0 0.0;\n",
    "    2.0 2.0 -2.0 0.0 0.0 1.0 1.0 1.0 0.0 1.0;\n",
    "    1.0 1.0 0.0 0.0 1.0 0.0 1.0 0.0 0.0 0.0;\n",
    "    1.0 1.0 0.0 0.0 1.0 1.0 0.0 -1.0 0.0 0.0;\n",
    "    1.0 0.0 -1.0 1.0 1.0 0.0 -1.0 0.0 0.0 0.0;\n",
    "    1.0 0.0 0.0 0.0 0.0 0.0 0.0 0.0 0.0 0.0;\n",
    "    1.0 0.0 0.0 0.0 1.0 0.0 0.0 0.0 0.0 0.0]\n",
    "\n",
    "N = length(h)\n",
    "mf_problem = Problem(0, h, J);"
   ]
  },
  {
   "cell_type": "code",
   "execution_count": null,
   "metadata": {},
   "outputs": [],
   "source": [
    "h = [-1.0000, 0.0000, 1.0000, -1.0000, -2.0000, -2.0000, 4.0000, -4.0000, -1.0000, -1.0000, 4.0000, -3.0000]\n",
    "\n",
    "J = [0.0000 0.0000 0.0000 1.0000 0.0000 1.0000 1.0000 0.0000 1.0000 2.0000 2.0000 -1.0000; 0.0000 0.0000 1.0000 0.0000 0.0000 0.0000 0.0000 0.0000 0.0000 0.0000 0.0000 1.0000; 0.0000 1.0000 0.0000 1.0000 1.0000 -1.0000 2.0000 0.0000 0.0000 0.0000 1.0000 0.0000; 1.0000 0.0000 1.0000 0.0000 0.0000 1.0000 1.0000 0.0000 0.0000 1.0000 0.0000 0.0000; 0.0000 0.0000 1.0000 0.0000 0.0000 0.0000 1.0000 0.0000 0.0000 0.0000 1.0000 1.0000; 1.0000 0.0000 -1.0000 1.0000 0.0000 0.0000 0.0000 0.0000 0.0000 0.0000 1.0000 0.0000; 1.0000 0.0000 2.0000 1.0000 1.0000 0.0000 0.0000 1.0000 2.0000 0.0000 1.0000 1.0000; 0.0000 0.0000 0.0000 0.0000 0.0000 0.0000 1.0000 0.0000 -1.0000 0.0000 0.0000 0.0000; 1.0000 0.0000 0.0000 0.0000 0.0000 0.0000 2.0000 -1.0000 0.0000 0.0000 1.0000 0.0000; 2.0000 0.0000 0.0000 1.0000 0.0000 0.0000 0.0000 0.0000 0.0000 0.0000 0.0000 0.0000; 2.0000 0.0000 1.0000 0.0000 1.0000 1.0000 1.0000 0.0000 1.0000 0.0000 0.0000 1.0000; -1.0000 1.0000 0.0000 0.0000 1.0000 0.0000 1.0000 0.0000 0.0000 0.0000 1.0000 0.0000]\n",
    "\n",
    "N = length(h)\n",
    "mf_problem = Problem(0, h, J);"
   ]
  },
  {
   "cell_type": "code",
   "execution_count": null,
   "metadata": {},
   "outputs": [],
   "source": [
    "npts = 8192\n",
    "coarse_times = range(0, 1, npts + 1);"
   ]
  },
  {
   "cell_type": "markdown",
   "metadata": {},
   "source": [
    "## Exact gap"
   ]
  },
  {
   "cell_type": "code",
   "execution_count": null,
   "metadata": {},
   "outputs": [],
   "source": [
    "nev = 64\n",
    "keep_EVs = 5\n",
    "exact_times = range(0, 1, 33)\n",
    "eigeninfo = map(s -> (eigs(-SpinFluctuations.hamiltonian(1 - s, s, mf_problem.local_fields, mf_problem.couplings), nev=nev, which=:LM, maxiter=10000)), exact_times)\n",
    "λs = [vals[1] for vals in eigeninfo]\n",
    "\n",
    "all_eigvecs = zeros(length(exact_times), 2^N, keep_EVs)\n",
    "for k in 1:length(exact_times)\n",
    "    sorting_perm = sortperm(λs[k])\n",
    "    all_eigvecs[k, :, :] .= eigeninfo[k][2][:, sorting_perm[1:keep_EVs]]\n",
    "end"
   ]
  },
  {
   "cell_type": "code",
   "execution_count": null,
   "metadata": {},
   "outputs": [],
   "source": [
    "λ = sort(reduce(hcat, λs), dims=1);"
   ]
  },
  {
   "cell_type": "code",
   "execution_count": null,
   "metadata": {},
   "outputs": [],
   "source": [
    "gap = λ[2, :] .- λ[1, :];\n",
    "mingap = minimum(gap) \n",
    "mingap |> println\n",
    "gap_idx = findfirst(x -> x == mingap, gap) \n",
    "gaploc = exact_times[gap_idx] \n",
    "gaploc |> println"
   ]
  },
  {
   "cell_type": "code",
   "execution_count": null,
   "metadata": {},
   "outputs": [],
   "source": [
    "figure(figsize=(4, 3))\n",
    "subplot(111)\n",
    "for i in 1:size(λ)[1]\n",
    "    # plot(exact_times[2:end], bogo_spec[i, :], \"--C1\", lw=1.5, alpha=1, ms=2)\n",
    "    plot(exact_times, (λ[i, :] .- λ[1, :]), \"-k\", lw=1, alpha=1, ms=2)    \n",
    "end\n",
    "# axvline(gap_interval[1], c=\"C0\")\n",
    "# axvline(gap_interval[end], c=\"C0\")\n",
    "plot([], [], \"-k\", lw=0.75, label=\"Exact\")\n",
    "plot([], [], \"--C1\", lw=1.5, label=\"Bogoliubov\")\n",
    "xlim(0., 1.)\n",
    "ylim(-0., 2)\n",
    "xlabel(\"\\$s\\$\")\n",
    "ylabel(\"\\$E_\\\\alpha - E_0\\$\")\n",
    "legend(frameon=false)\n",
    "tight_layout()\n",
    "display(gcf())\n",
    "PythonPlot.close();"
   ]
  },
  {
   "cell_type": "markdown",
   "metadata": {},
   "source": [
    "### Eigenstates"
   ]
  },
  {
   "cell_type": "code",
   "execution_count": null,
   "metadata": {},
   "outputs": [],
   "source": [
    "H_x = SpinFluctuations.hamiltonian(1, 0, mf_problem.local_fields, mf_problem.couplings)\n",
    "H_z = SpinFluctuations.hamiltonian(0, 1, mf_problem.local_fields, mf_problem.couplings);"
   ]
  },
  {
   "cell_type": "code",
   "execution_count": null,
   "metadata": {},
   "outputs": [],
   "source": [
    "num_eig_vecs = size(all_eigvecs)[3]\n",
    "eigenstate(n) = [all_eigvecs[k, :, n] for k in 1:length(exact_times)]\n",
    "eigenstates = [eigenstate(n) for n in 1:num_eig_vecs];\n",
    "overlap(n, H) = [eigenstates[n][k]' * H * eigenstates[1][k] for k in 1:length(exact_times)]\n",
    "frac_n(n) = abs.(overlap(n, H_z) .- overlap(n, H_x)) ./ (λ[n, :] .- λ[1, :]);"
   ]
  },
  {
   "cell_type": "code",
   "execution_count": null,
   "metadata": {},
   "outputs": [],
   "source": [
    "gs = [all_eigvecs[k, :, 1] for k in 1:length(exact_times)]\n",
    "first_ex = [all_eigvecs[k, :, 2] for k in 1:length(exact_times)]\n",
    "second_ex = [all_eigvecs[k, :, 3] for k in 1:length(exact_times)]\n",
    "\n",
    "overlap_01_x = overlap(2, H_x)\n",
    "overlap_01_z = overlap(2, H_z)\n",
    "\n",
    "overlap_02_x = overlap(3, H_x)\n",
    "overlap_02_z = overlap(3, H_z);"
   ]
  },
  {
   "cell_type": "code",
   "execution_count": null,
   "metadata": {},
   "outputs": [],
   "source": [
    "figure(figsize=(4, 3))\n",
    "ax = subplot(111)\n",
    "plot(exact_times, abs.(overlap_01_z .- overlap_01_x) , label=\"\\$\\\\alpha = 1\\$\")\n",
    "plot(exact_times, abs.(overlap_02_z .- overlap_02_x) , label=\"\\$\\\\alpha = 2\\$\", lw=2)\n",
    "plot(exact_times, ((λ[2, :] .- λ[1, :])), \"--C0\")\n",
    "plot(exact_times, ((λ[3, :] .- λ[1, :])), \"--C1\", lw=2)\n",
    "xlim(0., 1.)\n",
    "ylim(0, 1.4)\n",
    "xlabel(\"\\$s\\$\")\n",
    "ylabel(\"\\${|\\\\langle \\\\alpha|H_Z-H_X|0\\\\rangle|}\\$\")\n",
    "\n",
    "legend(frameon=false)\n",
    "\n",
    "tight_layout()\n",
    "display(gcf())\n",
    "PythonPlot.close();"
   ]
  },
  {
   "cell_type": "markdown",
   "metadata": {},
   "source": [
    "## Mean-field trajectories"
   ]
  },
  {
   "cell_type": "code",
   "execution_count": null,
   "metadata": {},
   "outputs": [],
   "source": [
    "T_final = 32768.\n",
    "tol = 1e-6;"
   ]
  },
  {
   "cell_type": "code",
   "execution_count": null,
   "metadata": {},
   "outputs": [],
   "source": [
    "schedule(t) = t / T_final\n",
    "sol = evolve_mean_field(mf_problem.local_fields, mf_problem.couplings, T_final, schedule, rtol=tol, atol=tol) \n",
    "\n",
    "# get mean-field solution\n",
    "solution = S -> sign.([S[3, i] for i in 1:size(S)[2]])\n",
    "mf_sol = solution(sol(T_final)) "
   ]
  },
  {
   "cell_type": "code",
   "execution_count": null,
   "metadata": {},
   "outputs": [],
   "source": [
    "sol_t = sol.t\n",
    "\n",
    "sol_u = zeros(length(sol.u), size(sol.u[1])...)\n",
    "for i in 1:length(sol.u)\n",
    "    sol_u[i, :, :] .= sol.u[i]\n",
    "end\n",
    "\n",
    "size(sol_u)"
   ]
  },
  {
   "cell_type": "markdown",
   "metadata": {},
   "source": [
    "### Bloch coordinates"
   ]
  },
  {
   "cell_type": "code",
   "execution_count": null,
   "metadata": {},
   "outputs": [],
   "source": [
    "nx_vals = n_vals(\"x\", sol_u)\n",
    "ny_vals = n_vals(\"y\", sol_u)\n",
    "nz_vals = n_vals(\"z\", sol_u);"
   ]
  },
  {
   "cell_type": "code",
   "execution_count": null,
   "metadata": {},
   "outputs": [],
   "source": [
    "nx_coarse = n_coarse(nx_vals, sol_t, coarse_times)\n",
    "ny_coarse = n_coarse(ny_vals, sol_t, coarse_times)\n",
    "nz_coarse = n_coarse(nz_vals, sol_t, coarse_times);"
   ]
  },
  {
   "cell_type": "code",
   "execution_count": null,
   "metadata": {},
   "outputs": [],
   "source": [
    "S_vals = [transpose(reduce(hcat, [nx_coarse[:, k], ny_coarse[:, k], nz_coarse[:, k]])) |> Matrix for k in 1:npts+1]\n",
    "magnetizations = reduce(hcat, map(S -> magnetization(S, mf_problem.local_fields, mf_problem.couplings), S_vals));"
   ]
  },
  {
   "cell_type": "code",
   "execution_count": null,
   "metadata": {},
   "outputs": [],
   "source": [
    "areas = Dict()\n",
    "# dts = [(x[2] - x[1]) / T_final for x in zip(sol_t[1:end-1], sol_t[2:end])]\n",
    "dts = [(x[2] - x[1]) / T_final for x in zip(coarse_times[1:end-1], coarse_times[2:end])]\n",
    "for spin_idx in 1:N-1\n",
    "    # areas[spin_idx] = sum(dts .* nz_vals[spin_idx, 2:end]) |> abs\n",
    "    areas[spin_idx] = sum(dts .* magnetizations[spin_idx, 2:end]) |> abs\n",
    "end\n",
    "\n",
    "top_idxs = [k for (k, v) in sort(areas |> collect, by=x->x[2])]\n",
    "top_idx = top_idxs[1]"
   ]
  },
  {
   "cell_type": "code",
   "execution_count": null,
   "metadata": {},
   "outputs": [],
   "source": [
    "regular_trajectories = filter!(x -> x != top_idx, collect(1:N-1));"
   ]
  },
  {
   "cell_type": "code",
   "execution_count": null,
   "metadata": {},
   "outputs": [],
   "source": [
    "figure(figsize=(4, 3))\n",
    "\n",
    "ax = subplot(211)\n",
    "for spin_nr in regular_trajectories\n",
    "    plot(coarse_times, nx_coarse[spin_nr, :], \"-\", c=\"k\")    \n",
    "end\n",
    "plot(coarse_times, nx_coarse[top_idx, :], \"-\", c=\"C1\", label=@sprintf(\"\\$i=%i\\$\", top_idx))\n",
    "xlim(0, 1)\n",
    "ax.set_xticklabels([])\n",
    "ylim(-1.1, 1.1)\n",
    "ylabel(\"\\$n_i^x(s)\\$\")\n",
    "legend(frameon=false, ncol=2)\n",
    "\n",
    "ax = subplot(212)\n",
    "for spin_nr in regular_trajectories\n",
    "    plot(coarse_times, nz_coarse[spin_nr, :], \"-\", c=\"k\")    \n",
    "end\n",
    "plot(coarse_times, nz_coarse[top_idx, :], \"-\", c=\"C1\", label=@sprintf(\"\\$i=%i\\$\", top_idx))\n",
    "xlim(0, 1)\n",
    "ylim(-1.1, 1.1)\n",
    "xlabel(\"\\$s\\$\")\n",
    "ylabel(\"\\$n_i^z(s)\\$\")\n",
    "# legend(frameon=false, ncol=2)\n",
    "\n",
    "tight_layout()\n",
    "display(gcf())\n",
    "# savefig(\"../plots/\" * @sprintf(\"mean_field_max2sat_typical_instance_%04i_from_arxiv_2206_06876_N_%i_num_clauses_%i.pdf\", idx, N, num_clauses), dpi=256, bbox_inches=\"tight\")\n",
    "PythonPlot.close();"
   ]
  },
  {
   "cell_type": "code",
   "execution_count": null,
   "metadata": {},
   "outputs": [],
   "source": [
    "figure(figsize=(4, 2))\n",
    "\n",
    "\n",
    "ax = subplot(111)\n",
    "for spin_nr in regular_trajectories\n",
    "    plot(coarse_times, ny_coarse[spin_nr, :], \"-\", c=\"k\")    \n",
    "end\n",
    "plot(coarse_times, ny_coarse[top_idx, :], \"-\", c=\"C1\", label=@sprintf(\"\\$i=%i\\$\", top_idx))\n",
    "xlim(0.0, 1)\n",
    "# ylim(-1e-3, 1e-3)\n",
    "xlabel(\"\\$t\\$\")\n",
    "ylabel(\"\\$n_i^y(s)\\$\")\n",
    "legend(frameon=false)\n",
    "\n",
    "\n",
    "tight_layout()\n",
    "display(gcf())\n",
    "# savefig(\"../plots/\" * @sprintf(\"mean_field_max2sat_typical_instance_%04i_from_arxiv_2206_06876_N_%i_num_clauses_%i.pdf\", idx, N, num_clauses), dpi=256, bbox_inches=\"tight\")\n",
    "PythonPlot.close();"
   ]
  },
  {
   "cell_type": "markdown",
   "metadata": {},
   "source": [
    "### Magnetization"
   ]
  },
  {
   "cell_type": "code",
   "execution_count": null,
   "metadata": {},
   "outputs": [],
   "source": [
    "function regularize(x; ε=1e-1)\n",
    "    pv = x / (x^2 + ε^2)\n",
    "    abs(x) < ε^2 ? pv : 1/x\n",
    "end"
   ]
  },
  {
   "cell_type": "code",
   "execution_count": null,
   "metadata": {},
   "outputs": [],
   "source": [
    "figure(figsize=(10, 2.5))\n",
    "\n",
    "\n",
    "ax = subplot(131)\n",
    "for spin_nr in regular_trajectories\n",
    "    plot(coarse_times, magnetizations[spin_nr, :], \"-\", c=\"k\")\n",
    "end\n",
    "plot(coarse_times, magnetizations[top_idx, :], \"-\", c=\"C1\", label=@sprintf(\"\\$i=%i\\$\", top_idx))\n",
    "xlim(0.0, 1)\n",
    "# ylim(-1000,  1000)\n",
    "xlabel(\"\\$s\\$\")\n",
    "ylabel(\"\\$m_i(s)\\$\")\n",
    "legend(frameon=false)\n",
    "\n",
    "ax = subplot(132)\n",
    "plot_func = x -> regularize.(x, ε=10e-2)\n",
    "\n",
    "for spin_nr in regular_trajectories\n",
    "    # plot(coarse_times, plot_func(abs.(magnetizations[spin_nr, :])), \"-\", c=\"k\")    \n",
    "    plot(coarse_times, smoothen(plot_func(abs.(magnetizations[spin_nr, :])), coarse_times, navg=128), \"-\", c=\"k\")\n",
    "end\n",
    "plot(coarse_times, smoothen(plot_func(abs.(magnetizations[top_idx, :])), coarse_times, navg=256), \"-\", c=\"C1\", label=@sprintf(\"\\$i=%i\\$\", top_idx))\n",
    "# plot(coarse_times, plot_func(abs.(magnetizations[top_idx, :])), \"-\", c=\"C1\", label=@sprintf(\"\\$i=%i\\$\", top_idx))\n",
    "axvline(gaploc, ls=\"--\", c=\"k\", alpha=0.5)\n",
    "xlim(0.0, 1)\n",
    "ylim(0, 100)\n",
    "xlabel(\"\\$s\\$\")\n",
    "ylabel(\"\\$|m_i(s)|^{-1}\\$\")\n",
    "legend(frameon=false)\n",
    "\n",
    "\n",
    "ax = subplot(133)\n",
    "\n",
    "for spin_nr in regular_trajectories\n",
    "    semilogy(coarse_times[2:end], smoothen(map(x -> x[2] - x[1], zip(magnetizations[spin_nr, 1:end-1], magnetizations[spin_nr, 2:end])), coarse_times[2:end], navg=256), \"-\", c=\"k\")\n",
    "end\n",
    "semilogy(coarse_times[2:end], smoothen(map(x -> x[2] - x[1], zip(magnetizations[top_idx, 1:end-1], magnetizations[top_idx, 2:end])), coarse_times[2:end], navg=256) .|> abs, \"-\", c=\"C1\", label=@sprintf(\"\\$i=%i\\$\", top_idx))\n",
    "axvline(gaploc, ls=\"--\", c=\"k\", alpha=0.5)\n",
    "xlim(0.0, 1)\n",
    "ylim( )\n",
    "xlabel(\"\\$s\\$\")\n",
    "ylabel(\"\\$|m_i(s)|^{-1}\\$\")\n",
    "legend(frameon=false)\n",
    "\n",
    "\n",
    "tight_layout()\n",
    "display(gcf())\n",
    "PythonPlot.close();"
   ]
  },
  {
   "cell_type": "markdown",
   "metadata": {},
   "source": [
    "### Complex coordinates"
   ]
  },
  {
   "cell_type": "code",
   "execution_count": null,
   "metadata": {},
   "outputs": [],
   "source": [
    "figure(figsize=(4, 3))\n",
    "\n",
    "ax = subplot(211)\n",
    "for spin_nr in regular_trajectories\n",
    "    plot(coarse_times, complex_coordinate(spin_nr, nx_coarse, ny_coarse, nz_coarse) |> real, \"-\", c=\"k\")    \n",
    "end\n",
    "plot(coarse_times, complex_coordinate(top_idx, nx_coarse, ny_coarse, nz_coarse) |> real, \"-\", c=\"C1\", label=@sprintf(\"\\$i=%i\\$\", top_idx))\n",
    "xlim(0, 1)\n",
    "ylim(-0, 1.5) \n",
    "ax.set_xticklabels([])\n",
    "# xlabel(\"\\$s\\$\")\n",
    "ylabel(\"\\$\\\\mathrm{Re}\\\\; z_i(s)\\$\")\n",
    "legend(frameon=false, ncol=2)\n",
    "\n",
    "ax = subplot(212)\n",
    "for spin_nr in regular_trajectories\n",
    "    plot(coarse_times, (1 .+ abs.(complex_coordinate(spin_nr, nx_coarse, ny_coarse, nz_coarse)).^2).^2, \"-\", c=\"k\")\n",
    "end\n",
    "plot(coarse_times, (1 .+ abs.(complex_coordinate(top_idx, nx_coarse, ny_coarse, nz_coarse)).^2).^2, \"-\", c=\"C1\", label=@sprintf(\"\\$i=%i\\$\", top_idx))\n",
    "\n",
    "xlim(0, 1)\n",
    "ylim(1, ) \n",
    "xlabel(\"\\$s\\$\")\n",
    "# ylabel(\"\\$1 + [\\\\mathrm{Re}\\\\; z_i(s)]^2\\$\")\n",
    "ylabel(\"\\$1 +  |z_i(s)|^2\\$\")\n",
    "legend(frameon=false, ncol=2)\n",
    "\n",
    "tight_layout()\n",
    "display(gcf())\n",
    "# savefig(\"../plots/\" * @sprintf(\"mean_field_max2sat_typical_instance_%04i_from_arxiv_2206_06876_N_%i_num_clauses_%i.pdf\", idx, N, num_clauses), dpi=256, bbox_inches=\"tight\")\n",
    "PythonPlot.close();"
   ]
  },
  {
   "cell_type": "markdown",
   "metadata": {},
   "source": [
    "### Energies"
   ]
  },
  {
   "cell_type": "code",
   "execution_count": null,
   "metadata": {},
   "outputs": [],
   "source": [
    "# sigma_star = sign.(sol.u[end][3, :])\n",
    "sigma_star = sign.(sol_u[end, 3, :])\n",
    "h = mf_problem.local_fields\n",
    "J = mf_problem.couplings\n",
    "E = sum([-h[l] * sigma_star[l] for l in 1:N-1]) + sum([-J[i, j] * sigma_star[i] * sigma_star[j] for i in 1:N-1 for j in (i+1):N-1])"
   ]
  },
  {
   "cell_type": "code",
   "execution_count": null,
   "metadata": {},
   "outputs": [],
   "source": [
    "Int.(sigma_star) |> println"
   ]
  },
  {
   "cell_type": "code",
   "execution_count": null,
   "metadata": {},
   "outputs": [],
   "source": [
    "[λ[k, :][end] for k in 1:6] |> println"
   ]
  },
  {
   "cell_type": "code",
   "execution_count": null,
   "metadata": {},
   "outputs": [],
   "source": [
    "for spin_idx in 1:N-1\n",
    "    # sigma_star_flip = sign.(sol.u[end][3, :])\n",
    "    sigma_star_flip = sign.(sol_u[end, 3, :])\n",
    "    sigma_star_flip[spin_idx] = (-1) * sigma_star_flip[spin_idx]\n",
    "    E_flip = sum([-h[l] * sigma_star_flip[l] for l in 1:N-1]) + sum([-J[i, j] * sigma_star_flip[i] * sigma_star_flip[j] for i in 1:N-1 for j in (i+1):N-1])\n",
    "    println(spin_idx, \": \", E_flip)\n",
    "end"
   ]
  },
  {
   "cell_type": "code",
   "execution_count": null,
   "metadata": {},
   "outputs": [],
   "source": [
    "println(top_idxs)"
   ]
  },
  {
   "cell_type": "markdown",
   "metadata": {},
   "source": [
    "## Statistical Green function"
   ]
  },
  {
   "cell_type": "code",
   "execution_count": null,
   "metadata": {},
   "outputs": [],
   "source": [
    "tol = 1e-8\n",
    "T_final = 32768.;\n",
    "# T_final = 65536.;"
   ]
  },
  {
   "cell_type": "code",
   "execution_count": null,
   "metadata": {},
   "outputs": [],
   "source": [
    "lyapunov_parameters = LyapunovParameters(T_final, npts, tol, tol)\n",
    "mf_sol, stat_GF = statistical_green_function(mf_problem, lyapunov_parameters)\n",
    "\n",
    "flucs = k -> (real.(1.0im .* diag(stat_GF[k])[1:mf_problem.num_qubits]) .- 1.0) ./ 2;\n",
    "all_flucs = reduce(hcat, map(flucs, 1:npts+1));"
   ]
  },
  {
   "cell_type": "code",
   "execution_count": null,
   "metadata": {},
   "outputs": [],
   "source": [
    "regular_trajectories = filter!(x -> x != top_idxs[1], collect(1:N-1));\n",
    "# regular_trajectories = filter!(x -> x != top_idxs[2], regular_trajectories);\n",
    "\n",
    "scale_factors = [1 .+ abs.(complex_coordinate(i, nx_coarse, ny_coarse, nz_coarse)).^2 for i in 1:N-1]\n",
    "# mean_scaled_flucs = mean([scale_factors[i].^2 .* smoothen(all_flucs[i, :], coarse_times) for i in regular_trajectories], dims=1)[1];\n",
    "mean_scaled_flucs = mean([smoothen(all_flucs[i, :], coarse_times) for i in regular_trajectories], dims=1)[1];"
   ]
  },
  {
   "cell_type": "code",
   "execution_count": null,
   "metadata": {},
   "outputs": [],
   "source": [
    "maximum(abs.(overlap_01_z .- overlap_01_x) ./ ((λ[2, :] .- λ[1, :])))"
   ]
  },
  {
   "cell_type": "code",
   "execution_count": null,
   "metadata": {},
   "outputs": [],
   "source": [
    "figure(figsize=(4, 4))\n",
    "ax = subplot(211)\n",
    "# semilogy(exact_times, abs.(overlap_01_z .- overlap_01_x) ./ ((λ[2, :] .- λ[1, :])), label=\"\\$\\\\alpha = 1\\$\")\n",
    "# plot(exact_times, abs.(overlap_02_z .- overlap_02_x) ./ ((λ[3, :] .- λ[1, :])), label=\"\\$\\\\alpha = 2\\$\", lw=2)\n",
    "plot(exact_times, frac_n(2) .+ frac_n(3) .+ frac_n(4), \"-k\", lw=2)\n",
    "xlim(0., 1.)\n",
    "# ylim(1e-1, 1e3)\n",
    "ax.set_xticklabels([])\n",
    "ylabel(\"\\$\\\\frac{|\\\\langle \\\\alpha|H_Z-H_X|0\\\\rangle|}{E_\\\\alpha - E_0}\\$\")\n",
    "axvline(gaploc, ls=\"--\", c=\"k\", alpha=0.5)\n",
    "\n",
    "legend(frameon=false)\n",
    "\n",
    "reg_func = x -> regularize.(x, ε=9e-2)\n",
    "# inv_mag = smoothen(reg_func(abs.(magnetizations[top_idx, :])), coarse_times, navg=128)\n",
    "inv_mag = reg_func(abs.(magnetizations[top_idx, :]))\n",
    "\n",
    "subplot(212)\n",
    "scale_factor = 1 .+ abs.(complex_coordinate(top_idx, nx_coarse, ny_coarse, nz_coarse)).^2\n",
    "plot(coarse_times, smoothen(all_flucs[top_idx, :], coarse_times) .- 0 .* mean_scaled_flucs)\n",
    "# plot(coarse_times, (smoothen(all_flucs[top_idxs[i], :], coarse_times) .- mean_scaled_flucs) .* inv_mag)\n",
    "\n",
    "# semilogy(coarse_times, smoothen(scale_factor.^2 .* all_flucs[top_idxs[i], :] .* inv_mag, coarse_times))\n",
    "# plot(coarse_times, smoothen(scale_factor.^2 .* all_flucs[top_idxs[i], :] .* inv_mag, coarse_times))\n",
    "\n",
    "axvline(gaploc, ls=\"--\", c=\"k\", alpha=0.5)\n",
    "xlim(0, 1)\n",
    "# ylim(1e-1, 1e2)\n",
    "xlabel(\"\\$s\\$\")\n",
    "ylabel(\"\\$ \\\\langle\\\\delta \\\\bar z_i(s) \\\\delta z_i(s) \\\\rangle / |m_i(s)|\\$\")\n",
    "\n",
    "tight_layout()\n",
    "display(gcf())\n",
    "PythonPlot.close();"
   ]
  },
  {
   "cell_type": "code",
   "execution_count": null,
   "metadata": {},
   "outputs": [],
   "source": [
    "figure(figsize=(4, 4))\n",
    "ax = subplot(211)\n",
    "semilogy(exact_times, frac_n(2) .+ frac_n(3), \"-k\", lw=2)\n",
    "xlim(0., 1.)\n",
    "ylim(1e-1, 1e3)\n",
    "ax.set_xticklabels([])\n",
    "ylabel(\"\\$\\\\frac{|\\\\langle \\\\alpha|H_Z-H_X|0\\\\rangle|}{E_\\\\alpha - E_0}\\$\")\n",
    "axvline(gaploc, ls=\"--\", c=\"k\", alpha=0.5)\n",
    "\n",
    "legend(frameon=false)\n",
    "\n",
    "scaled_flucs(scale_factor, spin_nr) = smoothen(scale_factor.^2 .* all_flucs[spin_nr, :], coarse_times, navg=128)\n",
    "suscept_denom(spin_nr) = smoothen(map(x -> x[2] - x[1], zip(magnetizations[spin_nr, 1:end-1], magnetizations[spin_nr, 2:end])), coarse_times[2:end], navg=128)\n",
    "\n",
    "# scaled_flucs(scale_factor, spin_nr) = scale_factor.^2 .* all_flucs[spin_nr, :]\n",
    "# suscept_denom(spin_nr) = map(x -> x[2] - x[1], zip(magnetizations[spin_nr, 1:end-1], magnetizations[spin_nr, 2:end]))\n",
    "\n",
    "subplot(212)\n",
    "scale_factor = 1 .+ abs.(complex_coordinate(top_idx, nx_coarse, ny_coarse, nz_coarse)).^2\n",
    "plot(coarse_times[2:end], map(x -> x[2] - x[1], zip(scaled_flucs(scale_factor, top_idx)[1:end-1], scaled_flucs(scale_factor, top_idx)[2:end])) ./ suscept_denom(top_idx) .|> abs)\n",
    "# semilogy(coarse_times[2:end], \n",
    "# smoothen(map(x -> x[2] - x[1], zip(scaled_flucs(scale_factor, top_idxs[i])[1:end-1], scaled_flucs(scale_factor, top_idxs[i])[2:end])) ./ suscept_denom(top_idxs[i]),\n",
    "# coarse_times[2:end], navg=256) .|> abs)\n",
    "\n",
    "axvline(gaploc, ls=\"--\", c=\"k\", alpha=0.5)\n",
    "xlim(0, 1)\n",
    "# ylim(1e-1, 1e2)\n",
    "xlabel(\"\\$s\\$\")\n",
    "ylabel(\"\\$ \\\\chi_i(s)\\$\")\n",
    "\n",
    "tight_layout()\n",
    "display(gcf())\n",
    "PythonPlot.close();"
   ]
  },
  {
   "cell_type": "code",
   "execution_count": null,
   "metadata": {},
   "outputs": [],
   "source": [
    "figure(figsize=(8, 3))\n",
    "normalization = maximum(smoothen(all_flucs[top_idxs[1], :], coarse_times))\n",
    "normalization = 1.\n",
    "ylims = (0, maximum(all_flucs ./ normalization))\n",
    "ylims = (0, )\n",
    "for i in 1:N÷2\n",
    "    ax = subplot(2, N÷2, i)\n",
    "    c = \"k\"\n",
    "    if i == top_idx\n",
    "        c = \"C1\"\n",
    "    end\n",
    "    plot(coarse_times, smoothen(all_flucs[i, :], coarse_times) ./ normalization, label=@sprintf(\"\\$i=%s\\$\", string(i)), c=c)\n",
    "    xlim(0., 1.)\n",
    "    ax.set_xticklabels([])\n",
    "    ylim(ylims...)\n",
    "    if i > 1\n",
    "        ax.set_yticklabels([])\n",
    "    end\n",
    "    legend(frameon=false, ncol=2, handlelength=0)\n",
    "end\n",
    "\n",
    "ax = subplot(2, N÷2, 1)\n",
    "ax.set_ylabel(\"\\$F_{ii}(t, t)\\$\")\n",
    "\n",
    "for i in N÷2+1:N\n",
    "    ax = subplot(2, N÷2, i)\n",
    "    c = \"k\"\n",
    "    if i == top_idx\n",
    "        c = \"C1\"\n",
    "    end\n",
    "    plot(coarse_times, smoothen(all_flucs[i, :], coarse_times) ./ normalization, label=@sprintf(\"\\$i=%s\\$\", string(i)), c=c)\n",
    "    xlim(0., 1.)\n",
    "    ylim(ylims...)\n",
    "    if i > N÷2+1\n",
    "        ax.set_yticklabels([])\n",
    "    end    \n",
    "    xlabel(\"\\$s\\$\")    \n",
    "    legend(frameon=false, ncol=2, handlelength=0)\n",
    "end\n",
    "\n",
    "ax = subplot(2, N÷2, N÷2 + 1)\n",
    "ax.set_ylabel(\"\\$F_{ii}(t, t)\\$\")\n",
    "\n",
    "tight_layout()\n",
    "display(gcf())\n",
    "# savefig(\"../plots/\" * @sprintf(\"fluctuations_max2sat_typical_instance_%04i_from_arxiv_2206_06876_N_%i_num_clauses_%i.pdf\", idx, N, num_clauses), dpi=256, bbox_inches=\"tight\")\n",
    "PythonPlot.close();"
   ]
  },
  {
   "cell_type": "code",
   "execution_count": null,
   "metadata": {},
   "outputs": [],
   "source": [
    "figure(figsize=(8, 3))\n",
    "# normalization = maximum((1 .+ (nx_coarse[top_idxs[1], :] ./ (1 .+ sign(nz_coarse[top_idxs[1], end]) .* nz_coarse[top_idxs[1], :])).^2) .* (smoothen(all_flucs[top_idxs[1], :] .+ 0.0im, coarse_times) .|> sqrt |> real))\n",
    "normalization = 1.\n",
    "ylims = (0, 0.2)\n",
    "\n",
    "for i in 1:N÷2\n",
    "    ax = subplot(2, N÷2, i)\n",
    "    c = \"k\"\n",
    "    if i == top_idx\n",
    "        c = \"C1\"\n",
    "    end\n",
    "    scale_factor = 1 .+ abs.(complex_coordinate(i, nx_coarse, ny_coarse, nz_coarse)).^2\n",
    "    plot(coarse_times, scale_factor.^2 .* smoothen(all_flucs[i, :], coarse_times), label=@sprintf(\"\\$i=%s\\$\", string(i)), c=c)\n",
    "    # plot(coarse_times, (scale_factor / normalization) .* (smoothen(all_flucs[i, :] .+ 0.0im, coarse_times) .|> sqrt |> real), label=@sprintf(\"\\$i=%s\\$\", string(i)), c=c)\n",
    "    # plot(coarse_times, smoothen(scale_factor .* real(sqrt.(all_flucs[i, :] .+ 0.0im)), coarse_times), label=@sprintf(\"\\$i=%s\\$\", string(i)), c=c)\n",
    "    xlim(0., 1.)\n",
    "    ax.set_xticklabels([])\n",
    "    ylim(ylims...)\n",
    "    if i > 1\n",
    "        ax.set_yticklabels([])\n",
    "    end\n",
    "    legend(frameon=false, ncol=2, handlelength=0)\n",
    "end\n",
    "\n",
    "ax = subplot(2, N÷2, 1)\n",
    "ax.set_ylabel(\"\\$F_{ii}(t, t)\\$\")\n",
    "\n",
    "for i in N÷2+1:N\n",
    "    ax = subplot(2, N÷2, i)\n",
    "    c = \"k\"\n",
    "    if i == top_idx\n",
    "        c = \"C1\"\n",
    "    end\n",
    "    scale_factor = 1 .+ abs.(complex_coordinate(i, nx_coarse, ny_coarse, nz_coarse)).^2\n",
    "    plot(coarse_times, scale_factor.^2 .* smoothen(all_flucs[i, :], coarse_times), label=@sprintf(\"\\$i=%s\\$\", string(i)), c=c)\n",
    "    # plot(coarse_times, (scale_factor / normalization) .*  (smoothen(all_flucs[i, :] .+ 0.0im, coarse_times) .|> sqrt |> real), label=@sprintf(\"\\$i=%s\\$\", string(i)), c=c)\n",
    "    # plot(coarse_times, smoothen(scale_factor .* real(sqrt.(all_flucs[i, :] .+ 0.0im)), coarse_times), label=@sprintf(\"\\$i=%s\\$\", string(i)), c=c)\n",
    "    xlim(0., 1.)\n",
    "    ylim(ylims...)\n",
    "    if i > N÷2+1\n",
    "        ax.set_yticklabels([])\n",
    "    end    \n",
    "    xlabel(\"\\$s\\$\")    \n",
    "    legend(frameon=false, ncol=2, handlelength=0)\n",
    "end\n",
    "\n",
    "ax = subplot(2, N÷2, N÷2 + 1)\n",
    "ax.set_ylabel(\"\\$F_{ii}(t, t)\\$\")\n",
    "\n",
    "tight_layout()\n",
    "display(gcf())\n",
    "# savefig(\"../plots/\" * @sprintf(\"fluctuations_max2sat_typical_instance_%04i_from_arxiv_2206_06876_N_%i_num_clauses_%i.pdf\", idx, N, num_clauses), dpi=256, bbox_inches=\"tight\")\n",
    "PythonPlot.close();"
   ]
  },
  {
   "cell_type": "code",
   "execution_count": null,
   "metadata": {},
   "outputs": [],
   "source": []
  }
 ],
 "metadata": {
  "kernelspec": {
   "display_name": "Julia 1.8.5",
   "language": "julia",
   "name": "julia-1.8"
  },
  "language_info": {
   "file_extension": ".jl",
   "mimetype": "application/julia",
   "name": "julia",
   "version": "1.8.5"
  },
  "orig_nbformat": 4
 },
 "nbformat": 4,
 "nbformat_minor": 2
}
