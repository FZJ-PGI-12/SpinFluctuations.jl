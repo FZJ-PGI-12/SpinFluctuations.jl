{
 "cells": [
  {
   "attachments": {},
   "cell_type": "markdown",
   "id": "e0513411",
   "metadata": {},
   "source": [
    "# HDF5 Manager - Do Maintenance on Data Files"
   ]
  },
  {
   "cell_type": "code",
   "execution_count": null,
   "id": "ea4d069e",
   "metadata": {},
   "outputs": [],
   "source": [
    "using PyPlot, HDF5, Printf\n",
    "PyPlot.plt.style.use(\"./paper.mplstyle\")"
   ]
  },
  {
   "cell_type": "code",
   "execution_count": null,
   "id": "6ed194ef",
   "metadata": {},
   "outputs": [],
   "source": [
    "N = 9\n",
    "pattern = r\"random_SK_instance_N_9_seed_(\\d+)\\.h5\"\n",
    "\n",
    "N = 11\n",
    "pattern = r\"random_SK_instance_N_11_seed_(\\d+)\\.h5\"\n",
    "\n",
    "# N = 13\n",
    "# pattern = r\"random_SK_instance_N_13_seed_(\\d+)\\.h5\"\n",
    "\n",
    "N = 15\n",
    "pattern = r\"random_SK_instance_N_15_seed_(\\d+)\\.h5\"\n",
    "\n",
    "N = 17\n",
    "pattern = r\"random_SK_instance_N_17_seed_(\\d+)\\.h5\"\n",
    "\n",
    "# final time for mean-field\n",
    "T_final = 10000.\n",
    "\n",
    "# number of points to get Lyapunov exponent for\n",
    "npts = 256\n",
    "\n",
    "# tolerance for DifferentialEquations.jl when solving mean-field \n",
    "tol = 1e-8;"
   ]
  },
  {
   "cell_type": "code",
   "execution_count": null,
   "id": "9a3179ba",
   "metadata": {},
   "outputs": [],
   "source": [
    "PATH = \"/home/ubuntu/Archives/\"\n",
    "\n",
    "subdir = \"small_gaps\"\n",
    "# subdir = \"late_gaps\"\n",
    "folder_name = PATH * @sprintf(\"data/SK_model/N_%i/%s/\", N, subdir)\n",
    "instance_names = readdir(folder_name);"
   ]
  },
  {
   "cell_type": "code",
   "execution_count": null,
   "id": "b816c317",
   "metadata": {},
   "outputs": [],
   "source": [
    "length(instance_names)"
   ]
  },
  {
   "cell_type": "code",
   "execution_count": null,
   "id": "1755cb5d",
   "metadata": {},
   "outputs": [],
   "source": [
    "# for (k, instance_name) in enumerate(instance_names)\n",
    "#    println(k)\n",
    "#    cp(folder_name * instance_name, folder_name * \"results_\" * instance_name)\n",
    "# end"
   ]
  },
  {
   "cell_type": "code",
   "execution_count": null,
   "id": "cd2874cb",
   "metadata": {},
   "outputs": [],
   "source": [
    "test_seed = parse(Int, match(pattern, instance_names[10])[1])"
   ]
  },
  {
   "cell_type": "code",
   "execution_count": null,
   "id": "31f0317c",
   "metadata": {},
   "outputs": [],
   "source": [
    "# check what's inside\n",
    "h5open(folder_name * @sprintf(\"random_SK_instance_N_%i_seed_%i.h5\", N, test_seed), \"r\") do f\n",
    "# h5open(folder_name * @sprintf(\"results_random_SK_instance_N_%i_seed_%i.h5\", N, test_seed), \"r\") do f\n",
    "    println.(keys(f))\n",
    "end;"
   ]
  },
  {
   "cell_type": "code",
   "execution_count": null,
   "id": "094579da",
   "metadata": {},
   "outputs": [],
   "source": [
    "del_keys = [\"J\", \"exact_ARPACK_LM_eigvals\", \"exact_ARPACK_LM_final_eigvecs\", \"spectra\", \n",
    "\"spectra_T_final_16000_tau_final_1000\", \"spectra_T_final_16000_tau_final_2000\", \"spectra_T_final_32000_tau_final_4000\"]\n",
    "\n",
    "for instance_name in instance_names\n",
    "    if occursin(\"results\", instance_name)\n",
    "        print(instance_name, \"\\t\")\n",
    "    \n",
    "        f = h5open(folder_name * instance_name, \"r+\")\n",
    "        for del_key in del_keys\n",
    "            if haskey(f, del_key)\n",
    "                printstyled(@sprintf(\"key %s\", del_key) * \"\\n\", color=:red)\n",
    "                delete_object(f, del_key)\n",
    "            end\n",
    "        end\n",
    "    end\n",
    "end\n"
   ]
  },
  {
   "cell_type": "code",
   "execution_count": null,
   "id": "74316ba7",
   "metadata": {},
   "outputs": [],
   "source": [
    "del_keys = [\"bogoliubov_spectrum\", \"fluctuations\", \"lyapunov_exponent_T_final_10000_tol_1e-8_npts_256\", \"spectra\", \n",
    "\"spectra_T_final_16000_tau_final_1000\", \"spectra_T_final_16000_tau_final_2000\", \n",
    "\"spectra_T_final_32000_tau_final_2000\", \"spectra_T_final_32000_tau_final_4000\"]\n",
    "\n",
    "for instance_name in instance_names\n",
    "    print(instance_name, \"\\t\")\n",
    "    if occursin(\"results\", instance_name)\n",
    "        continue\n",
    "    end\n",
    "    \n",
    "    f = h5open(folder_name * instance_name, \"r+\")\n",
    "    for del_key in del_keys\n",
    "        if haskey(f, del_key)\n",
    "            printstyled(@sprintf(\"key %s\", del_key) * \"\\n\", color=:red)\n",
    "            delete_object(f, del_key)\n",
    "        end\n",
    "    end\n",
    "end\n"
   ]
  },
  {
   "cell_type": "code",
   "execution_count": null,
   "id": "ed09e8d0",
   "metadata": {},
   "outputs": [],
   "source": []
  }
 ],
 "metadata": {
  "kernelspec": {
   "display_name": "Julia 1.8.5",
   "language": "julia",
   "name": "julia-1.8"
  },
  "language_info": {
   "file_extension": ".jl",
   "mimetype": "application/julia",
   "name": "julia",
   "version": "1.8.5"
  }
 },
 "nbformat": 4,
 "nbformat_minor": 5
}
