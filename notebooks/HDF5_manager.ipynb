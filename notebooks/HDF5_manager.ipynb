{
 "cells": [
  {
   "attachments": {},
   "cell_type": "markdown",
   "id": "e0513411",
   "metadata": {},
   "source": [
    "# HDF5 Manager - Do Maintenance on Data Files"
   ]
  },
  {
   "cell_type": "code",
   "execution_count": null,
   "id": "ea4d069e",
   "metadata": {},
   "outputs": [],
   "source": [
    "using PyPlot, HDF5, DataFrames, Arrow, Printf, Crayons\n",
    "PyPlot.plt.style.use(\"./paper.mplstyle\")"
   ]
  },
  {
   "cell_type": "code",
   "execution_count": null,
   "id": "62880256",
   "metadata": {},
   "outputs": [],
   "source": [
    "Base.show(io::IO, f::Float64) = @printf(io, \"%1.4f\", f)\n",
    "println(Crayon(foreground = :blue), \"In blue. \", Crayon(bold = true), \"Red and bold\")"
   ]
  },
  {
   "cell_type": "code",
   "execution_count": null,
   "id": "6ed194ef",
   "metadata": {},
   "outputs": [],
   "source": [
    "N = 9\n",
    "pattern = r\"random_SK_instance_N_9_seed_(\\d+)\\.h5\"\n",
    "\n",
    "# N = 11\n",
    "# pattern = r\"random_SK_instance_N_11_seed_(\\d+)\\.h5\"\n",
    "\n",
    "# N = 13\n",
    "# pattern = r\"random_SK_instance_N_13_seed_(\\d+)\\.h5\"\n",
    "\n",
    "# N = 15 \n",
    "# pattern = r\"random_SK_instance_N_15_seed_(\\d+)\\.h5\"\n",
    "\n",
    "# N = 17\n",
    "# pattern = r\"random_SK_instance_N_17_seed_(\\d+)\\.h5\"\n",
    "\n",
    "# N = 19\n",
    "# pattern = r\"random_SK_instance_N_19_seed_(\\d+)\\.h5\""
   ]
  },
  {
   "cell_type": "code",
   "execution_count": null,
   "id": "8899e260",
   "metadata": {},
   "outputs": [],
   "source": [
    "# final time for mean-field\n",
    "T_final = 10000.\n",
    "\n",
    "# number of points to get Lyapunov exponent for\n",
    "npts = 256\n",
    "\n",
    "# tolerance for DifferentialEquations.jl when solving mean-field \n",
    "tol = 1e-8;"
   ]
  },
  {
   "cell_type": "code",
   "execution_count": null,
   "id": "9a3179ba",
   "metadata": {},
   "outputs": [],
   "source": [
    "PATH = \"/home/ubuntu/Archives/\"\n",
    "\n",
    "subdir = \"small_gaps\"\n",
    "# subdir = \"large_gaps\"\n",
    "# subdir = \"extra_data\"\n",
    "folder_name = PATH * @sprintf(\"data/SK_model/N_%i/%s/\", N, subdir)\n",
    "\n",
    "# folder_name = PATH * @sprintf(\"data/SK_model/N_%i/\", N)\n",
    "instance_names = filter(!isdir, readdir(folder_name; join=true))\n",
    "# filter!(x -> !occursin(\"results\", x), instance_names)\n",
    "# filter!(x -> !occursin(\"undecided\", x), instance_names)\n",
    "# filter!(x -> !occursin(\"frustrated\", x), instance_names)\n",
    "# filter!(x -> !occursin(\"late\", x), instance_names)\n",
    "# filter!(x -> !occursin(\"main_df\", x), instance_names);\n",
    "filter!(x -> occursin(\"results\", x), instance_names);"
   ]
  },
  {
   "cell_type": "code",
   "execution_count": null,
   "id": "b816c317",
   "metadata": {},
   "outputs": [],
   "source": [
    "length(instance_names)"
   ]
  },
  {
   "cell_type": "code",
   "execution_count": null,
   "id": "cd2874cb",
   "metadata": {},
   "outputs": [],
   "source": [
    "test_seed = parse(Int, match(pattern, instance_names[1])[1])"
   ]
  },
  {
   "cell_type": "code",
   "execution_count": null,
   "id": "3ded0fea",
   "metadata": {},
   "outputs": [],
   "source": [
    "h5open(folder_name * @sprintf(\"random_SK_instance_N_%i_seed_%i.h5\", N, test_seed), \"r\")"
   ]
  },
  {
   "cell_type": "code",
   "execution_count": null,
   "id": "929cfba3",
   "metadata": {},
   "outputs": [],
   "source": [
    "# h5read(folder_name * @sprintf(\"random_SK_instance_N_%i_seed_%i.h5\", N, test_seed), \"exact_ARPACK_LM_lowest_eigvecs\")"
   ]
  },
  {
   "cell_type": "markdown",
   "id": "dd90639a",
   "metadata": {},
   "source": [
    "## Auxiliary Plotting"
   ]
  },
  {
   "cell_type": "markdown",
   "id": "8ac1a1ae",
   "metadata": {},
   "source": [
    "### Check degeneracy at final time"
   ]
  },
  {
   "cell_type": "code",
   "execution_count": null,
   "id": "7f0eb429",
   "metadata": {},
   "outputs": [],
   "source": [
    "seeds_to_plot = []\n",
    "for (k, instance_name) in enumerate(instance_names)\n",
    "    # println(test_seed, k)\n",
    "    test_seed = parse(Int, match(pattern, instance_name)[1])\n",
    "    λ = h5read(folder_name * @sprintf(\"random_SK_instance_N_%i_seed_%i.h5\", N, test_seed), \"exact_ARPACK_LM_eigvals\")\n",
    "\n",
    "    final_gap = λ[2, end] .- λ[1, end]\n",
    "    if final_gap < 0.01\n",
    "        push!(seeds_to_plot, test_seed)\n",
    "    end\n",
    "end"
   ]
  },
  {
   "cell_type": "code",
   "execution_count": null,
   "id": "238d3f0d",
   "metadata": {},
   "outputs": [],
   "source": [
    "numplots = 16\n",
    "length(seeds_to_plot)"
   ]
  },
  {
   "cell_type": "code",
   "execution_count": null,
   "id": "8fe9a353",
   "metadata": {},
   "outputs": [],
   "source": [
    "start_idx = 1\n",
    "figure(figsize=(2.5, 2numplots))\n",
    "# for (k, instance_name) in enumerate(instance_names[start_idx:start_idx-1+numplots])\n",
    "for (k, test_seed) in enumerate(seeds_to_plot[start_idx:start_idx-1+numplots])\n",
    "    # println(test_seed, k)\n",
    "    λ = h5read(folder_name * @sprintf(\"random_SK_instance_N_%i_seed_%i.h5\", N, test_seed), \"exact_ARPACK_LM_eigvals\")\n",
    "\n",
    "    final_gap = λ[2, end] .- λ[1, end]\n",
    "    if final_gap < 0.01\n",
    "        ax = subplot(numplots, 1, k)\n",
    "        ax.plot(range(0, 1, 33), λ[2, :] .- λ[1, :], label=string(test_seed) * \", \" * @sprintf(\"%0.3f\", final_gap))\n",
    "        ax.plot(range(0, 1, 33), λ[3, :] .- λ[1, :])\n",
    "        xlim(0, 1)\n",
    "        ylim(0, 0.5)\n",
    "        legend()\n",
    "    end\n",
    "end\n",
    "tight_layout()"
   ]
  },
  {
   "cell_type": "markdown",
   "metadata": {},
   "source": [
    "### Plot all gaps"
   ]
  },
  {
   "cell_type": "code",
   "execution_count": null,
   "id": "93a92ab2",
   "metadata": {},
   "outputs": [],
   "source": [
    "seeds_to_plot = [2339, 2354, 2357, 2390, 2434, 2446, 2508]"
   ]
  },
  {
   "cell_type": "code",
   "execution_count": null,
   "id": "36e27c32",
   "metadata": {},
   "outputs": [],
   "source": [
    "start_idx = 1\n",
    "figure(figsize=(2.5, length(seeds_to_plot)))\n",
    "# for (k, instance_name) in enumerate(instance_names[start_idx:start_idx-1+numplots])\n",
    "for (k, test_seed) in enumerate(seeds_to_plot)\n",
    "    # println(test_seed, k)\n",
    "    λ = h5read(folder_name * @sprintf(\"random_SK_instance_N_%i_seed_%i.h5\", N, test_seed), \"exact_ARPACK_LM_eigvals\")\n",
    "\n",
    "    ax = subplot(length(seeds_to_plot), 1, k)\n",
    "    ax.plot(range(0, 1, 33), λ[2, :] .- λ[1, :], label=string(test_seed))\n",
    "    ax.plot(range(0, 1, 33), λ[3, :] .- λ[1, :])\n",
    "    xlim(0, 1)\n",
    "    ax.set_xticklabels([])\n",
    "    ylim(0, 0.5)\n",
    "    legend()\n",
    "end\n",
    "tight_layout()"
   ]
  },
  {
   "cell_type": "code",
   "execution_count": null,
   "id": "a7084357",
   "metadata": {},
   "outputs": [],
   "source": [
    "for (k, instance_name) in enumerate(instance_names)\n",
    "    test_seed = parse(Int, match(pattern, instance_name)[1])\n",
    "    print(test_seed, \", \", k, \"\\t\")\n",
    "    λ = h5read(folder_name * @sprintf(\"random_SK_instance_N_%i_seed_%i.h5\", N, test_seed), \"exact_ARPACK_LM_eigvals\")\n",
    "    final_gap = λ[2, end] .- λ[1, end]\n",
    "\n",
    "    figure(figsize=(3, 2))\n",
    "    plot(range(0, 1, 33), λ[2, :] .- λ[1, :], label=string(test_seed) * \", \" * @sprintf(\"%0.3f\", final_gap))\n",
    "    xlim(0, 1)\n",
    "    ylim(0, 2)\n",
    "    legend()\n",
    "    # savefig(PATH * @sprintf(\"plots/SK_model/N_%i/%s/\", N, subdir) * @sprintf(\"random_SK_instance_N_%i_seed_%i.pdf\", N, test_seed), dpi=128, bbox_inches=\"tight\")\n",
    "    close()\n",
    "end"
   ]
  },
  {
   "cell_type": "markdown",
   "id": "a86047ec",
   "metadata": {},
   "source": [
    "## Deleting data (careful!)"
   ]
  },
  {
   "cell_type": "code",
   "execution_count": null,
   "id": "f9e95ab5",
   "metadata": {},
   "outputs": [],
   "source": [
    "for instance_name in instance_names\n",
    "    # print(instance_name, \"\\n\")    \n",
    "    f = h5open(instance_name, \"r+\")\n",
    "    println(keys(f))\n",
    "end"
   ]
  },
  {
   "cell_type": "code",
   "execution_count": null,
   "id": "a86047ec",
   "metadata": {},
   "outputs": [],
   "source": [
    "# instances\n",
    "del_keys = [\"spectra_T_final_32768_tau_final_2048\"]\n",
    "\n",
    "for instance_name in instance_names\n",
    "    print(instance_name[53:end], \"\\n\")    \n",
    "    f = h5open(instance_name, \"r+\")\n",
    "    for del_key in del_keys\n",
    "        if haskey(f, del_key)\n",
    "            printstyled(@sprintf(\"key %s\", del_key) * \"\\n\", color=:red)\n",
    "            # delete_object(f, del_key)\n",
    "        end\n",
    "    end\n",
    "end\n"
   ]
  },
  {
   "cell_type": "markdown",
   "metadata": {},
   "source": [
    "## Move data"
   ]
  },
  {
   "cell_type": "code",
   "execution_count": null,
   "id": "1794a401",
   "metadata": {},
   "outputs": [],
   "source": [
    "T_final = 32768.\n",
    "τ_final = 2048.0\n",
    "\n",
    "npts_diag = 16\n",
    "T_diags = T_final .* range(0.5, 1.0, npts_diag + 1)\n",
    "\n",
    "for instance_name in instance_names\n",
    "    # print(instance_name, \"\\n\")    \n",
    "    f = h5open(instance_name, \"r+\")\n",
    "    for k in 1:17\n",
    "        try\n",
    "            nus = h5read(instance_name, @sprintf(\"spectra_T_final_%i_tau_final_%i/T_%0.5f/omegas\", T_final, τ_final, T_diags[k] / T_final))\n",
    "            spec_sum = h5read(instance_name, @sprintf(\"spectra_T_final_%i_tau_final_%i/T_%0.5f/data\", T_final, τ_final, T_diags[k] / T_final))\n",
    "            h5write(folder_name * \"spectrum_\" * instance_name[60:end], @sprintf(\"spectra_T_final_%i_tau_final_%i/T_%0.5f/omegas\", T_final, τ_final, T_diags[k] / T_final), 2pi .* nus)\n",
    "            h5write(folder_name * \"spectrum_\" * instance_name[60:end], @sprintf(\"spectra_T_final_%i_tau_final_%i/T_%0.5f/data\", T_final, τ_final, T_diags[k] / T_final), spec_sum)        \n",
    "        catch\n",
    "            println(\"No spectrum!\")\n",
    "        end\n",
    "    end\n",
    "end"
   ]
  },
  {
   "cell_type": "code",
   "execution_count": null,
   "metadata": {},
   "outputs": [],
   "source": [
    "# mv_list = [k for (k, v) in small_minigaps]\n",
    "# mv_list = [k for (k, v) in large_minigaps]\n",
    "mv_list = seeds_to_plot\n",
    "\n",
    "type_str = \"data\"\n",
    "file_suffix = \"h5\"\n",
    "\n",
    "for seed in mv_list\n",
    "    try\n",
    "        # move to small\n",
    "        # mv(PATH * @sprintf(\"%s/SK_model/N_%i/\", type_str, N) * @sprintf(\"random_SK_instance_N_%i_seed_%s.%s\", N, seed, file_suffix), PATH * @sprintf(\"%s/SK_model/N_%i/\", type_str, N) * \"small_gaps/\" * @sprintf(\"random_SK_instance_N_%i_seed_%s.%s\", N, seed, file_suffix))\n",
    "       \n",
    "        # move to large\n",
    "        # mv(PATH * @sprintf(\"%s/SK_model/N_%i/\", type_str, N) * @sprintf(\"random_SK_instance_N_%i_seed_%s.%s\", N, seed, file_suffix), PATH * @sprintf(\"%s/SK_model/N_%i/\", type_str, N) * \"large_gaps/\" * @sprintf(\"random_SK_instance_N_%i_seed_%s.%s\", N, seed, file_suffix))\n",
    "        \n",
    "        mv(PATH * @sprintf(\"%s/SK_model/N_%i/\", type_str, N) * \"small_gaps/\" * @sprintf(\"random_SK_instance_N_%i_seed_%s.%s\", N, seed, file_suffix), \n",
    "           PATH * @sprintf(\"%s/SK_model/N_%i/\", type_str, N) * \"degenerate/\" * @sprintf(\"random_SK_instance_N_%i_seed_%s.%s\", N, seed, file_suffix))\n",
    "\n",
    "        mv(PATH * @sprintf(\"%s/SK_model/N_%i/\", type_str, N) * \"small_gaps/\" * @sprintf(\"results_random_SK_instance_N_%i_seed_%s.%s\", N, seed, file_suffix), \n",
    "           PATH * @sprintf(\"%s/SK_model/N_%i/\", type_str, N) * \"degenerate/\" * @sprintf(\"results_random_SK_instance_N_%i_seed_%s.%s\", N, seed, file_suffix))           \n",
    "    catch\n",
    "        print(seed, \", \")\n",
    "    end\n",
    "end"
   ]
  },
  {
   "cell_type": "markdown",
   "metadata": {},
   "source": [
    "#### Move plots"
   ]
  },
  {
   "cell_type": "code",
   "execution_count": null,
   "metadata": {},
   "outputs": [],
   "source": [
    "# # mv_list = [k for (k, v) in small_minigaps]\n",
    "# mv_list = [k for (k, v) in large_minigaps]\n",
    "\n",
    "# type_str = \"plots\"\n",
    "# file_suffix = \"pdf\"\n",
    "\n",
    "# for seed in mv_list\n",
    "#     try\n",
    "#         # mv(PATH * @sprintf(\"%s/SK_model/N_%i/\", type_str, N) * @sprintf(\"random_SK_instance_N_%i_seed_%s.%s\", N, seed, file_suffix), PATH * @sprintf(\"%s/SK_model/N_%i/\", type_str, N) * \"small_gaps/\" * @sprintf(\"random_SK_instance_N_%i_seed_%s.%s\", N, seed, file_suffix))\n",
    "#         mv(PATH * @sprintf(\"%s/SK_model/N_%i/\", type_str, N) * @sprintf(\"random_SK_instance_N_%i_seed_%s.%s\", N, seed, file_suffix), PATH * @sprintf(\"%s/SK_model/N_%i/\", type_str, N) * \"large_gaps/\" * @sprintf(\"random_SK_instance_N_%i_seed_%s.%s\", N, seed, file_suffix))\n",
    "#     catch\n",
    "#         print(seed, \", \")\n",
    "#     end\n",
    "# end"
   ]
  }
 ],
 "metadata": {
  "kernelspec": {
   "display_name": "Julia 1.8.5",
   "language": "julia",
   "name": "julia-1.8"
  },
  "language_info": {
   "file_extension": ".jl",
   "mimetype": "application/julia",
   "name": "julia",
   "version": "1.8.5"
  }
 },
 "nbformat": 4,
 "nbformat_minor": 5
}
