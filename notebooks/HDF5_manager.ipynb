{
 "cells": [
  {
   "attachments": {},
   "cell_type": "markdown",
   "id": "e0513411",
   "metadata": {},
   "source": [
    "# HDF5 Manager - Do Maintenance on Data Files"
   ]
  },
  {
   "cell_type": "code",
   "execution_count": null,
   "id": "ea4d069e",
   "metadata": {},
   "outputs": [],
   "source": [
    "using PyPlot, HDF5, Printf\n",
    "PyPlot.plt.style.use(\"./paper.mplstyle\")"
   ]
  },
  {
   "cell_type": "code",
   "execution_count": null,
   "id": "6ed194ef",
   "metadata": {},
   "outputs": [],
   "source": [
    "N = 9\n",
    "pattern = r\"random_SK_instance_N_9_seed_(\\d+)\\.h5\"\n",
    "\n",
    "N = 11\n",
    "pattern = r\"random_SK_instance_N_11_seed_(\\d+)\\.h5\"\n",
    "\n",
    "N = 13\n",
    "pattern = r\"random_SK_instance_N_13_seed_(\\d+)\\.h5\"\n",
    "\n",
    "N = 15 \n",
    "pattern = r\"random_SK_instance_N_15_seed_(\\d+)\\.h5\"\n",
    "\n",
    "N = 17\n",
    "pattern = r\"random_SK_instance_N_17_seed_(\\d+)\\.h5\"\n",
    "\n",
    "# N = 19\n",
    "# pattern = r\"random_SK_instance_N_19_seed_(\\d+)\\.h5\""
   ]
  },
  {
   "cell_type": "code",
   "execution_count": null,
   "id": "8899e260",
   "metadata": {},
   "outputs": [],
   "source": [
    "# final time for mean-field\n",
    "T_final = 10000.\n",
    "\n",
    "# number of points to get Lyapunov exponent for\n",
    "npts = 256\n",
    "\n",
    "# tolerance for DifferentialEquations.jl when solving mean-field \n",
    "tol = 1e-8;"
   ]
  },
  {
   "cell_type": "code",
   "execution_count": null,
   "id": "9a3179ba",
   "metadata": {},
   "outputs": [],
   "source": [
    "PATH = \"/home/ubuntu/Archives/\"\n",
    "\n",
    "subdir = \"small_gaps\"\n",
    "subdir = \"large_gaps\"\n",
    "# subdir = \"extra_data\"\n",
    "folder_name = PATH * @sprintf(\"data/SK_model/N_%i/%s/\", N, subdir)\n",
    "instance_names = readdir(folder_name);"
   ]
  },
  {
   "cell_type": "code",
   "execution_count": null,
   "id": "b816c317",
   "metadata": {},
   "outputs": [],
   "source": [
    "length(instance_names)"
   ]
  },
  {
   "cell_type": "code",
   "execution_count": null,
   "id": "cd2874cb",
   "metadata": {},
   "outputs": [],
   "source": [
    "# test_seed = parse(Int, match(pattern, instance_names[4101])[1])\n",
    "test_seed = parse(Int, match(pattern, instance_names[103])[1])"
   ]
  },
  {
   "cell_type": "code",
   "execution_count": null,
   "id": "055b236d",
   "metadata": {},
   "outputs": [],
   "source": [
    "# check what's inside\n",
    "h5open(folder_name * @sprintf(\"random_SK_instance_N_%i_seed_%i.h5\", N, test_seed), \"r\") do f\n",
    "        println.(keys(f))\n",
    "    end;"
   ]
  },
  {
   "cell_type": "code",
   "execution_count": null,
   "id": "31f0317c",
   "metadata": {},
   "outputs": [],
   "source": [
    "# check what's inside\n",
    "h5open(folder_name * @sprintf(\"results_random_SK_instance_N_%i_seed_%i.h5\", N, test_seed), \"r\") do f\n",
    "    println.(keys(f))\n",
    "end;"
   ]
  },
  {
   "cell_type": "code",
   "execution_count": null,
   "id": "bd679cb4",
   "metadata": {},
   "outputs": [],
   "source": [
    "instance_seeds = []\n",
    "results_seeds = []\n",
    "\n",
    "for instance_name in instance_names\n",
    "    seed = match(pattern, instance_name)[1]\n",
    "    if occursin(\"results\", instance_name)\n",
    "        push!(results_seeds, seed)        \n",
    "        continue\n",
    "    end\n",
    "    push!(instance_seeds, seed)        \n",
    "end\n",
    "\n",
    "instance_seeds = parse.(Int, instance_seeds)\n",
    "results_seeds = parse.(Int, results_seeds);"
   ]
  },
  {
   "cell_type": "code",
   "execution_count": null,
   "metadata": {},
   "outputs": [],
   "source": [
    "instance_seeds |> length |> println\n",
    "results_seeds |> length |> println"
   ]
  },
  {
   "cell_type": "code",
   "execution_count": null,
   "metadata": {},
   "outputs": [],
   "source": [
    "for seed in results_seeds\n",
    "    deleteat!(instance_seeds, findfirst(x -> x == seed, instance_seeds))\n",
    "end"
   ]
  },
  {
   "cell_type": "code",
   "execution_count": null,
   "metadata": {},
   "outputs": [],
   "source": [
    "instance_seeds |> length"
   ]
  },
  {
   "cell_type": "markdown",
   "id": "a86047ec",
   "metadata": {},
   "source": [
    "### Deleting data (careful!)"
   ]
  },
  {
   "cell_type": "code",
   "execution_count": null,
   "id": "74316ba7",
   "metadata": {},
   "outputs": [],
   "source": [
    "# instances\n",
    "del_keys = [\"bogoliubov_spectrum\", \"fluctuations\", \"lyapunov_exponent_T_final_10000_tol_1e-8_npts_256\", \"spectra\", \n",
    "\"spectra_T_final_16000_tau_final_1000\", \"spectra_T_final_16000_tau_final_2000\", \n",
    "\"spectra_T_final_32000_tau_final_2000\", \"spectra_T_final_32000_tau_final_4000\"]\n",
    "\n",
    "for instance_name in instance_names\n",
    "    print(instance_name, \"\\t\")\n",
    "    if occursin(\"results\", instance_name)\n",
    "        continue\n",
    "    end\n",
    "    \n",
    "    f = h5open(folder_name * instance_name, \"r+\")\n",
    "    for del_key in del_keys\n",
    "        if haskey(f, del_key)\n",
    "            printstyled(@sprintf(\"key %s\", del_key) * \"\\n\", color=:red)\n",
    "            # delete_object(f, del_key)\n",
    "        end\n",
    "    end\n",
    "end\n"
   ]
  },
  {
   "cell_type": "code",
   "execution_count": null,
   "id": "094579da",
   "metadata": {},
   "outputs": [],
   "source": [
    "# results\n",
    "# del_keys = [\"bogoliubov_spectrum\", \"fluctuations\"]\n",
    "del_keys = [\"J\", \"exact_ARPACK_LM_eigvals\", \"exact_ARPACK_LM_final_eigvecs\", \"spectra\", \"spectra_T_final_16000_tau_final_1000\", \"spectra_T_final_16000_tau_final_2000\", \"spectra_T_final_32000_tau_final_4000\"]\n",
    "\n",
    "for instance_name in instance_names\n",
    "    if occursin(\"results\", instance_name)\n",
    "        print(instance_name, \"\\t\")\n",
    "    \n",
    "        f = h5open(folder_name * instance_name, \"r+\")\n",
    "        for del_key in del_keys\n",
    "            if haskey(f, del_key)\n",
    "                printstyled(@sprintf(\"key %s\", del_key) * \"\\n\", color=:red)\n",
    "                # delete_object(f, del_key)\n",
    "            end\n",
    "        end\n",
    "    end\n",
    "end\n"
   ]
  },
  {
   "cell_type": "code",
   "execution_count": null,
   "id": "1755cb5d",
   "metadata": {},
   "outputs": [],
   "source": [
    "# for (k, instance_name) in enumerate(instance_names)\n",
    "#    println(k)\n",
    "#    cp(folder_name * instance_name, folder_name * \"results_\" * instance_name)\n",
    "# end"
   ]
  },
  {
   "cell_type": "code",
   "execution_count": null,
   "id": "ed09e8d0",
   "metadata": {},
   "outputs": [],
   "source": []
  },
  {
   "cell_type": "markdown",
   "metadata": {},
   "source": [
    "## Data admin (copied from `random_SK_instances.ipynb`)"
   ]
  },
  {
   "cell_type": "markdown",
   "metadata": {},
   "source": [
    "#### Delete data..."
   ]
  },
  {
   "cell_type": "code",
   "execution_count": null,
   "metadata": {},
   "outputs": [],
   "source": [
    "for instance_name in instance_names#[1:110]\n",
    "    delfile = folder_name * instance_name\n",
    "    seed = match(pattern, instance_name)[1]    \n",
    "    if seed == \"52411\"\n",
    "        println(seed)\n",
    "        h5open(delfile, \"r+\") do f\n",
    "            key = @sprintf(\"lyapunov_exponent_T_final_%.0f_tol_1e%.0f_npts_%i\", T_final, log10(tol), npts) \n",
    "            println(key)       \n",
    "            if haskey(f, key)\n",
    "                printstyled(@sprintf(\"key %s\", key) * \"\\n\", color=:red)\n",
    "                # delete_object(f, key)\n",
    "            end\n",
    "        end\n",
    "    end\n",
    "end"
   ]
  },
  {
   "cell_type": "code",
   "execution_count": null,
   "metadata": {},
   "outputs": [],
   "source": [
    "for instance_name in instance_names[1:110]\n",
    "    delfile = folder_name * instance_name\n",
    "    seed = match(pattern, instance_name)[1]    \n",
    "\n",
    "    λ = h5read(folder_name * instance_name, \"exact_ARPACK_LM_eigvals\")\n",
    "\n",
    "    gap = λ[2, :] .- λ[1, :];\n",
    "    exact_times = range(0, 1, 33)\n",
    "    gaploc = exact_times[findfirst(x -> x == minimum(gap), gap)] \n",
    "    T_diags = T_final .* [gaploc - 0.05, gaploc]  \n",
    "\n",
    "    h5open(delfile, \"r+\") do f\n",
    "        key = \"bogoliubov_spectrum\"\n",
    "        key = \"fluctuations\"\n",
    "        # key = @sprintf(\"spectra/T_%0.3f/omegas\", T_diags[1] / T_final)\n",
    "        # key = @sprintf(\"spectra/T_%0.3f/data\", T_diags[1] / T_final)\n",
    "        # key = @sprintf(\"spectra/T_%0.3f/omegas\", T_diags[2] / T_final)\n",
    "        # key = @sprintf(\"spectra/T_%0.3f/data\", T_diags[2] / T_final)        \n",
    "        if haskey(f, key)\n",
    "            printstyled(@sprintf(\"key %s\", key) * \"\\n\", color=:red)\n",
    "            # delete_object(f, key)\n",
    "        end\n",
    "        \n",
    "    end\n",
    "end"
   ]
  },
  {
   "cell_type": "code",
   "execution_count": null,
   "metadata": {},
   "outputs": [],
   "source": [
    "N = 11\n",
    "folder_name = PATH * @sprintf(\"data/SK_model/N_%i/\", N)\n",
    "instance_names = readdir(folder_name)"
   ]
  },
  {
   "cell_type": "code",
   "execution_count": null,
   "metadata": {},
   "outputs": [],
   "source": [
    "minigaps = Dict()\n",
    "for instance_name in instance_names\n",
    "    try\n",
    "        pattern = r\"random_SK_instance_N_17_seed_(\\d+)\\.h5\"\n",
    "        seed = match(pattern, instance_name)[1]    \n",
    "\n",
    "        # couplings = h5read(folder_name * instance_name, \"J\", J_mat)\n",
    "        λ = h5read(folder_name * instance_name, \"exact_ARPACK_LM_eigvals\")\n",
    "        minigap = minimum(λ[2, :] .- λ[1, :])\n",
    "        minigaps[seed] = minigap\n",
    "    catch\n",
    "        print(instance_name, \", \")\n",
    "    end\n",
    "end\n"
   ]
  },
  {
   "cell_type": "code",
   "execution_count": null,
   "metadata": {},
   "outputs": [],
   "source": [
    "sorted_minigaps = sort(collect(minigaps), by=x->x[2])\n",
    "length(sorted_minigaps)"
   ]
  },
  {
   "cell_type": "code",
   "execution_count": null,
   "metadata": {},
   "outputs": [],
   "source": [
    "first_large_gap_idx = findfirst(x -> x > 0.1, [x for (key, x) in sorted_minigaps])"
   ]
  },
  {
   "cell_type": "code",
   "execution_count": null,
   "metadata": {},
   "outputs": [],
   "source": [
    "small_minigaps = sorted_minigaps[1:first_large_gap_idx-1]\n",
    "large_minigaps = sorted_minigaps[first_large_gap_idx:end];"
   ]
  },
  {
   "cell_type": "code",
   "execution_count": null,
   "metadata": {},
   "outputs": [],
   "source": [
    "large_minigaps"
   ]
  },
  {
   "cell_type": "markdown",
   "metadata": {},
   "source": [
    "#### Move data"
   ]
  },
  {
   "cell_type": "code",
   "execution_count": null,
   "metadata": {},
   "outputs": [],
   "source": [
    "# mv_list = [k for (k, v) in small_minigaps]\n",
    "# mv_list = [k for (k, v) in large_minigaps]\n",
    "mv_list = instance_seeds\n",
    "\n",
    "type_str = \"data\"\n",
    "file_suffix = \"h5\"\n",
    "\n",
    "for seed in mv_list\n",
    "    try\n",
    "        # move to small\n",
    "        # mv(PATH * @sprintf(\"%s/SK_model/N_%i/\", type_str, N) * @sprintf(\"random_SK_instance_N_%i_seed_%s.%s\", N, seed, file_suffix), PATH * @sprintf(\"%s/SK_model/N_%i/\", type_str, N) * \"small_gaps/\" * @sprintf(\"random_SK_instance_N_%i_seed_%s.%s\", N, seed, file_suffix))\n",
    "       \n",
    "        # move to large\n",
    "        # mv(PATH * @sprintf(\"%s/SK_model/N_%i/\", type_str, N) * @sprintf(\"random_SK_instance_N_%i_seed_%s.%s\", N, seed, file_suffix), PATH * @sprintf(\"%s/SK_model/N_%i/\", type_str, N) * \"large_gaps/\" * @sprintf(\"random_SK_instance_N_%i_seed_%s.%s\", N, seed, file_suffix))\n",
    "        \n",
    "        # move from large to extra\n",
    "        mv(PATH * @sprintf(\"%s/SK_model/N_%i/\", type_str, N) * \"large_gaps/\" * @sprintf(\"random_SK_instance_N_%i_seed_%s.%s\", N, seed, file_suffix), PATH * @sprintf(\"%s/SK_model/N_%i/\", type_str, N) * \"extra_data/\" * @sprintf(\"random_SK_instance_N_%i_seed_%s.%s\", N, seed, file_suffix))\n",
    "    catch\n",
    "        print(seed, \", \")\n",
    "    end\n",
    "end"
   ]
  },
  {
   "cell_type": "markdown",
   "metadata": {},
   "source": [
    "#### Move plots"
   ]
  },
  {
   "cell_type": "code",
   "execution_count": null,
   "metadata": {},
   "outputs": [],
   "source": [
    "# # mv_list = [k for (k, v) in small_minigaps]\n",
    "# mv_list = [k for (k, v) in large_minigaps]\n",
    "\n",
    "# type_str = \"plots\"\n",
    "# file_suffix = \"pdf\"\n",
    "\n",
    "# for seed in mv_list\n",
    "#     try\n",
    "#         # mv(PATH * @sprintf(\"%s/SK_model/N_%i/\", type_str, N) * @sprintf(\"random_SK_instance_N_%i_seed_%s.%s\", N, seed, file_suffix), PATH * @sprintf(\"%s/SK_model/N_%i/\", type_str, N) * \"small_gaps/\" * @sprintf(\"random_SK_instance_N_%i_seed_%s.%s\", N, seed, file_suffix))\n",
    "#         mv(PATH * @sprintf(\"%s/SK_model/N_%i/\", type_str, N) * @sprintf(\"random_SK_instance_N_%i_seed_%s.%s\", N, seed, file_suffix), PATH * @sprintf(\"%s/SK_model/N_%i/\", type_str, N) * \"large_gaps/\" * @sprintf(\"random_SK_instance_N_%i_seed_%s.%s\", N, seed, file_suffix))\n",
    "#     catch\n",
    "#         print(seed, \", \")\n",
    "#     end\n",
    "# end"
   ]
  },
  {
   "cell_type": "markdown",
   "metadata": {},
   "source": [
    "#### Late gaps..."
   ]
  },
  {
   "cell_type": "code",
   "execution_count": null,
   "metadata": {},
   "outputs": [],
   "source": [
    "# N = 15\n",
    "# all_late_gap_seeds = []\n",
    "# for screen in 1:5000:45000\n",
    "#     late_gap_seeds = h5read(PATH * @sprintf(\"data/SK_model/N_%i/\", N) * @sprintf(\"random_SK_instances_N_%i_screen_%i_late_minigaps.h5\", N, screen), \"late_gap_seeds\")\n",
    "#     push!(all_late_gap_seeds, late_gap_seeds)\n",
    "# end\n",
    "# all_late_gap_seeds = reduce(vcat, all_late_gap_seeds)\n",
    "# # h5write(PATH * @sprintf(\"data/SK_model/N_%i/\", N) *@sprintf(\"random_SK_instances_N_%i_late_minigaps.h5\", N), \"late_gap_seeds\", all_late_gap_seeds);"
   ]
  },
  {
   "cell_type": "code",
   "execution_count": null,
   "metadata": {},
   "outputs": [],
   "source": [
    "N = 17\n",
    "h5read(PATH * @sprintf(\"data/SK_model/N_%i/\", N) *@sprintf(\"random_SK_instances_N_%i_late_minigaps.h5\", N), \"late_gap_seeds\") # |> length"
   ]
  },
  {
   "cell_type": "code",
   "execution_count": null,
   "metadata": {},
   "outputs": [],
   "source": [
    "# all_late_gap_seeds_N_17 = [15001, 17004, 3005, 9006, 4008, 16008, 11009, 15010, 10012, 9014, 15020, 22, 2028, 12027, 14029, 17035, 1034, 9037, 2041, 37, 14039, 8039, 10041, 3040, 8040, 15046, 10045, 15049, 11046, 12047, 13048, 18053, 7051, 20052, 8057, 4059, 9060, 14060, 16064, 18064, 13061, 13062, 18066, 66, 5065, 14065, 6066, 74, 17077, 14076, 19083, 15084, 8082, 17085, 12084, 8087, 15096, 20087, 14091, 12091, 3091, 13093, 17101, 8103, 19110, 2117, 2121, 10109, 16117, 1119, 5119, 5121, 4119, 6117, 122, 17120, 18125, 4123, 16138, 12131, 3129, 19140, 8135, 19141, 6136, 140, 5142, 14138, 16148, 145, 4144, 9154, 2157, 5154, 5158, 10153, 2171, 8165, 12163, 4169, 12166, 19181, 5178, 12175, 4178, 16187, 10173, 20174, 11188, 14181, 10183, 17185, 3186, 17188, 16205, 19207, 9210, 5205, 209, 18207, 3199, 8210, 15232, 13213, 4224, 17221, 11233, 233, 11235, 19240, 18232, 15246]\n",
    "# h5write(PATH * @sprintf(\"data/SK_model/N_%i/\", 17) *@sprintf(\"random_SK_instances_N_%i_late_minigaps.h5\", 17), \"late_gap_seeds\", sort(all_late_gap_seeds_N_17));"
   ]
  },
  {
   "cell_type": "code",
   "execution_count": null,
   "metadata": {},
   "outputs": [],
   "source": [
    "minigap_locs = []\n",
    "for (k, v) in eigvals_small_gap\n",
    "    minigap = minimum(v[2, :] .- v[1, :])\n",
    "    push!(minigap_locs, findfirst(x -> x == minigap, v[2, :] .- v[1, :]))\n",
    "end"
   ]
  },
  {
   "cell_type": "code",
   "execution_count": null,
   "metadata": {},
   "outputs": [],
   "source": [
    "findall(x -> x != 30, minigap_locs)"
   ]
  }
 ],
 "metadata": {
  "kernelspec": {
   "display_name": "Julia 1.8.5",
   "language": "julia",
   "name": "julia-1.8"
  },
  "language_info": {
   "file_extension": ".jl",
   "mimetype": "application/julia",
   "name": "julia",
   "version": "1.8.5"
  }
 },
 "nbformat": 4,
 "nbformat_minor": 5
}
